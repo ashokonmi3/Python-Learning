{
 "cells": [
  {
   "cell_type": "markdown",
   "metadata": {},
   "source": [
    "# LOOPS"
   ]
  },
  {
   "cell_type": "markdown",
   "metadata": {},
   "source": [
    "![Interpeter](05_Forloop.png)\n"
   ]
  },
  {
   "cell_type": "code",
   "execution_count": 1,
   "metadata": {},
   "outputs": [
    {
     "name": "stdout",
     "output_type": "stream",
     "text": [
      "1 Hello world\n",
      "2 Hello world\n",
      "3 Hello world\n",
      "4 Hello world\n",
      "5 Hello world\n"
     ]
    }
   ],
   "source": [
    "i =1 # initialization\n",
    "while (i <= 5):#condition\n",
    "    print (f\"{i} Hello world\") # body of the loop\n",
    "    i = i+1 # increment\n"
   ]
  },
  {
   "cell_type": "code",
   "execution_count": 2,
   "metadata": {},
   "outputs": [
    {
     "name": "stdout",
     "output_type": "stream",
     "text": [
      "Hello world\n",
      "Hello world\n",
      "Hello world\n",
      "Hello world\n"
     ]
    }
   ],
   "source": [
    "i =0\n",
    "while (i <4):    #condition\n",
    "\tprint (\"Hello world\")\n",
    "\ti = i+1"
   ]
  },
  {
   "cell_type": "code",
   "execution_count": 3,
   "metadata": {},
   "outputs": [
    {
     "name": "stdout",
     "output_type": "stream",
     "text": [
      "Hello Geek\n",
      "Hello Geek\n",
      "Hello Geek\n",
      "Hello Geek\n",
      "Hello Geek\n",
      "Hello Geek\n",
      "i am out\n"
     ]
    }
   ],
   "source": [
    "i=6\n",
    "while (i >=1):\n",
    "    print (\"Hello Geek\")\n",
    "    i=i-1\n",
    "\n",
    "    \n",
    "print(\"i am out\")"
   ]
  },
  {
   "cell_type": "code",
   "execution_count": 4,
   "metadata": {},
   "outputs": [
    {
     "data": {
      "text/plain": [
       "True"
      ]
     },
     "execution_count": 4,
     "metadata": {},
     "output_type": "execute_result"
    }
   ],
   "source": [
    "3 in [0,1,2,3,4]"
   ]
  },
  {
   "cell_type": "code",
   "execution_count": 5,
   "metadata": {},
   "outputs": [
    {
     "data": {
      "text/plain": [
       "False"
      ]
     },
     "execution_count": 5,
     "metadata": {},
     "output_type": "execute_result"
    }
   ],
   "source": [
    "5 in [0,1,2,3,4]"
   ]
  },
  {
   "cell_type": "code",
   "execution_count": 6,
   "metadata": {},
   "outputs": [
    {
     "name": "stdout",
     "output_type": "stream",
     "text": [
      "j\n",
      "jj\n",
      "jjj\n",
      "a\n",
      "aa\n",
      "aaa\n",
      "v\n",
      "vv\n",
      "vvv\n",
      "a\n",
      "aa\n",
      "aaa\n"
     ]
    }
   ],
   "source": [
    "for x in \"java\": #0,1,2,3,\n",
    "    print(x)\n",
    "    print(x*2)\n",
    "    print(x*3)"
   ]
  },
  {
   "cell_type": "code",
   "execution_count": 7,
   "metadata": {},
   "outputs": [
    {
     "name": "stdout",
     "output_type": "stream",
     "text": [
      "p\n",
      "y\n",
      "t\n",
      "h\n",
      "o\n",
      " \n",
      "n\n"
     ]
    }
   ],
   "source": [
    "s=\"pytho n\"\n",
    "for x in s: # x in \"pytho n\"\n",
    "    print (x)"
   ]
  },
  {
   "cell_type": "code",
   "execution_count": 8,
   "metadata": {},
   "outputs": [
    {
     "ename": "TypeError",
     "evalue": "'int' object is not iterable",
     "output_type": "error",
     "traceback": [
      "\u001b[1;31m---------------------------------------------------------------------------\u001b[0m",
      "\u001b[1;31mTypeError\u001b[0m                                 Traceback (most recent call last)",
      "Cell \u001b[1;32mIn[8], line 1\u001b[0m\n\u001b[1;32m----> 1\u001b[0m \u001b[38;5;28;01mfor\u001b[39;00m x \u001b[38;5;129;01min\u001b[39;00m \u001b[38;5;241m10\u001b[39m:\n\u001b[0;32m      2\u001b[0m     \u001b[38;5;28mprint\u001b[39m(x)\n",
      "\u001b[1;31mTypeError\u001b[0m: 'int' object is not iterable"
     ]
    }
   ],
   "source": [
    "for x in 10:\n",
    "    print(x)"
   ]
  },
  {
   "cell_type": "code",
   "execution_count": 9,
   "metadata": {},
   "outputs": [
    {
     "name": "stdout",
     "output_type": "stream",
     "text": [
      "1\n",
      "0\n"
     ]
    }
   ],
   "source": [
    "for x in '10':\n",
    "    print(x)"
   ]
  },
  {
   "cell_type": "code",
   "execution_count": 10,
   "metadata": {},
   "outputs": [
    {
     "name": "stdout",
     "output_type": "stream",
     "text": [
      "j python\n",
      "a python\n",
      "v python\n",
      "a python\n"
     ]
    }
   ],
   "source": [
    "for i in \"java\":\n",
    "\tprint (i +\" python\")"
   ]
  },
  {
   "cell_type": "code",
   "execution_count": 11,
   "metadata": {},
   "outputs": [
    {
     "name": "stdout",
     "output_type": "stream",
     "text": [
      "Linux\n",
      "window\n",
      "mac\n"
     ]
    }
   ],
   "source": [
    "words = ['Linux', 'window', 'mac']\n",
    "for y in words:\n",
    "    print (y)"
   ]
  },
  {
   "cell_type": "code",
   "execution_count": 12,
   "metadata": {},
   "outputs": [
    {
     "name": "stdout",
     "output_type": "stream",
     "text": [
      "Linux operating system\n",
      "window operating system\n",
      "mac operating system\n"
     ]
    }
   ],
   "source": [
    "words = ['Linux', 'window', 'mac']\n",
    "for y in words:\n",
    "    print (y+\" operating system\")"
   ]
  },
  {
   "cell_type": "code",
   "execution_count": 13,
   "metadata": {},
   "outputs": [
    {
     "name": "stdout",
     "output_type": "stream",
     "text": [
      "Linux 5\n",
      "window 6\n",
      "mac 3\n"
     ]
    }
   ],
   "source": [
    "for x in ['Linux', 'window', 'mac']:\n",
    "     print( x,len(x))"
   ]
  },
  {
   "cell_type": "code",
   "execution_count": 16,
   "metadata": {},
   "outputs": [
    {
     "name": "stdout",
     "output_type": "stream",
     "text": [
      "0\n",
      "1\n",
      "2\n",
      "3\n",
      "4\n",
      "5\n",
      "6\n",
      "7\n",
      "8\n",
      "9\n",
      "range(2, 20)\n"
     ]
    }
   ],
   "source": [
    "#Python 2.7 \n",
    "# print(range(10))\n",
    "# 0,1,2,3,4,5,6,7,8,9\n",
    "\n",
    "for i in range(10):\n",
    "    print(i)\n",
    "\n",
    "# Python 3\n",
    "# No xrange\n",
    "# and Xrange of python 2.7 is conerted to range\n",
    "print (range(2,20))\n",
    "\n",
    "# print range(2,20,3)-->2,5,8,11,14,17\n",
    "# print range(-10, -100, -30) ----> [-10,-40,-70]\n"
   ]
  },
  {
   "cell_type": "code",
   "execution_count": 17,
   "metadata": {},
   "outputs": [
    {
     "name": "stdout",
     "output_type": "stream",
     "text": [
      "0\n",
      "1\n",
      "2\n",
      "3\n",
      "4\n",
      "5\n",
      "6\n",
      "7\n",
      "8\n",
      "9\n"
     ]
    }
   ],
   "source": [
    "for i in range(10):\n",
    "    print (i)"
   ]
  },
  {
   "cell_type": "code",
   "execution_count": 18,
   "metadata": {},
   "outputs": [
    {
     "name": "stdout",
     "output_type": "stream",
     "text": [
      "2\n",
      "3\n",
      "4\n",
      "5\n",
      "6\n",
      "7\n",
      "8\n",
      "9\n"
     ]
    }
   ],
   "source": [
    "for i in range(2,10):\n",
    "    print (i)"
   ]
  },
  {
   "cell_type": "code",
   "execution_count": 19,
   "metadata": {},
   "outputs": [
    {
     "name": "stdout",
     "output_type": "stream",
     "text": [
      "python\n",
      "python\n",
      "python\n",
      "python\n",
      "python\n"
     ]
    }
   ],
   "source": [
    "for i in range(5):#[0,1,2,3,4]\n",
    "    print (\"python\")"
   ]
  },
  {
   "cell_type": "code",
   "execution_count": 20,
   "metadata": {},
   "outputs": [
    {
     "name": "stdout",
     "output_type": "stream",
     "text": [
      "2\n",
      "3\n",
      "4\n",
      "5\n",
      "6\n",
      "7\n",
      "8\n",
      "9\n",
      "Here\n"
     ]
    }
   ],
   "source": [
    "for i in range(2,10):#[2,3,4,5,6,7,8,9]\n",
    "    print (i)\n",
    "print(\"Here\")"
   ]
  },
  {
   "cell_type": "code",
   "execution_count": 21,
   "metadata": {},
   "outputs": [
    {
     "name": "stdout",
     "output_type": "stream",
     "text": [
      "0 Mary\n",
      "1 had\n",
      "2 xyz\n",
      "3 little\n",
      "4 lamb\n"
     ]
    }
   ],
   "source": [
    "a = ['Mary', 'had', 'xyz', 'little', 'lamb']\n",
    "for i in [0,1,2,3,4]:\n",
    "    print (i, a[i])"
   ]
  },
  {
   "cell_type": "code",
   "execution_count": 22,
   "metadata": {},
   "outputs": [
    {
     "name": "stdout",
     "output_type": "stream",
     "text": [
      "0 Mary\n",
      "1 had\n",
      "2 xyz\n",
      "3 little\n",
      "4 lamb\n"
     ]
    }
   ],
   "source": [
    "a = ['Mary', 'had', 'xyz', 'little', 'lamb']\n",
    "for i in range(5):# for i in [0,1,2,3,4,]\n",
    "\tprint (i, a[i])"
   ]
  },
  {
   "cell_type": "code",
   "execution_count": 23,
   "metadata": {},
   "outputs": [
    {
     "name": "stdout",
     "output_type": "stream",
     "text": [
      "0 Marry 5\n",
      "1 had 3\n",
      "2 xyz 3\n",
      "3 little 6\n",
      "4 lamb 4\n"
     ]
    }
   ],
   "source": [
    "a = ['Marry', 'had', 'xyz', 'little', 'lamb']\n",
    "for i in range(len(a)): # range(5)--> [0,1,2,3,4]\n",
    "    \tprint (i, a[i],len(a[i]))"
   ]
  },
  {
   "cell_type": "code",
   "execution_count": 24,
   "metadata": {},
   "outputs": [
    {
     "name": "stdout",
     "output_type": "stream",
     "text": [
      "value of n 0\n",
      "value of x 2\n",
      "***************\n",
      "value of n 0\n",
      "value of x 3\n",
      "***************\n",
      "value of n 0\n",
      "value of x 4\n",
      "***************\n"
     ]
    }
   ],
   "source": [
    "n=0\n",
    "for x in range(2, 5):#[2,3,4]\n",
    "        print( \"value of n\" , n)\n",
    "        print( \"value of x\" , x)\n",
    "        print(\"*\"*15)"
   ]
  },
  {
   "cell_type": "code",
   "execution_count": 25,
   "metadata": {},
   "outputs": [
    {
     "name": "stdout",
     "output_type": "stream",
     "text": [
      "value of n 1\n",
      "value of x 2\n",
      "***************\n",
      "value of n 1\n",
      "value of x 3\n",
      "***************\n",
      "value of n 1\n",
      "value of x 4\n",
      "***************\n"
     ]
    }
   ],
   "source": [
    "n=1\n",
    "for x in range(2, 5):#[2,3,4]\n",
    "        print( \"value of n\" , n)\n",
    "        print( \"value of x\" , x)\n",
    "        print(\"*\"*15)"
   ]
  },
  {
   "cell_type": "code",
   "execution_count": 26,
   "metadata": {},
   "outputs": [
    {
     "name": "stdout",
     "output_type": "stream",
     "text": [
      "value of n 2\n",
      "value of x 2\n",
      "***************\n",
      "value of n 2\n",
      "value of x 3\n",
      "***************\n",
      "value of n 2\n",
      "value of x 4\n",
      "***************\n"
     ]
    }
   ],
   "source": [
    "n=2\n",
    "for x in range(2, 5):#[2,3]\n",
    "        print( \"value of n\" , n)\n",
    "        print( \"value of x\" , x)\n",
    "        print(\"*\"*15)"
   ]
  },
  {
   "cell_type": "code",
   "execution_count": 27,
   "metadata": {},
   "outputs": [
    {
     "name": "stdout",
     "output_type": "stream",
     "text": [
      "value of n 0\n",
      "value of x 2\n",
      "***************\n",
      "value of n 0\n",
      "value of x 3\n",
      "***************\n",
      "value of n 0\n",
      "value of x 4\n",
      "***************\n",
      "##############################\n",
      "value of n 1\n",
      "value of x 2\n",
      "***************\n",
      "value of n 1\n",
      "value of x 3\n",
      "***************\n",
      "value of n 1\n",
      "value of x 4\n",
      "***************\n",
      "##############################\n",
      "value of n 2\n",
      "value of x 2\n",
      "***************\n",
      "value of n 2\n",
      "value of x 3\n",
      "***************\n",
      "value of n 2\n",
      "value of x 4\n",
      "***************\n",
      "##############################\n",
      "value of n 3\n",
      "value of x 2\n",
      "***************\n",
      "value of n 3\n",
      "value of x 3\n",
      "***************\n",
      "value of n 3\n",
      "value of x 4\n",
      "***************\n",
      "##############################\n"
     ]
    }
   ],
   "source": [
    "for n in range(0, 4):#n=3\n",
    "    for x in range(2, 5):\n",
    "        print( \"value of n\" , n)\n",
    "        print( \"value of x\" , x)\n",
    "        print(\"*\"*15)\n",
    "    print(\"#\"*30)"
   ]
  },
  {
   "cell_type": "code",
   "execution_count": 28,
   "metadata": {},
   "outputs": [
    {
     "name": "stdout",
     "output_type": "stream",
     "text": [
      "M\n",
      "a\n",
      "r\n",
      "y\n"
     ]
    }
   ],
   "source": [
    "for z in 'Mary':\n",
    "    print (z)"
   ]
  },
  {
   "cell_type": "code",
   "execution_count": 29,
   "metadata": {},
   "outputs": [
    {
     "name": "stdout",
     "output_type": "stream",
     "text": [
      "Mary\n",
      "had\n",
      "little\n",
      "lamb\n"
     ]
    }
   ],
   "source": [
    "words=['Mary', 'had', 'little', 'lamb']\n",
    "for y in words:\n",
    "    print(y)"
   ]
  },
  {
   "cell_type": "code",
   "execution_count": null,
   "metadata": {},
   "outputs": [],
   "source": [
    "words=['Mary', 'had', 'little', 'lamb']\n",
    "for y in words: #y =Mary\n",
    "    for z in y: #z in Mary\n",
    "        print (z)      "
   ]
  },
  {
   "cell_type": "code",
   "execution_count": 30,
   "metadata": {},
   "outputs": [
    {
     "name": "stdout",
     "output_type": "stream",
     "text": [
      "Mary\n",
      "had\n",
      "xyz\n",
      "little\n",
      "lamb\n"
     ]
    }
   ],
   "source": [
    "words=['Mary', 'had', 'xyz', 'little', 'lamb']\n",
    "for z in words:\n",
    "        print (z)"
   ]
  },
  {
   "cell_type": "markdown",
   "metadata": {},
   "source": [
    "### break statement\n",
    "When a break statement executes inside a loop, control flow \"breaks\" out of the loop immediately:\n",
    "The loop conditional will not be evaluated after the break statement is executed. Note that break statements are\n",
    "only allowed inside loops, syntactically. A break statement inside a function cannot be used to terminate loops that\n",
    "called that function."
   ]
  },
  {
   "cell_type": "code",
   "execution_count": 31,
   "metadata": {},
   "outputs": [
    {
     "name": "stdout",
     "output_type": "stream",
     "text": [
      "0\n",
      "1\n",
      "2\n",
      "3\n",
      "outside loop\n"
     ]
    }
   ],
   "source": [
    "for i in (0, 1, 2, 3, 4,5):\n",
    "    print(i)\n",
    "    if i == 3:\n",
    "        break\n",
    "print (\"outside loop\")"
   ]
  },
  {
   "cell_type": "code",
   "execution_count": 32,
   "metadata": {},
   "outputs": [
    {
     "name": "stdout",
     "output_type": "stream",
     "text": [
      "0\n",
      "outside loop\n"
     ]
    }
   ],
   "source": [
    "for i in (0, 1, 2, 3, 4):\n",
    "    print(i)\n",
    "    break\n",
    "print (\"outside loop\")"
   ]
  },
  {
   "cell_type": "code",
   "execution_count": 33,
   "metadata": {},
   "outputs": [
    {
     "name": "stdout",
     "output_type": "stream",
     "text": [
      "0\n",
      "1\n",
      "outside loop\n"
     ]
    }
   ],
   "source": [
    "for i in (0, 1, 2, 3, 4):\n",
    "    if i == 2:\n",
    "        break\n",
    "    print(i)\n",
    "print (\"outside loop\")"
   ]
  },
  {
   "cell_type": "code",
   "execution_count": 34,
   "metadata": {},
   "outputs": [
    {
     "name": "stdout",
     "output_type": "stream",
     "text": [
      "outside loop\n"
     ]
    }
   ],
   "source": [
    "for letter in 'geeksforgeeks':\n",
    "    if letter ==  'g':\n",
    "    \tbreak\n",
    "    print('Current Letter :', letter)\n",
    "print (\"outside loop\")"
   ]
  },
  {
   "cell_type": "markdown",
   "metadata": {},
   "source": [
    "### continue statement\n",
    "A continue statement will skip to the next iteration of the loop bypassing the rest of the current block but\n",
    "continuing the loop. As with break, continue can only appear inside loops:"
   ]
  },
  {
   "cell_type": "code",
   "execution_count": 35,
   "metadata": {},
   "outputs": [
    {
     "name": "stdout",
     "output_type": "stream",
     "text": [
      "0 Python Learning\n",
      "1 Python Learning\n",
      "3 Python Learning\n",
      "5 Python Learning\n",
      "outside loop\n"
     ]
    }
   ],
   "source": [
    "for i in (0, 1, 2, 3, 4, 5):\n",
    "    if i == 2 or i == 4:\n",
    "        continue    \n",
    "    print(f\"{i} Python Learning\")\n",
    "print (\"outside loop\")"
   ]
  },
  {
   "cell_type": "code",
   "execution_count": 36,
   "metadata": {},
   "outputs": [
    {
     "name": "stdout",
     "output_type": "stream",
     "text": [
      "Before continue : g\n",
      "Current Letter : g\n",
      "Before continue : e\n",
      "Current Letter : e\n",
      "Before continue : e\n",
      "Current Letter : e\n",
      "Before continue : k\n",
      "Before continue : s\n",
      "Before continue : f\n",
      "Current Letter : f\n",
      "outside loop\n"
     ]
    }
   ],
   "source": [
    "for letter in 'geeksf':\n",
    "    print ('Before continue :', letter)\n",
    "    if letter == 'k' or letter == 's':\n",
    "    \tcontinue\n",
    "    print('Current Letter :', letter)\n",
    "print (\"outside loop\")"
   ]
  },
  {
   "cell_type": "code",
   "execution_count": null,
   "metadata": {},
   "outputs": [],
   "source": [
    "for x in 'geeksforgeeks':\n",
    "    pass\n",
    "#     print(\"hello\") \n",
    "     \n",
    "\n",
    "print (x)"
   ]
  },
  {
   "cell_type": "markdown",
   "metadata": {},
   "source": [
    "#### The Pass Statement\n",
    "pass is a null statement for when a statement is required by Python syntax (such as within the body of a for or\n",
    "while loop), but no action is required or desired by the programmer. This can be useful as a placeholder for code\n",
    "that is yet to be written.\n"
   ]
  },
  {
   "cell_type": "code",
   "execution_count": null,
   "metadata": {},
   "outputs": [],
   "source": [
    "print (x)"
   ]
  },
  {
   "cell_type": "markdown",
   "metadata": {},
   "source": [
    "The for and while compound statements (loops) can optionally have an else clause (in practice, this usage is fairly\n",
    "rare).\n",
    "The else clause only executes after a for loop terminates by iterating to completion, or after a while loop\n",
    "terminates by its conditional expression becoming false."
   ]
  },
  {
   "cell_type": "code",
   "execution_count": 37,
   "metadata": {},
   "outputs": [
    {
     "name": "stdout",
     "output_type": "stream",
     "text": [
      "enter password\n",
      "enter password\n",
      "enter password\n",
      "contact to admin\n"
     ]
    }
   ],
   "source": [
    "for i in range(3):\n",
    "    print(\"enter password\")\n",
    "else:\n",
    "    print('contact to admin')"
   ]
  },
  {
   "cell_type": "raw",
   "metadata": {},
   "source": [
    "The else clause does not execute if the loop terminates some other way (through a break statement or by raising\n",
    "an exception):"
   ]
  },
  {
   "cell_type": "code",
   "execution_count": 38,
   "metadata": {},
   "outputs": [
    {
     "name": "stdout",
     "output_type": "stream",
     "text": [
      "0\n",
      "inside for\n",
      "1\n",
      "i am after else\n"
     ]
    }
   ],
   "source": [
    "for i in range(2):#[0,1]\n",
    "    print(i)\n",
    "    \n",
    "    if i == 1:\n",
    "        break\n",
    "    else:\n",
    "        print(\"inside for\")\n",
    "else:\n",
    "    print('BREAK: I will not be executed as loop will get break')\n",
    "print(\"i am after else\")"
   ]
  },
  {
   "cell_type": "code",
   "execution_count": 39,
   "metadata": {},
   "outputs": [
    {
     "name": "stdout",
     "output_type": "stream",
     "text": [
      "0\n",
      "1\n",
      "2\n",
      "i am in if condition\n",
      "outside\n"
     ]
    }
   ],
   "source": [
    "for i in range(5):\n",
    "    print(i)\n",
    "    if i >1:\n",
    "        print(\"i am in if condition\")\n",
    "        break\n",
    "    \n",
    "else:\n",
    "    print('I am part of else and getting executed because the loop is not break')\n",
    "    \n",
    "print('outside')"
   ]
  },
  {
   "cell_type": "code",
   "execution_count": 40,
   "metadata": {},
   "outputs": [
    {
     "name": "stdout",
     "output_type": "stream",
     "text": [
      "0\n",
      "1\n",
      "I am part of else and getting executed because the loop is not break\n",
      "outside\n"
     ]
    }
   ],
   "source": [
    "for i in range(2):\n",
    "    print(i)\n",
    "else:\n",
    "    print('I am part of else and getting executed because the loop is not break')\n",
    "\n",
    "print('outside')"
   ]
  },
  {
   "cell_type": "code",
   "execution_count": null,
   "metadata": {},
   "outputs": [],
   "source": [
    "numbers = [1,2,3,4,5]\n",
    "\n",
    "i = 0\n",
    "while i < len(numbers): # i<5 \n",
    "    print (numbers[i])\n",
    "    i=+1\n",
    "\n",
    "for i in numbers: # range(5)\n",
    "    print (i)\n"
   ]
  },
  {
   "cell_type": "markdown",
   "metadata": {},
   "source": [
    "If you want to loop though both the elements of a list and have an index for the elements as well, you can use\n",
    "Python's enumerate function:"
   ]
  },
  {
   "cell_type": "code",
   "execution_count": null,
   "metadata": {},
   "outputs": [],
   "source": [
    "NumList = [5,84,56,35]\n",
    "Number = len(NumList)\n",
    "i = 0\n",
    "while(i < Number):\n",
    "    j = i + 1\n",
    "    print(f\"NumList[i] {NumList[i]} : {i}\")\n",
    "    print(f\"NumList[j] {NumList[j]}: {j}\")\n",
    "    while(j < Number):\n",
    "        if(NumList[i] > NumList[j]):\n",
    "            print(\" i am in if condition as i have to swap \")\n",
    "            temp = NumList[i]\n",
    "            NumList[i] = NumList[j]\n",
    "            NumList[j] = temp\n",
    "        j = j + 1\n",
    "    i = i + 1\n",
    "\n",
    "print(\"Element After Sorting List in Ascending Order is : \", NumList)"
   ]
  },
  {
   "cell_type": "code",
   "execution_count": null,
   "metadata": {},
   "outputs": [],
   "source": [
    "******\n",
    "******\n",
    "******\n",
    "******\n"
   ]
  },
  {
   "cell_type": "markdown",
   "metadata": {},
   "source": [
    "## Assignment"
   ]
  },
  {
   "cell_type": "markdown",
   "metadata": {},
   "source": [
    "1) Write a program which will find all such numbers which are divisible by 7 but are not a multiple of 5, between 2000 and 3200 (both included).\n",
    "\n",
    "\n",
    "2) The numbers obtained should be printed in a comma-separated sequence on a single line.\n",
    "Hints: \n",
    "Consider use range(#begin, #end) method\n"
   ]
  },
  {
   "cell_type": "markdown",
   "metadata": {},
   "source": [
    "Given a string s containing just the characters '(', ')', '{', '}', '[' and ']', determine if the input string is valid.\n",
    "\n",
    "An input string is valid if:\n",
    "\n",
    "Open brackets must be closed by the same type of brackets.\n",
    "Open brackets must be closed in the correct order.\n",
    " \n",
    "\n",
    "Example 1:\n",
    "\n",
    "Input: s = \"()\"\n",
    "Output: true\n",
    "Example 2:\n",
    "\n",
    "Input: s = \"()[]{}\"\n",
    "Output: true\n",
    "Example 3:\n",
    "\n",
    "Input: s = \"(]\"\n",
    "Output: false\n",
    "Example 4:\n",
    "\n",
    "Input: s = \"([)]\"\n",
    "Output: false\n",
    "Example 5:\n",
    "\n",
    "Input: s = \"{[]}\"\n",
    "Output: true\n",
    " \n",
    "\n",
    "Constraints:\n",
    "\n",
    "1 <= s.length <= 104\n",
    "s consists of parentheses only '()[]{}'."
   ]
  },
  {
   "cell_type": "code",
   "execution_count": null,
   "metadata": {},
   "outputs": [],
   "source": [
    "l=[]\n",
    "for i in range(2000, 3201):\n",
    "    if (i%7==0) and (i%5!=0):\n",
    "        l.append(str(i))\n",
    "\n",
    "print ','.join(l)"
   ]
  },
  {
   "cell_type": "code",
   "execution_count": null,
   "metadata": {},
   "outputs": [],
   "source": [
    "for i in range(0, 5):\n",
    "    # inner loop to handle number of columns\n",
    "    # values changing acc. to outer loop\n",
    "    for j in range(0, i+1):\n",
    "        # printing stars\n",
    "        print(\"* \",end=\"\")\n",
    "    # ending line after each row\n",
    "    print(\"\\r\")"
   ]
  },
  {
   "cell_type": "code",
   "execution_count": null,
   "metadata": {},
   "outputs": [],
   "source": [
    "# i = 1\n",
    "# while i != 6:\n",
    "#     print(\"*\"*i)\n",
    "#     i = i + 1\n",
    "    \n",
    "i = 1\n",
    "x = int(input(\"enter how many starts you want \"))\n",
    "for i in range(1,x+1):\n",
    "    print(\" \"*(x-i) + \"*\"*i)"
   ]
  },
  {
   "cell_type": "code",
   "execution_count": null,
   "metadata": {},
   "outputs": [],
   "source": [
    "i = 1\n",
    "x = int(input(\"enter how many starts you want \"))\n",
    "for i in range(1,x+1):\n",
    "    print(\"*\"*i)"
   ]
  },
  {
   "cell_type": "code",
   "execution_count": null,
   "metadata": {},
   "outputs": [],
   "source": [
    "i = 1\n",
    "x = int(input(\"enter how many starts you want \"))*2\n",
    "for i in range(i,int(x/2) + 1):\n",
    "    print(\" \"*x + \"* \"*i)\n",
    "x = x -1"
   ]
  },
  {
   "cell_type": "code",
   "execution_count": null,
   "metadata": {},
   "outputs": [],
   "source": [
    "\n",
    "x = int(input(\"Enter a number \"))\n",
    "i = 1\n",
    "r = 1\n",
    "q = str()\n",
    "for i in range(1,x+1):\n",
    "while r <= i:\n",
    "r = str(r)\n",
    "q = str(q) + r\n",
    "r = int(r) + 1\n",
    "print(q)\n",
    "q = \"\"\n",
    "r = int(1)\n",
    "i = i + 1"
   ]
  },
  {
   "cell_type": "code",
   "execution_count": null,
   "metadata": {},
   "outputs": [],
   "source": [
    "Program to calculate the factorial\n",
    "5\n",
    "fact(5)= 5*4*3*2*1\n",
    "\n",
    "4 "
   ]
  },
  {
   "cell_type": "code",
   "execution_count": null,
   "metadata": {},
   "outputs": [],
   "source": [
    "# 5.What will be the output of the following Python code?\n",
    "\n",
    "def maximum(x, y):\n",
    "    if x > y:\n",
    "        return x\n",
    "    elif x == y:\n",
    "        return 'The numbers are equal'\n",
    "    else:\n",
    "        return y\n",
    " \n",
    "print(maximum(2, 3))"
   ]
  },
  {
   "cell_type": "code",
   "execution_count": null,
   "metadata": {},
   "outputs": [],
   "source": [
    "def a():\n",
    "    print(\"a\")\n",
    "x=a()\n",
    "print (x)"
   ]
  },
  {
   "cell_type": "code",
   "execution_count": null,
   "metadata": {},
   "outputs": [],
   "source": []
  }
 ],
 "metadata": {
  "kernelspec": {
   "display_name": "Python 3",
   "language": "python",
   "name": "python3"
  },
  "language_info": {
   "codemirror_mode": {
    "name": "ipython",
    "version": 3
   },
   "file_extension": ".py",
   "mimetype": "text/x-python",
   "name": "python",
   "nbconvert_exporter": "python",
   "pygments_lexer": "ipython3",
   "version": "3.9.0"
  }
 },
 "nbformat": 4,
 "nbformat_minor": 2
}
