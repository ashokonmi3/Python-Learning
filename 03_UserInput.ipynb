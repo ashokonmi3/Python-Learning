{
 "cells": [
  {
   "cell_type": "markdown",
   "metadata": {},
   "source": [
    "### User INPUT"
   ]
  },
  {
   "cell_type": "code",
   "execution_count": null,
   "metadata": {},
   "outputs": [],
   "source": [
    "# s=\"javasciprt\"\n",
    "s=\"machine learning\"\n",
    "print(s[::-1])"
   ]
  },
  {
   "cell_type": "code",
   "execution_count": null,
   "metadata": {},
   "outputs": [],
   "source": [
    "print (\"enter your name \")\n",
    "your_name=input()\n",
    "print (\"your name is \"+your_name)"
   ]
  },
  {
   "cell_type": "code",
   "execution_count": null,
   "metadata": {},
   "outputs": [],
   "source": [
    "string_to_reverse=input()\n",
    "print(f\"Reverse of input {string_to_reverse[::-1]}\")"
   ]
  },
  {
   "cell_type": "code",
   "execution_count": null,
   "metadata": {},
   "outputs": [],
   "source": [
    "\n",
    "x= input(\"Enter data for input type for testing \")\n",
    "print (f\"type of {x} is : {type(x)} \")"
   ]
  },
  {
   "cell_type": "code",
   "execution_count": 8,
   "metadata": {},
   "outputs": [
    {
     "name": "stdout",
     "output_type": "stream",
     "text": [
      "<class 'str'>\n"
     ]
    }
   ],
   "source": [
    "# newDataType(variableToTypeCast)\n",
    "# Assume i is a variable\n",
    "# int(i)\n",
    "# string(i)\n",
    "# float(i)\n",
    "# ===================\n",
    "i=10000 #'10000\"\n",
    "\n",
    "j =str(i) # \n",
    "\n",
    "print(type(j))"
   ]
  },
  {
   "cell_type": "code",
   "execution_count": 9,
   "metadata": {},
   "outputs": [
    {
     "name": "stdout",
     "output_type": "stream",
     "text": [
      "1\n",
      "0\n",
      "0\n",
      "0\n",
      "0\n"
     ]
    }
   ],
   "source": [
    "print (j[0])\n",
    "print (j[1])\n",
    "print (j[2])\n",
    "print (j[3])\n",
    "print (j[4])"
   ]
  },
  {
   "cell_type": "code",
   "execution_count": 10,
   "metadata": {},
   "outputs": [
    {
     "name": "stdout",
     "output_type": "stream",
     "text": [
      "<class 'str'>\n",
      "10.0\n"
     ]
    }
   ],
   "source": [
    "i=10.0\n",
    "j=str(i)\n",
    "print (type(j))\n",
    "print (j)"
   ]
  },
  {
   "cell_type": "code",
   "execution_count": 11,
   "metadata": {},
   "outputs": [
    {
     "name": "stdout",
     "output_type": "stream",
     "text": [
      "1\n",
      "0\n",
      ".\n",
      "0\n"
     ]
    }
   ],
   "source": [
    "print (j[0]) #\"10.0\"\n",
    "print (j[1])\n",
    "print (j[2])\n",
    "print (j[3])"
   ]
  },
  {
   "cell_type": "code",
   "execution_count": 12,
   "metadata": {},
   "outputs": [
    {
     "ename": "ValueError",
     "evalue": "invalid literal for int() with base 10: 'h'",
     "output_type": "error",
     "traceback": [
      "\u001b[1;31m---------------------------------------------------------------------------\u001b[0m",
      "\u001b[1;31mValueError\u001b[0m                                Traceback (most recent call last)",
      "Cell \u001b[1;32mIn[12], line 2\u001b[0m\n\u001b[0;32m      1\u001b[0m a\u001b[38;5;241m=\u001b[39m\u001b[38;5;124m\"\u001b[39m\u001b[38;5;124mh\u001b[39m\u001b[38;5;124m\"\u001b[39m\n\u001b[1;32m----> 2\u001b[0m \u001b[38;5;28mprint\u001b[39m (\u001b[38;5;28;43mint\u001b[39;49m\u001b[43m(\u001b[49m\u001b[43ma\u001b[49m\u001b[43m)\u001b[49m)\n",
      "\u001b[1;31mValueError\u001b[0m: invalid literal for int() with base 10: 'h'"
     ]
    }
   ],
   "source": [
    "a=\"h\"\n",
    "print (int(a))"
   ]
  },
  {
   "cell_type": "code",
   "execution_count": 13,
   "metadata": {},
   "outputs": [],
   "source": [
    "st=\"1000\""
   ]
  },
  {
   "cell_type": "code",
   "execution_count": 14,
   "metadata": {},
   "outputs": [
    {
     "name": "stdout",
     "output_type": "stream",
     "text": [
      "1000\n",
      "<class 'int'>\n"
     ]
    }
   ],
   "source": [
    "x=int(st)\n",
    "print (x)\n",
    "print (type(x))"
   ]
  },
  {
   "cell_type": "code",
   "execution_count": 15,
   "metadata": {},
   "outputs": [],
   "source": [
    "s=100.6"
   ]
  },
  {
   "cell_type": "code",
   "execution_count": 16,
   "metadata": {},
   "outputs": [
    {
     "data": {
      "text/plain": [
       "100"
      ]
     },
     "execution_count": 16,
     "metadata": {},
     "output_type": "execute_result"
    }
   ],
   "source": [
    "int(s)"
   ]
  },
  {
   "cell_type": "code",
   "execution_count": 17,
   "metadata": {},
   "outputs": [
    {
     "ename": "ValueError",
     "evalue": "invalid literal for int() with base 10: '+'",
     "output_type": "error",
     "traceback": [
      "\u001b[1;31m---------------------------------------------------------------------------\u001b[0m",
      "\u001b[1;31mValueError\u001b[0m                                Traceback (most recent call last)",
      "Cell \u001b[1;32mIn[17], line 2\u001b[0m\n\u001b[0;32m      1\u001b[0m s\u001b[38;5;241m=\u001b[39m\u001b[38;5;124m\"\u001b[39m\u001b[38;5;124m+\u001b[39m\u001b[38;5;124m\"\u001b[39m\n\u001b[1;32m----> 2\u001b[0m \u001b[38;5;28;43mint\u001b[39;49m\u001b[43m(\u001b[49m\u001b[43ms\u001b[49m\u001b[43m)\u001b[49m\n",
      "\u001b[1;31mValueError\u001b[0m: invalid literal for int() with base 10: '+'"
     ]
    }
   ],
   "source": [
    "s=\"+\"\n",
    "int(s)"
   ]
  },
  {
   "cell_type": "code",
   "execution_count": 18,
   "metadata": {},
   "outputs": [
    {
     "ename": "ValueError",
     "evalue": "invalid literal for int() with base 10: '.'",
     "output_type": "error",
     "traceback": [
      "\u001b[1;31m---------------------------------------------------------------------------\u001b[0m",
      "\u001b[1;31mValueError\u001b[0m                                Traceback (most recent call last)",
      "Cell \u001b[1;32mIn[18], line 1\u001b[0m\n\u001b[1;32m----> 1\u001b[0m \u001b[38;5;28;43mint\u001b[39;49m\u001b[43m(\u001b[49m\u001b[38;5;124;43m'\u001b[39;49m\u001b[38;5;124;43m.\u001b[39;49m\u001b[38;5;124;43m'\u001b[39;49m\u001b[43m)\u001b[49m\n",
      "\u001b[1;31mValueError\u001b[0m: invalid literal for int() with base 10: '.'"
     ]
    }
   ],
   "source": [
    "int('.')"
   ]
  },
  {
   "cell_type": "code",
   "execution_count": 19,
   "metadata": {},
   "outputs": [
    {
     "name": "stdout",
     "output_type": "stream",
     "text": [
      "1000.0\n"
     ]
    }
   ],
   "source": [
    "i=1000\n",
    "j=float(1000)\n",
    "print(j)\n"
   ]
  },
  {
   "cell_type": "code",
   "execution_count": 20,
   "metadata": {},
   "outputs": [
    {
     "data": {
      "text/plain": [
       "10"
      ]
     },
     "execution_count": 20,
     "metadata": {},
     "output_type": "execute_result"
    }
   ],
   "source": [
    "s='10'\n",
    "j=int(s)\n",
    "j"
   ]
  },
  {
   "cell_type": "code",
   "execution_count": 21,
   "metadata": {},
   "outputs": [
    {
     "ename": "ValueError",
     "evalue": "invalid literal for int() with base 10: '100.0'",
     "output_type": "error",
     "traceback": [
      "\u001b[1;31m---------------------------------------------------------------------------\u001b[0m",
      "\u001b[1;31mValueError\u001b[0m                                Traceback (most recent call last)",
      "Cell \u001b[1;32mIn[21], line 6\u001b[0m\n\u001b[0;32m      2\u001b[0m s\u001b[38;5;241m=\u001b[39m\u001b[38;5;124m\"\u001b[39m\u001b[38;5;124m100.0\u001b[39m\u001b[38;5;124m\"\u001b[39m \u001b[38;5;66;03m# important interview question\u001b[39;00m\n\u001b[0;32m      3\u001b[0m \u001b[38;5;66;03m# j=int(s)\u001b[39;00m\n\u001b[0;32m      4\u001b[0m \u001b[38;5;66;03m# print(j)\u001b[39;00m\n\u001b[0;32m      5\u001b[0m \u001b[38;5;66;03m# s= \"Python learning is fun.\"\u001b[39;00m\n\u001b[1;32m----> 6\u001b[0m \u001b[38;5;28mprint\u001b[39m(\u001b[38;5;28;43mint\u001b[39;49m\u001b[43m(\u001b[49m\u001b[43ms\u001b[49m\u001b[43m)\u001b[49m)\n\u001b[0;32m      7\u001b[0m \u001b[38;5;66;03m# Str ---> Float ---> Int \u001b[39;00m\n",
      "\u001b[1;31mValueError\u001b[0m: invalid literal for int() with base 10: '100.0'"
     ]
    }
   ],
   "source": [
    "# s= \" 100a0\"\n",
    "s=\"100.0\" # important interview question\n",
    "# j=int(s)\n",
    "# print(j)\n",
    "# s= \"Python learning is fun.\"\n",
    "print(int(s))\n",
    "# Str ---> Float ---> Int "
   ]
  },
  {
   "cell_type": "code",
   "execution_count": 22,
   "metadata": {},
   "outputs": [
    {
     "data": {
      "text/plain": [
       "100"
      ]
     },
     "execution_count": 22,
     "metadata": {},
     "output_type": "execute_result"
    }
   ],
   "source": [
    "x=\"100.1\"\n",
    "int(float(x))"
   ]
  },
  {
   "cell_type": "code",
   "execution_count": 23,
   "metadata": {},
   "outputs": [
    {
     "name": "stdout",
     "output_type": "stream",
     "text": [
      "['python', 'django', 'flask']\n"
     ]
    }
   ],
   "source": [
    "s=\"python,django,flask\"\n",
    "listconverted=s.split(',')\n",
    "print(listconverted)"
   ]
  },
  {
   "cell_type": "markdown",
   "metadata": {},
   "source": [
    "##### Taking multiple inputs"
   ]
  },
  {
   "cell_type": "code",
   "execution_count": 24,
   "metadata": {},
   "outputs": [
    {
     "name": "stdout",
     "output_type": "stream",
     "text": [
      "2\n",
      "5\n",
      "6\n"
     ]
    }
   ],
   "source": [
    "x,y,z=[1,2,3]\n",
    "x,y,z= input(\"enter value: \").split()#1 2 3 [1,2,3]\n",
    "# x,y,z= input(\"enter value: \")#1 2 3 [1,2,3]\n",
    "print(x)\n",
    "print(y)\n",
    "print(z)"
   ]
  },
  {
   "cell_type": "code",
   "execution_count": 25,
   "metadata": {},
   "outputs": [
    {
     "name": "stdout",
     "output_type": "stream",
     "text": [
      "34\n",
      "44\n",
      "55\n"
     ]
    }
   ],
   "source": [
    "a,b,c=input(\"Please enter the age of 3 people in one line using commas\\n\").split(',')\n",
    "print(a)\n",
    "print(b)\n",
    "print(c)"
   ]
  },
  {
   "cell_type": "code",
   "execution_count": 26,
   "metadata": {},
   "outputs": [
    {
     "name": "stdout",
     "output_type": "stream",
     "text": [
      "6\n",
      "6\n",
      "6\n"
     ]
    }
   ],
   "source": [
    "x=input()\n",
    "a,b,c=x.split(',')\n",
    "print(a)\n",
    "print(b)\n",
    "print(c)"
   ]
  },
  {
   "cell_type": "code",
   "execution_count": 27,
   "metadata": {},
   "outputs": [
    {
     "name": "stdout",
     "output_type": "stream",
     "text": [
      "hello\n",
      "world\n",
      "python\n"
     ]
    }
   ],
   "source": [
    "print(\"hello\")# print(\"hello\", end=\"\\n\")\n",
    "print(\"world\")\n",
    "print(\"python\")"
   ]
  },
  {
   "cell_type": "code",
   "execution_count": 28,
   "metadata": {},
   "outputs": [
    {
     "name": "stdout",
     "output_type": "stream",
     "text": [
      "Hello, \n",
      "world\n"
     ]
    }
   ],
   "source": [
    "print(\"Hello, \", end=\"\\n\")\n",
    "print(\"world\",end=\"\\n\")\n"
   ]
  },
  {
   "cell_type": "code",
   "execution_count": 29,
   "metadata": {},
   "outputs": [
    {
     "name": "stdout",
     "output_type": "stream",
     "text": [
      "Hello  ===== world *** python\n",
      "django\n"
     ]
    }
   ],
   "source": [
    "print(\"Hello \", end=\" ===== \")\n",
    "print(\"world\",end=\" *** \")\n",
    "print(\"python\")\n",
    "print(\"django\")"
   ]
  },
  {
   "cell_type": "code",
   "execution_count": 30,
   "metadata": {},
   "outputs": [
    {
     "name": "stdout",
     "output_type": "stream",
     "text": [
      "Hello  BREAK world python\n",
      "Selenium\n",
      "Learning\n"
     ]
    }
   ],
   "source": [
    "print(\"Hello \", end=\" BREAK \")\n",
    "# print(\"world\", end=\" python \")\n",
    "print(\"world python\")\n",
    "print(\"Selenium\")\n",
    "print(\"Learning\")"
   ]
  },
  {
   "cell_type": "markdown",
   "metadata": {},
   "source": [
    "PEMADS\n",
    "()\n",
    "**\n",
    "* /\n",
    "+ -"
   ]
  },
  {
   "cell_type": "code",
   "execution_count": 31,
   "metadata": {},
   "outputs": [
    {
     "data": {
      "text/plain": [
       "7.0"
      ]
     },
     "execution_count": 31,
     "metadata": {},
     "output_type": "execute_result"
    }
   ],
   "source": [
    "3 * 3 + 3 / 3 - 3 # 9+1-3"
   ]
  },
  {
   "cell_type": "markdown",
   "metadata": {},
   "source": [
    "#### Convert previous assignment into user input form"
   ]
  },
  {
   "cell_type": "markdown",
   "metadata": {},
   "source": [
    "## Assignment 1\n",
    "Write a program that adds the digits in a 2 digit number. e.g. if the input was 35, then the output should be 3 + 5 = 8\n",
    "\n",
    "Your program should work for different inputs. e.g. any two-digit number.\n",
    "\n",
    "Example Input\n",
    "39\n",
    "Example Output\n",
    "3 + 9 = 12\n",
    "\n",
    "12\n",
    "\n",
    "Hint\n",
    "Try to find out the data type of two_digit_number.\n",
    "Think about what you learnt about subscripting.\n"
   ]
  },
  {
   "cell_type": "markdown",
   "metadata": {},
   "source": [
    "# Assignment 2\n",
    "Write a program that calculates the Body Mass Index (BMI) from a user's weight and height.\n",
    "\n",
    "The BMI is a measure of some's weight taking into account their height. e.g. If a tall person and a short person both weigh the same amount, the short person is usually more overweight.\n",
    "\n",
    "The BMI is calculated by dividing a person's weight (in kg) by the square of their height (in m):\n",
    "\n",
    "#### Example Input\n",
    "weight = 80\n",
    "height = 1.75\n",
    "#### Example Output\n",
    "80 ÷ (1.75 x 1.75) = 26.122448979591837\n",
    "\n",
    "26"
   ]
  },
  {
   "cell_type": "markdown",
   "metadata": {},
   "source": [
    "### Assignment 3\n",
    "\n",
    "I was reading this article by Tim Urban - Your Life in Weeks and realised just how little time we actually have.\n",
    "\n",
    "https://waitbutwhy.com/2014/05/life-weeks.html\n",
    "\n",
    "Create a program using maths and f-Strings that tells us how many days, weeks, months we have left if we live until 90 years old.\n",
    "\n",
    "It will take your current age as the input and output a message with our time left in this format:\n",
    "\n",
    "You have x days, y weeks, and z months left.\n",
    "\n",
    "Where x, y and z are replaced with the actual calculated numbers.\n",
    "\n",
    "Warning your output should match the Example Output format exactly, even the positions of the commas and full stops.\n",
    "\n",
    "#### Example Input\n",
    "56\n",
    "#### Example Output\n",
    "You have 12410 days, 1768 weeks, and 408 months left.\n",
    "\n",
    "#### Hint\n",
    "There are 365 days in a year, 52 weeks in a year and 12 months in a year.\n",
    "Try copying the example output into your code and replace the relevant parts so that the sentence is formated the same way."
   ]
  },
  {
   "cell_type": "code",
   "execution_count": null,
   "metadata": {},
   "outputs": [],
   "source": []
  }
 ],
 "metadata": {
  "kernelspec": {
   "display_name": "Python 3",
   "language": "python",
   "name": "python3"
  },
  "language_info": {
   "codemirror_mode": {
    "name": "ipython",
    "version": 3
   },
   "file_extension": ".py",
   "mimetype": "text/x-python",
   "name": "python",
   "nbconvert_exporter": "python",
   "pygments_lexer": "ipython3",
   "version": "3.9.0"
  }
 },
 "nbformat": 4,
 "nbformat_minor": 2
}
