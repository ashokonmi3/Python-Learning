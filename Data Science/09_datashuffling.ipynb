{
 "cells": [
  {
   "cell_type": "markdown",
   "metadata": {},
   "source": [
    "# Data Shuffling for Non-Technical Students\n",
    "\n",
    "## Overview\n",
    "Data Shuffling is the process of randomly reordering the data in a dataset. This ensures that the model doesn't learn unintended patterns that are based on the order of the data. In machine learning, it's crucial to shuffle data to create a fair and unbiased training process.\n",
    "\n",
    "## Why is Data Shuffling Important?\n",
    "- **Prevents Learning Based on Order**: When a dataset is ordered (e.g., by time or another variable), the model may pick up on patterns that are tied to that order. Shuffling the data helps prevent this.\n",
    "- **Improves Model Generalization**: It ensures that the model gets trained on a more representative and diverse sample of the data.\n",
    "- **Avoids Overfitting**: If the data is ordered, the model might memorize the sequence rather than learn the underlying patterns.\n",
    "\n",
    "## Example of Data Shuffling\n",
    "Imagine we have a list of students' exam scores ordered by their age:\n",
    "```text\n",
    "Age: 10, 12, 13, 14, 15\n",
    "Score: 80, 85, 70, 90, 88\n"
   ]
  },
  {
   "cell_type": "code",
   "execution_count": null,
   "metadata": {},
   "outputs": [
    {
     "data": {
      "text/html": [
       "<div>\n",
       "<style scoped>\n",
       "    .dataframe tbody tr th:only-of-type {\n",
       "        vertical-align: middle;\n",
       "    }\n",
       "\n",
       "    .dataframe tbody tr th {\n",
       "        vertical-align: top;\n",
       "    }\n",
       "\n",
       "    .dataframe thead th {\n",
       "        text-align: right;\n",
       "    }\n",
       "</style>\n",
       "<table border=\"1\" class=\"dataframe\">\n",
       "  <thead>\n",
       "    <tr style=\"text-align: right;\">\n",
       "      <th></th>\n",
       "      <th>Age</th>\n",
       "      <th>Score</th>\n",
       "    </tr>\n",
       "  </thead>\n",
       "  <tbody>\n",
       "    <tr>\n",
       "      <th>0</th>\n",
       "      <td>12</td>\n",
       "      <td>85</td>\n",
       "    </tr>\n",
       "    <tr>\n",
       "      <th>1</th>\n",
       "      <td>14</td>\n",
       "      <td>90</td>\n",
       "    </tr>\n",
       "    <tr>\n",
       "      <th>2</th>\n",
       "      <td>13</td>\n",
       "      <td>70</td>\n",
       "    </tr>\n",
       "    <tr>\n",
       "      <th>3</th>\n",
       "      <td>10</td>\n",
       "      <td>80</td>\n",
       "    </tr>\n",
       "    <tr>\n",
       "      <th>4</th>\n",
       "      <td>15</td>\n",
       "      <td>88</td>\n",
       "    </tr>\n",
       "  </tbody>\n",
       "</table>\n",
       "</div>"
      ],
      "text/plain": [
       "   Age  Score\n",
       "0   12     85\n",
       "1   14     90\n",
       "2   13     70\n",
       "3   10     80\n",
       "4   15     88"
      ]
     },
     "execution_count": 1,
     "metadata": {},
     "output_type": "execute_result"
    }
   ],
   "source": [
    "import pandas as pd\n",
    "\n",
    "# Create a sample dataframe\n",
    "data = pd.DataFrame({\n",
    "    'Age': [10, 12, 13, 14, 15],\n",
    "    'Score': [80, 85, 70, 90, 88]\n",
    "})\n",
    "\n",
    "# Shuffle the dataframe\n",
    "shuffled_data = data.sample(frac=1).reset_index(drop=True)\n",
    "\n",
    "# Show shuffled data\n",
    "shuffled_data\n",
    "# sample(): This method is used to randomly sample rows from the dataframe.\n",
    "# frac=1: This argument specifies the fraction of the original dataset to return. In this case, frac=1 means return 100% of the rows, but shuffled randomly. Essentially, it shuffles all the rows in the dataset.\n",
    "# If you set frac=0.5, it would randomly sample 50% of the rows.\n",
    "# By setting frac=1, you ensure that the entire dataset is shuffled without any loss of data.\n",
    "# Shuffling: When you apply .sample(frac=1), it randomly reorders the rows of the dataframe.\n",
    "# 2. .reset_index(drop=True)\n",
    "# reset_index(): This method resets the index of the dataframe after shuffling.\n",
    "# The index is simply the row labels (e.g., 0, 1, 2, 3,...). After shuffling, the rows are no longer in the original order, and the index can become disorganized (i.e., it still refers to the original row positions).\n",
    "# drop=True: By setting drop=True, we are telling pandas to discard the old index rather than adding it as a new column in the dataframe.\n",
    "# If you set drop=False (which is the default), pandas would add the old index as a column in the dataframe."
   ]
  },
  {
   "cell_type": "code",
   "execution_count": null,
   "metadata": {},
   "outputs": [],
   "source": []
  }
 ],
 "metadata": {
  "kernelspec": {
   "display_name": "Python 3",
   "language": "python",
   "name": "python3"
  },
  "language_info": {
   "codemirror_mode": {
    "name": "ipython",
    "version": 3
   },
   "file_extension": ".py",
   "mimetype": "text/x-python",
   "name": "python",
   "nbconvert_exporter": "python",
   "pygments_lexer": "ipython3",
   "version": "3.12.0"
  }
 },
 "nbformat": 4,
 "nbformat_minor": 2
}
