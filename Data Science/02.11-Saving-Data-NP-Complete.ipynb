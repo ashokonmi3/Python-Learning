{
 "cells": [
  {
   "cell_type": "markdown",
   "metadata": {},
   "source": [
    "## Saving Files with NumPy\n",
    "\n",
    "# Text files:\n",
    "- **.txt**: Simple text files, where data is usually space or comma-separated.\n",
    "- **.csv**: Comma-separated values, which can be read using `numpy.genfromtxt()` or `numpy.loadtxt()`.\n",
    "\n",
    "### Binary files:\n",
    "- **.npy**: The native binary file format for NumPy arrays, which can be read using `numpy.load()`. This format stores arrays along with their dtype and shape information, making it efficient for storage and retrieval.\n",
    "- **.npz**: A compressed archive of `.npy` files. It is a zip file that stores multiple arrays and can be read using `numpy.load()`.\n",
    "\n",
    "### Other formats (indirectly via `genfromtxt()` or `loadtxt()` for certain types):\n",
    "- **.xls and .xlsx**: While not directly supported by NumPy, these can be read using external libraries like `pandas` or `openpyxl`, which can then convert the data into a NumPy array.\n",
    "- **.h5**: HDF5 files can be handled by NumPy indirectly using the `h5py` library to interact with HDF5 data.\n",
    "\n"
   ]
  },
  {
   "cell_type": "code",
   "execution_count": 26,
   "metadata": {},
   "outputs": [],
   "source": [
    "import numpy as np"
   ]
  },
  {
   "cell_type": "markdown",
   "metadata": {},
   "source": [
    "### np.save()"
   ]
  },
  {
   "cell_type": "code",
   "execution_count": 42,
   "metadata": {},
   "outputs": [
    {
     "name": "stdout",
     "output_type": "stream",
     "text": [
      "<class 'numpy.ndarray'>\n"
     ]
    }
   ],
   "source": [
    "lending_co = np.genfromtxt(\"Lending-Company-Saving.csv\", \n",
    "                           delimiter = ',', \n",
    "                           dtype = str)\n",
    "\n",
    "print(type(lending_co))\n",
    "\n",
    "## We're just importing a dataset, so we can save it later. \n",
    "## Usually, we will be working with an array already, so we could skip this. "
   ]
  },
  {
   "cell_type": "code",
   "execution_count": 28,
   "metadata": {},
   "outputs": [],
   "source": [
    "np.save(\"Lending-Company-Saving\", lending_co)\n",
    "\n",
    "## Create an .npy file with the data from the lending_co array. "
   ]
  },
  {
   "cell_type": "code",
   "execution_count": 29,
   "metadata": {},
   "outputs": [],
   "source": [
    "lending_data_save = np.load(\"Lending-Company-Saving.npy\")\n",
    "\n",
    "## Load the NPY file we just created. (Load =/= Import in this case)"
   ]
  },
  {
   "cell_type": "code",
   "execution_count": 30,
   "metadata": {
    "scrolled": true
   },
   "outputs": [
    {
     "name": "stdout",
     "output_type": "stream",
     "text": [
      "[['LoanID' 'StringID' 'Product' ... 'Location' 'Region' 'TotalPrice']\n",
      " ['1' 'id_1' 'Product B' ... 'Location 2' 'Region 2' '16600.0']\n",
      " ['2' 'id_2' 'Product B' ... 'Location 3' '' '16600.0']\n",
      " ...\n",
      " ['1041' 'id_1041' 'Product B' ... 'Location 23' 'Region 4' '16600.0']\n",
      " ['1042' 'id_1042' 'Product C' ... 'Location 52' 'Region 6' '15600.0']\n",
      " ['1043' 'id_1043' 'Product B' ... 'Location 142' 'Region 6' '16600.0']]\n"
     ]
    }
   ],
   "source": [
    "print(lending_data_save)"
   ]
  },
  {
   "cell_type": "code",
   "execution_count": null,
   "metadata": {},
   "outputs": [],
   "source": [
    "np.array_equal(lending_data_save, lending_co)\n",
    "\n",
    "# The original array is identical to the one we saved and then loaded back into Python. "
   ]
  },
  {
   "cell_type": "markdown",
   "metadata": {},
   "source": [
    "### np.savez()\n",
    "The np.savez() function in NumPy is used to save multiple arrays into a single compressed or uncompressed file in the .npz format. The .npz format is a zipped archive that contains one or more .npy files (which store individual arrays). This is useful when you want to store multiple arrays in a single file."
   ]
  },
  {
   "cell_type": "code",
   "execution_count": 31,
   "metadata": {},
   "outputs": [],
   "source": [
    "lending_co = np.genfromtxt(\"Lending-Company-Saving.csv\", \n",
    "                           delimiter = ',',\n",
    "                           dtype = str) \n",
    "\n",
    "lending_data_save = np.load('Lending-Company-Saving.npy') \n",
    "\n",
    "# Just getting two arrays we want to store (we import one, and load the other)"
   ]
  },
  {
   "cell_type": "code",
   "execution_count": 43,
   "metadata": {},
   "outputs": [
    {
     "name": "stdout",
     "output_type": "stream",
     "text": [
      "<class 'numpy.ndarray'>\n",
      "<class 'numpy.lib.npyio.NpzFile'>\n"
     ]
    }
   ],
   "source": [
    "file1 = np.genfromtxt(\"file1.csv\",\n",
    "                           delimiter=',',\n",
    "                           dtype=str)\n",
    "file2 = np.genfromtxt(\"file2.csv\",\n",
    "                      delimiter=',',\n",
    "                      dtype=str)\n",
    "print(type(file1))\n",
    "np.savez(\"file3\", file1,file2)\n",
    "file4 = np.load('file3.npz')\n",
    "print(type(file4))\n",
    "# print(file4[\"arr_0\"])\n",
    "# print(file4[\"arr_1\"])"
   ]
  },
  {
   "cell_type": "code",
   "execution_count": 32,
   "metadata": {},
   "outputs": [],
   "source": [
    "np.savez(\"Lending-Company-Saving\", lending_co, lending_data_save)\n",
    "\n",
    "# Creates the .npz file, which is an archive of .npy files. "
   ]
  },
  {
   "cell_type": "code",
   "execution_count": 33,
   "metadata": {},
   "outputs": [],
   "source": [
    "lending_data_savez = np.load('Lending-Company-Saving.npz')\n",
    "\n",
    "# We also load .npz files."
   ]
  },
  {
   "cell_type": "code",
   "execution_count": 34,
   "metadata": {},
   "outputs": [
    {
     "name": "stdout",
     "output_type": "stream",
     "text": [
      "[['LoanID' 'StringID' 'Product' ... 'Location' 'Region' 'TotalPrice']\n",
      " ['1' 'id_1' 'Product B' ... 'Location 2' 'Region 2' '16600.0']\n",
      " ['2' 'id_2' 'Product B' ... 'Location 3' '' '16600.0']\n",
      " ...\n",
      " ['1041' 'id_1041' 'Product B' ... 'Location 23' 'Region 4' '16600.0']\n",
      " ['1042' 'id_1042' 'Product C' ... 'Location 52' 'Region 6' '15600.0']\n",
      " ['1043' 'id_1043' 'Product B' ... 'Location 142' 'Region 6' '16600.0']]\n"
     ]
    }
   ],
   "source": [
    "print(lending_data_savez[\"arr_1\"])\n",
    "\n",
    "# np.savez() assigns default names to each .npy inside the archive."
   ]
  },
  {
   "cell_type": "code",
   "execution_count": null,
   "metadata": {},
   "outputs": [],
   "source": [
    "np.savez(\"Lending-Company-Saving\", company = lending_co, data_save = lending_data_save) \n",
    "\n",
    "# Assign custom recognizable names to the individual .npy files in the .npz"
   ]
  },
  {
   "cell_type": "code",
   "execution_count": null,
   "metadata": {},
   "outputs": [],
   "source": [
    "lending_data_savez = np.load(\"Lending-Company-Saving.npz\")"
   ]
  },
  {
   "cell_type": "code",
   "execution_count": null,
   "metadata": {},
   "outputs": [],
   "source": [
    "lending_data_savez.files\n",
    "\n",
    "# Shows the names of all the .npy files stored in the .npz"
   ]
  },
  {
   "cell_type": "code",
   "execution_count": null,
   "metadata": {
    "scrolled": true
   },
   "outputs": [],
   "source": [
    "print(lending_data_savez[\"data_save\"])"
   ]
  },
  {
   "cell_type": "code",
   "execution_count": null,
   "metadata": {
    "scrolled": true
   },
   "outputs": [],
   "source": [
    "np.array_equal(lending_data_savez[\"company\"],lending_data_savez[\"data_save\"])\n",
    "\n",
    "# Even after saving and loading the datasets back into Python, they are still identical."
   ]
  },
  {
   "cell_type": "markdown",
   "metadata": {},
   "source": [
    "### np.savetxt()\n",
    "The np.savetxt() function in NumPy is used to save an array (typically a 1D or 2D array) to a text file. The text file is usually formatted as a delimited text file (e.g., CSV, space-separated values).\n",
    "\n"
   ]
  },
  {
   "cell_type": "code",
   "execution_count": null,
   "metadata": {},
   "outputs": [],
   "source": [
    "lending_co = np.genfromtxt(\"Lending-Company-Saving.csv\",\n",
    "                           delimiter = ',',\n",
    "                           dtype = str) "
   ]
  },
  {
   "cell_type": "code",
   "execution_count": null,
   "metadata": {},
   "outputs": [],
   "source": [
    "np.savetxt(\"Lending-Company-Saving.txt\", \n",
    "           lending_co, \n",
    "           fmt = '%s', \n",
    "           delimiter = ',')\n",
    "\n",
    "# We must specify the file extension (txt or csv).\n",
    "# We must specify the format (strings in this case).\n",
    "# We must set a delimiter (comma in this case)."
   ]
  },
  {
   "cell_type": "code",
   "execution_count": null,
   "metadata": {
    "scrolled": true
   },
   "outputs": [],
   "source": [
    "lending_data_savetxt = np.genfromtxt(\"Lending-Company-Saving.txt\", \n",
    "                                     delimiter = ',', \n",
    "                                     dtype = np.str)\n",
    "\n",
    "print(lending_data_savetxt)\n",
    "\n",
    "# We're importing the .txt file we just created."
   ]
  },
  {
   "cell_type": "code",
   "execution_count": null,
   "metadata": {},
   "outputs": [],
   "source": [
    "lending_data_save = np.load(\"Lending-Company-Saving.npy\")"
   ]
  },
  {
   "cell_type": "code",
   "execution_count": null,
   "metadata": {
    "scrolled": true
   },
   "outputs": [],
   "source": [
    "np.array_equal(lending_data_savetxt, lending_data_save)"
   ]
  }
 ],
 "metadata": {
  "kernelspec": {
   "display_name": "Python 3",
   "language": "python",
   "name": "python3"
  },
  "language_info": {
   "codemirror_mode": {
    "name": "ipython",
    "version": 3
   },
   "file_extension": ".py",
   "mimetype": "text/x-python",
   "name": "python",
   "nbconvert_exporter": "python",
   "pygments_lexer": "ipython3",
   "version": "3.12.0"
  }
 },
 "nbformat": 4,
 "nbformat_minor": 2
}
