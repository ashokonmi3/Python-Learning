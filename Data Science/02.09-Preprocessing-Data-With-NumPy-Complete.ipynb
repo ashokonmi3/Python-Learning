{
 "cells": [
  {
   "cell_type": "markdown",
   "metadata": {},
   "source": [
    "# Preprocessing with NumPy\n",
    "Preprocessing with NumPy is an essential step in preparing data for analysis, machine learning, or statistical modeling. It involves cleaning, transforming, and organizing data to ensure it's in a format that's ready for further use. NumPy, with its array-based operations, is a powerful tool for performing data preprocessing tasks efficiently.\n",
    "\n"
   ]
  },
  {
   "cell_type": "code",
   "execution_count": 2,
   "metadata": {},
   "outputs": [],
   "source": [
    "import numpy as np"
   ]
  },
  {
   "cell_type": "markdown",
   "metadata": {},
   "source": [
    "## Loading Data\n",
    "You can load data from various sources using NumPy."
   ]
  },
  {
   "cell_type": "code",
   "execution_count": 5,
   "metadata": {},
   "outputs": [
    {
     "name": "stdout",
     "output_type": "stream",
     "text": [
      "[[ 4. nan  6.]\n",
      " [ 7.  8. nan]\n",
      " [nan 10. 11.]]\n"
     ]
    }
   ],
   "source": [
    "data = np.genfromtxt(\"Lending-Company-Numeric-Data-NAN-short.csv\",\n",
    "                                            delimiter=';', skip_header=1)\n",
    "print(data)"
   ]
  },
  {
   "cell_type": "markdown",
   "metadata": {},
   "source": [
    "## Checking for Missing Values"
   ]
  },
  {
   "cell_type": "code",
   "execution_count": 6,
   "metadata": {},
   "outputs": [
    {
     "name": "stdout",
     "output_type": "stream",
     "text": [
      "Number of NaN values: 2\n"
     ]
    }
   ],
   "source": [
    "import numpy as np\n",
    "\n",
    "# Example data\n",
    "data = np.array([[1, 2, np.nan],\n",
    "                                    [4, np.nan, 6],\n",
    "                                    [7, 8, 9]])\n",
    "\n",
    "# Counting NaN values\n",
    "num_nans = np.isnan(data).sum()\n",
    "\n",
    "print(f\"Number of NaN values: {num_nans}\")"
   ]
  },
  {
   "cell_type": "code",
   "execution_count": 7,
   "metadata": {},
   "outputs": [
    {
     "name": "stdout",
     "output_type": "stream",
     "text": [
      "260\n"
     ]
    }
   ],
   "source": [
    "data = np.genfromtxt(\"Lending-Company-Numeric-Data-NAN.csv\",\n",
    "                                            delimiter=';', skip_header=1)\n",
    "print(np.isnan(data).sum())\n"
   ]
  },
  {
   "cell_type": "code",
   "execution_count": 8,
   "metadata": {},
   "outputs": [
    {
     "name": "stdout",
     "output_type": "stream",
     "text": [
      "[[ 1.  2.  3.]\n",
      " [ 4.  0.  6.]\n",
      " [ 7.  8.  0.]\n",
      " [ 0. 10. 11.]]\n"
     ]
    }
   ],
   "source": [
    "data = np.genfromtxt(\"Lending-Company-Numeric-Data-NAN-short.csv\",\n",
    "                                            delimiter = ';',\n",
    "                                            filling_values = 0)\n",
    "print(data)\n",
    "\n",
    "## Filling_values substitutes every nan with the value we're passing (0 in this case)"
   ]
  },
  {
   "cell_type": "code",
   "execution_count": 9,
   "metadata": {},
   "outputs": [
    {
     "data": {
      "text/plain": [
       "np.int64(0)"
      ]
     },
     "execution_count": 9,
     "metadata": {},
     "output_type": "execute_result"
    }
   ],
   "source": [
    "np.isnan(data).sum()\n",
    "\n",
    "## All the previously missing values are now 0s."
   ]
  },
  {
   "cell_type": "code",
   "execution_count": 11,
   "metadata": {},
   "outputs": [
    {
     "data": {
      "text/plain": [
       "array([[ 1.,  2.,  3.],\n",
       "       [ 4., nan,  6.],\n",
       "       [ 7.,  8., nan],\n",
       "       [nan, 10., 11.]])"
      ]
     },
     "execution_count": 11,
     "metadata": {},
     "output_type": "execute_result"
    }
   ],
   "source": [
    "data = np.genfromtxt(\"Lending-Company-Numeric-Data-NAN-short.csv\",\n",
    "                              \n",
    "                                            delimiter = ';') \n",
    "data\n",
    "# We need to reimport the dataset since all the missing values are filled up. "
   ]
  },
  {
   "cell_type": "code",
   "execution_count": 12,
   "metadata": {},
   "outputs": [],
   "source": [
    "temporary_fill = np.nanmax(data).round(2) + 1\n",
    "# np.nanmax() calculates the maximum value of the array while ignoring any NaN values.\n",
    "# This means that if lending_co_data_numeric_NAN contains missing values (NaN), \n",
    "# they are not considered when calculating the maximum value. Only the valid numbers are used.\n",
    "\n",
    "# round(2) This step ensures that the maximum value is rounded to two decimal places,\n",
    "#  making it easier to handle in further calculations.\n",
    "\n",
    "# We use nanmax(), since max() returns nan. \n",
    "# We want a value greater than the max, since we have be certain it's unique to the dataset."
   ]
  },
  {
   "cell_type": "code",
   "execution_count": 13,
   "metadata": {},
   "outputs": [
    {
     "data": {
      "text/plain": [
       "np.float64(12.0)"
      ]
     },
     "execution_count": 13,
     "metadata": {},
     "output_type": "execute_result"
    }
   ],
   "source": [
    "temporary_fill"
   ]
  },
  {
   "cell_type": "code",
   "execution_count": 14,
   "metadata": {},
   "outputs": [
    {
     "data": {
      "text/plain": [
       "array([[ 1.,  2.,  3.],\n",
       "       [ 4., 12.,  6.],\n",
       "       [ 7.,  8., 12.],\n",
       "       [12., 10., 11.]])"
      ]
     },
     "execution_count": 14,
     "metadata": {},
     "output_type": "execute_result"
    }
   ],
   "source": [
    "data_NAN = np.genfromtxt(\"Lending-Company-Numeric-Data-NAN-short.csv\",\n",
    "                                            delimiter = ';',\n",
    "                                            filling_values = temporary_fill) \n",
    "data_NAN\n",
    "# Filling up all the missing values with the temporary filler. "
   ]
  },
  {
   "cell_type": "code",
   "execution_count": 15,
   "metadata": {},
   "outputs": [
    {
     "data": {
      "text/plain": [
       "array([[False, False, False],\n",
       "       [False, False, False],\n",
       "       [False, False, False],\n",
       "       [False, False, False]])"
      ]
     },
     "execution_count": 15,
     "metadata": {},
     "output_type": "execute_result"
    }
   ],
   "source": [
    "np.isnan(data_NAN)"
   ]
  },
  {
   "cell_type": "code",
   "execution_count": 16,
   "metadata": {},
   "outputs": [
    {
     "data": {
      "text/plain": [
       "np.int64(0)"
      ]
     },
     "execution_count": 16,
     "metadata": {},
     "output_type": "execute_result"
    }
   ],
   "source": [
    "np.isnan(data_NAN).sum()"
   ]
  },
  {
   "cell_type": "code",
   "execution_count": 25,
   "metadata": {},
   "outputs": [
    {
     "data": {
      "text/plain": [
       "array([[ 1.,  2.,  3.],\n",
       "       [ 4., 12.,  6.],\n",
       "       [ 7.,  8., 12.],\n",
       "       [12., 10., 11.]])"
      ]
     },
     "execution_count": 25,
     "metadata": {},
     "output_type": "execute_result"
    }
   ],
   "source": [
    "data_NAN"
   ]
  },
  {
   "cell_type": "markdown",
   "metadata": {},
   "source": [
    "## Substituting Missing Values"
   ]
  },
  {
   "cell_type": "markdown",
   "metadata": {},
   "source": [
    "np.where() is a conditional function in NumPy that returns elements chosen from two options:\n",
    "\n",
    "If the condition is True, it selects the value x.\n",
    "\n",
    "If the condition is False, it selects the value y."
   ]
  },
  {
   "cell_type": "code",
   "execution_count": 37,
   "metadata": {},
   "outputs": [
    {
     "name": "stdout",
     "output_type": "stream",
     "text": [
      "[ 1.  2. nan  4.  5.]\n",
      "[1. 2. 0. 4. 5.]\n"
     ]
    }
   ],
   "source": [
    "data = np.array([1, 2, np.nan, 4, 5])\n",
    "print(data)  # Output: [ 1.  2. nan  4.  5.]\n",
    "data_filled = np.where(np.isnan(data), 0, data)\n",
    "print(data_filled)  # Output: [1. 2. 0. 4. 5.]\n"
   ]
  },
  {
   "cell_type": "code",
   "execution_count": 38,
   "metadata": {},
   "outputs": [
    {
     "name": "stdout",
     "output_type": "stream",
     "text": [
      "[1. 2. 3. 4. 5.]\n"
     ]
    }
   ],
   "source": [
    "mean_value = np.nanmean(data)  # Calculate mean excluding NaN\n",
    "data_filled = np.where(np.isnan(data), mean_value, data)\n",
    "print(data_filled)  # Output: [1. 2. 3. 4. 5.]\n"
   ]
  },
  {
   "cell_type": "code",
   "execution_count": 39,
   "metadata": {},
   "outputs": [
    {
     "name": "stdout",
     "output_type": "stream",
     "text": [
      "[1. 2. 3. 4. 5.]\n"
     ]
    }
   ],
   "source": [
    "median_value = np.nanmedian(data)  # Calculate median excluding NaN\n",
    "data_filled = np.where(np.isnan(data), median_value, data)\n",
    "print(data_filled)  # Output: [1. 2. 3. 4. 5.]\n",
    "\n"
   ]
  },
  {
   "cell_type": "markdown",
   "metadata": {},
   "source": [
    "## Reshaping\n",
    "In reshaping, NumPy simply flattens the original array and fills the new shape (6 rows and 1043 columns) in row-major order.\n",
    "\n",
    "Reshaping an array means changing the shape of the array without modifying its data, but it involves reordering the elements of the array to fit the new shape.\n",
    "In reshaping, the elements are rearranged in the order they appear, which can result in a different layout of data in memory.\n",
    "Reshaping can change the number of rows and columns (or more generally, the shape of the array) but doesn't guarantee the same structure of data as before.\n"
   ]
  },
  {
   "cell_type": "code",
   "execution_count": 21,
   "metadata": {},
   "outputs": [
    {
     "name": "stdout",
     "output_type": "stream",
     "text": [
      "Original array: [1 2 3 4 5 6]\n",
      "Reshaped array:\n",
      " [[1 2 3]\n",
      " [4 5 6]]\n"
     ]
    }
   ],
   "source": [
    "import numpy as np\n",
    "\n",
    "# Create a 1D array\n",
    "arr = np.array([1, 2, 3, 4, 5, 6])\n",
    "\n",
    "# Reshape the array into a 2x3 array (2 rows, 3 columns)\n",
    "reshaped_arr = arr.reshape(2, 3)\n",
    "\n",
    "print(\"Original array:\", arr)\n",
    "print(\"Reshaped array:\\n\", reshaped_arr)\n"
   ]
  },
  {
   "cell_type": "code",
   "execution_count": 22,
   "metadata": {},
   "outputs": [
    {
     "name": "stdout",
     "output_type": "stream",
     "text": [
      "Original 2D array:\n",
      "[[ 1  2  3  4]\n",
      " [ 5  6  7  8]\n",
      " [ 9 10 11 12]]\n",
      "\n",
      "Reshaped array (4x3):\n",
      "[[ 1  2  3]\n",
      " [ 4  5  6]\n",
      " [ 7  8  9]\n",
      " [10 11 12]]\n"
     ]
    }
   ],
   "source": [
    "import numpy as np\n",
    "\n",
    "# Create a 2D array (3x4 matrix)\n",
    "arr = np.array([[1, 2, 3, 4], [5, 6, 7, 8], [9, 10, 11, 12]])\n",
    "\n",
    "print(\"Original 2D array:\")\n",
    "print(arr)\n",
    "\n",
    "# Reshape the array into a 4x3 matrix\n",
    "reshaped_arr = arr.reshape(4, 3)\n",
    "\n",
    "print(\"\\nReshaped array (4x3):\")\n",
    "print(reshaped_arr)\n"
   ]
  },
  {
   "cell_type": "code",
   "execution_count": 17,
   "metadata": {},
   "outputs": [],
   "source": [
    "lending_co_data_numeric = np.loadtxt(\"Lending-company-Numeric.csv\", delimiter = ',')"
   ]
  },
  {
   "cell_type": "code",
   "execution_count": 18,
   "metadata": {},
   "outputs": [
    {
     "data": {
      "text/plain": [
       "array([[ 2000.,    40.,   365.,  3121.,  4241., 13621.],\n",
       "       [ 2000.,    40.,   365.,  3061.,  4171., 15041.],\n",
       "       [ 1000.,    40.,   365.,  2160.,  3280., 15340.],\n",
       "       ...,\n",
       "       [ 2000.,    40.,   365.,  4201.,  5001., 16600.],\n",
       "       [ 1000.,    40.,   365.,  2080.,  3320., 15600.],\n",
       "       [ 2000.,    40.,   365.,  4601.,  4601., 16600.]], shape=(1043, 6))"
      ]
     },
     "execution_count": 18,
     "metadata": {},
     "output_type": "execute_result"
    }
   ],
   "source": [
    "lending_co_data_numeric"
   ]
  },
  {
   "cell_type": "code",
   "execution_count": 19,
   "metadata": {},
   "outputs": [
    {
     "data": {
      "text/plain": [
       "(1043, 6)"
      ]
     },
     "execution_count": 19,
     "metadata": {},
     "output_type": "execute_result"
    }
   ],
   "source": [
    "lending_co_data_numeric.shape"
   ]
  },
  {
   "cell_type": "code",
   "execution_count": 20,
   "metadata": {
    "scrolled": true
   },
   "outputs": [
    {
     "data": {
      "text/plain": [
       "array([[ 2000.,    40.,   365., ...,   365.,  1581.,  3041.],\n",
       "       [12277.,  2000.,    40., ...,    50.,   365.,  5350.],\n",
       "       [ 6850., 15150.,  1000., ...,  2000.,    40.,   365.],\n",
       "       [ 3101.,  4351., 16600., ..., 16600.,  2000.,    40.],\n",
       "       [  365.,  3441.,  4661., ...,  8450., 22250.,  2000.],\n",
       "       [   40.,   365.,  3701., ...,  4601.,  4601., 16600.]],\n",
       "      shape=(6, 1043))"
      ]
     },
     "execution_count": 20,
     "metadata": {},
     "output_type": "execute_result"
    }
   ],
   "source": [
    "np.reshape(lending_co_data_numeric, (6,1043))\n",
    "\n",
    "# Reshaping (1043,6) to (6,1043) is not the same as transposing."
   ]
  },
  {
   "cell_type": "code",
   "execution_count": 44,
   "metadata": {},
   "outputs": [
    {
     "data": {
      "text/plain": [
       "array([[ 2000.,  2000.,  1000., ...,  2000.,  1000.,  2000.],\n",
       "       [   40.,    40.,    40., ...,    40.,    40.,    40.],\n",
       "       [  365.,   365.,   365., ...,   365.,   365.,   365.],\n",
       "       [ 3121.,  3061.,  2160., ...,  4201.,  2080.,  4601.],\n",
       "       [ 4241.,  4171.,  3280., ...,  5001.,  3320.,  4601.],\n",
       "       [13621., 15041., 15340., ..., 16600., 15600., 16600.]],\n",
       "      shape=(6, 1043))"
      ]
     },
     "execution_count": 44,
     "metadata": {},
     "output_type": "execute_result"
    }
   ],
   "source": [
    "np.transpose(lending_co_data_numeric)"
   ]
  },
  {
   "cell_type": "markdown",
   "metadata": {},
   "source": [
    "# **Reshaping vs Transposing in NumPy**\n",
    "\n",
    "Reshaping and transposing a NumPy array are not the same operations. While both modify the structure of the array, they do so in different ways.\n",
    "\n",
    "---\n",
    "\n",
    "## **Key Differences**\n",
    "\n",
    "1. **Reshaping**:\n",
    "   - Changes the shape of the array by rearranging its elements in row-major order.\n",
    "   - Does not preserve the relative positions of elements as they were in the original array.\n",
    "\n",
    "2. **Transposing**:\n",
    "   - Flips the rows and columns of the array (or swaps axes for higher dimensions).\n",
    "   - Preserves the relative positions of elements.\n",
    "\n",
    "---\n",
    "\n",
    "## **Example**\n",
    "\n"
   ]
  },
  {
   "cell_type": "code",
   "execution_count": 46,
   "metadata": {},
   "outputs": [
    {
     "name": "stdout",
     "output_type": "stream",
     "text": [
      "(2, 6)\n",
      "reshaped\n",
      "[[  1   2   3   4]\n",
      " [  5 500   4   5]\n",
      " [  6   7   8 800]]\n",
      "transposed\n",
      "[[  1   4]\n",
      " [  2   5]\n",
      " [  3   6]\n",
      " [  4   7]\n",
      " [  5   8]\n",
      " [500 800]]\n"
     ]
    }
   ],
   "source": [
    "import numpy as np\n",
    "arr = np.array([[1, 2, 3,4,5,500],\n",
    "                [4, 5, 6,7,8,800]])\n",
    "print(arr.shape)\n",
    "reshaped = arr.reshape(3, 4)\n",
    "print(\"reshaped\")\n",
    "\n",
    "print(reshaped)\n",
    "print(\"transposed\")\n",
    "\n",
    "transposed = arr.T\n",
    "print(transposed)"
   ]
  },
  {
   "cell_type": "markdown",
   "metadata": {},
   "source": [
    "## Removing Values"
   ]
  },
  {
   "cell_type": "code",
   "execution_count": 47,
   "metadata": {},
   "outputs": [
    {
     "name": "stdout",
     "output_type": "stream",
     "text": [
      "[1 2 4 5]\n"
     ]
    }
   ],
   "source": [
    "import numpy as np\n",
    "\n",
    "# Create a 1D array\n",
    "data = np.array([1, 2, 3, 4, 5])\n",
    "\n",
    "# Delete the element at index 2\n",
    "result = np.delete(data, 2)\n",
    "print(result)  # Output: [1 2 4 5]\n"
   ]
  },
  {
   "cell_type": "code",
   "execution_count": 48,
   "metadata": {},
   "outputs": [
    {
     "name": "stdout",
     "output_type": "stream",
     "text": [
      "[[1 2 3]\n",
      " [7 8 9]]\n"
     ]
    }
   ],
   "source": [
    "# Create a 2D array\n",
    "data_2d = np.array([[1, 2, 3], [4, 5, 6], [7, 8, 9]])\n",
    "\n",
    "# Delete the second row (index 1)\n",
    "result = np.delete(data_2d, 1, axis=0) # axis = 0 for row\n",
    "print(result)\n",
    "# Output:\n",
    "# [[1 2 3]\n",
    "#  [7 8 9]]\n"
   ]
  },
  {
   "cell_type": "code",
   "execution_count": null,
   "metadata": {},
   "outputs": [],
   "source": [
    "# Delete the third column (index 2)\n",
    "result = np.delete(data_2d, 2, axis=1)\n",
    "print(result)\n",
    "# Output:\n",
    "# [[1 2]\n",
    "#  [4 5]\n",
    "#  [7 8]]\n"
   ]
  },
  {
   "cell_type": "code",
   "execution_count": null,
   "metadata": {},
   "outputs": [],
   "source": [
    "# Delete elements from index 1 to 4 (exclusive)\n",
    "result = np.delete(data, slice(1, 4))\n",
    "print(result)  # Output: [1 5]\n"
   ]
  },
  {
   "cell_type": "code",
   "execution_count": null,
   "metadata": {},
   "outputs": [],
   "source": [
    "# Delete the element at index 4 in the flattened array\n",
    "result = np.delete(data_2d, 4)\n",
    "print(result)  # Output: [1 2 3 4 6 7 8 9]\n"
   ]
  },
  {
   "cell_type": "code",
   "execution_count": 65,
   "metadata": {},
   "outputs": [
    {
     "name": "stdout",
     "output_type": "stream",
     "text": [
      "[   40.   365.  3121. ...  4601.  4601. 16600.]\n",
      "(6257,)\n"
     ]
    }
   ],
   "source": [
    "lending_co_data_numeric1=np.delete(lending_co_data_numeric, 0)\n",
    "print(lending_co_data_numeric1)\n",
    "print(lending_co_data_numeric1.shape)\n",
    "\n",
    "\n",
    "\n",
    "# If you do not specify the axis parameter,\n",
    "#  np.delete() will flatten the array before performing the deletion.\n",
    "#  This means that the entire array is considered as a 1D array, \n",
    "# and the deletion will remove an element from this 1D version of the array.\n",
    "\n",
    "\n",
    "\n",
    "# As a result, the array is flattened, and the first element (index 0) is removed, \n",
    "# which will affect the total number of elements in the array.\n",
    "#  The total number of elements decreases by one.\n",
    "\n",
    "\n",
    "\n",
    "# Removes the first value of the flattened array. "
   ]
  },
  {
   "cell_type": "code",
   "execution_count": 70,
   "metadata": {},
   "outputs": [
    {
     "name": "stdout",
     "output_type": "stream",
     "text": [
      "[[  4   5   6   7   8 800]\n",
      " [ 34 533   6   7   8 800]]\n"
     ]
    }
   ],
   "source": [
    "arr = np.array([[1, 2, 3, 4, 5, 500],\n",
    "                [4, 5, 6, 7, 8, 800],\n",
    "                [400, 59, 26, 7, 8, 800],\n",
    "                [34, 533, 6, 7, 8, 800]])\n",
    "arr1=np.delete(arr, [0, 2], axis=0)\n",
    "\n",
    "print(arr1)\n",
    "\n",
    "# By setting an axis, we can simultaneously delete entire rows or columns. \n",
    "# [0, 2, 4]:\n",
    "# A list of column indices to delete. Here, columns at indices 0, 2, and 4 are targeted."
   ]
  },
  {
   "cell_type": "code",
   "execution_count": 24,
   "metadata": {},
   "outputs": [
    {
     "name": "stdout",
     "output_type": "stream",
     "text": [
      "Original Array:\n",
      "[[ 1  2  3  4  5]\n",
      " [ 6  7  8  9 10]\n",
      " [11 12 13 14 15]\n",
      " [16 17 18 19 20]\n",
      " [21 22 23 24 25]]\n",
      "\n",
      "Array after deleting columns [0, 2, 4] and rows [0, 2, -1]:\n",
      "[[ 7  9]\n",
      " [17 19]]\n"
     ]
    }
   ],
   "source": [
    "import numpy as np\n",
    "\n",
    "# Sample 5x5 matrix (lending_co_data_numeric)\n",
    "lending_co_data_numeric = np.array([\n",
    "    [1, 2, 3, 4, 5],\n",
    "    [6, 7, 8, 9, 10],\n",
    "    [11, 12, 13, 14, 15],\n",
    "    [16, 17, 18, 19, 20],\n",
    "    [21, 22, 23, 24, 25]\n",
    "])\n",
    "\n",
    "print(\"Original Array:\")\n",
    "print(lending_co_data_numeric)\n",
    "\n",
    "# Perform the nested np.delete operation\n",
    "result = np.delete(np.delete(lending_co_data_numeric, [0, 2, 4], axis=1), [0, 2, -1], axis=0)\n",
    "\n",
    "print(\"\\nArray after deleting columns [0, 2, 4] and rows [0, 2, -1]:\")\n",
    "print(result)\n",
    "\n",
    "# We can simultaneously delete rows AND columns. "
   ]
  },
  {
   "cell_type": "markdown",
   "metadata": {},
   "source": [
    "## Sorting Data"
   ]
  },
  {
   "cell_type": "code",
   "execution_count": 49,
   "metadata": {},
   "outputs": [
    {
     "data": {
      "text/plain": [
       "array([1, 2, 3, 4, 5])"
      ]
     },
     "execution_count": 49,
     "metadata": {},
     "output_type": "execute_result"
    }
   ],
   "source": [
    "x = np.array([2, 1, 4, 3, 5])\n",
    "np.sort(x)"
   ]
  },
  {
   "cell_type": "markdown",
   "metadata": {},
   "source": [
    "### Sorting along rows or columns\n",
    "A useful feature of NumPy's sorting algorithms is the ability to sort along specific rows or columns of a multidimensional array using the ``axis`` argument. For example:"
   ]
  },
  {
   "cell_type": "code",
   "execution_count": 3,
   "metadata": {},
   "outputs": [
    {
     "name": "stdout",
     "output_type": "stream",
     "text": [
      "[[6 3 7 4 6 9]\n",
      " [2 6 7 4 3 7]\n",
      " [7 2 5 4 1 7]\n",
      " [5 1 4 0 9 5]]\n"
     ]
    }
   ],
   "source": [
    "# np.random.RandomState() constructs a random number generator. It does not have any effect\n",
    "rand = np.random.RandomState(42)\n",
    "# on the freestanding functions in np.random, but must be used explicitly:\n",
    "\n",
    "X = rand.randint(0, 10, (4, 6))  # gives the start,end,vector dimension\n",
    "print(X)"
   ]
  },
  {
   "cell_type": "code",
   "execution_count": 4,
   "metadata": {},
   "outputs": [
    {
     "data": {
      "text/plain": [
       "array([[2, 1, 4, 0, 1, 5],\n",
       "       [5, 2, 5, 4, 3, 7],\n",
       "       [6, 3, 7, 4, 6, 7],\n",
       "       [7, 6, 7, 4, 9, 9]])"
      ]
     },
     "execution_count": 4,
     "metadata": {},
     "output_type": "execute_result"
    }
   ],
   "source": [
    "# sort each column of X\n",
    "np.sort(X, axis=0)"
   ]
  },
  {
   "cell_type": "code",
   "execution_count": 5,
   "metadata": {},
   "outputs": [
    {
     "data": {
      "text/plain": [
       "array([[3, 4, 6, 6, 7, 9],\n",
       "       [2, 3, 4, 6, 7, 7],\n",
       "       [1, 2, 4, 5, 7, 7],\n",
       "       [0, 1, 4, 5, 5, 9]])"
      ]
     },
     "execution_count": 5,
     "metadata": {},
     "output_type": "execute_result"
    }
   ],
   "source": [
    "# sort each row of X\n",
    "np.sort(X, axis=1)"
   ]
  },
  {
   "cell_type": "code",
   "execution_count": 6,
   "metadata": {},
   "outputs": [
    {
     "data": {
      "text/plain": [
       "array([0, 1, 1, 2, 2, 3, 3, 4, 4, 4, 4, 5, 5, 5, 6, 6, 6, 7, 7, 7, 7, 7,\n",
       "       9, 9])"
      ]
     },
     "execution_count": 6,
     "metadata": {},
     "output_type": "execute_result"
    }
   ],
   "source": [
    "np.sort(X, axis=None) #axis works differently\n",
    "# Flatten the array and sort"
   ]
  },
  {
   "cell_type": "markdown",
   "metadata": {},
   "source": [
    "## Partial Sorts: Partitioning\n",
    "\n",
    "Sometimes we're not interested in sorting the entire array, but simply want to find the *k* smallest values in the array. NumPy provides this in the ``np.partition`` function. ``np.partition`` takes an array and a number *K*; the result is a new array with the smallest *K* values to the left of the partition, and the remaining values to the right, in arbitrary order:\n",
    "\n",
    "np.partition(x, k) ensures that the element at the k-th index is in its correct position as it would be in the sorted array."
   ]
  },
  {
   "cell_type": "code",
   "execution_count": 53,
   "metadata": {},
   "outputs": [
    {
     "name": "stdout",
     "output_type": "stream",
     "text": [
      "[  4   7  11  16  51 200 300]\n"
     ]
    }
   ],
   "source": [
    "x = np.array([7, 200, 300, 11, 16, 51, 4])\n",
    "\n",
    "# Partition the array with index 5 \n",
    "result = np.partition(x, 5)\n",
    "print(result)\n"
   ]
  },
  {
   "cell_type": "code",
   "execution_count": 55,
   "metadata": {},
   "outputs": [
    {
     "name": "stdout",
     "output_type": "stream",
     "text": [
      "[[1 2 3 4 5 6 7]\n",
      " [3 4 5 6 7 8 9]]\n"
     ]
    }
   ],
   "source": [
    "import numpy as np\n",
    "\n",
    "X = np.array([[7, 2, 3, 1, 6, 5, 4],\n",
    "              [9, 8, 7, 6, 5, 4, 3]])\n",
    "\n",
    "# Partition the 2D array along rows (axis=1) at index 2\n",
    "result = np.partition(X, 2, axis=1)\n",
    "print(result)\n"
   ]
  },
  {
   "cell_type": "code",
   "execution_count": 56,
   "metadata": {},
   "outputs": [
    {
     "name": "stdout",
     "output_type": "stream",
     "text": [
      "[[5 2 2 1 5 4 1]\n",
      " [7 6 3 6 6 5 3]\n",
      " [9 8 7 9 8 7 4]]\n"
     ]
    }
   ],
   "source": [
    "import numpy as np\n",
    "\n",
    "X = np.array([[7, 2, 3, 1, 6, 5, 4],\n",
    "              [9, 8, 7, 6, 5, 4, 3],\n",
    "              [5, 6, 2, 9, 8, 7, 1]])\n",
    "\n",
    "# Partition the 2D array along columns (axis=0) at index 2\n",
    "result = np.partition(X, 2, axis=0)\n",
    "print(result)\n",
    "# sorting for second column element"
   ]
  },
  {
   "cell_type": "markdown",
   "metadata": {},
   "source": [
    "## Argument Functions"
   ]
  },
  {
   "cell_type": "markdown",
   "metadata": {},
   "source": [
    "### np.argsort()\n",
    "# **`np.argsort()`**:\n",
    "\n",
    "The **`np.argsort()`** function in NumPy is used to get the indices that would sort an array. Instead of returning the sorted values, it provides the positions of the elements in the sorted order.\n",
    "\n",
    "---\n",
    "\n",
    "## **Syntax**\n",
    "```python\n",
    "numpy.argsort(a, axis=-1, kind=None, order=None)\n"
   ]
  },
  {
   "cell_type": "code",
   "execution_count": 27,
   "metadata": {},
   "outputs": [
    {
     "name": "stdout",
     "output_type": "stream",
     "text": [
      "Original array: [ 40  10 100  90  20]\n",
      "Sorted indices: [1 4 0 3 2]\n"
     ]
    }
   ],
   "source": [
    "import numpy as np\n",
    "\n",
    "# Sample 1D array\n",
    "arr = np.array([40, 10, 100, 90, 20])\n",
    "\n",
    "# Get the indices that would sort the array\n",
    "indices = np.argsort(arr)\n",
    "\n",
    "print(\"Original array:\", arr)\n",
    "print(\"Sorted indices:\", indices)\n"
   ]
  },
  {
   "cell_type": "code",
   "execution_count": 28,
   "metadata": {},
   "outputs": [
    {
     "name": "stdout",
     "output_type": "stream",
     "text": [
      "Sorted array: [ 10  20  40  90 100]\n"
     ]
    }
   ],
   "source": [
    "# Sort the array using the indices\n",
    "sorted_arr = arr[indices]\n",
    "\n",
    "print(\"Sorted array:\", sorted_arr)\n"
   ]
  },
  {
   "cell_type": "code",
   "execution_count": 29,
   "metadata": {},
   "outputs": [
    {
     "name": "stdout",
     "output_type": "stream",
     "text": [
      "Sorted indices (descending): [2 3 0 4 1]\n",
      "Sorted array (descending): [100  90  40  20  10]\n"
     ]
    }
   ],
   "source": [
    "# Sort in descending order\n",
    "sorted_indices_desc = np.argsort(arr)[::-1]\n",
    "\n",
    "print(\"Sorted indices (descending):\", sorted_indices_desc)\n",
    "\n",
    "# Sort the array in descending order using the indices\n",
    "sorted_arr_desc = arr[sorted_indices_desc]\n",
    "\n",
    "print(\"Sorted array (descending):\", sorted_arr_desc)\n"
   ]
  },
  {
   "cell_type": "code",
   "execution_count": 31,
   "metadata": {},
   "outputs": [
    {
     "name": "stdout",
     "output_type": "stream",
     "text": [
      "Sorted indices along axis 0 (row-wise):\n",
      "[[0 0 0]\n",
      " [1 1 1]]\n",
      "\n",
      "Sorted indices along axis 1 (column-wise):\n",
      "[[2 1 0]\n",
      " [2 1 0]]\n"
     ]
    }
   ],
   "source": [
    "# Sample 2D array\n",
    "arr_2d = np.array([[3, 2, 1], [6, 5, 4]])\n",
    "\n",
    "# Get the indices that would sort the array along axis 0 (column-wise)\n",
    "indices_0 = np.argsort(arr_2d, axis=0)\n",
    "\n",
    "print(\"Sorted indices along axis 0 (column-wise):\")\n",
    "print(indices_0)\n",
    "\n",
    "# Get the indices that would sort the array along axis 1 (row-wise)\n",
    "indices_1 = np.argsort(arr_2d, axis=1)\n",
    "\n",
    "print(\"\\nSorted indices along axis 1 (row-wise):\")\n",
    "print(indices_1)\n"
   ]
  },
  {
   "cell_type": "code",
   "execution_count": 32,
   "metadata": {},
   "outputs": [
    {
     "data": {
      "text/plain": [
       "array([[2, 1, 0],\n",
       "       [2, 1, 0]])"
      ]
     },
     "execution_count": 32,
     "metadata": {},
     "output_type": "execute_result"
    }
   ],
   "source": [
    "np.argsort(arr_2d)\n",
    "\n",
    "# np.argsort() is a function in NumPy that returns the indices that would sort an array.\n",
    "#  In other words, it does not sort the array itself, but instead, \n",
    "# it provides the indices that can be used to sort the array.\n",
    "\n",
    "# The resulting array from np.argsort() is a 1D array of indices,\n",
    "#  and these indices represent the order in which the original elements would \n",
    "# need to be arranged in ascending order.\n",
    "\n",
    "# Returns the order which will sort the array. "
   ]
  },
  {
   "cell_type": "code",
   "execution_count": 37,
   "metadata": {},
   "outputs": [
    {
     "name": "stdout",
     "output_type": "stream",
     "text": [
      "Original 2D array:\n",
      "[[3 2 1]\n",
      " [6 5 4]]\n",
      "\n",
      "Sorted indices (flattened): [[2 1 0]\n",
      " [2 1 0]]\n"
     ]
    }
   ],
   "source": [
    "import numpy as np\n",
    "\n",
    "# Sample 2D array\n",
    "arr_2d = np.array([[3, 2, 1], \n",
    "                   [6, 5, 4]])\n",
    "\n",
    "# Get the indices that would sort the flattened 2D array\n",
    "indices_2d = np.argsort(arr_2d)\n",
    "\n",
    "print(\"Original 2D array:\")\n",
    "print(arr_2d)\n",
    "\n",
    "# Output the indices that would sort the flattened array\n",
    "print(\"\\nSorted indices (flattened):\", indices_2d)\n",
    "\n",
    "# Use the indices to sort the flattened array\n",
    "# sorted_arr_2d = arr_2d[indices_2d]\n",
    "# print(\"\\nSorted array (flattened):\", sorted_arr_2d)\n"
   ]
  },
  {
   "cell_type": "markdown",
   "metadata": {},
   "source": [
    "### np.argwhere()\n",
    "# **`np.argwhere()`**: Explanation\n",
    "\n",
    "The **`np.argwhere()`** function in NumPy is used to find the indices of elements in an array that satisfy a given condition. It returns the indices of the matching elements in a structured format.\n",
    "\n",
    "---\n",
    "\n"
   ]
  },
  {
   "cell_type": "code",
   "execution_count": 57,
   "metadata": {},
   "outputs": [
    {
     "data": {
      "text/plain": [
       "array([[  1.,   2.,   3.,   4.,   5., 500.],\n",
       "       [  4.,   5.,   6.,   7.,   8., 800.],\n",
       "       [400.,  nan,   0.,   7.,   8., 800.],\n",
       "       [ 34., 533.,   6.,   7.,   8., 800.]])"
      ]
     },
     "execution_count": 57,
     "metadata": {},
     "output_type": "execute_result"
    }
   ],
   "source": [
    "lending_co_data_numeric = np.array([[1, 2, 3, 4, 5, 500],\n",
    "                                          [4, 5, 6, 7, 8, 800],\n",
    "                                          [400, np.nan, 0, 7, 8, 800],\n",
    "                                          [34, 533, 6, 7, 8, 800]])\n",
    "\n",
    "lending_co_data_numeric"
   ]
  },
  {
   "cell_type": "code",
   "execution_count": 58,
   "metadata": {},
   "outputs": [
    {
     "data": {
      "text/plain": [
       "array([[2, 2]])"
      ]
     },
     "execution_count": 58,
     "metadata": {},
     "output_type": "execute_result"
    }
   ],
   "source": [
    "np.argwhere(lending_co_data_numeric == False)\n",
    "\n",
    "# Default condition is to return values are false 0. "
   ]
  },
  {
   "cell_type": "code",
   "execution_count": 63,
   "metadata": {},
   "outputs": [
    {
     "data": {
      "text/plain": [
       "array([[  1.,   2.,   3.,   4.,   5., 500.],\n",
       "       [  4.,   5.,   6.,   7.,   8., 800.],\n",
       "       [400.,  nan,   0.,   7.,   8., 800.],\n",
       "       [ 34., 533.,   6.,   7.,   8., 800.]])"
      ]
     },
     "execution_count": 63,
     "metadata": {},
     "output_type": "execute_result"
    }
   ],
   "source": [
    "lending_co_data_numeric"
   ]
  },
  {
   "cell_type": "code",
   "execution_count": 62,
   "metadata": {},
   "outputs": [
    {
     "data": {
      "text/plain": [
       "array([[0, 1],\n",
       "       [0, 3],\n",
       "       [0, 5],\n",
       "       [1, 0],\n",
       "       [1, 2],\n",
       "       [1, 4],\n",
       "       [1, 5],\n",
       "       [2, 0],\n",
       "       [2, 2],\n",
       "       [2, 4],\n",
       "       [2, 5],\n",
       "       [3, 0],\n",
       "       [3, 2],\n",
       "       [3, 4],\n",
       "       [3, 5]])"
      ]
     },
     "execution_count": 62,
     "metadata": {},
     "output_type": "execute_result"
    }
   ],
   "source": [
    "np.argwhere(lending_co_data_numeric %2 == 0)\n",
    "# Return the indices where even values\n",
    "# The condition can be more complex "
   ]
  },
  {
   "cell_type": "code",
   "execution_count": 64,
   "metadata": {},
   "outputs": [
    {
     "data": {
      "text/plain": [
       "np.int64(1)"
      ]
     },
     "execution_count": 64,
     "metadata": {},
     "output_type": "execute_result"
    }
   ],
   "source": [
    "np.isnan(lending_co_data_numeric).sum()"
   ]
  },
  {
   "cell_type": "code",
   "execution_count": 65,
   "metadata": {},
   "outputs": [
    {
     "data": {
      "text/plain": [
       "array([[2, 1]])"
      ]
     },
     "execution_count": 65,
     "metadata": {},
     "output_type": "execute_result"
    }
   ],
   "source": [
    "lending_co_data_numeric = np.array([[1, 2, 3, 4, 5, 500],\n",
    "                                    [4, 5, 6, 7, 8, 800],\n",
    "                                    [400, np.nan, 0, 7, 8, 800],\n",
    "                                    [34, 533, 6, 7, 8, 800]])\n",
    "np.argwhere(np.isnan(lending_co_data_numeric))\n",
    "\n",
    "\n",
    "\n",
    "# Returns the coordinates of all the missing values within the array. "
   ]
  },
  {
   "cell_type": "markdown",
   "metadata": {},
   "source": [
    "## Shuffling Data\n",
    "\n",
    "Shuffling data is a common step in data preprocessing to ensure that the order of the data does not influence the outcome of your model or analysis. NumPy provides tools for shuffling arrays easily.\n",
    "\n",
    "---\n",
    "\n",
    "## **Shuffling with `np.random.shuffle()`**\n",
    "\n",
    "### **Syntax**\n",
    "```python\n",
    "np.random.shuffle(arr)\n"
   ]
  },
  {
   "cell_type": "code",
   "execution_count": 7,
   "metadata": {},
   "outputs": [
    {
     "name": "stdout",
     "output_type": "stream",
     "text": [
      "[1 3 4 2 5]\n"
     ]
    }
   ],
   "source": [
    "import numpy as np\n",
    "\n",
    "# Create a 1D array\n",
    "arr = np.array([1, 2, 3, 4, 5])\n",
    "\n",
    "# Shuffle the array\n",
    "np.random.shuffle(arr)\n",
    "\n",
    "print(arr)"
   ]
  },
  {
   "cell_type": "code",
   "execution_count": 8,
   "metadata": {},
   "outputs": [
    {
     "name": "stdout",
     "output_type": "stream",
     "text": [
      "[[4 5 6]\n",
      " [7 8 9]\n",
      " [1 2 3]]\n"
     ]
    }
   ],
   "source": [
    "import numpy as np\n",
    "\n",
    "# Create a 2D array\n",
    "arr = np.array([[1, 2, 3],\n",
    "                [4, 5, 6],\n",
    "                [7, 8, 9]])\n",
    "\n",
    "# Shuffle the array\n",
    "np.random.shuffle(arr)\n",
    "\n",
    "print(arr) #Output (rows shuffled, columns intact):\n",
    "\n",
    "# No direct function to shuffle column\n"
   ]
  },
  {
   "cell_type": "markdown",
   "metadata": {
    "scrolled": true
   },
   "source": [
    "You can transpose the array, shuffle the rows of the transposed array (which correspond to the columns of the original array), and then transpose it back.\n"
   ]
  },
  {
   "cell_type": "code",
   "execution_count": 66,
   "metadata": {},
   "outputs": [
    {
     "name": "stdout",
     "output_type": "stream",
     "text": [
      "[[1 4 7]\n",
      " [2 5 8]\n",
      " [3 6 9]]\n",
      "[[3 2 1]\n",
      " [6 5 4]\n",
      " [9 8 7]]\n"
     ]
    }
   ],
   "source": [
    "import numpy as np\n",
    "\n",
    "# Create a 2D array\n",
    "arr = np.array([[1, 2, 3],\n",
    "                [4, 5, 6],\n",
    "                [7, 8, 9]])\n",
    "\n",
    "print(arr.T)\n",
    "# Shuffle the columns\n",
    "np.random.shuffle(arr.T)\n",
    "\n",
    "print(arr)"
   ]
  },
  {
   "cell_type": "markdown",
   "metadata": {},
   "source": [
    "## Casting"
   ]
  },
  {
   "cell_type": "code",
   "execution_count": 111,
   "metadata": {},
   "outputs": [
    {
     "data": {
      "text/plain": [
       "array([[ 2000.,    40.,   365.,  3121.,  4241., 13621.],\n",
       "       [ 2000.,    40.,   365.,  3061.,  4171., 15041.],\n",
       "       [ 1000.,    40.,   365.,  2160.,  3280., 15340.],\n",
       "       ...,\n",
       "       [ 2000.,    40.,   365.,  4201.,  5001., 16600.],\n",
       "       [ 1000.,    40.,   365.,  2080.,  3320., 15600.],\n",
       "       [ 2000.,    40.,   365.,  4601.,  4601., 16600.]])"
      ]
     },
     "execution_count": 111,
     "metadata": {},
     "output_type": "execute_result"
    }
   ],
   "source": [
    "lending_co_data_numeric = np.loadtxt(\"Lending-company-Numeric.csv\", delimiter = ',') \n",
    "lending_co_data_numeric"
   ]
  },
  {
   "cell_type": "code",
   "execution_count": 112,
   "metadata": {},
   "outputs": [
    {
     "data": {
      "text/plain": [
       "array([[ 2000,    40,   365,  3121,  4241, 13621],\n",
       "       [ 2000,    40,   365,  3061,  4171, 15041],\n",
       "       [ 1000,    40,   365,  2160,  3280, 15340],\n",
       "       ...,\n",
       "       [ 2000,    40,   365,  4201,  5001, 16600],\n",
       "       [ 1000,    40,   365,  2080,  3320, 15600],\n",
       "       [ 2000,    40,   365,  4601,  4601, 16600]], dtype=int32)"
      ]
     },
     "execution_count": 112,
     "metadata": {},
     "output_type": "execute_result"
    }
   ],
   "source": [
    "lending_co_data_numeric.astype(dtype = np.int32)\n",
    "\n",
    "# Creates an integer version of the array. "
   ]
  },
  {
   "cell_type": "code",
   "execution_count": 113,
   "metadata": {},
   "outputs": [],
   "source": [
    "lending_co_data_numeric = lending_co_data_numeric.astype(dtype = str)\n",
    "\n",
    "# We need to overwrite the variable in order to work with strings. "
   ]
  },
  {
   "cell_type": "code",
   "execution_count": 114,
   "metadata": {},
   "outputs": [
    {
     "data": {
      "text/plain": [
       "array([['2000.0', '40.0', '365.0', '3121.0', '4241.0', '13621.0'],\n",
       "       ['2000.0', '40.0', '365.0', '3061.0', '4171.0', '15041.0'],\n",
       "       ['1000.0', '40.0', '365.0', '2160.0', '3280.0', '15340.0'],\n",
       "       ...,\n",
       "       ['2000.0', '40.0', '365.0', '4201.0', '5001.0', '16600.0'],\n",
       "       ['1000.0', '40.0', '365.0', '2080.0', '3320.0', '15600.0'],\n",
       "       ['2000.0', '40.0', '365.0', '4601.0', '4601.0', '16600.0']],\n",
       "      dtype='<U32')"
      ]
     },
     "execution_count": 114,
     "metadata": {},
     "output_type": "execute_result"
    }
   ],
   "source": [
    "lending_co_data_numeric"
   ]
  },
  {
   "cell_type": "code",
   "execution_count": null,
   "metadata": {},
   "outputs": [],
   "source": [
    "type(lending_co_data_numeric)"
   ]
  },
  {
   "cell_type": "code",
   "execution_count": 115,
   "metadata": {},
   "outputs": [
    {
     "data": {
      "text/plain": [
       "array([[ 2000,    40,   365,  3121,  4241, 13621],\n",
       "       [ 2000,    40,   365,  3061,  4171, 15041],\n",
       "       [ 1000,    40,   365,  2160,  3280, 15340],\n",
       "       ...,\n",
       "       [ 2000,    40,   365,  4201,  5001, 16600],\n",
       "       [ 1000,    40,   365,  2080,  3320, 15600],\n",
       "       [ 2000,    40,   365,  4601,  4601, 16600]], dtype=int32)"
      ]
     },
     "execution_count": 115,
     "metadata": {},
     "output_type": "execute_result"
    }
   ],
   "source": [
    "lending_co_data_numeric = lending_co_data_numeric.astype(dtype = np.float32)\n",
    "lending_co_data_numeric.astype(dtype = np.int32)\n",
    "\n",
    "## We can't directly cast strings to integers. We can go through floats (string -> float -> integer)."
   ]
  },
  {
   "cell_type": "code",
   "execution_count": 117,
   "metadata": {},
   "outputs": [
    {
     "data": {
      "text/plain": [
       "array([['2000.0', '40.0', '365.0', '3121.0', '4241.0', '13621.0'],\n",
       "       ['2000.0', '40.0', '365.0', '3061.0', '4171.0', '15041.0'],\n",
       "       ['1000.0', '40.0', '365.0', '2160.0', '3280.0', '15340.0'],\n",
       "       ...,\n",
       "       ['2000.0', '40.0', '365.0', '4201.0', '5001.0', '16600.0'],\n",
       "       ['1000.0', '40.0', '365.0', '2080.0', '3320.0', '15600.0'],\n",
       "       ['2000.0', '40.0', '365.0', '4601.0', '4601.0', '16600.0']],\n",
       "      dtype='<U32')"
      ]
     },
     "execution_count": 117,
     "metadata": {},
     "output_type": "execute_result"
    }
   ],
   "source": [
    "lending_co_data_numeric = np.loadtxt(\"Lending-company-Numeric.csv\", delimiter = ',')\n",
    "lending_co_data_numeric = lending_co_data_numeric.astype(dtype = str)\n",
    "lending_co_data_numeric\n",
    "\n",
    "# To showcase the other way to go from strings to integers,\n",
    "#  we need to get the strings version of the array once again. "
   ]
  },
  {
   "cell_type": "code",
   "execution_count": null,
   "metadata": {},
   "outputs": [],
   "source": [
    "lending_co_data_numeric.astype(dtype = np.float32).astype(dtype = np.int32)\n",
    "lending_co_data_numeric\n",
    "\n",
    "## We can chain methods in NumPy."
   ]
  },
  {
   "cell_type": "markdown",
   "metadata": {},
   "source": [
    "## Stripping Data"
   ]
  },
  {
   "cell_type": "code",
   "execution_count": 70,
   "metadata": {},
   "outputs": [
    {
     "name": "stdout",
     "output_type": "stream",
     "text": [
      "Stripped array:\n",
      "['12345' '67890' '54321']\n"
     ]
    }
   ],
   "source": [
    "import numpy as np\n",
    "\n",
    "# Example array of strings\n",
    "arr = np.array(['id_12345', 'id_67890', 'id_54321'])\n",
    "\n",
    "# Use np.char.strip() to remove 'id_' from both the start and end of each string\n",
    "stripped_array = np.char.strip(arr, 'id_')\n",
    "\n",
    "print(\"Stripped array:\")\n",
    "print(stripped_array)\n"
   ]
  },
  {
   "cell_type": "markdown",
   "metadata": {},
   "source": [
    "## Unique "
   ]
  },
  {
   "cell_type": "code",
   "execution_count": 38,
   "metadata": {},
   "outputs": [
    {
     "name": "stdout",
     "output_type": "stream",
     "text": [
      "Unique elements: [1 2 3 4 5]\n"
     ]
    }
   ],
   "source": [
    "import numpy as np\n",
    "\n",
    "# Sample array\n",
    "\n",
    "\n",
    "# Find unique elements\n",
    "unique_elements = np.unique(arr)\n",
    "\n",
    "print(\"Unique elements:\", unique_elements)\n"
   ]
  },
  {
   "cell_type": "code",
   "execution_count": 39,
   "metadata": {
    "scrolled": true
   },
   "outputs": [
    {
     "name": "stdout",
     "output_type": "stream",
     "text": [
      "Unique elements: [1 2 3 4 5]\n",
      "Indices of unique elements: [0 1 3 4 7]\n"
     ]
    }
   ],
   "source": [
    "# Find unique elements and their indices in the original array\n",
    "unique_elements, indices = np.unique(arr, return_index=True)\n",
    "\n",
    "print(\"Unique elements:\", unique_elements)\n",
    "print(\"Indices of unique elements:\", indices)\n",
    "\n",
    "\n",
    "# Unique -> returns the unique values within the array in increasing order\n",
    "\n",
    "# return_counts -> returns how many times each unique value appears in the array\n",
    "\n",
    "# return_index -> returns the index of the first encounter with each unique value"
   ]
  },
  {
   "cell_type": "code",
   "execution_count": 41,
   "metadata": {},
   "outputs": [
    {
     "name": "stdout",
     "output_type": "stream",
     "text": [
      "Unique elements: [1 2 3 4 5]\n",
      "Counts of unique elements: [1 2 1 3 1]\n"
     ]
    }
   ],
   "source": [
    "arr = np.array([1, 2, 2, 3, 4, 4, 4, 5])\n",
    "\n",
    "# Find unique elements and their counts\n",
    "unique_elements, counts = np.unique(arr, return_counts=True)\n",
    "\n",
    "print(\"Unique elements:\", unique_elements)\n",
    "print(\"Counts of unique elements:\", counts)\n"
   ]
  },
  {
   "cell_type": "code",
   "execution_count": 42,
   "metadata": {},
   "outputs": [
    {
     "name": "stdout",
     "output_type": "stream",
     "text": [
      "Unique rows along axis 0:\n",
      "[[1 2 3]\n",
      " [4 5 6]]\n"
     ]
    }
   ],
   "source": [
    "arr_2d = np.array([[1, 2, 3],\n",
    "                   [1, 2, 3],\n",
    "                   [4, 5, 6]])\n",
    "\n",
    "# Find unique rows along axis 0\n",
    "unique_rows = np.unique(arr_2d, axis=0)\n",
    "\n",
    "print(\"Unique rows along axis 0:\")\n",
    "print(unique_rows)\n"
   ]
  },
  {
   "cell_type": "code",
   "execution_count": 43,
   "metadata": {},
   "outputs": [
    {
     "name": "stdout",
     "output_type": "stream",
     "text": [
      "Unique columns along axis 1:\n",
      "[[1 2 3]\n",
      " [1 2 3]\n",
      " [4 5 6]]\n"
     ]
    }
   ],
   "source": [
    "# Find unique columns along axis 1\n",
    "unique_columns = np.unique(arr_2d, axis=1)\n",
    "\n",
    "print(\"Unique columns along axis 1:\")\n",
    "print(unique_columns)\n"
   ]
  },
  {
   "cell_type": "code",
   "execution_count": null,
   "metadata": {},
   "outputs": [],
   "source": []
  }
 ],
 "metadata": {
  "kernelspec": {
   "display_name": "Python 3",
   "language": "python",
   "name": "python3"
  },
  "language_info": {
   "codemirror_mode": {
    "name": "ipython",
    "version": 3
   },
   "file_extension": ".py",
   "mimetype": "text/x-python",
   "name": "python",
   "nbconvert_exporter": "python",
   "pygments_lexer": "ipython3",
   "version": "3.11.9"
  }
 },
 "nbformat": 4,
 "nbformat_minor": 2
}
