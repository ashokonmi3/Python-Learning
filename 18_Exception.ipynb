{
 "cells": [
  {
   "cell_type": "markdown",
   "metadata": {},
   "source": [
    "# Errors and Exception Handling\n",
    "\n",
    "In this section, we will learn about Errors and Exception Handling in Python. You've might have definitely encountered errors by this point in the course. For example:"
   ]
  },
  {
   "cell_type": "code",
   "execution_count": 2,
   "metadata": {},
   "outputs": [
    {
     "name": "stdout",
     "output_type": "stream",
     "text": [
      "The nb_black extension is already loaded. To reload it, use:\n",
      "  %reload_ext nb_black\n"
     ]
    },
    {
     "data": {
      "application/javascript": "\n            setTimeout(function() {\n                var nbb_cell_id = 2;\n                var nbb_unformatted_code = \"%load_ext nb_black\";\n                var nbb_formatted_code = \"%load_ext nb_black\";\n                var nbb_cells = Jupyter.notebook.get_cells();\n                for (var i = 0; i < nbb_cells.length; ++i) {\n                    if (nbb_cells[i].input_prompt_number == nbb_cell_id) {\n                        if (nbb_cells[i].get_text() == nbb_unformatted_code) {\n                             nbb_cells[i].set_text(nbb_formatted_code);\n                        }\n                        break;\n                    }\n                }\n            }, 500);\n            ",
      "text/plain": [
       "<IPython.core.display.Javascript object>"
      ]
     },
     "metadata": {},
     "output_type": "display_data"
    }
   ],
   "source": [
    "%load_ext nb_black"
   ]
  },
  {
   "cell_type": "code",
   "execution_count": 3,
   "metadata": {},
   "outputs": [
    {
     "ename": "SyntaxError",
     "evalue": "EOL while scanning string literal (1685072360.py, line 1)",
     "output_type": "error",
     "traceback": [
      "\u001b[1;36m  Cell \u001b[1;32mIn[3], line 1\u001b[1;36m\u001b[0m\n\u001b[1;33m    print('Hello)\u001b[0m\n\u001b[1;37m                 ^\u001b[0m\n\u001b[1;31mSyntaxError\u001b[0m\u001b[1;31m:\u001b[0m EOL while scanning string literal\n"
     ]
    },
    {
     "name": "stderr",
     "output_type": "stream",
     "text": [
      "ERROR:root:Cannot parse: 1:6: print('Hello)\n",
      "Traceback (most recent call last):\n",
      "  File \"c:\\Users\\91973\\AppData\\Local\\Programs\\Python\\Python39\\lib\\site-packages\\lab_black.py\", line 218, in format_cell\n",
      "    formatted_code = _format_code(cell)\n",
      "  File \"c:\\Users\\91973\\AppData\\Local\\Programs\\Python\\Python39\\lib\\site-packages\\lab_black.py\", line 29, in _format_code\n",
      "    return format_str(src_contents=code, mode=FileMode())\n",
      "  File \"src\\black\\__init__.py\", line 1172, in format_str\n",
      "  File \"src\\black\\__init__.py\", line 1186, in _format_str_once\n",
      "  File \"src\\black\\parsing.py\", line 89, in lib2to3_parse\n",
      "black.parsing.InvalidInput: Cannot parse: 1:6: print('Hello)\n"
     ]
    }
   ],
   "source": [
    "print('Hello)\n",
    "print (\"after exception\")"
   ]
  },
  {
   "cell_type": "markdown",
   "metadata": {},
   "source": [
    "EOL stands for End Of Line, so this message tells you that Python\n",
    "read all the way to the end of the line without finding the end of something called a string literal.\n",
    "A string literal is text contained in-between two double quotation\n",
    "marks. The text \"Hello, world\" is an example of a string literal"
   ]
  },
  {
   "cell_type": "markdown",
   "metadata": {},
   "source": [
    "Note how we get a SyntaxError, with the further description that it was an End of Line Error (EOL) while scanning the string literal. This is specific enough for us to see that we forgot a single quote at the end of the line. Understanding of these various error types will help you debug your code much faster. \n",
    "\n",
    "This type of error and description is known as an Exception. Even if a statement or expression is syntactically correct, it may cause an error when an attempt is made to execute it. Errors detected during execution are called exceptions and are not unconditionally fatal.\n",
    "\n",
    "You can check out the full list of built-in exceptions [here](https://docs.python.org/2/library/exceptions.html). Now, let's learn how to handle errors and exceptions in our own code."
   ]
  },
  {
   "cell_type": "code",
   "execution_count": 4,
   "metadata": {},
   "outputs": [
    {
     "ename": "ZeroDivisionError",
     "evalue": "division by zero",
     "output_type": "error",
     "traceback": [
      "\u001b[1;31m---------------------------------------------------------------------------\u001b[0m",
      "\u001b[1;31mZeroDivisionError\u001b[0m                         Traceback (most recent call last)",
      "Cell \u001b[1;32mIn[4], line 1\u001b[0m\n\u001b[1;32m----> 1\u001b[0m \u001b[38;5;241m10\u001b[39m \u001b[38;5;241m*\u001b[39m (\u001b[38;5;241;43m8\u001b[39;49m\u001b[43m \u001b[49m\u001b[38;5;241;43m/\u001b[39;49m\u001b[43m \u001b[49m\u001b[38;5;241;43m0\u001b[39;49m)\n\u001b[0;32m      2\u001b[0m \u001b[38;5;28mprint\u001b[39m(\u001b[38;5;124m\"\u001b[39m\u001b[38;5;124mafter exception\u001b[39m\u001b[38;5;124m\"\u001b[39m)\n",
      "\u001b[1;31mZeroDivisionError\u001b[0m: division by zero"
     ]
    },
    {
     "data": {
      "application/javascript": "\n            setTimeout(function() {\n                var nbb_cell_id = 4;\n                var nbb_unformatted_code = \"10 * (8 / 0)\\nprint(\\\"after exception\\\")\";\n                var nbb_formatted_code = \"10 * (8 / 0)\\nprint(\\\"after exception\\\")\";\n                var nbb_cells = Jupyter.notebook.get_cells();\n                for (var i = 0; i < nbb_cells.length; ++i) {\n                    if (nbb_cells[i].input_prompt_number == nbb_cell_id) {\n                        if (nbb_cells[i].get_text() == nbb_unformatted_code) {\n                             nbb_cells[i].set_text(nbb_formatted_code);\n                        }\n                        break;\n                    }\n                }\n            }, 500);\n            ",
      "text/plain": [
       "<IPython.core.display.Javascript object>"
      ]
     },
     "metadata": {},
     "output_type": "display_data"
    }
   ],
   "source": [
    "10 * (8 / 0)\n",
    "print(\"after exception\")"
   ]
  },
  {
   "cell_type": "code",
   "execution_count": 5,
   "metadata": {},
   "outputs": [
    {
     "ename": "NameError",
     "evalue": "name 'a' is not defined",
     "output_type": "error",
     "traceback": [
      "\u001b[1;31m---------------------------------------------------------------------------\u001b[0m",
      "\u001b[1;31mNameError\u001b[0m                                 Traceback (most recent call last)",
      "Cell \u001b[1;32mIn[5], line 1\u001b[0m\n\u001b[1;32m----> 1\u001b[0m \u001b[38;5;28mprint\u001b[39m(\u001b[43ma\u001b[49m)\n",
      "\u001b[1;31mNameError\u001b[0m: name 'a' is not defined"
     ]
    },
    {
     "data": {
      "application/javascript": "\n            setTimeout(function() {\n                var nbb_cell_id = 5;\n                var nbb_unformatted_code = \"print(a)\";\n                var nbb_formatted_code = \"print(a)\";\n                var nbb_cells = Jupyter.notebook.get_cells();\n                for (var i = 0; i < nbb_cells.length; ++i) {\n                    if (nbb_cells[i].input_prompt_number == nbb_cell_id) {\n                        if (nbb_cells[i].get_text() == nbb_unformatted_code) {\n                             nbb_cells[i].set_text(nbb_formatted_code);\n                        }\n                        break;\n                    }\n                }\n            }, 500);\n            ",
      "text/plain": [
       "<IPython.core.display.Javascript object>"
      ]
     },
     "metadata": {},
     "output_type": "display_data"
    }
   ],
   "source": [
    "print(a)"
   ]
  },
  {
   "cell_type": "code",
   "execution_count": 6,
   "metadata": {},
   "outputs": [
    {
     "ename": "NameError",
     "evalue": "name 'spam' is not defined",
     "output_type": "error",
     "traceback": [
      "\u001b[1;31m---------------------------------------------------------------------------\u001b[0m",
      "\u001b[1;31mNameError\u001b[0m                                 Traceback (most recent call last)",
      "Cell \u001b[1;32mIn[6], line 1\u001b[0m\n\u001b[1;32m----> 1\u001b[0m \u001b[38;5;28mprint\u001b[39m(\u001b[38;5;241m4\u001b[39m \u001b[38;5;241m+\u001b[39m \u001b[43mspam\u001b[49m \u001b[38;5;241m*\u001b[39m \u001b[38;5;241m3\u001b[39m)\n\u001b[0;32m      2\u001b[0m \u001b[38;5;28mprint\u001b[39m(\u001b[38;5;124m\"\u001b[39m\u001b[38;5;124mAfter Exception\u001b[39m\u001b[38;5;124m\"\u001b[39m)\n",
      "\u001b[1;31mNameError\u001b[0m: name 'spam' is not defined"
     ]
    },
    {
     "data": {
      "application/javascript": "\n            setTimeout(function() {\n                var nbb_cell_id = 6;\n                var nbb_unformatted_code = \"print(4 + spam * 3)\\nprint(\\\"After Exception\\\")\";\n                var nbb_formatted_code = \"print(4 + spam * 3)\\nprint(\\\"After Exception\\\")\";\n                var nbb_cells = Jupyter.notebook.get_cells();\n                for (var i = 0; i < nbb_cells.length; ++i) {\n                    if (nbb_cells[i].input_prompt_number == nbb_cell_id) {\n                        if (nbb_cells[i].get_text() == nbb_unformatted_code) {\n                             nbb_cells[i].set_text(nbb_formatted_code);\n                        }\n                        break;\n                    }\n                }\n            }, 500);\n            ",
      "text/plain": [
       "<IPython.core.display.Javascript object>"
      ]
     },
     "metadata": {},
     "output_type": "display_data"
    }
   ],
   "source": [
    "print(4 + spam * 3)\n",
    "print(\"After Exception\")"
   ]
  },
  {
   "cell_type": "code",
   "execution_count": 9,
   "metadata": {},
   "outputs": [
    {
     "name": "stdout",
     "output_type": "stream",
     "text": [
      "pytpyt\n"
     ]
    },
    {
     "data": {
      "application/javascript": "\n            setTimeout(function() {\n                var nbb_cell_id = 9;\n                var nbb_unformatted_code = \"print(\\\"pyt\\\" * 2)\";\n                var nbb_formatted_code = \"print(\\\"pyt\\\" * 2)\";\n                var nbb_cells = Jupyter.notebook.get_cells();\n                for (var i = 0; i < nbb_cells.length; ++i) {\n                    if (nbb_cells[i].input_prompt_number == nbb_cell_id) {\n                        if (nbb_cells[i].get_text() == nbb_unformatted_code) {\n                             nbb_cells[i].set_text(nbb_formatted_code);\n                        }\n                        break;\n                    }\n                }\n            }, 500);\n            ",
      "text/plain": [
       "<IPython.core.display.Javascript object>"
      ]
     },
     "metadata": {},
     "output_type": "display_data"
    }
   ],
   "source": [
    "print(\"2\" * 2)"
   ]
  },
  {
   "cell_type": "code",
   "execution_count": 8,
   "metadata": {},
   "outputs": [
    {
     "ename": "TypeError",
     "evalue": "can only concatenate str (not \"int\") to str",
     "output_type": "error",
     "traceback": [
      "\u001b[1;31m---------------------------------------------------------------------------\u001b[0m",
      "\u001b[1;31mTypeError\u001b[0m                                 Traceback (most recent call last)",
      "Cell \u001b[1;32mIn[8], line 1\u001b[0m\n\u001b[1;32m----> 1\u001b[0m \u001b[38;5;28mprint\u001b[39m(\u001b[38;5;124;43m\"\u001b[39;49m\u001b[38;5;124;43m2\u001b[39;49m\u001b[38;5;124;43m\"\u001b[39;49m\u001b[43m \u001b[49m\u001b[38;5;241;43m+\u001b[39;49m\u001b[43m \u001b[49m\u001b[38;5;241;43m2\u001b[39;49m)\n",
      "\u001b[1;31mTypeError\u001b[0m: can only concatenate str (not \"int\") to str"
     ]
    },
    {
     "data": {
      "application/javascript": "\n            setTimeout(function() {\n                var nbb_cell_id = 8;\n                var nbb_unformatted_code = \"print(\\\"2\\\" + 2)\";\n                var nbb_formatted_code = \"print(\\\"2\\\" + 2)\";\n                var nbb_cells = Jupyter.notebook.get_cells();\n                for (var i = 0; i < nbb_cells.length; ++i) {\n                    if (nbb_cells[i].input_prompt_number == nbb_cell_id) {\n                        if (nbb_cells[i].get_text() == nbb_unformatted_code) {\n                             nbb_cells[i].set_text(nbb_formatted_code);\n                        }\n                        break;\n                    }\n                }\n            }, 500);\n            ",
      "text/plain": [
       "<IPython.core.display.Javascript object>"
      ]
     },
     "metadata": {},
     "output_type": "display_data"
    }
   ],
   "source": [
    "print(\"2\" + 2)"
   ]
  },
  {
   "cell_type": "code",
   "execution_count": 10,
   "metadata": {},
   "outputs": [
    {
     "ename": "ValueError",
     "evalue": "invalid literal for int() with base 10: '45.0'",
     "output_type": "error",
     "traceback": [
      "\u001b[1;31m---------------------------------------------------------------------------\u001b[0m",
      "\u001b[1;31mValueError\u001b[0m                                Traceback (most recent call last)",
      "Cell \u001b[1;32mIn[10], line 2\u001b[0m\n\u001b[0;32m      1\u001b[0m \u001b[38;5;66;03m# print(int(\"45\"))\u001b[39;00m\n\u001b[1;32m----> 2\u001b[0m \u001b[38;5;28mprint\u001b[39m(\u001b[38;5;28;43mint\u001b[39;49m\u001b[43m(\u001b[49m\u001b[38;5;124;43m\"\u001b[39;49m\u001b[38;5;124;43m45.0\u001b[39;49m\u001b[38;5;124;43m\"\u001b[39;49m\u001b[43m)\u001b[49m)\n",
      "\u001b[1;31mValueError\u001b[0m: invalid literal for int() with base 10: '45.0'"
     ]
    },
    {
     "data": {
      "application/javascript": "\n            setTimeout(function() {\n                var nbb_cell_id = 10;\n                var nbb_unformatted_code = \"# print(int(\\\"45\\\"))\\nprint(int(\\\"45.0\\\"))\";\n                var nbb_formatted_code = \"# print(int(\\\"45\\\"))\\nprint(int(\\\"45.0\\\"))\";\n                var nbb_cells = Jupyter.notebook.get_cells();\n                for (var i = 0; i < nbb_cells.length; ++i) {\n                    if (nbb_cells[i].input_prompt_number == nbb_cell_id) {\n                        if (nbb_cells[i].get_text() == nbb_unformatted_code) {\n                             nbb_cells[i].set_text(nbb_formatted_code);\n                        }\n                        break;\n                    }\n                }\n            }, 500);\n            ",
      "text/plain": [
       "<IPython.core.display.Javascript object>"
      ]
     },
     "metadata": {},
     "output_type": "display_data"
    }
   ],
   "source": [
    "# print(int(\"45\"))\n",
    "print(int(\"45.0\"))"
   ]
  },
  {
   "cell_type": "code",
   "execution_count": 11,
   "metadata": {},
   "outputs": [
    {
     "ename": "SyntaxError",
     "evalue": "invalid syntax (531405303.py, line 1)",
     "output_type": "error",
     "traceback": [
      "\u001b[1;36m  Cell \u001b[1;32mIn[11], line 1\u001b[1;36m\u001b[0m\n\u001b[1;33m    print int(\"sdf\")\u001b[0m\n\u001b[1;37m          ^\u001b[0m\n\u001b[1;31mSyntaxError\u001b[0m\u001b[1;31m:\u001b[0m invalid syntax\n"
     ]
    },
    {
     "name": "stderr",
     "output_type": "stream",
     "text": [
      "ERROR:root:Cannot parse: 1:6: print int(\"sdf\")\n",
      "Traceback (most recent call last):\n",
      "  File \"c:\\Users\\91973\\AppData\\Local\\Programs\\Python\\Python39\\lib\\site-packages\\lab_black.py\", line 218, in format_cell\n",
      "    formatted_code = _format_code(cell)\n",
      "  File \"c:\\Users\\91973\\AppData\\Local\\Programs\\Python\\Python39\\lib\\site-packages\\lab_black.py\", line 29, in _format_code\n",
      "    return format_str(src_contents=code, mode=FileMode())\n",
      "  File \"src\\black\\__init__.py\", line 1172, in format_str\n",
      "  File \"src\\black\\__init__.py\", line 1186, in _format_str_once\n",
      "  File \"src\\black\\parsing.py\", line 89, in lib2to3_parse\n",
      "black.parsing.InvalidInput: Cannot parse: 1:6: print int(\"sdf\")\n"
     ]
    }
   ],
   "source": [
    "print int(\"sdf\")\n",
    "print (\"after exception\")"
   ]
  },
  {
   "cell_type": "markdown",
   "metadata": {},
   "source": [
    "## try and except\n",
    "\n",
    "The basic terminology and syntax used to handle errors in Python is the **try** and **except** statements. The code which can cause an exception to occur is put in the *try* block and the handling of the exception are the implemented in the *except* block of code. The syntax form is:\n",
    "\n",
    "    try:\n",
    "       You do your operations here...\n",
    "       ...\n",
    "    except ExceptionI:\n",
    "       If there is ExceptionI, then execute this block.\n",
    "    except ExceptionII:\n",
    "       If there is ExceptionII, then execute this block.\n",
    "       ...\n",
    "    else:\n",
    "       If there is no exception then execute this block. \n",
    "\n",
    "Using just except, we can check for any exception: To understand better let's check out a sample code that opens and writes a file:"
   ]
  },
  {
   "cell_type": "code",
   "execution_count": 12,
   "metadata": {},
   "outputs": [
    {
     "name": "stdout",
     "output_type": "stream",
     "text": [
      "4.0\n",
      "after exception\n"
     ]
    },
    {
     "data": {
      "application/javascript": "\n            setTimeout(function() {\n                var nbb_cell_id = 12;\n                var nbb_unformatted_code = \"try:\\n    print(8 / 2)\\nexcept:\\n    print(\\\"default exception occured\\\")\\nprint(\\\"after exception\\\")\";\n                var nbb_formatted_code = \"try:\\n    print(8 / 2)\\nexcept:\\n    print(\\\"default exception occured\\\")\\nprint(\\\"after exception\\\")\";\n                var nbb_cells = Jupyter.notebook.get_cells();\n                for (var i = 0; i < nbb_cells.length; ++i) {\n                    if (nbb_cells[i].input_prompt_number == nbb_cell_id) {\n                        if (nbb_cells[i].get_text() == nbb_unformatted_code) {\n                             nbb_cells[i].set_text(nbb_formatted_code);\n                        }\n                        break;\n                    }\n                }\n            }, 500);\n            ",
      "text/plain": [
       "<IPython.core.display.Javascript object>"
      ]
     },
     "metadata": {},
     "output_type": "display_data"
    }
   ],
   "source": [
    "try:\n",
    "    print(8 / 2)\n",
    "except:\n",
    "    print(\"default exception occured\")\n",
    "print(\"after exception\")"
   ]
  },
  {
   "cell_type": "code",
   "execution_count": 13,
   "metadata": {},
   "outputs": [
    {
     "name": "stdout",
     "output_type": "stream",
     "text": [
      "divide by zero error occured\n",
      "after exception\n"
     ]
    },
    {
     "data": {
      "application/javascript": "\n            setTimeout(function() {\n                var nbb_cell_id = 13;\n                var nbb_unformatted_code = \"try:\\n    print(8 / 0)\\nexcept:\\n    print(\\\"divide by zero error occured\\\")\\nprint(\\\"after exception\\\")\";\n                var nbb_formatted_code = \"try:\\n    print(8 / 0)\\nexcept:\\n    print(\\\"divide by zero error occured\\\")\\nprint(\\\"after exception\\\")\";\n                var nbb_cells = Jupyter.notebook.get_cells();\n                for (var i = 0; i < nbb_cells.length; ++i) {\n                    if (nbb_cells[i].input_prompt_number == nbb_cell_id) {\n                        if (nbb_cells[i].get_text() == nbb_unformatted_code) {\n                             nbb_cells[i].set_text(nbb_formatted_code);\n                        }\n                        break;\n                    }\n                }\n            }, 500);\n            ",
      "text/plain": [
       "<IPython.core.display.Javascript object>"
      ]
     },
     "metadata": {},
     "output_type": "display_data"
    }
   ],
   "source": [
    "try:\n",
    "    print(8 / 0)\n",
    "except:\n",
    "    print(\"divide by zero error occured\")\n",
    "print(\"after exception\")"
   ]
  },
  {
   "cell_type": "code",
   "execution_count": 14,
   "metadata": {},
   "outputs": [
    {
     "name": "stdout",
     "output_type": "stream",
     "text": [
      "ZeroDivisionError exception occured, You should not divide a value by zero\n",
      "after exception\n"
     ]
    },
    {
     "data": {
      "application/javascript": "\n            setTimeout(function() {\n                var nbb_cell_id = 14;\n                var nbb_unformatted_code = \"try:\\n    print(8 / 0)\\nexcept ZeroDivisionError:\\n    print(\\\"ZeroDivisionError exception occured, You should not divide a value by zero\\\")\\nexcept:  # Default exception should be always at end\\n    print(\\\"default exception occured\\\")\\nprint(\\\"after exception\\\")\";\n                var nbb_formatted_code = \"try:\\n    print(8 / 0)\\nexcept ZeroDivisionError:\\n    print(\\\"ZeroDivisionError exception occured, You should not divide a value by zero\\\")\\nexcept:  # Default exception should be always at end\\n    print(\\\"default exception occured\\\")\\nprint(\\\"after exception\\\")\";\n                var nbb_cells = Jupyter.notebook.get_cells();\n                for (var i = 0; i < nbb_cells.length; ++i) {\n                    if (nbb_cells[i].input_prompt_number == nbb_cell_id) {\n                        if (nbb_cells[i].get_text() == nbb_unformatted_code) {\n                             nbb_cells[i].set_text(nbb_formatted_code);\n                        }\n                        break;\n                    }\n                }\n            }, 500);\n            ",
      "text/plain": [
       "<IPython.core.display.Javascript object>"
      ]
     },
     "metadata": {},
     "output_type": "display_data"
    }
   ],
   "source": [
    "try:\n",
    "    print(8 / 0)\n",
    "except ZeroDivisionError:\n",
    "    print(\"ZeroDivisionError exception occured, You should not divide a value by zero\")\n",
    "except:  # Default exception should be always at end\n",
    "    print(\"default exception occured\")\n",
    "print(\"After exception\")"
   ]
  },
  {
   "cell_type": "code",
   "execution_count": 15,
   "metadata": {},
   "outputs": [
    {
     "name": "stdout",
     "output_type": "stream",
     "text": [
      "default exception occured\n",
      "after exception\n"
     ]
    },
    {
     "data": {
      "application/javascript": "\n            setTimeout(function() {\n                var nbb_cell_id = 15;\n                var nbb_unformatted_code = \"try:\\n    print(a)\\nexcept ZeroDivisionError:\\n    print(\\\"Type error exception occured\\\")\\nexcept:\\n    print(\\\"default exception occured\\\")\\n\\nprint(\\\"after exception\\\")\";\n                var nbb_formatted_code = \"try:\\n    print(a)\\nexcept ZeroDivisionError:\\n    print(\\\"Type error exception occured\\\")\\nexcept:\\n    print(\\\"default exception occured\\\")\\n\\nprint(\\\"after exception\\\")\";\n                var nbb_cells = Jupyter.notebook.get_cells();\n                for (var i = 0; i < nbb_cells.length; ++i) {\n                    if (nbb_cells[i].input_prompt_number == nbb_cell_id) {\n                        if (nbb_cells[i].get_text() == nbb_unformatted_code) {\n                             nbb_cells[i].set_text(nbb_formatted_code);\n                        }\n                        break;\n                    }\n                }\n            }, 500);\n            ",
      "text/plain": [
       "<IPython.core.display.Javascript object>"
      ]
     },
     "metadata": {},
     "output_type": "display_data"
    }
   ],
   "source": [
    "try:\n",
    "    print(a)\n",
    "except ZeroDivisionError:\n",
    "    print(\"Type error exception occured\")\n",
    "except:\n",
    "    print(\"default exception occured\")\n",
    "\n",
    "print(\"after exception\")"
   ]
  },
  {
   "cell_type": "code",
   "execution_count": null,
   "metadata": {},
   "outputs": [],
   "source": [
    "try:\n",
    "    print(8 / 0)\n",
    "except:  # default 'except:' must be last\n",
    "    print(\"default exception occured\")\n",
    "except ZeroDivisionError:\n",
    "    print(\"ZeroDivisionError exception occured\")\n",
    "\n",
    "print(\"after exception\")"
   ]
  },
  {
   "cell_type": "code",
   "execution_count": 16,
   "metadata": {},
   "outputs": [
    {
     "name": "stdout",
     "output_type": "stream",
     "text": [
      "Type error exception occured\n",
      "after exception\n"
     ]
    },
    {
     "data": {
      "application/javascript": "\n            setTimeout(function() {\n                var nbb_cell_id = 16;\n                var nbb_unformatted_code = \"try:\\n    print(\\\"2\\\" + 2)\\nexcept TypeError:\\n    print(\\\"Type error exception occured\\\")\\nexcept:\\n    print(\\\"default exception occured\\\")\\nprint(\\\"after exception\\\")\";\n                var nbb_formatted_code = \"try:\\n    print(\\\"2\\\" + 2)\\nexcept TypeError:\\n    print(\\\"Type error exception occured\\\")\\nexcept:\\n    print(\\\"default exception occured\\\")\\nprint(\\\"after exception\\\")\";\n                var nbb_cells = Jupyter.notebook.get_cells();\n                for (var i = 0; i < nbb_cells.length; ++i) {\n                    if (nbb_cells[i].input_prompt_number == nbb_cell_id) {\n                        if (nbb_cells[i].get_text() == nbb_unformatted_code) {\n                             nbb_cells[i].set_text(nbb_formatted_code);\n                        }\n                        break;\n                    }\n                }\n            }, 500);\n            ",
      "text/plain": [
       "<IPython.core.display.Javascript object>"
      ]
     },
     "metadata": {},
     "output_type": "display_data"
    }
   ],
   "source": [
    "try:\n",
    "    print(\"2\" + 2)\n",
    "except TypeError:\n",
    "    print(\"Type error exception occured\")\n",
    "except:\n",
    "    print(\"default exception occured\")\n",
    "print(\"after exception\")"
   ]
  },
  {
   "cell_type": "code",
   "execution_count": null,
   "metadata": {},
   "outputs": [],
   "source": [
    "# print ('2' + 2)\n",
    "int(\"asd\")"
   ]
  },
  {
   "cell_type": "code",
   "execution_count": 17,
   "metadata": {},
   "outputs": [
    {
     "name": "stdout",
     "output_type": "stream",
     "text": [
      "<class 'str'>\n",
      "Oops!  That was no valid number.  Try again...\n"
     ]
    },
    {
     "data": {
      "application/javascript": "\n            setTimeout(function() {\n                var nbb_cell_id = 17;\n                var nbb_unformatted_code = \"try:\\n    x = input(\\\"Please enter a number: \\\")\\n    print(type(x))\\n    y = int(x)\\n    print(y)\\nexcept ValueError:\\n    print(\\\"Oops!  That was no valid number.  Try again...\\\")\";\n                var nbb_formatted_code = \"try:\\n    x = input(\\\"Please enter a number: \\\")\\n    print(type(x))\\n    y = int(x)\\n    print(y)\\nexcept ValueError:\\n    print(\\\"Oops!  That was no valid number.  Try again...\\\")\";\n                var nbb_cells = Jupyter.notebook.get_cells();\n                for (var i = 0; i < nbb_cells.length; ++i) {\n                    if (nbb_cells[i].input_prompt_number == nbb_cell_id) {\n                        if (nbb_cells[i].get_text() == nbb_unformatted_code) {\n                             nbb_cells[i].set_text(nbb_formatted_code);\n                        }\n                        break;\n                    }\n                }\n            }, 500);\n            ",
      "text/plain": [
       "<IPython.core.display.Javascript object>"
      ]
     },
     "metadata": {},
     "output_type": "display_data"
    }
   ],
   "source": [
    "try:\n",
    "    x = input(\"Please enter a number: \")\n",
    "    print(type(x))\n",
    "    y = int(x)\n",
    "    print(y)\n",
    "except ValueError:\n",
    "    print(\"Oops!  That was no valid number.  Try again...\")"
   ]
  },
  {
   "cell_type": "code",
   "execution_count": 18,
   "metadata": {
    "scrolled": true
   },
   "outputs": [
    {
     "name": "stdout",
     "output_type": "stream",
     "text": [
      "invalid literal for int() with base 10: 'python'\n",
      "Oops!  That was no valid number.  Try again...\n"
     ]
    },
    {
     "data": {
      "application/javascript": "\n            setTimeout(function() {\n                var nbb_cell_id = 18;\n                var nbb_unformatted_code = \"try:\\n    # x = input(\\\"Please enter a number: \\\")\\n    x=\\\"python\\\"\\n    y = int(x)\\n    print(y)\\n\\nexcept ValueError as e:\\n    print(e)\\n    print(\\\"Oops!  That was no valid number.  Try again...\\\")\";\n                var nbb_formatted_code = \"try:\\n    # x = input(\\\"Please enter a number: \\\")\\n    x = \\\"python\\\"\\n    y = int(x)\\n    print(y)\\n\\nexcept ValueError as e:\\n    print(e)\\n    print(\\\"Oops!  That was no valid number.  Try again...\\\")\";\n                var nbb_cells = Jupyter.notebook.get_cells();\n                for (var i = 0; i < nbb_cells.length; ++i) {\n                    if (nbb_cells[i].input_prompt_number == nbb_cell_id) {\n                        if (nbb_cells[i].get_text() == nbb_unformatted_code) {\n                             nbb_cells[i].set_text(nbb_formatted_code);\n                        }\n                        break;\n                    }\n                }\n            }, 500);\n            ",
      "text/plain": [
       "<IPython.core.display.Javascript object>"
      ]
     },
     "metadata": {},
     "output_type": "display_data"
    }
   ],
   "source": [
    "try:\n",
    "    # x = input(\"Please enter a number: \")\n",
    "    x=\"python\"\n",
    "    y = int(x)\n",
    "    print(y)\n",
    "\n",
    "except ValueError as e:\n",
    "    print(e)\n",
    "    print(\"Oops!  That was no valid number.  Try again...\")"
   ]
  },
  {
   "cell_type": "code",
   "execution_count": 19,
   "metadata": {},
   "outputs": [
    {
     "name": "stdout",
     "output_type": "stream",
     "text": [
      "first line of file is \n",
      "this is python learning\n",
      "\n",
      "VALUE ERROR Exception: Could not convert data to an integer.\n"
     ]
    },
    {
     "data": {
      "application/javascript": "\n            setTimeout(function() {\n                var nbb_cell_id = 19;\n                var nbb_unformatted_code = \"try:\\n    f = open(\\\"18_output.txt\\\")\\n    s = f.readline()\\n    print(f\\\"first line of file is \\\\n{s}\\\")\\n    i = int(s.strip())\\n    print(i)\\nexcept IOError as e:\\n    print(dir(e))\\n    print(f\\\"I/O error {e.errno, e.strerror}\\\")\\nexcept ValueError:\\n    print(\\\"VALUE ERROR Exception: Could not convert data to an integer.\\\")\\nexcept:\\n    print(\\\"DEFAULT Exception\\\")\";\n                var nbb_formatted_code = \"try:\\n    f = open(\\\"18_output.txt\\\")\\n    s = f.readline()\\n    print(f\\\"first line of file is \\\\n{s}\\\")\\n    i = int(s.strip())\\n    print(i)\\nexcept IOError as e:\\n    print(dir(e))\\n    print(f\\\"I/O error {e.errno, e.strerror}\\\")\\nexcept ValueError:\\n    print(\\\"VALUE ERROR Exception: Could not convert data to an integer.\\\")\\nexcept:\\n    print(\\\"DEFAULT Exception\\\")\";\n                var nbb_cells = Jupyter.notebook.get_cells();\n                for (var i = 0; i < nbb_cells.length; ++i) {\n                    if (nbb_cells[i].input_prompt_number == nbb_cell_id) {\n                        if (nbb_cells[i].get_text() == nbb_unformatted_code) {\n                             nbb_cells[i].set_text(nbb_formatted_code);\n                        }\n                        break;\n                    }\n                }\n            }, 500);\n            ",
      "text/plain": [
       "<IPython.core.display.Javascript object>"
      ]
     },
     "metadata": {},
     "output_type": "display_data"
    }
   ],
   "source": [
    "try:\n",
    "    f = open(\"18_output.txt\")\n",
    "    s = f.readline()\n",
    "    print(f\"first line of file is \\n{s}\")\n",
    "    i = int(s.strip())\n",
    "    print(i)\n",
    "except IOError as e:\n",
    "    print(dir(e))\n",
    "    print(f\"I/O error {e.errno, e.strerror}\")\n",
    "except ValueError:\n",
    "    print(\"VALUE ERROR Exception: Could not convert data to an integer.\")\n",
    "except:\n",
    "    print(\"DEFAULT Exception\")"
   ]
  },
  {
   "cell_type": "code",
   "execution_count": 20,
   "metadata": {},
   "outputs": [
    {
     "name": "stdout",
     "output_type": "stream",
     "text": [
      "I/O error (2, 'No such file or directory')\n"
     ]
    },
    {
     "data": {
      "application/javascript": "\n            setTimeout(function() {\n                var nbb_cell_id = 20;\n                var nbb_unformatted_code = \"try:\\n    f = open(\\\"hello123.txt\\\")\\n    s = f.readline()\\n    i = int(s.strip())\\n    print(i)\\nexcept IOError as e:\\n    print(f\\\"I/O error {e.errno, e.strerror}\\\")\\nexcept ValueError:\\n    print(\\\"Could not convert data to an integer.\\\")\";\n                var nbb_formatted_code = \"try:\\n    f = open(\\\"hello123.txt\\\")\\n    s = f.readline()\\n    i = int(s.strip())\\n    print(i)\\nexcept IOError as e:\\n    print(f\\\"I/O error {e.errno, e.strerror}\\\")\\nexcept ValueError:\\n    print(\\\"Could not convert data to an integer.\\\")\";\n                var nbb_cells = Jupyter.notebook.get_cells();\n                for (var i = 0; i < nbb_cells.length; ++i) {\n                    if (nbb_cells[i].input_prompt_number == nbb_cell_id) {\n                        if (nbb_cells[i].get_text() == nbb_unformatted_code) {\n                             nbb_cells[i].set_text(nbb_formatted_code);\n                        }\n                        break;\n                    }\n                }\n            }, 500);\n            ",
      "text/plain": [
       "<IPython.core.display.Javascript object>"
      ]
     },
     "metadata": {},
     "output_type": "display_data"
    }
   ],
   "source": [
    "try:\n",
    "    f = open(\"hello123.txt\")\n",
    "    s = f.readline()\n",
    "    i = int(s.strip())\n",
    "    print(i)\n",
    "except IOError as e:\n",
    "    print(f\"I/O error {e.errno, e.strerror}\")\n",
    "except ValueError:\n",
    "    print(\"Could not convert data to an integer.\")"
   ]
  },
  {
   "cell_type": "code",
   "execution_count": 21,
   "metadata": {},
   "outputs": [
    {
     "name": "stdout",
     "output_type": "stream",
     "text": [
      "Type error exception occured\n",
      "after exception\n"
     ]
    },
    {
     "data": {
      "application/javascript": "\n            setTimeout(function() {\n                var nbb_cell_id = 21;\n                var nbb_unformatted_code = \"try:\\n    print(2 + \\\"2\\\")\\nexcept TypeError:\\n    print(\\\"Type error exception occured\\\")\\nelse:\\n    print(\\\"No exception occured\\\")\\nprint(\\\"after exception\\\")\";\n                var nbb_formatted_code = \"try:\\n    print(2 + \\\"2\\\")\\nexcept TypeError:\\n    print(\\\"Type error exception occured\\\")\\nelse:\\n    print(\\\"No exception occured\\\")\\nprint(\\\"after exception\\\")\";\n                var nbb_cells = Jupyter.notebook.get_cells();\n                for (var i = 0; i < nbb_cells.length; ++i) {\n                    if (nbb_cells[i].input_prompt_number == nbb_cell_id) {\n                        if (nbb_cells[i].get_text() == nbb_unformatted_code) {\n                             nbb_cells[i].set_text(nbb_formatted_code);\n                        }\n                        break;\n                    }\n                }\n            }, 500);\n            ",
      "text/plain": [
       "<IPython.core.display.Javascript object>"
      ]
     },
     "metadata": {},
     "output_type": "display_data"
    }
   ],
   "source": [
    "try:\n",
    "    print(2 + \"2\")\n",
    "except TypeError:\n",
    "    print(\"Type error exception occured\")\n",
    "else:\n",
    "    print(\"No exception occured\")\n",
    "print(\"after exception\")"
   ]
  },
  {
   "cell_type": "code",
   "execution_count": null,
   "metadata": {},
   "outputs": [],
   "source": []
  },
  {
   "cell_type": "code",
   "execution_count": 22,
   "metadata": {},
   "outputs": [
    {
     "name": "stdout",
     "output_type": "stream",
     "text": [
      "4\n",
      "ELSE : No exception occured\n",
      "after exception\n"
     ]
    },
    {
     "data": {
      "application/javascript": "\n            setTimeout(function() {\n                var nbb_cell_id = 22;\n                var nbb_unformatted_code = \"try:\\n    print(2 + 2)\\nexcept TypeError:\\n    print(\\\"Type error exception occured\\\")\\nelse:\\n    print(\\\"ELSE : No exception occured\\\")\\nprint(\\\"after exception\\\")\";\n                var nbb_formatted_code = \"try:\\n    print(2 + 2)\\nexcept TypeError:\\n    print(\\\"Type error exception occured\\\")\\nelse:\\n    print(\\\"ELSE : No exception occured\\\")\\nprint(\\\"after exception\\\")\";\n                var nbb_cells = Jupyter.notebook.get_cells();\n                for (var i = 0; i < nbb_cells.length; ++i) {\n                    if (nbb_cells[i].input_prompt_number == nbb_cell_id) {\n                        if (nbb_cells[i].get_text() == nbb_unformatted_code) {\n                             nbb_cells[i].set_text(nbb_formatted_code);\n                        }\n                        break;\n                    }\n                }\n            }, 500);\n            ",
      "text/plain": [
       "<IPython.core.display.Javascript object>"
      ]
     },
     "metadata": {},
     "output_type": "display_data"
    }
   ],
   "source": [
    "try:\n",
    "    print(2 + 2)\n",
    "except TypeError:\n",
    "    print(\"Type error exception occured\")\n",
    "else:\n",
    "    print(\"ELSE : No exception occured\")\n",
    "print(\"after exception\")"
   ]
  },
  {
   "cell_type": "code",
   "execution_count": null,
   "metadata": {},
   "outputs": [],
   "source": [
    "try:\n",
    "    f = open(\"output.txt\")\n",
    "    s = f.readline()\n",
    "    i = int(s.strip())\n",
    "    print(i)\n",
    "except (IOError, ValueError) as e:\n",
    "    print(\"IOError/ValueError Exception occured\")\n",
    "except TypeError:\n",
    "    print(\"Exception occured is TypeError\")"
   ]
  },
  {
   "cell_type": "code",
   "execution_count": 24,
   "metadata": {},
   "outputs": [
    {
     "name": "stdout",
     "output_type": "stream",
     "text": [
      "ZeroDivisionError: Infinity\n",
      "cleanup\n"
     ]
    },
    {
     "data": {
      "application/javascript": "\n            setTimeout(function() {\n                var nbb_cell_id = 24;\n                var nbb_unformatted_code = \"try:\\n    x = float(input(\\\"Your number: \\\"))\\n    inverse = 1.0 / x\\n    print(inverse)\\nexcept ValueError:\\n    print(\\\"Value ERROR : You should have given either an int or a float \\\")\\nexcept TypeError:\\n    print(\\\"You should have given either an int or a float\\\")\\nexcept ZeroDivisionError:\\n    print(\\\"ZeroDivisionError: Infinity\\\")\\nexcept:\\n    print(\\\"Default exception\\\")\\nprint(\\\"cleanup\\\")\";\n                var nbb_formatted_code = \"try:\\n    x = float(input(\\\"Your number: \\\"))\\n    inverse = 1.0 / x\\n    print(inverse)\\nexcept ValueError:\\n    print(\\\"Value ERROR : You should have given either an int or a float \\\")\\nexcept TypeError:\\n    print(\\\"You should have given either an int or a float\\\")\\nexcept ZeroDivisionError:\\n    print(\\\"ZeroDivisionError: Infinity\\\")\\nexcept:\\n    print(\\\"Default exception\\\")\\nprint(\\\"cleanup\\\")\";\n                var nbb_cells = Jupyter.notebook.get_cells();\n                for (var i = 0; i < nbb_cells.length; ++i) {\n                    if (nbb_cells[i].input_prompt_number == nbb_cell_id) {\n                        if (nbb_cells[i].get_text() == nbb_unformatted_code) {\n                             nbb_cells[i].set_text(nbb_formatted_code);\n                        }\n                        break;\n                    }\n                }\n            }, 500);\n            ",
      "text/plain": [
       "<IPython.core.display.Javascript object>"
      ]
     },
     "metadata": {},
     "output_type": "display_data"
    }
   ],
   "source": [
    "try:\n",
    "    x = float(input(\"Your number: \"))\n",
    "    inverse = 1.0 / x\n",
    "    print(inverse)\n",
    "except ValueError:\n",
    "    print(\"Value ERROR : You should have given either an int or a float \")\n",
    "except TypeError:\n",
    "    print(\"You should have given either an int or a float\")\n",
    "except ZeroDivisionError:\n",
    "    print(\"ZeroDivisionError: Infinity\")\n",
    "except:\n",
    "    print(\"Default exception\")\n",
    "print(\"cleanup\")"
   ]
  },
  {
   "cell_type": "code",
   "execution_count": 27,
   "metadata": {},
   "outputs": [
    {
     "name": "stdout",
     "output_type": "stream",
     "text": [
      "Launch browser\n",
      "create a connection to server xyz\n",
      "open ssh port\n",
      "Open a  abc file\n",
      "Open scocket conncection with machine A\n",
      "Open database conncection with machine A\n",
      "0.012987012987012988\n",
      "################### FINALLY ################\n",
      "code cleanup...\n",
      "Closing browser..\n",
      "closing connection..\n",
      "closing port..\n",
      "closing file...\n",
      "network conncection...\n",
      "code cleanup\n"
     ]
    },
    {
     "data": {
      "application/javascript": "\n            setTimeout(function() {\n                var nbb_cell_id = 27;\n                var nbb_unformatted_code = \"try:\\n    print(\\\"Launch browser\\\")\\n    print(\\\"create a connection to server xyz\\\")\\n    print(\\\"open ssh port\\\")\\n    print(\\\"Open a  abc file\\\")\\n    print(\\\"Open scocket conncection with machine A\\\")\\n    print(\\\"Open database conncection with machine A\\\")\\n    x = float(input(\\\"Your number: \\\"))\\n    inverse = 1/x\\n    print (inverse)\\nexcept ZeroDivisionError:\\n    \\n    print (\\\"ZeroDivisionError: Infinity\\\")\\nfinally:\\n    print(\\\"################### FINALLY ################\\\")\\n    print (\\\"code cleanup...\\\")\\n    print(\\\"Closing browser..\\\")\\n    print(\\\"closing connection..\\\")\\n    print(\\\"closing port..\\\")\\n    print(\\\"closing file...\\\")\\n    print(\\\"network conncection...\\\")\\nprint(\\\"code cleanup\\\")\";\n                var nbb_formatted_code = \"try:\\n    print(\\\"Launch browser\\\")\\n    print(\\\"create a connection to server xyz\\\")\\n    print(\\\"open ssh port\\\")\\n    print(\\\"Open a  abc file\\\")\\n    print(\\\"Open scocket conncection with machine A\\\")\\n    print(\\\"Open database conncection with machine A\\\")\\n    x = float(input(\\\"Your number: \\\"))\\n    inverse = 1 / x\\n    print(inverse)\\nexcept ZeroDivisionError:\\n\\n    print(\\\"ZeroDivisionError: Infinity\\\")\\nfinally:\\n    print(\\\"################### FINALLY ################\\\")\\n    print(\\\"code cleanup...\\\")\\n    print(\\\"Closing browser..\\\")\\n    print(\\\"closing connection..\\\")\\n    print(\\\"closing port..\\\")\\n    print(\\\"closing file...\\\")\\n    print(\\\"network conncection...\\\")\\nprint(\\\"code cleanup\\\")\";\n                var nbb_cells = Jupyter.notebook.get_cells();\n                for (var i = 0; i < nbb_cells.length; ++i) {\n                    if (nbb_cells[i].input_prompt_number == nbb_cell_id) {\n                        if (nbb_cells[i].get_text() == nbb_unformatted_code) {\n                             nbb_cells[i].set_text(nbb_formatted_code);\n                        }\n                        break;\n                    }\n                }\n            }, 500);\n            ",
      "text/plain": [
       "<IPython.core.display.Javascript object>"
      ]
     },
     "metadata": {},
     "output_type": "display_data"
    }
   ],
   "source": [
    "try:\n",
    "    print(\"Launch browser\")\n",
    "    print(\"create a connection to server xyz\")\n",
    "    print(\"open ssh port\")\n",
    "    print(\"Open a  abc file\")\n",
    "    print(\"Open scocket conncection with machine A\")\n",
    "    print(\"Open database conncection with machine A\")\n",
    "    x = float(input(\"Your number: \"))\n",
    "    inverse = 1/x\n",
    "    print (inverse)\n",
    "except ZeroDivisionError:\n",
    "    \n",
    "    print (\"ZeroDivisionError: Infinity\")\n",
    "finally:\n",
    "    print(\"################### FINALLY ################\")\n",
    "    print (\"code cleanup...\")\n",
    "    print(\"Closing browser..\")\n",
    "    print(\"closing connection..\")\n",
    "    print(\"closing port..\")\n",
    "    print(\"closing file...\")\n",
    "    print(\"network conncection...\")\n",
    "print(\"code cleanup\")"
   ]
  },
  {
   "cell_type": "code",
   "execution_count": null,
   "metadata": {},
   "outputs": [],
   "source": [
    "voting_age = float(input(\"Your age: \"))\n",
    "if voting_age < 18:\n",
    "    print(\"voting age should be atleast 18 and above\")\n",
    "    # I want to treat this as an exception\n",
    "else:\n",
    "    print(\"you are eligible to vote\")"
   ]
  },
  {
   "cell_type": "code",
   "execution_count": 28,
   "metadata": {},
   "outputs": [
    {
     "name": "stdout",
     "output_type": "stream",
     "text": [
      "voting age should be atleast 18 and above\n",
      "Age exception occured your age should be greater than 18\n"
     ]
    },
    {
     "data": {
      "application/javascript": "\n            setTimeout(function() {\n                var nbb_cell_id = 28;\n                var nbb_unformatted_code = \"try:\\n    voting_age = float(input(\\\"Your age: \\\"))\\n    if voting_age < 18:\\n        raise ValueError(\\\"voting age should be atleast 18 and above\\\")\\n    else:\\n        print(\\\"you are eligible to vote\\\")\\nexcept ValueError as e:\\n    print(e)\\n    print(\\\"Age exception occured your age should be greater than 18\\\")\";\n                var nbb_formatted_code = \"try:\\n    voting_age = float(input(\\\"Your age: \\\"))\\n    if voting_age < 18:\\n        raise ValueError(\\\"voting age should be atleast 18 and above\\\")\\n    else:\\n        print(\\\"you are eligible to vote\\\")\\nexcept ValueError as e:\\n    print(e)\\n    print(\\\"Age exception occured your age should be greater than 18\\\")\";\n                var nbb_cells = Jupyter.notebook.get_cells();\n                for (var i = 0; i < nbb_cells.length; ++i) {\n                    if (nbb_cells[i].input_prompt_number == nbb_cell_id) {\n                        if (nbb_cells[i].get_text() == nbb_unformatted_code) {\n                             nbb_cells[i].set_text(nbb_formatted_code);\n                        }\n                        break;\n                    }\n                }\n            }, 500);\n            ",
      "text/plain": [
       "<IPython.core.display.Javascript object>"
      ]
     },
     "metadata": {},
     "output_type": "display_data"
    }
   ],
   "source": [
    "try:\n",
    "    voting_age = float(input(\"Your age: \"))\n",
    "    if voting_age < 18:\n",
    "        raise ValueError(\"voting age should be atleast 18 and above\")\n",
    "    else:\n",
    "        print(\"you are eligible to vote\")\n",
    "except ValueError as e:\n",
    "    print(e)\n",
    "    print(\"Age exception occured your age should be greater than 18\")"
   ]
  },
  {
   "cell_type": "code",
   "execution_count": null,
   "metadata": {},
   "outputs": [],
   "source": [
    "dir(Exception)"
   ]
  },
  {
   "cell_type": "code",
   "execution_count": 30,
   "metadata": {},
   "outputs": [
    {
     "name": "stdout",
     "output_type": "stream",
     "text": [
      "This value is too small, try again!\n"
     ]
    },
    {
     "data": {
      "application/javascript": "\n            setTimeout(function() {\n                var nbb_cell_id = 30;\n                var nbb_unformatted_code = \"class Error(Exception):\\n    \\\"\\\"\\\"Base class for other exceptions\\\"\\\"\\\"\\n\\n    pass\\n\\n\\nclass ValueTooSmallError(Error):\\n    \\\"\\\"\\\"Raised when the input value is too small\\\"\\\"\\\"\\n\\n    pass\\n\\n\\nclass ValueTooLargeError(Error):\\n    \\\"\\\"\\\"Raised when the input value is too large\\\"\\\"\\\"\\n\\n    pass\\n\\n\\n# our main program user guesses a number until he/she gets it right you need to guess this number\\nnumber = 10\\ntry:\\n    i_num = int(input(\\\"Enter a number: \\\"))\\n    if i_num < number:\\n        raise ValueTooSmallError\\n    elif i_num > number:\\n        raise ValueTooLargeError\\n    else:\\n        print(\\\"Congratulations! You guessed it correctly.\\\")\\nexcept ValueTooSmallError:\\n    print(\\\"This value is too small, try again!\\\")\\nexcept ValueTooLargeError:\\n    print(\\\"This value is too large, try again!\\\")\\nexcept:\\n    print(\\\"no user defined exception\\\")\";\n                var nbb_formatted_code = \"class Error(Exception):\\n    \\\"\\\"\\\"Base class for other exceptions\\\"\\\"\\\"\\n\\n    pass\\n\\n\\nclass ValueTooSmallError(Error):\\n    \\\"\\\"\\\"Raised when the input value is too small\\\"\\\"\\\"\\n\\n    pass\\n\\n\\nclass ValueTooLargeError(Error):\\n    \\\"\\\"\\\"Raised when the input value is too large\\\"\\\"\\\"\\n\\n    pass\\n\\n\\n# our main program user guesses a number until he/she gets it right you need to guess this number\\nnumber = 10\\ntry:\\n    i_num = int(input(\\\"Enter a number: \\\"))\\n    if i_num < number:\\n        raise ValueTooSmallError\\n    elif i_num > number:\\n        raise ValueTooLargeError\\n    else:\\n        print(\\\"Congratulations! You guessed it correctly.\\\")\\nexcept ValueTooSmallError:\\n    print(\\\"This value is too small, try again!\\\")\\nexcept ValueTooLargeError:\\n    print(\\\"This value is too large, try again!\\\")\\nexcept:\\n    print(\\\"no user defined exception\\\")\";\n                var nbb_cells = Jupyter.notebook.get_cells();\n                for (var i = 0; i < nbb_cells.length; ++i) {\n                    if (nbb_cells[i].input_prompt_number == nbb_cell_id) {\n                        if (nbb_cells[i].get_text() == nbb_unformatted_code) {\n                             nbb_cells[i].set_text(nbb_formatted_code);\n                        }\n                        break;\n                    }\n                }\n            }, 500);\n            ",
      "text/plain": [
       "<IPython.core.display.Javascript object>"
      ]
     },
     "metadata": {},
     "output_type": "display_data"
    }
   ],
   "source": [
    "class Error(Exception):\n",
    "    \"\"\"Base class for other exceptions\"\"\"\n",
    "\n",
    "    pass\n",
    "\n",
    "\n",
    "class ValueTooSmallError(Error):\n",
    "    \"\"\"Raised when the input value is too small\"\"\"\n",
    "\n",
    "    pass\n",
    "\n",
    "\n",
    "class ValueTooLargeError(Error):\n",
    "    \"\"\"Raised when the input value is too large\"\"\"\n",
    "\n",
    "    pass\n",
    "\n",
    "\n",
    "# our main program user guesses a number until he/she gets it right you need to guess this number\n",
    "number = 10\n",
    "try:\n",
    "    i_num = int(input(\"Enter a number: \"))\n",
    "    if i_num < number:\n",
    "        raise ValueTooSmallError\n",
    "    elif i_num > number:\n",
    "        raise ValueTooLargeError\n",
    "    else:\n",
    "        print(\"Congratulations! You guessed it correctly.\")\n",
    "except ValueTooSmallError:\n",
    "    print(\"This value is too small, try again!\")\n",
    "except ValueTooLargeError:\n",
    "    print(\"This value is too large, try again!\")\n",
    "except:\n",
    "    print(\"no user defined exception\")"
   ]
  },
  {
   "cell_type": "code",
   "execution_count": 31,
   "metadata": {},
   "outputs": [
    {
     "name": "stdout",
     "output_type": "stream",
     "text": [
      "A New Exception occured: 9\n",
      "Security threat closing all connection.......\n",
      "i am in finally\n"
     ]
    },
    {
     "data": {
      "application/javascript": "\n            setTimeout(function() {\n                var nbb_cell_id = 31;\n                var nbb_unformatted_code = \"class MyError(Exception):\\n    def __init__(self, val):\\n        self.value = val\\n\\n    def __str__(self):\\n        return f\\\" The exception value is {self.value}\\\"\\n\\n    def close_connection(self):\\n        print(\\\"Security threat closing all connection.......\\\")\\n\\nnumber = 10\\n\\ntry:\\n    i_num = input(\\\"Enter a number: \\\")\\n    actualnum = int(i_num)\\n\\n    if actualnum < 10:\\n        raise (MyError(actualnum))  # error=Myerror(6)\\n    elif actualnum > number:\\n        print(\\\"Value is good\\\")\\n\\nexcept MyError as error:\\n    print(f\\\"A New Exception occured: {error.value}\\\")\\n    error.close_connection()\\nfinally:\\n    print(\\\"i am in finally\\\")\";\n                var nbb_formatted_code = \"class MyError(Exception):\\n    def __init__(self, val):\\n        self.value = val\\n\\n    def __str__(self):\\n        return f\\\" The exception value is {self.value}\\\"\\n\\n    def close_connection(self):\\n        print(\\\"Security threat closing all connection.......\\\")\\n\\n\\nnumber = 10\\n\\ntry:\\n    i_num = input(\\\"Enter a number: \\\")\\n    actualnum = int(i_num)\\n\\n    if actualnum < 10:\\n        raise (MyError(actualnum))  # error=Myerror(6)\\n    elif actualnum > number:\\n        print(\\\"Value is good\\\")\\n\\nexcept MyError as error:\\n    print(f\\\"A New Exception occured: {error.value}\\\")\\n    error.close_connection()\\nfinally:\\n    print(\\\"i am in finally\\\")\";\n                var nbb_cells = Jupyter.notebook.get_cells();\n                for (var i = 0; i < nbb_cells.length; ++i) {\n                    if (nbb_cells[i].input_prompt_number == nbb_cell_id) {\n                        if (nbb_cells[i].get_text() == nbb_unformatted_code) {\n                             nbb_cells[i].set_text(nbb_formatted_code);\n                        }\n                        break;\n                    }\n                }\n            }, 500);\n            ",
      "text/plain": [
       "<IPython.core.display.Javascript object>"
      ]
     },
     "metadata": {},
     "output_type": "display_data"
    }
   ],
   "source": [
    "class MyError(Exception):\n",
    "    def __init__(self, val):\n",
    "        self.value = val\n",
    "\n",
    "    def __str__(self):\n",
    "        return f\" The exception value is {self.value}\"\n",
    "\n",
    "    def close_connection(self):\n",
    "        print(\"Security threat closing all connection.......\")\n",
    "\n",
    "number = 10\n",
    "\n",
    "try:\n",
    "    i_num = input(\"Enter a number: \")\n",
    "    actualnum = int(i_num)\n",
    "\n",
    "    if actualnum < 10:\n",
    "        raise (MyError(actualnum))  # error=Myerror(6)\n",
    "    elif actualnum > number:\n",
    "        print(\"Value is good\")\n",
    "\n",
    "except MyError as error:\n",
    "    print(f\"A New Exception occured: {error.value}\")\n",
    "    error.close_connection()\n",
    "finally:\n",
    "    print(\"i am in finally\")"
   ]
  },
  {
   "cell_type": "code",
   "execution_count": 32,
   "metadata": {},
   "outputs": [
    {
     "name": "stdout",
     "output_type": "stream",
     "text": [
      "Exception occured:  Not Allowed\n",
      "Exception occured:  2\n",
      "Exception occured:  6\n"
     ]
    },
    {
     "data": {
      "application/javascript": "\n            setTimeout(function() {\n                var nbb_cell_id = 32;\n                var nbb_unformatted_code = \"class TransitionError(Exception):\\n    # Raised when an operation attempts a state\\n    # transition that's not allowed.\\n    def __init__(self, p, n, m):\\n        self.prev = p\\n        self.next = n\\n        self.msg = m  # Error message thrown is saved in msg\\n\\n\\n# obj=TransitionError(2,3,\\\"creation of object\\\")\\ntry:\\n    raise (TransitionError(2, 3 * 2, \\\"Not Allowed\\\"))\\n# Value of Exception is stored in error\\nexcept TransitionError as error:\\n    print(\\\"Exception occured: \\\", error.msg)\\n    print(\\\"Exception occured: \\\", error.prev)\\n    print(\\\"Exception occured: \\\", error.next)\";\n                var nbb_formatted_code = \"class TransitionError(Exception):\\n    # Raised when an operation attempts a state\\n    # transition that's not allowed.\\n    def __init__(self, p, n, m):\\n        self.prev = p\\n        self.next = n\\n        self.msg = m  # Error message thrown is saved in msg\\n\\n\\n# obj=TransitionError(2,3,\\\"creation of object\\\")\\ntry:\\n    raise (TransitionError(2, 3 * 2, \\\"Not Allowed\\\"))\\n# Value of Exception is stored in error\\nexcept TransitionError as error:\\n    print(\\\"Exception occured: \\\", error.msg)\\n    print(\\\"Exception occured: \\\", error.prev)\\n    print(\\\"Exception occured: \\\", error.next)\";\n                var nbb_cells = Jupyter.notebook.get_cells();\n                for (var i = 0; i < nbb_cells.length; ++i) {\n                    if (nbb_cells[i].input_prompt_number == nbb_cell_id) {\n                        if (nbb_cells[i].get_text() == nbb_unformatted_code) {\n                             nbb_cells[i].set_text(nbb_formatted_code);\n                        }\n                        break;\n                    }\n                }\n            }, 500);\n            ",
      "text/plain": [
       "<IPython.core.display.Javascript object>"
      ]
     },
     "metadata": {},
     "output_type": "display_data"
    }
   ],
   "source": [
    "class TransitionError(Exception):\n",
    "    # Raised when an operation attempts a state\n",
    "    # transition that's not allowed.\n",
    "    def __init__(self, p, n, m):\n",
    "        self.prev = p\n",
    "        self.next = n\n",
    "        self.msg = m  # Error message thrown is saved in msg\n",
    "\n",
    "\n",
    "# obj=TransitionError(2,3,\"creation of object\")\n",
    "try:\n",
    "    raise (TransitionError(2, 3 * 2, \"Not Allowed\"))\n",
    "# Value of Exception is stored in error\n",
    "except TransitionError as error:\n",
    "    print(\"Exception occured: \", error.msg)\n",
    "    print(\"Exception occured: \", error.prev)\n",
    "    print(\"Exception occured: \", error.next)"
   ]
  },
  {
   "cell_type": "code",
   "execution_count": null,
   "metadata": {},
   "outputs": [],
   "source": [
    "# # import sys\n",
    "# try:\n",
    "#     print(hey)\n",
    "# except Exception:\n",
    "#     sys.exc_clear()\n",
    "\n",
    "# print(\"ignored the exception\")\n",
    "\n",
    "try:\n",
    "    print(hey)\n",
    "except Exception:\n",
    "    pass\n",
    "\n",
    "print(\"ignored the exception\")"
   ]
  },
  {
   "cell_type": "code",
   "execution_count": null,
   "metadata": {},
   "outputs": [],
   "source": [
    "import random\n",
    "nums = [random.randint(-3, 3) for i in range(20)]\n",
    "results = [1/num for num in nums]\n"
   ]
  },
  {
   "cell_type": "code",
   "execution_count": null,
   "metadata": {},
   "outputs": [],
   "source": [
    "result = 0\n",
    "for num in nums:\n",
    "    try:\n",
    "        result += 1/num\n",
    "    except ZeroDivisionError:\n",
    "        pass\n",
    "result"
   ]
  },
  {
   "cell_type": "code",
   "execution_count": null,
   "metadata": {},
   "outputs": [],
   "source": [
    "from contextlib import suppress\n",
    "result = 0\n",
    "for num in nums:\n",
    "    with suppress(ZeroDivisionError):\n",
    "        result += 1/num\n",
    "result"
   ]
  },
  {
   "cell_type": "markdown",
   "metadata": {},
   "source": [
    "## The inbuild Exception"
   ]
  },
  {
   "cell_type": "code",
   "execution_count": null,
   "metadata": {},
   "outputs": [],
   "source": [
    "dir(Exception)"
   ]
  },
  {
   "cell_type": "raw",
   "metadata": {},
   "source": [
    "# BaseException\n",
    "#  +-- SystemExit\n",
    "#  +-- KeyboardInterrupt\n",
    "#  +-- GeneratorExit\n",
    "#  +-- Exception\n",
    "#       +-- StopIteration\n",
    "#       +-- StandardError\n",
    "#       |    +-- BufferError\n",
    "#       |    +-- ArithmeticError\n",
    "#       |    |    +-- FloatingPointError\n",
    "#       |    |    +-- OverflowError\n",
    "#       |    |    +-- ZeroDivisionError\n",
    "#       |    +-- AssertionError\n",
    "#       |    +-- AttributeError\n",
    "#       |    +-- EnvironmentError\n",
    "#       |    |    +-- IOError\n",
    "#       |    |    +-- OSError\n",
    "#       |    |         +-- WindowsError (Windows)\n",
    "#       |    |         +-- VMSError (VMS)\n",
    "#       |    +-- EOFError\n",
    "#       |    +-- ImportError\n",
    "#       |    +-- LookupError\n",
    "#       |    |    +-- IndexError\n",
    "#       |    |    +-- KeyError\n",
    "#       |    +-- MemoryError\n",
    "#       |    +-- NameError\n",
    "#       |    |    +-- UnboundLocalError\n",
    "#       |    +-- ReferenceError\n",
    "#       |    +-- RuntimeError\n",
    "#       |    |    +-- NotImplementedError\n",
    "#       |    +-- SyntaxError\n",
    "#       |    |    +-- IndentationError\n",
    "#       |    |         +-- TabError\n",
    "#       |    +-- SystemError\n",
    "#       |    +-- TypeError\n",
    "#       |    +-- ValueError\n",
    "#       |         +-- UnicodeError\n",
    "#       |              +-- UnicodeDecodeError\n",
    "#       |              +-- UnicodeEncodeError\n",
    "#       |              +-- UnicodeTranslateError\n",
    "#       +-- Warning\n",
    "#            +-- DeprecationWarning\n",
    "#            +-- PendingDeprecationWarning\n",
    "#            +-- RuntimeWarning\n",
    "#            +-- SyntaxWarning\n",
    "#            +-- UserWarning\n",
    "#            +-- FutureWarning\n",
    "# \t   +-- ImportWarning\n",
    "# \t   +-- UnicodeWarning\n",
    "# \t   +-- BytesWarning"
   ]
  },
  {
   "cell_type": "code",
   "execution_count": null,
   "metadata": {},
   "outputs": [],
   "source": [
    "Assignment\n",
    "Simulate above exception"
   ]
  },
  {
   "cell_type": "code",
   "execution_count": null,
   "metadata": {},
   "outputs": [],
   "source": [
    "class A(object):\n",
    "    def foo(self,x):\n",
    "        print (x)\n",
    "    @classmethod\n",
    "    def class_foo(cls,x):\n",
    "        print (x)\n",
    "        return x\n",
    "    @staticmethod\n",
    "    def static_foo(x):\n",
    "        abc=10\n",
    "        print(\"the value of abc\", abc)\n",
    "        print (x)"
   ]
  },
  {
   "cell_type": "code",
   "execution_count": null,
   "metadata": {},
   "outputs": [],
   "source": [
    "class A(object):\n",
    "    def foo(self,x):\n",
    "        print (x)\n",
    "    @classmethod\n",
    "    def class_foo(cls,x):\n",
    "        print (x)\n",
    "        return x\n",
    "    @staticmethod\n",
    "    def static_foo(x):\n",
    "        abc=10\n",
    "        print(\"the value of abc\", abc)\n",
    "        print (x)"
   ]
  },
  {
   "cell_type": "code",
   "execution_count": null,
   "metadata": {},
   "outputs": [],
   "source": [
    "A.class_foo(1)\n",
    "a.static_foo(1)\n",
    "b.static_foo(1)\n",
    "a.abc=20\n",
    "print(\"value of abc after change\",a.abc)\n",
    "a.static_foo(1)\n",
    "# print(A.abc)\n",
    "from datetime import date  \n",
    "class Person: \n",
    "    def __init__(self, name, age): \n",
    "        self.name = name \n",
    "        self.age = age \n",
    "      \n",
    "    # a class method to create a Person object by birth year. \n",
    "    @classmethod\n",
    "    def fromBirthYear(cls, name, year): \n",
    "        return cls(name, date.today().year - year) \n",
    "      \n",
    "    # a static method to check if a Person is adult or not. \n",
    "    @staticmethod\n",
    "    def isAdult(age): \n",
    "        return age > 18\n",
    "  \n",
    "person1 = Person('mayank', 21) \n",
    "person2 = Person.fromBirthYear('ashok', 1996) \n",
    "  \n",
    "print (person1.age)\n",
    "print (person2.age) \n",
    "  \n",
    "# print the result \n",
    "print (Person.isAdult(22)) \n",
    "\n",
    "print(alec.__dict__.keys())\n",
    "print(alec.__dict__.values())\n",
    "__dict__ is a special attribute is a dictionary containing each attribute of an object. We can see that prepending two underscores every key has _ClassName__ prepended"
   ]
  },
  {
   "cell_type": "code",
   "execution_count": null,
   "metadata": {},
   "outputs": [],
   "source": [
    "_,_=10,20\n",
    "_"
   ]
  },
  {
   "cell_type": "code",
   "execution_count": null,
   "metadata": {},
   "outputs": [],
   "source": [
    "a,b,_,_=10\n",
    "print(a)"
   ]
  },
  {
   "cell_type": "code",
   "execution_count": null,
   "metadata": {},
   "outputs": [],
   "source": [
    "from datetime import date \n",
    "  \n",
    "class Person: \n",
    "    def __init__(self, name, age): \n",
    "        self.name = name \n",
    "        self.age = age \n",
    "      \n",
    "    # a class method to create a Person object by birth year. \n",
    "    @classmethod\n",
    "    def fromBirthYear(cls, name, year): \n",
    "        return cls(name, date.today().year - year) \n",
    "      \n",
    "    # a static method to check if a Person is adult or not. \n",
    "    @staticmethod\n",
    "    def isAdult(age): \n",
    "        return age > 18\n",
    "  \n",
    "person1 = Person('mayank', 21) \n",
    "person2 = Person.fromBirthYear('mayank', 1996) \n",
    "  \n",
    "print (person1.age) \n",
    "print (person2.age)\n",
    "  \n",
    "# print the result \n",
    "print (Person.isAdult(22) )\n",
    "print (person1.isAdult(22) )"
   ]
  },
  {
   "cell_type": "code",
   "execution_count": null,
   "metadata": {},
   "outputs": [],
   "source": [
    "s= \"python\"\n",
    "s[:] is s"
   ]
  },
  {
   "cell_type": "code",
   "execution_count": null,
   "metadata": {},
   "outputs": [],
   "source": [
    "s[:] == s"
   ]
  },
  {
   "cell_type": "code",
   "execution_count": null,
   "metadata": {},
   "outputs": [],
   "source": [
    "s[::-1][::-1] == s"
   ]
  },
  {
   "cell_type": "code",
   "execution_count": null,
   "metadata": {},
   "outputs": [],
   "source": [
    "s[::-1][::-1] is s"
   ]
  },
  {
   "cell_type": "code",
   "execution_count": null,
   "metadata": {},
   "outputs": [],
   "source": [
    "a = [1, 2, 3, 4, 5]\n",
    "a[2:2] = []\n",
    "a"
   ]
  },
  {
   "cell_type": "code",
   "execution_count": null,
   "metadata": {},
   "outputs": [],
   "source": [
    "a.remove(3)\n",
    "a"
   ]
  },
  {
   "cell_type": "code",
   "execution_count": null,
   "metadata": {},
   "outputs": [],
   "source": [
    "a = [1, 2, 3, 4, 5]\n",
    "del a[2]\n",
    "a"
   ]
  },
  {
   "cell_type": "code",
   "execution_count": null,
   "metadata": {},
   "outputs": [],
   "source": [
    "a += 'de'\n",
    "a"
   ]
  },
  {
   "cell_type": "code",
   "execution_count": null,
   "metadata": {},
   "outputs": [],
   "source": [
    "a=[10,23,56,[78]]\n",
    "b=list(a)\n",
    "a[3][0]=95\n",
    "a[1]=34\n",
    "print(b)"
   ]
  },
  {
   "cell_type": "code",
   "execution_count": null,
   "metadata": {},
   "outputs": [],
   "source": [
    "a=(1,2,3,4)\n",
    "del a"
   ]
  },
  {
   "cell_type": "code",
   "execution_count": null,
   "metadata": {},
   "outputs": [],
   "source": [
    "a"
   ]
  },
  {
   "cell_type": "code",
   "execution_count": null,
   "metadata": {},
   "outputs": [],
   "source": [
    "d = {\"john\":40, \"peter\":45}\n",
    "\"john\" in d"
   ]
  },
  {
   "cell_type": "code",
   "execution_count": null,
   "metadata": {},
   "outputs": [],
   "source": [
    "d = {\"john\":40, \"peter\":45}\n",
    "del d[\"john\"]\n",
    "d"
   ]
  },
  {
   "cell_type": "code",
   "execution_count": null,
   "metadata": {},
   "outputs": [],
   "source": []
  }
 ],
 "metadata": {
  "kernelspec": {
   "display_name": "Python 3",
   "language": "python",
   "name": "python3"
  },
  "language_info": {
   "codemirror_mode": {
    "name": "ipython",
    "version": 3
   },
   "file_extension": ".py",
   "mimetype": "text/x-python",
   "name": "python",
   "nbconvert_exporter": "python",
   "pygments_lexer": "ipython3",
   "version": "3.9.0"
  }
 },
 "nbformat": 4,
 "nbformat_minor": 2
}
