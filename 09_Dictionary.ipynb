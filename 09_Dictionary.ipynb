{
 "cells": [
  {
   "cell_type": "markdown",
   "metadata": {},
   "source": [
    "## Dictionaries"
   ]
  },
  {
   "cell_type": "markdown",
   "metadata": {},
   "source": [
    "We have learned about \"Sequences\" in the previous session. Now, let's switch the gears and learn about \"mappings\" in Python. These dictionaries are nothing but hash tables in other programming languages.\n",
    "\n",
    "In this section, we will learn briefly about an introduction to dictionaries and what it consists of:\n",
    "\n",
    "1.) Constructing a Dictionary\n",
    "2.) Accessing objects from a Dictionary\n",
    "3.) Nesting Dictionaries\n",
    "4.) Basic Dictionary Methods\n",
    "\n",
    "Before we dive deep into this concept, let's understand what are Mappings?\n",
    "\n",
    "Mappings are a collection of objects that are stored by a \"key\". Unlike a sequence, mapping store objects by their relative position. This is an important distinction since mappings won't retain the order since they have objects defined by a key.\n",
    "\n",
    "A Python dictionary consists of a key and then an associated value. That value can be almost any Python object.\n",
    "Constructing a Dictionary\n",
    "\n",
    "Let's see how we can construct dictionaries to get a better understanding of how they work!"
   ]
  },
  {
   "cell_type": "markdown",
   "metadata": {
    "vscode": {
     "languageId": "raw"
    }
   },
   "source": [
    "- `\"\"` or `''` - **String** - immutable  \n",
    "- `[]` - **Lists** - mutable  \n",
    "- `()` - **Tuple** - immutable  \n",
    "- `([])` or `{}` - **Set** - mutable (no sequence, no indexes, no duplicates, contains only immutable data)  \n",
    "- `{}` - **Dictionary** - mutable (key-value pairs: `{key1: value1, key2: value2, ...}`)\n"
   ]
  },
  {
   "cell_type": "code",
   "execution_count": null,
   "metadata": {},
   "outputs": [],
   "source": [
    "l=[\"Thor\",\"Marvel\", \"Thor- Ragnarok\"]\n",
    "      0       1            2\n",
    "   'name'  'studio'   'movie'   \n",
    "        \n",
    "        \n",
    "l[0] --- \"Thor\"\n",
    "l[1] -- \"Marvel\"\n",
    "l[2] -- \" Thor Ragnarok\"\n",
    "l['name']-- 'Thor'\n",
    "l['studio'] -- 'Marvel'\n",
    "l['movie'] -- 'Thor-Ragnarok'"
   ]
  },
  {
   "cell_type": "markdown",
   "metadata": {},
   "source": [
    "dictionary is a key -valye pair<br>\n",
    "{key1:value1,key2:value2.....}<br>\n",
    "its mutable data type<br>\n",
    "No indexing required<br>"
   ]
  },
  {
   "cell_type": "code",
   "execution_count": 2,
   "metadata": {},
   "outputs": [],
   "source": [
    "w={\"name\":\"Thor\",\"place\":\"Asguardian\",\"movie\":\"Thor Ragnarok\"}"
   ]
  },
  {
   "cell_type": "code",
   "execution_count": 1,
   "metadata": {},
   "outputs": [
    {
     "data": {
      "text/plain": [
       "{'name': 'Thor',\n",
       " 'place': 'Asguardian',\n",
       " 'movie': 'Thor--Ragnarok',\n",
       " 'otherhero': ['Ironman', 'Captain America', 'spiderman']}"
      ]
     },
     "execution_count": 1,
     "metadata": {},
     "output_type": "execute_result"
    }
   ],
   "source": [
    "w={\"name\":\"Thor\",\"place\":\"Asguardian\",\"movie\":\"Thor--Ragnarok\", \"otherhero\": [\"Ironman\",\"Captain America\",\"spiderman\"] }\n",
    "w\n",
    "# print(w['name'])"
   ]
  },
  {
   "cell_type": "code",
   "execution_count": 2,
   "metadata": {},
   "outputs": [
    {
     "data": {
      "text/plain": [
       "dict"
      ]
     },
     "execution_count": 2,
     "metadata": {},
     "output_type": "execute_result"
    }
   ],
   "source": [
    "type(w)"
   ]
  },
  {
   "cell_type": "code",
   "execution_count": 3,
   "metadata": {},
   "outputs": [
    {
     "data": {
      "text/plain": [
       "'Thor'"
      ]
     },
     "execution_count": 3,
     "metadata": {},
     "output_type": "execute_result"
    }
   ],
   "source": [
    "w[\"name\"]"
   ]
  },
  {
   "cell_type": "code",
   "execution_count": 4,
   "metadata": {},
   "outputs": [
    {
     "data": {
      "text/plain": [
       "'Asguardian'"
      ]
     },
     "execution_count": 4,
     "metadata": {},
     "output_type": "execute_result"
    }
   ],
   "source": [
    "w[\"place\"]"
   ]
  },
  {
   "cell_type": "code",
   "execution_count": 5,
   "metadata": {},
   "outputs": [],
   "source": [
    "data = {1:11,2:7,'b':2,'c':7}"
   ]
  },
  {
   "cell_type": "code",
   "execution_count": 6,
   "metadata": {},
   "outputs": [
    {
     "data": {
      "text/plain": [
       "{1: 200, 2: 7, 'b': 2, 'c': 7}"
      ]
     },
     "execution_count": 6,
     "metadata": {},
     "output_type": "execute_result"
    }
   ],
   "source": [
    "data[1]=200\n",
    "data"
   ]
  },
  {
   "cell_type": "code",
   "execution_count": 7,
   "metadata": {},
   "outputs": [],
   "source": [
    "data1 = dict(a=10, b=2, c=3)"
   ]
  },
  {
   "cell_type": "code",
   "execution_count": 8,
   "metadata": {},
   "outputs": [
    {
     "data": {
      "text/plain": [
       "{'a': 10, 'b': 2, 'c': 3}"
      ]
     },
     "execution_count": 8,
     "metadata": {},
     "output_type": "execute_result"
    }
   ],
   "source": [
    "data1"
   ]
  },
  {
   "cell_type": "code",
   "execution_count": 9,
   "metadata": {},
   "outputs": [],
   "source": [
    "w={\"name\":\"Thor\",\"place\":\"Asguardian\",\"movie\":\"Thor Ragnarok\"}"
   ]
  },
  {
   "cell_type": "code",
   "execution_count": 10,
   "metadata": {},
   "outputs": [
    {
     "data": {
      "text/plain": [
       "dict_keys(['name', 'place', 'movie'])"
      ]
     },
     "execution_count": 10,
     "metadata": {},
     "output_type": "execute_result"
    }
   ],
   "source": [
    "w.keys()"
   ]
  },
  {
   "cell_type": "code",
   "execution_count": 11,
   "metadata": {},
   "outputs": [
    {
     "name": "stdout",
     "output_type": "stream",
     "text": [
      "<class 'dict_keys'>\n"
     ]
    },
    {
     "data": {
      "text/plain": [
       "['name', 'place', 'movie']"
      ]
     },
     "execution_count": 11,
     "metadata": {},
     "output_type": "execute_result"
    }
   ],
   "source": [
    "print(type(w.keys()))\n",
    "# type(w.keys())\n",
    "list(w.keys())"
   ]
  },
  {
   "cell_type": "code",
   "execution_count": 12,
   "metadata": {},
   "outputs": [
    {
     "name": "stdout",
     "output_type": "stream",
     "text": [
      "dict_values(['Thor', 'Asguardian', 'Thor Ragnarok'])\n",
      "['Thor', 'Asguardian', 'Thor Ragnarok']\n"
     ]
    }
   ],
   "source": [
    "print(w.values())\n",
    "print(list(w.values()))"
   ]
  },
  {
   "cell_type": "markdown",
   "metadata": {},
   "source": [
    "### The keys of a dictionary can be any kind of immutable type, which includes: strings, numbers, and tuples:\n"
   ]
  },
  {
   "cell_type": "code",
   "execution_count": 13,
   "metadata": {},
   "outputs": [
    {
     "name": "stdout",
     "output_type": "stream",
     "text": [
      "{'hello': 'world', 0: 'a', 1: 'b', '2': 'not a number', (1, 2, 3): 'a tuple!'}\n"
     ]
    }
   ],
   "source": [
    "mydict = {\"hello\": \"world\",\n",
    "          0: \"a\",\n",
    "          1: \"b\",\n",
    "          \"2\": \"not a number\",\n",
    "         (1, 2, 3): \"a tuple!\"}\n",
    "print(mydict)"
   ]
  },
  {
   "cell_type": "code",
   "execution_count": 14,
   "metadata": {},
   "outputs": [
    {
     "ename": "TypeError",
     "evalue": "unhashable type: 'list'",
     "output_type": "error",
     "traceback": [
      "\u001b[1;31m---------------------------------------------------------------------------\u001b[0m",
      "\u001b[1;31mTypeError\u001b[0m                                 Traceback (most recent call last)",
      "Cell \u001b[1;32mIn[14], line 2\u001b[0m\n\u001b[0;32m      1\u001b[0m a\u001b[38;5;241m=\u001b[39m[\u001b[38;5;241m1\u001b[39m,\u001b[38;5;241m2\u001b[39m,\u001b[38;5;241m3\u001b[39m]\n\u001b[1;32m----> 2\u001b[0m mydict \u001b[38;5;241m=\u001b[39m {\u001b[38;5;124m\"\u001b[39m\u001b[38;5;124mhello\u001b[39m\u001b[38;5;124m\"\u001b[39m: \u001b[38;5;124m\"\u001b[39m\u001b[38;5;124mworld\u001b[39m\u001b[38;5;124m\"\u001b[39m,\n\u001b[0;32m      3\u001b[0m           \u001b[38;5;241m0\u001b[39m: \u001b[38;5;124m\"\u001b[39m\u001b[38;5;124ma\u001b[39m\u001b[38;5;124m\"\u001b[39m,\n\u001b[0;32m      4\u001b[0m           \u001b[38;5;241m1\u001b[39m: \u001b[38;5;124m\"\u001b[39m\u001b[38;5;124mb\u001b[39m\u001b[38;5;124m\"\u001b[39m,\n\u001b[0;32m      5\u001b[0m           \u001b[38;5;124m\"\u001b[39m\u001b[38;5;124m2\u001b[39m\u001b[38;5;124m\"\u001b[39m: \u001b[38;5;124m\"\u001b[39m\u001b[38;5;124mnot a number\u001b[39m\u001b[38;5;124m\"\u001b[39m,\n\u001b[0;32m      6\u001b[0m          [\u001b[38;5;241m1\u001b[39m,\u001b[38;5;241m2\u001b[39m,\u001b[38;5;241m3\u001b[39m]: \u001b[38;5;124m\"\u001b[39m\u001b[38;5;124ma list!\u001b[39m\u001b[38;5;124m\"\u001b[39m}\n\u001b[0;32m      7\u001b[0m mydict\n",
      "\u001b[1;31mTypeError\u001b[0m: unhashable type: 'list'"
     ]
    }
   ],
   "source": [
    "a=[1,2,3]\n",
    "mydict = {\"hello\": \"world\",\n",
    "          0: \"a\",\n",
    "          1: \"b\",\n",
    "          \"2\": \"not a number\",\n",
    "         [1,2,3]: \"a list!\"}\n",
    "mydict"
   ]
  },
  {
   "cell_type": "markdown",
   "metadata": {},
   "source": []
  },
  {
   "cell_type": "code",
   "execution_count": 15,
   "metadata": {},
   "outputs": [
    {
     "data": {
      "text/plain": [
       "{'hello': 'world',\n",
       " 10: 'a',\n",
       " 1: 'a repeated key!',\n",
       " '2': 'not a number',\n",
       " 0: 'abc'}"
      ]
     },
     "execution_count": 15,
     "metadata": {},
     "output_type": "execute_result"
    }
   ],
   "source": [
    "mydict = {\"hello\": \"world\",\n",
    "          10: \"a\",\n",
    "          1: \"first Key\",\n",
    "          \"2\": \"not a number\",\n",
    "         1: \"a repeated key!\",\n",
    "         0: \"abc\",}\n",
    "mydict"
   ]
  },
  {
   "cell_type": "code",
   "execution_count": null,
   "metadata": {},
   "outputs": [],
   "source": [
    "mydict = {\"hello\": \"world\",\n",
    "          10: \"a\",\n",
    "          1: \"first Key\",\n",
    "          \"2\": \"not a number\",\n",
    "          1: \"a repeated key!\",\n",
    "         0: \"abc\", \n",
    "         \"dict1\": {\"hello\": \"world\",\n",
    "          10: \"a\",\n",
    "          1: \"first Key\",\n",
    "          \"2\": \"not a number\",\n",
    "         1: \"a repeated key!\",\n",
    "         0: \"abc\",}}\n",
    "print(mydict)"
   ]
  },
  {
   "cell_type": "code",
   "execution_count": 16,
   "metadata": {},
   "outputs": [],
   "source": [
    "data = {'z':1,'b':2,'c':7,'d':6}"
   ]
  },
  {
   "cell_type": "code",
   "execution_count": 17,
   "metadata": {},
   "outputs": [
    {
     "data": {
      "text/plain": [
       "1"
      ]
     },
     "execution_count": 17,
     "metadata": {},
     "output_type": "execute_result"
    }
   ],
   "source": [
    "data['z']"
   ]
  },
  {
   "cell_type": "code",
   "execution_count": 18,
   "metadata": {},
   "outputs": [
    {
     "data": {
      "text/plain": [
       "2"
      ]
     },
     "execution_count": 18,
     "metadata": {},
     "output_type": "execute_result"
    }
   ],
   "source": [
    "data['b']"
   ]
  },
  {
   "cell_type": "code",
   "execution_count": 19,
   "metadata": {},
   "outputs": [
    {
     "ename": "KeyError",
     "evalue": "'a'",
     "output_type": "error",
     "traceback": [
      "\u001b[1;31m---------------------------------------------------------------------------\u001b[0m",
      "\u001b[1;31mKeyError\u001b[0m                                  Traceback (most recent call last)",
      "Cell \u001b[1;32mIn[19], line 1\u001b[0m\n\u001b[1;32m----> 1\u001b[0m \u001b[43mdata\u001b[49m\u001b[43m[\u001b[49m\u001b[38;5;124;43m'\u001b[39;49m\u001b[38;5;124;43ma\u001b[39;49m\u001b[38;5;124;43m'\u001b[39;49m\u001b[43m]\u001b[49m\n",
      "\u001b[1;31mKeyError\u001b[0m: 'a'"
     ]
    }
   ],
   "source": [
    "data['a']"
   ]
  },
  {
   "cell_type": "code",
   "execution_count": 20,
   "metadata": {},
   "outputs": [
    {
     "data": {
      "text/plain": [
       "{'z': 1, 'b': 2, 'c': 7, 'd': 6, (1, 2, 3): 3}"
      ]
     },
     "execution_count": 20,
     "metadata": {},
     "output_type": "execute_result"
    }
   ],
   "source": [
    "data[(1,2,3)]=3  # updates if 'a' exists, else adds 'a'\n",
    "data"
   ]
  },
  {
   "cell_type": "code",
   "execution_count": 21,
   "metadata": {},
   "outputs": [
    {
     "data": {
      "text/plain": [
       "{'z': 1, 'b': 2, 'c': 7, 'd': 6, (1, 2, 3): 3, 'a': 4}"
      ]
     },
     "execution_count": 21,
     "metadata": {},
     "output_type": "execute_result"
    }
   ],
   "source": [
    "data['a']=4\n",
    "data"
   ]
  },
  {
   "cell_type": "code",
   "execution_count": 22,
   "metadata": {},
   "outputs": [
    {
     "name": "stdout",
     "output_type": "stream",
     "text": [
      "{'z': 1, 'b': 2, 'c': 7, 'd': 6, (1, 2, 3): 3, 'a': 'scala'}\n"
     ]
    },
    {
     "data": {
      "text/plain": [
       "{'z': 1, 'b': 2, 'c': 7, 'd': 6, (1, 2, 3): 3, 'a': 'python'}"
      ]
     },
     "execution_count": 22,
     "metadata": {},
     "output_type": "execute_result"
    }
   ],
   "source": [
    "data.update({'a':\"scala\"})\n",
    "print(data)\n",
    "data['a']=\"python\"\n",
    "data"
   ]
  },
  {
   "cell_type": "code",
   "execution_count": 23,
   "metadata": {},
   "outputs": [
    {
     "data": {
      "text/plain": [
       "{'z': 1, 'b': 2, 'c': 7, 'd': 6, 'a': 10099}"
      ]
     },
     "execution_count": 23,
     "metadata": {},
     "output_type": "execute_result"
    }
   ],
   "source": [
    "data = {'z':1,'b':2,'c':7,'d':6}\n",
    "data.update(dict(a=10099))\n",
    "data"
   ]
  },
  {
   "cell_type": "markdown",
   "metadata": {},
   "source": [
    "## Merging 2 dictionaries\n"
   ]
  },
  {
   "cell_type": "code",
   "execution_count": 25,
   "metadata": {},
   "outputs": [],
   "source": [
    "data1 = {'a':1,'b':2,'c':7,'d':6}\n",
    "data2 = {'e':1,'f':2}\n",
    "data3 = {'a':\"from data3\",'l':5,'c':\"frome data3\",'f':89}"
   ]
  },
  {
   "cell_type": "code",
   "execution_count": 26,
   "metadata": {},
   "outputs": [
    {
     "data": {
      "text/plain": [
       "{'a': 1, 'b': 2, 'c': 7, 'd': 6, 'e': 1, 'f': 2}"
      ]
     },
     "execution_count": 26,
     "metadata": {},
     "output_type": "execute_result"
    }
   ],
   "source": [
    "data1.update(data2)  # Where data2 is also a dict.\n",
    "data1"
   ]
  },
  {
   "cell_type": "code",
   "execution_count": 27,
   "metadata": {},
   "outputs": [],
   "source": [
    "data1.update(data3)"
   ]
  },
  {
   "cell_type": "code",
   "execution_count": 28,
   "metadata": {},
   "outputs": [
    {
     "data": {
      "text/plain": [
       "{'a': 'from data3',\n",
       " 'b': 2,\n",
       " 'c': 'frome data3',\n",
       " 'd': 6,\n",
       " 'e': 1,\n",
       " 'f': 89,\n",
       " 'l': 5}"
      ]
     },
     "execution_count": 28,
     "metadata": {},
     "output_type": "execute_result"
    }
   ],
   "source": [
    "data1"
   ]
  },
  {
   "cell_type": "markdown",
   "metadata": {},
   "source": [
    "### Deletion of data"
   ]
  },
  {
   "cell_type": "code",
   "execution_count": 29,
   "metadata": {},
   "outputs": [],
   "source": [
    "data = {100:1,'b':2,'c':7,'k':6}\n",
    "del data['b']"
   ]
  },
  {
   "cell_type": "code",
   "execution_count": 30,
   "metadata": {},
   "outputs": [
    {
     "data": {
      "text/plain": [
       "{100: 1, 'c': 7, 'k': 6}"
      ]
     },
     "execution_count": 30,
     "metadata": {},
     "output_type": "execute_result"
    }
   ],
   "source": [
    "data"
   ]
  },
  {
   "cell_type": "code",
   "execution_count": 31,
   "metadata": {},
   "outputs": [],
   "source": [
    "del data"
   ]
  },
  {
   "cell_type": "code",
   "execution_count": 32,
   "metadata": {},
   "outputs": [
    {
     "ename": "NameError",
     "evalue": "name 'data' is not defined",
     "output_type": "error",
     "traceback": [
      "\u001b[1;31m---------------------------------------------------------------------------\u001b[0m",
      "\u001b[1;31mNameError\u001b[0m                                 Traceback (most recent call last)",
      "Cell \u001b[1;32mIn[32], line 1\u001b[0m\n\u001b[1;32m----> 1\u001b[0m \u001b[43mdata\u001b[49m\n",
      "\u001b[1;31mNameError\u001b[0m: name 'data' is not defined"
     ]
    }
   ],
   "source": [
    "data"
   ]
  },
  {
   "cell_type": "code",
   "execution_count": 33,
   "metadata": {},
   "outputs": [],
   "source": [
    "data = {100:1,'b':2,'c':7,'k':6, 'm':[1,2,3]}\n",
    "data.clear()\n",
    "# data['m']=[1,2]"
   ]
  },
  {
   "cell_type": "code",
   "execution_count": 34,
   "metadata": {},
   "outputs": [
    {
     "data": {
      "text/plain": [
       "{}"
      ]
     },
     "execution_count": 34,
     "metadata": {},
     "output_type": "execute_result"
    }
   ],
   "source": [
    "data"
   ]
  },
  {
   "cell_type": "markdown",
   "metadata": {},
   "source": [
    "### Merging 2 list"
   ]
  },
  {
   "cell_type": "code",
   "execution_count": 37,
   "metadata": {},
   "outputs": [],
   "source": [
    "books = [\n",
    "    \"Bhagavad Gita\",\n",
    "    \"Ramayana\",\n",
    "    \"Mahabharata\",\n",
    "    \"Upanishads\",\n",
    "    \"Rigveda\",\n",
    "    \"Atharvaveda\",\n",
    "    \"Vishnu Purana\",\n",
    "    \"Shiva Purana\"]\n",
    "writers = [\n",
    "    \"Sage Vyasa\",\n",
    "    \"Sage Valmiki\",\n",
    "    \"Sage Vyasa\",\n",
    "    \"Various authors\",\n",
    "    \"Various sages\",\n",
    "    \"Various sages\",\n",
    "    \"Various authors\",\n",
    "    \"Various authors\"]\n",
    "c1 = [1,2,3,4]"
   ]
  },
  {
   "cell_type": "code",
   "execution_count": 38,
   "metadata": {},
   "outputs": [
    {
     "name": "stdout",
     "output_type": "stream",
     "text": [
      "<class 'zip'>\n",
      "<zip object at 0x000002217138A440>\n"
     ]
    }
   ],
   "source": [
    "books_writers_dict = zip(books, writers)\n",
    "print(type(books_writers_dict))\n",
    "print(books_writers_dict)\n",
    "\n",
    "# help(zip)\n",
    "# l=list()\n",
    "# Range function: We need to run a loop on the range function to get the values\n",
    "# Zip : We need to run a loop on the zip object to get the values"
   ]
  },
  {
   "cell_type": "code",
   "execution_count": 39,
   "metadata": {},
   "outputs": [
    {
     "name": "stdout",
     "output_type": "stream",
     "text": [
      "('Bhagavad Gita', 'Sage Vyasa')\n",
      "('Ramayana', 'Sage Valmiki')\n",
      "('Mahabharata', 'Sage Vyasa')\n",
      "('Upanishads', 'Various authors')\n",
      "('Rigveda', 'Various sages')\n",
      "('Atharvaveda', 'Various sages')\n",
      "('Vishnu Purana', 'Various authors')\n",
      "('Shiva Purana', 'Various authors')\n"
     ]
    }
   ],
   "source": [
    "for i in books_writers_dict:\n",
    "    print(i)\n",
    "# print(dict(country_specialities))"
   ]
  },
  {
   "cell_type": "code",
   "execution_count": 40,
   "metadata": {},
   "outputs": [
    {
     "name": "stdout",
     "output_type": "stream",
     "text": [
      "{'Bhagavad Gita': 'Sage Vyasa', 'Ramayana': 'Sage Valmiki', 'Mahabharata': 'Sage Vyasa', 'Upanishads': 'Various authors', 'Rigveda': 'Various sages', 'Atharvaveda': 'Various sages', 'Vishnu Purana': 'Various authors', 'Shiva Purana': 'Various authors'}\n"
     ]
    }
   ],
   "source": [
    "books_writers_dict = zip(books, writers)\n",
    "print(dict(books_writers_dict))"
   ]
  },
  {
   "cell_type": "code",
   "execution_count": 41,
   "metadata": {},
   "outputs": [
    {
     "data": {
      "text/plain": [
       "{'Bhagavad Gita': 'Sage Vyasa',\n",
       " 'Ramayana': 'Sage Valmiki',\n",
       " 'Mahabharata': 'Sage Vyasa',\n",
       " 'Upanishads': 'Various authors'}"
      ]
     },
     "execution_count": 41,
     "metadata": {},
     "output_type": "execute_result"
    }
   ],
   "source": [
    "hindu_books = [\n",
    "    \"Bhagavad Gita\",\n",
    "    \"Ramayana\",\n",
    "    \"Mahabharata\",\n",
    "    \"Upanishads\",\n",
    "    \"Rigveda\",\n",
    "    \"Atharvaveda\",\n",
    "    \"Vishnu Purana\",\n",
    "    \"Shiva Purana\"]\n",
    "writers = [\n",
    "    \"Sage Vyasa\",\n",
    "    \"Sage Valmiki\",\n",
    "    \"Sage Vyasa\",\n",
    "    \"Various authors\",\n",
    "    ]\n",
    "\n",
    "hindu_books_writers_dict = zip(hindu_books, writers)\n",
    "dict(hindu_books_writers_dict)"
   ]
  },
  {
   "cell_type": "code",
   "execution_count": 42,
   "metadata": {},
   "outputs": [],
   "source": [
    "hindu_books = [\"Bhagavad Gita\",\"Ramayana\"]\n",
    "writers = [\n",
    "    \"Sage Vyasa\",\n",
    "    \"Sage Valmiki\",\n",
    "    \"Sage Vyasa\",\n",
    "    \"Various authors\",\n",
    "]\n",
    "hindu_books_writers_dict = zip(hindu_books, writers)\n"
   ]
  },
  {
   "cell_type": "code",
   "execution_count": 43,
   "metadata": {},
   "outputs": [
    {
     "data": {
      "text/plain": [
       "{'Bhagavad Gita': 'Sage Vyasa', 'Ramayana': 'Sage Valmiki'}"
      ]
     },
     "execution_count": 43,
     "metadata": {},
     "output_type": "execute_result"
    }
   ],
   "source": [
    "dict(hindu_books_writers_dict)"
   ]
  },
  {
   "cell_type": "code",
   "execution_count": null,
   "metadata": {},
   "outputs": [],
   "source": [
    "zipped_dict = dict((hindu_books_writers_dict))\n",
    "# counrtySpecilities\n",
    "print(zipped_dict)\n",
    "# print(l[0][1])"
   ]
  },
  {
   "cell_type": "code",
   "execution_count": 44,
   "metadata": {},
   "outputs": [
    {
     "name": "stdout",
     "output_type": "stream",
     "text": [
      "(1, 'a')\n",
      "(2, 'b')\n",
      "(3, 'c')\n",
      "(4, 'd')\n",
      "(5, 'e')\n"
     ]
    }
   ],
   "source": [
    "a = [1,2,3,4,5]\n",
    "b = ['a','b','c','d','e']\n",
    "c= zip(a,b)\n",
    "for i in c:\n",
    "    print(i)\n",
    "\n",
    "# done till here"
   ]
  },
  {
   "cell_type": "markdown",
   "metadata": {},
   "source": [
    "### Assignment"
   ]
  },
  {
   "cell_type": "code",
   "execution_count": 45,
   "metadata": {},
   "outputs": [
    {
     "name": "stdout",
     "output_type": "stream",
     "text": [
      "{'belgian horse': 162, 'tiger': 168, 'cat': 58, 'dog': 57, 'cow': 59, 'lion': 109}\n"
     ]
    }
   ],
   "source": [
    "l=list()\n",
    "t=tuple()\n",
    "heights={}\n",
    "heights['belgian horse']= 162\n",
    "heights['tiger']= 168\n",
    "heights['cat']=58\n",
    "heights['dog']=57\n",
    "heights['cow']=59\n",
    "heights['lion']=109\n",
    "print(heights)"
   ]
  },
  {
   "cell_type": "code",
   "execution_count": 46,
   "metadata": {},
   "outputs": [
    {
     "data": {
      "text/plain": [
       "dict_keys(['belgian horse', 'tiger', 'cat', 'dog', 'cow', 'lion'])"
      ]
     },
     "execution_count": 46,
     "metadata": {},
     "output_type": "execute_result"
    }
   ],
   "source": [
    "heights.keys()"
   ]
  },
  {
   "cell_type": "code",
   "execution_count": 47,
   "metadata": {},
   "outputs": [
    {
     "data": {
      "text/plain": [
       "dict_values([162, 168, 58, 57, 59, 109])"
      ]
     },
     "execution_count": 47,
     "metadata": {},
     "output_type": "execute_result"
    }
   ],
   "source": [
    "heights.values()"
   ]
  },
  {
   "cell_type": "code",
   "execution_count": 48,
   "metadata": {},
   "outputs": [
    {
     "name": "stdout",
     "output_type": "stream",
     "text": [
      "dict_items([('belgian horse', 162), ('tiger', 168), ('cat', 58), ('dog', 57), ('cow', 59), ('lion', 109)])\n"
     ]
    }
   ],
   "source": [
    "x=heights.items()\n",
    "print(x)\n",
    "# print(type(x))\n",
    "# print(list(x))\n",
    "# help(x)"
   ]
  },
  {
   "cell_type": "code",
   "execution_count": 49,
   "metadata": {},
   "outputs": [
    {
     "name": "stdout",
     "output_type": "stream",
     "text": [
      "p\n",
      "y\n",
      "t\n",
      "h\n",
      "o\n",
      "n\n"
     ]
    }
   ],
   "source": [
    "for i in \"python\":\n",
    "    print (i)"
   ]
  },
  {
   "cell_type": "code",
   "execution_count": 50,
   "metadata": {
    "scrolled": true
   },
   "outputs": [
    {
     "name": "stdout",
     "output_type": "stream",
     "text": [
      "python\n",
      "java\n",
      "scala\n"
     ]
    }
   ],
   "source": [
    "l=[\"python\",\"java\", \"scala\"]\n",
    "for i in l:\n",
    "    print (i)"
   ]
  },
  {
   "cell_type": "code",
   "execution_count": 51,
   "metadata": {},
   "outputs": [
    {
     "name": "stdout",
     "output_type": "stream",
     "text": [
      "belgian horse\n",
      "tiger\n",
      "cat\n",
      "dog\n",
      "cow\n",
      "lion\n"
     ]
    }
   ],
   "source": [
    "heights={'belgian horse': 162,'tiger': 168, 'cat': 58, 'dog': 57, 'cow': 59, 'lion': 109}\n",
    "for i in heights:\n",
    "    print (i)"
   ]
  },
  {
   "cell_type": "code",
   "execution_count": null,
   "metadata": {},
   "outputs": [],
   "source": [
    "countrylist = {1:'IND',2:'USA',3:'UAE',4:'BEL',5:'DE'}\n",
    "code = int(input('enter country code: '))\n",
    "print(countrylist[code])"
   ]
  },
  {
   "cell_type": "code",
   "execution_count": 52,
   "metadata": {},
   "outputs": [
    {
     "name": "stdout",
     "output_type": "stream",
     "text": [
      "162\n",
      "168\n",
      "58\n",
      "57\n",
      "59\n",
      "109\n"
     ]
    }
   ],
   "source": [
    "heights={'belgian horse': 162,'tiger': 168, 'cat': 58, 'dog': 57, 'cow': 59, 'lion': 109}\n",
    "\n",
    "for i in heights:\n",
    "    print (heights[i])# heights['tiger']"
   ]
  },
  {
   "cell_type": "code",
   "execution_count": 53,
   "metadata": {},
   "outputs": [
    {
     "name": "stdout",
     "output_type": "stream",
     "text": [
      "belgian horse 162\n",
      "tiger 168\n",
      "cat 58\n",
      "dog 57\n",
      "cow 59\n",
      "lion 109\n"
     ]
    }
   ],
   "source": [
    "heights={'belgian horse': 162,'tiger': 168, 'cat': 58, 'dog': 57, 'cow': 59, 'lion': 109}\n",
    "for i in heights:\n",
    "    print (i,heights[i])\n",
    "# print('cat' in heights)"
   ]
  },
  {
   "cell_type": "markdown",
   "metadata": {},
   "source": [
    "#### Take a user input as a animal name and return the height of that animal"
   ]
  },
  {
   "cell_type": "code",
   "execution_count": null,
   "metadata": {},
   "outputs": [],
   "source": [
    "heights={'belgian horse': 162,'tiger': 168, 'cat': 58, 'dog': 57, 'cow': 59, 'lion': 109}"
   ]
  },
  {
   "cell_type": "code",
   "execution_count": 55,
   "metadata": {},
   "outputs": [
    {
     "name": "stdout",
     "output_type": "stream",
     "text": [
      "58\n"
     ]
    }
   ],
   "source": [
    "user_input_animal_name = input(\"Enter the name of animal: \")\n",
    "# print(heights[user_input_animal_name])\n",
    "for x in heights:\n",
    "    if x==user_input_animal_name:\n",
    "        print(heights[x])\n",
    "        break"
   ]
  },
  {
   "cell_type": "markdown",
   "metadata": {},
   "source": [
    "#### Take a user input as a height and print the animal name"
   ]
  },
  {
   "cell_type": "code",
   "execution_count": 58,
   "metadata": {},
   "outputs": [
    {
     "name": "stdout",
     "output_type": "stream",
     "text": [
      "dog\n"
     ]
    }
   ],
   "source": [
    "# findanimal=57\n",
    "heights={'belgian horse': 162,'tiger': 168, 'cat': 58, 'dog': 57, 'cow': 59, 'lion': 109}\n",
    "findAnimalHeight=int(input(\"Enter the height of animal \"))\n",
    "for i in heights:\n",
    "\tif heights[i]==findAnimalHeight:\n",
    "\t\tprint (i)\n",
    "\t\tbreak\n",
    "        "
   ]
  },
  {
   "cell_type": "markdown",
   "metadata": {},
   "source": [
    "#### Handling missing keys in Python dictionaries\n",
    "In python, dictionaries are containers which map one key to its value with access time complexity to be O(1). But in many applications, the user doesn’t know all the keys present in the dictionaries. In such instances, if user tries to access a missing key, an error is popped indicating missing keys.\n",
    "\n"
   ]
  },
  {
   "cell_type": "code",
   "execution_count": 59,
   "metadata": {},
   "outputs": [
    {
     "name": "stdout",
     "output_type": "stream",
     "text": [
      "The value associated with 'c' is : \n"
     ]
    },
    {
     "ename": "KeyError",
     "evalue": "'c'",
     "output_type": "error",
     "traceback": [
      "\u001b[1;31m---------------------------------------------------------------------------\u001b[0m",
      "\u001b[1;31mKeyError\u001b[0m                                  Traceback (most recent call last)",
      "Cell \u001b[1;32mIn[59], line 4\u001b[0m\n\u001b[0;32m      2\u001b[0m d \u001b[38;5;241m=\u001b[39m { \u001b[38;5;124m'\u001b[39m\u001b[38;5;124ma\u001b[39m\u001b[38;5;124m'\u001b[39m : \u001b[38;5;241m1\u001b[39m , \u001b[38;5;124m'\u001b[39m\u001b[38;5;124mb\u001b[39m\u001b[38;5;124m'\u001b[39m : \u001b[38;5;241m2\u001b[39m } \n\u001b[0;32m      3\u001b[0m \u001b[38;5;28mprint\u001b[39m (\u001b[38;5;124m\"\u001b[39m\u001b[38;5;124mThe value associated with \u001b[39m\u001b[38;5;124m'\u001b[39m\u001b[38;5;124mc\u001b[39m\u001b[38;5;124m'\u001b[39m\u001b[38;5;124m is : \u001b[39m\u001b[38;5;124m\"\u001b[39m) \n\u001b[1;32m----> 4\u001b[0m \u001b[38;5;28mprint\u001b[39m (\u001b[43md\u001b[49m\u001b[43m[\u001b[49m\u001b[38;5;124;43m'\u001b[39;49m\u001b[38;5;124;43mc\u001b[39;49m\u001b[38;5;124;43m'\u001b[39;49m\u001b[43m]\u001b[49m) \n\u001b[0;32m      5\u001b[0m \u001b[38;5;28mprint\u001b[39m(\u001b[38;5;124m\"\u001b[39m\u001b[38;5;124m learning python is fun\u001b[39m\u001b[38;5;124m\"\u001b[39m)\n\u001b[0;32m      6\u001b[0m \u001b[38;5;28mprint\u001b[39m(\u001b[38;5;124m\"\u001b[39m\u001b[38;5;124m python is awsome\u001b[39m\u001b[38;5;124m\"\u001b[39m)\n",
      "\u001b[1;31mKeyError\u001b[0m: 'c'"
     ]
    }
   ],
   "source": [
    "# initializing Dictionary \n",
    "d = { 'a' : 1 , 'b' : 2 } \n",
    "print (\"The value associated with 'c' is : \") \n",
    "print (d['c']) \n",
    "print(\" learning python is fun\")\n",
    "print(\" python is awsome\")"
   ]
  },
  {
   "cell_type": "markdown",
   "metadata": {},
   "source": [
    "get(key,def_val) method is useful when we have to check for the key. If the key is present, value associated with the key is printed, else the def_value passed in arguments is returned."
   ]
  },
  {
   "cell_type": "code",
   "execution_count": 60,
   "metadata": {},
   "outputs": [
    {
     "name": "stdout",
     "output_type": "stream",
     "text": [
      "key does not exist \n",
      "learning python is fun\n"
     ]
    }
   ],
   "source": [
    "d = { 'a' : 1 , 'b' : 2,'c': 'python' } \n",
    "# x=input()\n",
    "print (f\"{d.get('d','key does not exist ')}\")\n",
    "print(\"learning python is fun\")"
   ]
  },
  {
   "cell_type": "code",
   "execution_count": 61,
   "metadata": {},
   "outputs": [
    {
     "name": "stdout",
     "output_type": "stream",
     "text": [
      "1111\n"
     ]
    }
   ],
   "source": [
    "d = { 'a' : 1 , 'b' : 2,'c': 'python' } \n",
    "x=d.get('abc',\"1111\") \n",
    "print(x)"
   ]
  },
  {
   "cell_type": "code",
   "execution_count": 62,
   "metadata": {},
   "outputs": [
    {
     "name": "stdout",
     "output_type": "stream",
     "text": [
      "python\n"
     ]
    }
   ],
   "source": [
    "d = { 'a' : 1 , 'b' : 2,'abc': 'python' } \n",
    "x=d.get('abc',\"1111\") \n",
    "print (x)"
   ]
  },
  {
   "cell_type": "code",
   "execution_count": 63,
   "metadata": {},
   "outputs": [
    {
     "name": "stdout",
     "output_type": "stream",
     "text": [
      "key not present\n"
     ]
    }
   ],
   "source": [
    "d = { 'a' : 1 , 'b' : 2 } \n",
    "print (d.get('c','key not present') )"
   ]
  },
  {
   "cell_type": "code",
   "execution_count": 64,
   "metadata": {},
   "outputs": [],
   "source": [
    "phonebook = {\"Mike Jones\": \"281-330-8004\", \"Jenny\": \"867-5309\",\"Destiny\": \"900-783-3369\"}"
   ]
  },
  {
   "cell_type": "code",
   "execution_count": 65,
   "metadata": {},
   "outputs": [
    {
     "name": "stdout",
     "output_type": "stream",
     "text": [
      "list of sorted keys ['Destiny', 'Jenny', 'Mike Jones']\n"
     ]
    }
   ],
   "source": [
    "print(f'list of sorted keys {sorted(phonebook)}')# list of sorted keys \n",
    "# print(phonebook[\"Destiny\"])    "
   ]
  },
  {
   "cell_type": "code",
   "execution_count": 66,
   "metadata": {},
   "outputs": [
    {
     "name": "stdout",
     "output_type": "stream",
     "text": [
      "900-783-3369\n"
     ]
    }
   ],
   "source": [
    "# for contact_name in ['Destiny', 'Jenny', 'Mike Jones']:\n",
    "#     print(contact_name)\n",
    "print(phonebook['Destiny'])"
   ]
  },
  {
   "cell_type": "code",
   "execution_count": 67,
   "metadata": {},
   "outputs": [
    {
     "name": "stdout",
     "output_type": "stream",
     "text": [
      "Destiny 900-783-3369\n",
      "Jenny 867-5309\n",
      "Mike Jones 281-330-8004\n"
     ]
    }
   ],
   "source": [
    "for contact_name in sorted(phonebook): #['Destiny', 'Jenny', 'Mike Jones']\n",
    "    print(contact_name, phonebook[contact_name])"
   ]
  },
  {
   "cell_type": "code",
   "execution_count": 68,
   "metadata": {},
   "outputs": [
    {
     "name": "stdout",
     "output_type": "stream",
     "text": [
      "['a', 'Mike Jones', '3', '1', '##']\n"
     ]
    }
   ],
   "source": [
    "# special char < number < Capital lettr< small letter\n",
    "phonebook = {\"Mike Jones\": \"281-330-8004\",'1': \"867-5309\",'3': \"900-783-3369\",\"##\":234,'a': 456}\n",
    "print(sorted(phonebook,reverse=True))"
   ]
  },
  {
   "cell_type": "code",
   "execution_count": 69,
   "metadata": {},
   "outputs": [
    {
     "name": "stdout",
     "output_type": "stream",
     "text": [
      "This is a Dict:\n",
      "\n",
      "dict_items([('a', 1), ('c', 2), ('b', 3), ('d', 4)])\n",
      "a 1\n",
      "c 2\n",
      "b 3\n",
      "d 4\n"
     ]
    }
   ],
   "source": [
    "print(\"This is a Dict:\\n\") \n",
    "d = {} \n",
    "d['a'] = 1\n",
    "d['c'] = 2\n",
    "d['b'] = 3\n",
    "d['d'] = 4\n",
    "print(d.items())  \n",
    "for key, value in d.items(): \n",
    "    print(key, value)"
   ]
  },
  {
   "cell_type": "code",
   "execution_count": 70,
   "metadata": {},
   "outputs": [
    {
     "name": "stdout",
     "output_type": "stream",
     "text": [
      "\n",
      "This is an Ordered Dict:\n",
      "\n",
      "x 1\n",
      "b 2\n",
      "c 3\n",
      "d 4\n",
      "OrderedDict([('x', 1), ('b', 2), ('c', 3), ('d', 4)])\n"
     ]
    }
   ],
   "source": [
    "from collections import OrderedDict \n",
    "print(\"\\nThis is an Ordered Dict:\\n\") \n",
    "od = OrderedDict() # preserve the order in which key values are entered\n",
    "od['x'] = 1\n",
    "od['b'] = 2\n",
    "od['c'] = 3\n",
    "od['d'] = 4\n",
    "for key, value in od.items(): \n",
    "    print(key, value)\n",
    "print(od)"
   ]
  },
  {
   "cell_type": "markdown",
   "metadata": {},
   "source": [
    "defaultdict” is a container that is defined in module named “collections“. It takes a function(default factory) as its argument. By default, default factory is set to “int” i.e 0. If a key is not present is defaultdict, the default factory value is returned and displayed. It has advantages over get() or setdefault().\n",
    "\n",
    "A default value is set at the declaration. There is no need to invoke the function again and again and pass similar value as arguments. Hence saving time.\n",
    "The implementation of defaultdict is faster than get() or setdefault()."
   ]
  },
  {
   "cell_type": "markdown",
   "metadata": {},
   "source": [
    "Lists are actually pretty quick when you are accessing an item by it’s index number - since all that happens under the hood is a direct access to a known and easy to calculate memory location. Lists though can be very slow when searching (using in) as the only way to search a list is to access each item in the list starting from the zeroth element and going up to the last element in the list.\n",
    "\n",
    "A dictionary utilises a data structure called a hashmap (Python dictionaries are optimised versions), and a key will be converted using a hash algorithm from a string (or whatever) into an integer value, and it is a couple of very simple calculations to take that integer and find the right place in the dictionary to look.\n",
    "\n",
    "One way to think about it is the difference between a list and a dictionary is the difference between a large set of bookshelves vs a library. To find a book across a set of shelves you have to search each shelf one at a time, whereas a library has an index that alllow the reader to go from the title of a book directly to a specific shelf. In a Python dictionary it is the ‘hash algorithm’ that acts as the library index."
   ]
  },
  {
   "cell_type": "markdown",
   "metadata": {},
   "source": [
    "### Assignment\n",
    "Write a program to convert keys in to values and vice versa"
   ]
  },
  {
   "cell_type": "markdown",
   "metadata": {},
   "source": [
    "Instructions\n",
    "You are going to write a program that adds to a travel_log. You can see a travel_log which is a List that contains 2 Dictionaries.\n",
    "\n",
    "Write a function that will work with the following line of code on line 21 to add the entry for Russia to the travel_log.\n",
    "\n",
    "add_new_country(\"Russia\", 2, [\"Moscow\", \"Saint Petersburg\"])\n",
    "You've visited Russia 2 times.\n",
    "\n",
    "You've been to Moscow and Saint Petersburg.\n",
    "\n",
    "DO NOT modify the travel_log directly. You need to create a function that modifies it.\n",
    "\n",
    "Hint\n",
    "Look at the function call above to see what the name of the function should be.\n",
    "\n",
    "The inputs for the function are positional arguments. The order is very important.\n",
    "\n",
    "Feel free to choose your own parameter names.\n",
    "\n",
    "travel_log = [\n",
    "{\n",
    "  \"country\": \"France\",\n",
    "  \"visits\": 12,\n",
    "  \"cities\": [\"Paris\", \"Lille\", \"Dijon\"]\n",
    "},\n",
    "{\n",
    "  \"country\": \"Germany\",\n",
    "  \"visits\": 5,\n",
    "  \"cities\": [\"Berlin\", \"Hamburg\", \"Stuttgart\"]\n",
    "},\n",
    "]\n",
    "#🚨 Do NOT change the code above\n",
    "\n",
    "#TODO: Write the function that will allow new countries\n",
    "#to be added to the travel_log. 👇\n",
    "\n",
    "\n",
    "\n",
    "\n",
    "\n",
    "#🚨 Do not change the code below\n",
    "add_new_country(\"Russia\", 2, [\"Moscow\", \"Saint Petersburg\"])\n",
    "print(travel_log)\n",
    "\n",
    "\n"
   ]
  },
  {
   "cell_type": "markdown",
   "metadata": {},
   "source": [
    "### Assignement\n",
    "ASk for name \n",
    "ask for bid price\n",
    "Add name and bid into the dictionary\n",
    "Ask if new bidder , if yes add the data\n",
    "If not declare the winner"
   ]
  },
  {
   "cell_type": "code",
   "execution_count": null,
   "metadata": {},
   "outputs": [],
   "source": [
    "person = {'name': 'abc', 'age': 50}\n",
    "copy_person = {}\n",
    "for i in person:\n",
    "    copy_person[person[i]] = i\n",
    "print(copy_person)"
   ]
  },
  {
   "cell_type": "code",
   "execution_count": null,
   "metadata": {},
   "outputs": [],
   "source": [
    "inverse=dict()\n",
    "for key in heights:   # 'dog' in heights\n",
    "\tval=heights[key]      # val= heigths[dog]-->57\n",
    "\tif val not in inverse:\n",
    "\t\tinverse[val] = key    #inverse[57]='dog'\n",
    "\t# else:\n",
    "\t# \tinverse[val].append(key)\n",
    "print (inverse)\n"
   ]
  },
  {
   "cell_type": "code",
   "execution_count": null,
   "metadata": {},
   "outputs": [],
   "source": [
    "# Sample Input\n",
    "text_input = \"\"\"\n",
    "Python is an amazing programming language. Python is versatile, powerful, and easy to learn. \n",
    "Python is used for web development, data science, artificial intelligence, and more.\n",
    "\"\"\"\n",
    "\n",
    "# Output\n",
    "Word Frequency Count (Top 5):\n",
    "------------------------------\n",
    "Word       | Frequency\n",
    "------------------------------\n",
    "python     | 3\n",
    "is         | 3\n",
    "and        | 2\n",
    "an         | 1\n",
    "amazing    | 1\n",
    "------------------------------\n",
    "Total Unique Words: 16"
   ]
  },
  {
   "cell_type": "markdown",
   "metadata": {},
   "source": [
    "* Python Program to Add a Key-Value Pair to the Dictionary\n",
    "* Python Program to Concatenate Two Dictionaries Into One\n",
    "* Python Program to Check if a Given Key Exists in a Dictionary or Not* \n",
    "* Python Program to Generate a Dictionary that Contains Numbers (between 1 and n) in the Form (x,x*x).\n",
    "* Python Program to Sum All the Items in a Dictionary\n",
    "* Python Program to Multiply All the Items in a Dictionary\n",
    "* Python Program to Remove the Given Key from a Dictionary\n",
    "* Python Program to Form a Dictionary from an Object of a Class\n",
    "* Python Program to Map Two Lists into a Dictionary\n",
    "* Python Program to Count the Frequency of Words Appearing in a String Using a Dictionary\n",
    "* Python Program to Create a Dictionary with Key as First Character and Value as Words Starting with that Charact* er"
   ]
  },
  {
   "cell_type": "code",
   "execution_count": null,
   "metadata": {},
   "outputs": [],
   "source": [
    "s=10\n",
    "print(\"hello\",s)"
   ]
  },
  {
   "cell_type": "code",
   "execution_count": null,
   "metadata": {},
   "outputs": [],
   "source": [
    "myDict = {'a': 100, 'b':200, 'c':300} \n",
    "sum = 0\n",
    "for i in myDict: \n",
    "    sum = sum + myDict[i] \n",
    "print(\"Sum :\", sum) "
   ]
  },
  {
   "cell_type": "code",
   "execution_count": null,
   "metadata": {},
   "outputs": [],
   "source": [
    "import sys\n",
    "sys.version"
   ]
  },
  {
   "cell_type": "code",
   "execution_count": null,
   "metadata": {},
   "outputs": [],
   "source": []
  }
 ],
 "metadata": {
  "kernelspec": {
   "display_name": "Python 3",
   "language": "python",
   "name": "python3"
  },
  "language_info": {
   "codemirror_mode": {
    "name": "ipython",
    "version": 3
   },
   "file_extension": ".py",
   "mimetype": "text/x-python",
   "name": "python",
   "nbconvert_exporter": "python",
   "pygments_lexer": "ipython3",
   "version": "3.9.0"
  }
 },
 "nbformat": 4,
 "nbformat_minor": 2
}
