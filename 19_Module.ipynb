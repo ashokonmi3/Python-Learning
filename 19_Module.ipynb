{
 "cells": [
  {
   "cell_type": "markdown",
   "metadata": {},
   "source": [
    "Modular programming refers to the process of breaking a large, unwieldy programming task into separate, smaller, more manageable subtasks or modules. Individual modules can then be cobbled together like building blocks to create a larger application.\n",
    "\n",
    "There are several advantages to modularizing code in a large application:\n",
    "\n",
    "Simplicity: Rather than focusing on the entire problem at hand, a module typically focuses on one relatively small portion of the problem. If you’re working on a single module, you’ll have a smaller problem domain to wrap your head around. This makes development easier and less error-prone.\n",
    "\n",
    "Maintainability: Modules are typically designed so that they enforce logical boundaries between different problem domains. If modules are written in a way that minimizes interdependency, there is decreased likelihood that modifications to a single module will have an impact on other parts of the program. (You may even be able to make changes to a module without having any knowledge of the application outside that module.) This makes it more viable for a team of many programmers to work collaboratively on a large application.\n",
    "\n",
    "Reusability: Functionality defined in a single module can be easily reused (through an appropriately defined interface) by other parts of the application. This eliminates the need to recreate duplicate code.\n",
    "\n",
    "Scoping: Modules typically define a separate namespace, which helps avoid collisions between identifiers in different areas of a program. (One of the tenets in the Zen of Python is Namespaces are one honking great idea—let’s do more of those!)\n",
    "\n",
    "Functions, modules and packages are all constructs in Python that promote code modularization."
   ]
  },
  {
   "cell_type": "markdown",
   "metadata": {},
   "source": [
    "## Python Modules: Overview\n",
    "There are actually three different ways to define a module in Python:\n",
    "\n",
    "A module can be written in Python itself.\n",
    "A module can be written in C and loaded dynamically at run-time, like the re (regular expression) module.\n",
    "A built-in module is intrinsically contained in the interpreter, like the itertools module.\n",
    "A module’s contents are accessed the same way in all three cases: with the import statement.\n",
    "\n",
    "Here, the focus will mostly be on modules that are written in Python. The cool thing about modules written in Python is that they are exceedingly straightforward to build. All you need to do is create a file that contains legitimate Python code and then give the file a name with a .py extension. That’s it! No special syntax or voodoo is necessary.\n",
    "\n",
    "For example, suppose you have created a file called mod.py containing the following:"
   ]
  },
  {
   "cell_type": "code",
   "execution_count": null,
   "metadata": {},
   "outputs": [],
   "source": [
    "import mod\n",
    "print(mod.s)\n",
    "print (mod.a)\n",
    "mod.foo(['quux', 'corge', 'grault'])\n",
    "x = mod.Foo()\n",
    "x"
   ]
  },
  {
   "cell_type": "markdown",
   "metadata": {},
   "source": [
    "### The Module Search Path\n",
    "\n",
    "Continuing with the above example, let’s take a look at what happens when Python executes the statement:\n",
    "\n",
    "When the interpreter executes the above import statement, it searches for mod.py in a list of directories assembled from the following sources:\n",
    "\n",
    "* The directory from which the input script was run or the current directory if the interpreter is being run interactively\n",
    "* The list of directories contained in the PYTHONPATH environment variable, if it is set. (The format for PYTHONPATH is OS-dependent but should mimic the PATH environment variable.)\n",
    "* An installation-dependent list of directories configured at the time Python is installed\n",
    "* The resulting search path is accessible in the Python variable sys.path, which is obtained from a module named sys:"
   ]
  },
  {
   "cell_type": "code",
   "execution_count": null,
   "metadata": {},
   "outputs": [],
   "source": [
    "import sys\n",
    "sys.path"
   ]
  },
  {
   "cell_type": "markdown",
   "metadata": {},
   "source": [
    "Thus, to ensure your module is found, you need to do one of the following:\n",
    "\n",
    "* Put mod.py in the directory where the input script is located or the current directory, if interactive\n",
    "* Modify the PYTHONPATH environment variable to contain the directory where mod.py is located before starting the interpreter\n",
    "Or: Put mod.py in one of the directories already contained in the PYTHONPATH variable\n",
    "Put mod.py in one of the installation-dependent directories, which you may or may not have write-access to, depending on the OS\n",
    "* There is actually one additional option: you can put the module file in any directory of your choice and then modify sys.path at run-time so that it contains that directory. For example, in this case, you could put mod.py in directory C:\\Users\\john and then issue the following statements:"
   ]
  },
  {
   "cell_type": "code",
   "execution_count": null,
   "metadata": {},
   "outputs": [],
   "source": [
    "a=sys.path.append(r'C:\\Users\\john')\n",
    "sys.path"
   ]
  },
  {
   "cell_type": "code",
   "execution_count": null,
   "metadata": {},
   "outputs": [],
   "source": [
    "import sys\n",
    "a=sys.path\n",
    "print(a)\n",
    "mypath='C:\\Users\\john'\n",
    "if mypath not in a:# sys.path\n",
    "    sys.path.append(mypath)\n",
    "else :\n",
    "    print(\"no need to add the path\"\")"
   ]
  },
  {
   "cell_type": "raw",
   "metadata": {},
   "source": [
    "Once a module has been imported, you can determine the location where it was found with the module’s __file__ attribute:"
   ]
  },
  {
   "cell_type": "code",
   "execution_count": null,
   "metadata": {},
   "outputs": [],
   "source": [
    "import mod\n",
    "mod.__file__\n",
    "# import re\n",
    "# re.__file__\n",
    "# import socket\n",
    "# dir(mod)"
   ]
  },
  {
   "cell_type": "markdown",
   "metadata": {},
   "source": [
    "\n",
    "### The import Statement\n"
   ]
  },
  {
   "cell_type": "markdown",
   "metadata": {},
   "source": [
    "Module contents are made available to the caller with the import statement. The import statement takes many different forms, shown below.\n",
    "\n",
    "import <module_name>\n",
    "The simplest form is the one already shown above:\n",
    "\n"
   ]
  },
  {
   "cell_type": "markdown",
   "metadata": {},
   "source": [
    "Note that this does not make the module contents directly accessible to the caller. \n",
    "Each module has its own private symbol table, which serves as the global symbol table for all objects \n",
    "defined in the module. Thus, a module creates a separate namespace, as already noted.\n",
    "\n",
    "The statement import <module_name> only places <module_name> in the caller’s symbol table.\n",
    "The objects that are defined in the module remain in the module’s private symbol table.\n",
    "\n",
    "From the caller, objects in the module are only accessible when prefixed with <module_name> via dot notation, \n",
    "as illustrated below.\n",
    "\n",
    "After the following import statement, mod is placed into the local symbol table. Thus, \n",
    "mod has meaning in the caller’s local context:\n"
   ]
  },
  {
   "cell_type": "code",
   "execution_count": null,
   "metadata": {},
   "outputs": [],
   "source": [
    "import mod\n",
    "mod"
   ]
  },
  {
   "cell_type": "markdown",
   "metadata": {},
   "source": [
    "But s and foo remain in the module’s private symbol table and are not meaningful in the local context:\n"
   ]
  },
  {
   "cell_type": "markdown",
   "metadata": {},
   "source": [
    "To be accessed in the local context, names of objects defined in the module must be prefixed by mod:\n"
   ]
  },
  {
   "cell_type": "code",
   "execution_count": null,
   "metadata": {},
   "outputs": [],
   "source": [
    "import mod\n",
    "print (mod.s)\n",
    "mod.foo('quux')\n",
    "print(\"hello\")"
   ]
  },
  {
   "cell_type": "raw",
   "metadata": {},
   "source": [
    "Several comma-separated modules may be specified in a single import statement:\n",
    "\n",
    "import <module_name>[, <module_name> ...]\n"
   ]
  },
  {
   "cell_type": "markdown",
   "metadata": {},
   "source": [
    "### from <module_name> import <name(s)>\n"
   ]
  },
  {
   "cell_type": "markdown",
   "metadata": {},
   "source": [
    "An alternate form of the import statement allows individual objects from the module to be\n",
    "imported directly into the caller’s symbol table:\n",
    "\n",
    "from <module_name> import <name(s)>\n",
    "Following execution of the above statement, <name(s)> can be referenced in the\n",
    "caller’s environment without the <module_name> prefix:\n"
   ]
  },
  {
   "cell_type": "code",
   "execution_count": null,
   "metadata": {},
   "outputs": [],
   "source": [
    "from mod import s, foo\n",
    "# import mod\n",
    "print(s)\n",
    "foo('quux')\n",
    "# print(mod.s)\n",
    "# # s=\n",
    "# foo=\n",
    "# def()\n"
   ]
  },
  {
   "cell_type": "code",
   "execution_count": null,
   "metadata": {},
   "outputs": [],
   "source": [
    "from mod import Foo\n",
    "x = Foo()\n",
    "print(x.get_name())\n",
    "# Because this form of import places the object names \n",
    "# directly into the caller’s symbol table, any objects that \n",
    "# already exist with the same name will be overwritten:\n"
   ]
  },
  {
   "cell_type": "code",
   "execution_count": null,
   "metadata": {},
   "outputs": [],
   "source": [
    "a = \"Local value\"\n",
    "print (a)\n",
    "from mod import a\n",
    "print(a)"
   ]
  },
  {
   "cell_type": "raw",
   "metadata": {},
   "source": [
    "It is even possible to indiscriminately import everything from a module at one fell swoop:\n",
    "\n",
    "from <module_name> import *\n",
    "This will place the names of all objects from <module_name> into the local symbol table, with the exception of any that begin with the underscore (_) character.\n",
    "\n",
    "For example:\n"
   ]
  },
  {
   "cell_type": "code",
   "execution_count": null,
   "metadata": {},
   "outputs": [],
   "source": [
    "a"
   ]
  },
  {
   "cell_type": "code",
   "execution_count": null,
   "metadata": {},
   "outputs": [],
   "source": [
    "foo"
   ]
  },
  {
   "cell_type": "code",
   "execution_count": null,
   "metadata": {},
   "outputs": [],
   "source": [
    "Foo"
   ]
  },
  {
   "cell_type": "raw",
   "metadata": {},
   "source": [
    "This isn’t necessarily recommended in large-scale production code. It’s a bit dangerous because you are entering names into the local symbol table en masse. Unless you know them all well and can be confident there won’t be a conflict, you have a decent chance of overwriting an existing name inadvertently. However, this syntax is quite handy when you are just mucking around with the interactive interpreter, for testing or discovery purposes, because it quickly gives you access to everything a module has to offer without a lot of typing.\n",
    "\n",
    "from <module_name> import <name> as <alt_name>\n",
    "It is also possible to import individual objects but enter them into the local symbol table with alternate names:\n",
    "\n",
    "from <module_name> import <name> as <alt_name>[, <name> as <alt_name> …]\n",
    "This makes it possible to place names directly into the local symbol table but avoid conflicts with previously existing names:\n"
   ]
  },
  {
   "cell_type": "code",
   "execution_count": null,
   "metadata": {},
   "outputs": [],
   "source": [
    "from mod import s as amodstring, a as amodlist\n",
    "s=\"python\"\n",
    "a=5454\n",
    "print(s)\n",
    "print(amodstring)\n",
    "print(a)\n",
    "print(amodlist)"
   ]
  },
  {
   "cell_type": "markdown",
   "metadata": {},
   "source": [
    "import <module_name> as <alt_name>\n",
    "You can also import an entire module under an alternate name:\n"
   ]
  },
  {
   "cell_type": "code",
   "execution_count": null,
   "metadata": {},
   "outputs": [],
   "source": [
    "import mod as my_module\n",
    "import numpy as np\n",
    "import panda as pd\n",
    "import matplotlib as mp\n",
    "print(my_module.a)\n",
    "print(my_module.foo('qux'))\n",
    "import mod \n",
    "print(mod.a)\n",
    "print(mod.foo('qux'))\n",
    "matplotlib.draw()\n",
    "mp.draw()"
   ]
  },
  {
   "cell_type": "markdown",
   "metadata": {},
   "source": [
    "However, Python 3 does not allow the indiscriminate import * syntax from within a function:"
   ]
  },
  {
   "cell_type": "code",
   "execution_count": null,
   "metadata": {},
   "outputs": [],
   "source": [
    "from mod import *\n",
    "print(s)\n",
    "print(a)\n",
    "# foo(\"abcd\")"
   ]
  },
  {
   "cell_type": "code",
   "execution_count": null,
   "metadata": {},
   "outputs": [],
   "source": [
    "def bar():\n",
    "    from mod import *\n",
    "#     from mod import a\n",
    "    print(a)\n",
    "\n",
    "bar()    "
   ]
  },
  {
   "cell_type": "markdown",
   "metadata": {},
   "source": [
    "Lastly, a try statement with an except ImportError clause can be used to guard against unsuccessful import attempts:\n"
   ]
  },
  {
   "cell_type": "code",
   "execution_count": null,
   "metadata": {},
   "outputs": [],
   "source": [
    "try:\n",
    "    # Non-existent module\n",
    "       import mod123\n",
    "except ImportError:\n",
    "    print('Module not found')"
   ]
  },
  {
   "cell_type": "code",
   "execution_count": null,
   "metadata": {},
   "outputs": [],
   "source": [
    "from collections import namedtuple\n",
    "\n",
    "Constants = namedtuple('Constants', ['PI', 'GRAVITY'])\n",
    "constants = Constants(PI=3.14159, GRAVITY=9.8)\n",
    "\n",
    "constants.PI = 3  # This will raise an error: AttributeError"
   ]
  },
  {
   "cell_type": "code",
   "execution_count": null,
   "metadata": {},
   "outputs": [],
   "source": [
    "import sys\n",
    "dir(sys)"
   ]
  },
  {
   "cell_type": "markdown",
   "metadata": {},
   "source": [
    "This module provides access to some objects used or maintained by the\n",
    "interpreter and to functions that interact strongly with the interpreter."
   ]
  },
  {
   "cell_type": "code",
   "execution_count": 10,
   "metadata": {},
   "outputs": [
    {
     "name": "stdout",
     "output_type": "stream",
     "text": [
      "3.9.0 (tags/v3.9.0:9cf6752, Oct  5 2020, 15:34:40) [MSC v.1927 64 bit (AMD64)]\n"
     ]
    }
   ],
   "source": [
    "import sys\n",
    "print (sys.version)\n",
    "# print(sys.__package__)\n",
    "# This module provides access to some objects used or maintained by the\n",
    "#     interpreter and to functions that interact strongly with the interpreter."
   ]
  },
  {
   "cell_type": "code",
   "execution_count": 11,
   "metadata": {},
   "outputs": [
    {
     "name": "stdout",
     "output_type": "stream",
     "text": [
      "sys.version_info(major=3, minor=9, micro=0, releaselevel='final', serial=0)\n"
     ]
    }
   ],
   "source": [
    "print (sys.version_info)"
   ]
  },
  {
   "cell_type": "code",
   "execution_count": null,
   "metadata": {},
   "outputs": [],
   "source": [
    "help(sys)"
   ]
  },
  {
   "cell_type": "code",
   "execution_count": 12,
   "metadata": {},
   "outputs": [
    {
     "data": {
      "text/plain": [
       "'win32'"
      ]
     },
     "execution_count": 12,
     "metadata": {},
     "output_type": "execute_result"
    }
   ],
   "source": [
    "sys.platform"
   ]
  },
  {
   "cell_type": "code",
   "execution_count": 13,
   "metadata": {},
   "outputs": [
    {
     "data": {
      "text/plain": [
       "'c:\\\\Users\\\\91973\\\\AppData\\\\Local\\\\Programs\\\\Python\\\\Python39\\\\python.exe'"
      ]
     },
     "execution_count": 13,
     "metadata": {},
     "output_type": "execute_result"
    }
   ],
   "source": [
    "sys.executable"
   ]
  },
  {
   "cell_type": "code",
   "execution_count": 14,
   "metadata": {},
   "outputs": [
    {
     "data": {
      "text/plain": [
       "['d:\\\\Study\\\\Python\\\\Python_Training',\n",
       " 'c:\\\\Users\\\\91973\\\\AppData\\\\Local\\\\Programs\\\\Python\\\\Python39\\\\python39.zip',\n",
       " 'c:\\\\Users\\\\91973\\\\AppData\\\\Local\\\\Programs\\\\Python\\\\Python39\\\\DLLs',\n",
       " 'c:\\\\Users\\\\91973\\\\AppData\\\\Local\\\\Programs\\\\Python\\\\Python39\\\\lib',\n",
       " 'c:\\\\Users\\\\91973\\\\AppData\\\\Local\\\\Programs\\\\Python\\\\Python39',\n",
       " '',\n",
       " 'C:\\\\Users\\\\91973\\\\AppData\\\\Roaming\\\\Python\\\\Python39\\\\site-packages',\n",
       " 'c:\\\\Users\\\\91973\\\\AppData\\\\Local\\\\Programs\\\\Python\\\\Python39\\\\lib\\\\site-packages',\n",
       " 'c:\\\\Users\\\\91973\\\\AppData\\\\Local\\\\Programs\\\\Python\\\\Python39\\\\lib\\\\site-packages\\\\win32',\n",
       " 'c:\\\\Users\\\\91973\\\\AppData\\\\Local\\\\Programs\\\\Python\\\\Python39\\\\lib\\\\site-packages\\\\win32\\\\lib',\n",
       " 'c:\\\\Users\\\\91973\\\\AppData\\\\Local\\\\Programs\\\\Python\\\\Python39\\\\lib\\\\site-packages\\\\Pythonwin']"
      ]
     },
     "execution_count": 14,
     "metadata": {},
     "output_type": "execute_result"
    }
   ],
   "source": [
    "sys.path"
   ]
  },
  {
   "cell_type": "code",
   "execution_count": 15,
   "metadata": {},
   "outputs": [
    {
     "data": {
      "text/plain": [
       "'little'"
      ]
     },
     "execution_count": 15,
     "metadata": {},
     "output_type": "execute_result"
    }
   ],
   "source": [
    "sys.byteorder"
   ]
  },
  {
   "cell_type": "code",
   "execution_count": null,
   "metadata": {},
   "outputs": [],
   "source": []
  },
  {
   "cell_type": "code",
   "execution_count": null,
   "metadata": {},
   "outputs": [],
   "source": [
    "sys.argv"
   ]
  },
  {
   "cell_type": "markdown",
   "metadata": {},
   "source": [
    "Commandline parameter"
   ]
  },
  {
   "cell_type": "code",
   "execution_count": 16,
   "metadata": {},
   "outputs": [],
   "source": [
    "import os"
   ]
  },
  {
   "cell_type": "code",
   "execution_count": null,
   "metadata": {},
   "outputs": [],
   "source": [
    "dir(os)"
   ]
  },
  {
   "cell_type": "code",
   "execution_count": 17,
   "metadata": {},
   "outputs": [
    {
     "data": {
      "text/plain": [
       "'d:\\\\Study\\\\Python\\\\Python_Training'"
      ]
     },
     "execution_count": 17,
     "metadata": {},
     "output_type": "execute_result"
    }
   ],
   "source": [
    "# help(os)\n",
    "os.getcwd()# pwd in linux"
   ]
  },
  {
   "cell_type": "code",
   "execution_count": 18,
   "metadata": {},
   "outputs": [
    {
     "data": {
      "text/plain": [
       "['.git',\n",
       " '.idea',\n",
       " '.ipynb_checkpoints',\n",
       " '01_basicDataType.py',\n",
       " '01_Basic_Data_type.ipynb',\n",
       " '01_C_Compilation.png',\n",
       " '01_DataType.png',\n",
       " '01_Division.gif',\n",
       " '01_Introduction.ipynb',\n",
       " '01_JavaCompilation.png',\n",
       " '02_String.ipynb',\n",
       " '03_List.ipynb',\n",
       " '03_UserInput.ipynb',\n",
       " '04_Conditions.ipynb',\n",
       " '04_Time.png',\n",
       " '05_Forloop.png',\n",
       " '05_Loops.ipynb',\n",
       " '05_MiniProject.ipynb',\n",
       " '05_set_union_b.png',\n",
       " '05_WhilerLoop.jpg',\n",
       " '07_Tuple.ipynb',\n",
       " '08_Sets.ipynb',\n",
       " '08_Sets.jpg',\n",
       " '08_Sets1.jpg',\n",
       " '09_Dictionary.ipynb',\n",
       " '10_FileHandling.ipynb',\n",
       " '10_Filehandling_write_mode.txt',\n",
       " '11_Functions.ipynb',\n",
       " '11_localsglobals.ipynb',\n",
       " '11_recap_project.txt',\n",
       " '12_02_Rectangle.png',\n",
       " '12_03_Employee.png',\n",
       " '12_04_datatype.png',\n",
       " '12_Class.ipynb',\n",
       " '12__01_OOP_Circle_.png',\n",
       " '13_Inheritance_problem.txt',\n",
       " '13_Inhrtitance.ipynb',\n",
       " '14_Abstraction.ipynb',\n",
       " '15_ClassStaticMethod.ipynb',\n",
       " '17_Operator and Function overloading.ipynb',\n",
       " '18_Exception.ipynb',\n",
       " '18_output.txt',\n",
       " '19_CommandlineArg.py',\n",
       " '19_Module.ipynb',\n",
       " '20_DocTest.ipynb',\n",
       " '21_Numpy_Introduction.ipynb',\n",
       " '22_API_ILO_country_YU.csv',\n",
       " '22_edu.html',\n",
       " '22_Panda_intro.ipynb',\n",
       " '24_app.log',\n",
       " '29_DatabaseConnect copy.py',\n",
       " '2ord7hqoz0g.zip',\n",
       " '30_MSSQL_DatabaseConnect.py',\n",
       " '775_m8_gui_app_v1.0.ipynb',\n",
       " '775_m8_in_class_codes_v1.0.ipynb',\n",
       " '8v4mqr1qvbj.rar',\n",
       " 'advance2',\n",
       " 'app.log',\n",
       " 'app_2024-11-26_23-10-31.log',\n",
       " 'app_2024-11-26_23-10-31.log.1',\n",
       " 'app_2024-11-26_23-10-31.log.2',\n",
       " 'app_2024-11-26_23-10-31.log.3',\n",
       " 'app_2024-11-26_23-10-31.log.4',\n",
       " 'app_2024-11-26_23-10-31.log.5',\n",
       " 'app_2024-11-26_23-11-50.log',\n",
       " 'app_2024-11-26_23-11-50.log.1',\n",
       " 'app_2024-11-26_23-11-50.log.2',\n",
       " 'app_2024-11-26_23-11-50.log.3',\n",
       " 'app_2024-11-26_23-11-50.log.4',\n",
       " 'app_2024-11-26_23-11-50.log.5',\n",
       " 'app_2024-11-26_23-12-30.log',\n",
       " 'app_2024-11-26_23-12-30.log.1',\n",
       " 'app_2024-11-26_23-12-30.log.2',\n",
       " 'app_2024-11-26_23-12-30.log.3',\n",
       " 'app_2024-11-26_23-12-30.log.4',\n",
       " 'app_2024-11-26_23-12-30.log.5',\n",
       " 'Best Secure Ptactice.ipynb',\n",
       " 'capgemini.ipynb',\n",
       " 'country_data.xml',\n",
       " 'Data Science',\n",
       " 'data.json',\n",
       " 'data.yaml',\n",
       " 'Database.ipynb',\n",
       " 'data_file.json',\n",
       " 'Day1_assignment.txt',\n",
       " 'Day2_assignment.txt',\n",
       " 'db_operations.log',\n",
       " 'default-soapui-workspace.xml',\n",
       " 'developer.json',\n",
       " 'developerPrettyPrint.json',\n",
       " 'DSA',\n",
       " 'employee_file.csv',\n",
       " 'employee_file123.csv',\n",
       " 'employee_file12334.csv',\n",
       " 'employee_file123e34.csv',\n",
       " 'employee_file1test.csv',\n",
       " 'employee_file2.csv',\n",
       " 'employee_file456.csv',\n",
       " 'employee_file4561.csv',\n",
       " 'employee_file4666.csv',\n",
       " 'Enum.ipynb',\n",
       " 'example1',\n",
       " 'example2',\n",
       " 'example3a',\n",
       " 'example3b',\n",
       " 'Graph-Matplotlib-tutorial.jpg',\n",
       " 'How does Python import Modules.ipynb',\n",
       " 'hrdata_modified.csv',\n",
       " 'ic-class-explosion.a3d42b8c9b91.jpg',\n",
       " 'ic-initial-employee-inheritance.jpg',\n",
       " 'intersection-in-python.jpg',\n",
       " 'Interview.ipynb',\n",
       " 'items.yaml',\n",
       " 'Json.jpg',\n",
       " 'Json1.jpg',\n",
       " 'jsontut.ipynb',\n",
       " 'log',\n",
       " 'MatplotGraph1-Python-Matplotlib-Edureka-768x644.png',\n",
       " 'Matplotlibs_tutorial.ipynb',\n",
       " 'mod.py',\n",
       " 'mod1.py',\n",
       " 'Module.py.ipynb',\n",
       " 'Module1.py',\n",
       " 'movies.xml',\n",
       " 'MultiDimensionalArray.jpeg',\n",
       " 'MultipleInheritance.jpg',\n",
       " 'multiplication.png',\n",
       " 'multithread_proc.py',\n",
       " 'myenv',\n",
       " 'Networking.ipynb',\n",
       " 'New Text Document.txt',\n",
       " 'output.xml',\n",
       " 'output1.txt',\n",
       " 'output12.txt',\n",
       " 'output_DATA_NEWS_23.csv',\n",
       " 'output_file.txt',\n",
       " 'package.ipynb',\n",
       " 'panda.ipynb',\n",
       " 'pdbExample.py',\n",
       " 'PDB_Debugger.ipynb',\n",
       " 'PDF_Python_Tricks_A_Buffet_Of_Awesome_Py.pdf',\n",
       " 'plusoperator.png',\n",
       " 'QASession.ipynb',\n",
       " 'Quindle.ipynb',\n",
       " 'quiz_capgemini.ipynb',\n",
       " 'Reference.jpg',\n",
       " 'Reference1.png',\n",
       " 'Reference2.jpg',\n",
       " 'rosen.png',\n",
       " 'sample.xml',\n",
       " 'sample_inspect.py',\n",
       " 'Scipy_Intro.ipynb',\n",
       " 'Selenium',\n",
       " 'SeleniumPythonTestSummary_preeti.html',\n",
       " 'Session 1.1 - Python-Installation and Basics.ipynb',\n",
       " 'Session 1.2 - String and list Objects.ipynb',\n",
       " 'Session2.1_Containers and Functions.ipynb',\n",
       " 'session2.2_Object Oriented Programming and File IO.ipynb',\n",
       " 'session3.1_Module Exceptions and Database programming_final.ipynb',\n",
       " 'sitephoto.jpg',\n",
       " 'soapui-settings.xml',\n",
       " 'SysAdmin.ipynb',\n",
       " 'test.db',\n",
       " 'test.log',\n",
       " 'test212',\n",
       " 'Time_Space_Complexity.ipynb',\n",
       " 'Tkinter.ipynb',\n",
       " 'Unit Test',\n",
       " 'Untitled9.ipynb',\n",
       " 'users.yaml',\n",
       " 'util.py',\n",
       " 'What is a Module.ipynb',\n",
       " 'world-bank-youth-unemployment.zip',\n",
       " 'XML.ipynb',\n",
       " 'ymlhandling.ipynb',\n",
       " '__pycache__']"
      ]
     },
     "execution_count": 18,
     "metadata": {},
     "output_type": "execute_result"
    }
   ],
   "source": [
    "os.listdir() # dir in windows or ls in linux"
   ]
  },
  {
   "cell_type": "code",
   "execution_count": null,
   "metadata": {},
   "outputs": [],
   "source": [
    "os.mkdir('C:\\\\Users\\\\91973\\\\Python_Training\\\\test212')"
   ]
  },
  {
   "cell_type": "code",
   "execution_count": null,
   "metadata": {},
   "outputs": [],
   "source": [
    "os.getcwd()\n",
    "fopen(\"'C:\\\\Users\\\\91973\\\\desktop\\\\text.txt  \")\n",
    "os.chdir('C:\\\\Users\\\\91973\\\\Python_Training\\\\test212')# cd \n",
    "os.getcwd()"
   ]
  },
  {
   "cell_type": "code",
   "execution_count": null,
   "metadata": {},
   "outputs": [],
   "source": [
    "dir(os)"
   ]
  },
  {
   "cell_type": "code",
   "execution_count": null,
   "metadata": {},
   "outputs": [],
   "source": [
    "os.getpid()"
   ]
  },
  {
   "cell_type": "code",
   "execution_count": null,
   "metadata": {},
   "outputs": [],
   "source": [
    "# os.chdir('C:\\\\Users\\\\assharma\\\\')\n",
    "os.rename('C:\\\\Users\\\\assharma\\\\test212','C:\\\\Users\\\\assharma\\\\test19331111')# mv newname filename"
   ]
  },
  {
   "cell_type": "code",
   "execution_count": null,
   "metadata": {},
   "outputs": [],
   "source": [
    "os.rmdir('C:\\\\Users\\\\assharma\\\\test19331111')# os.chmod('C:\\\\Users\\\\assharma\\\\test12',777)"
   ]
  },
  {
   "cell_type": "code",
   "execution_count": null,
   "metadata": {},
   "outputs": [],
   "source": [
    "os.chmod('C:\\\\Users\\\\assharma\\\\test',777)  #7 -- read write and exeucte"
   ]
  },
  {
   "cell_type": "code",
   "execution_count": null,
   "metadata": {},
   "outputs": [],
   "source": [
    "# os.system(\"shutdown /s /t 1\")\n",
    "# os.system(\"shutdown /r /t 1\")"
   ]
  },
  {
   "cell_type": "code",
   "execution_count": null,
   "metadata": {},
   "outputs": [],
   "source": [
    "import subprocess\n",
    "import os\n",
    "result = subprocess.run(['lsof', '-n', \"-i4TCP:%s\" % 80],stdout=subprocess.PIPE,stderr=subprocess.PIPE)\n",
    "# print(result)\n",
    "# help(subprocess)"
   ]
  },
  {
   "cell_type": "code",
   "execution_count": 19,
   "metadata": {},
   "outputs": [
    {
     "name": "stdout",
     "output_type": "stream",
     "text": [
      "Port: 80 => service name: http\n",
      "Port: 25 => service name: smtp\n",
      "Port: 53 => service name: domain\n"
     ]
    }
   ],
   "source": [
    "import socket \n",
    "# help(socket)\n",
    "# print(socket.__file__)\n",
    "def find_service_name(): \n",
    "    protocolname = 'tcp' \n",
    "    for port in [80, 25]: \n",
    "        print (\"Port: %s => service name: %s\" %(port, socket.getservbyport(port, protocolname))) \n",
    "     \n",
    "    print (\"Port: %s => service name: %s\" %(53, socket.getservbyport(53, 'udp'))) \n",
    "      \n",
    "find_service_name() "
   ]
  },
  {
   "cell_type": "markdown",
   "metadata": {},
   "source": [
    "\n",
    "#### MATH Module"
   ]
  },
  {
   "cell_type": "code",
   "execution_count": 20,
   "metadata": {},
   "outputs": [],
   "source": [
    "import math"
   ]
  },
  {
   "cell_type": "code",
   "execution_count": null,
   "metadata": {},
   "outputs": [],
   "source": [
    "dir(math)"
   ]
  },
  {
   "cell_type": "code",
   "execution_count": 21,
   "metadata": {},
   "outputs": [
    {
     "name": "stdout",
     "output_type": "stream",
     "text": [
      "0.6674572160283838\n"
     ]
    }
   ],
   "source": [
    "print (math.acos(math.pi/4))"
   ]
  },
  {
   "cell_type": "code",
   "execution_count": 22,
   "metadata": {},
   "outputs": [
    {
     "name": "stdout",
     "output_type": "stream",
     "text": [
      "0.9033391107665127\n"
     ]
    }
   ],
   "source": [
    "print (math.asin(math.pi/4))"
   ]
  },
  {
   "cell_type": "code",
   "execution_count": 23,
   "metadata": {},
   "outputs": [
    {
     "name": "stdout",
     "output_type": "stream",
     "text": [
      "10.0\n"
     ]
    }
   ],
   "source": [
    "print (math.log(1024,2))"
   ]
  },
  {
   "cell_type": "code",
   "execution_count": 24,
   "metadata": {},
   "outputs": [
    {
     "name": "stdout",
     "output_type": "stream",
     "text": [
      "23\n"
     ]
    }
   ],
   "source": [
    "print (math.trunc(23.000))"
   ]
  },
  {
   "cell_type": "markdown",
   "metadata": {},
   "source": [
    "#### Random Module"
   ]
  },
  {
   "cell_type": "code",
   "execution_count": 25,
   "metadata": {},
   "outputs": [],
   "source": [
    "import random\n",
    "# dir(random)"
   ]
  },
  {
   "cell_type": "code",
   "execution_count": 28,
   "metadata": {},
   "outputs": [
    {
     "data": {
      "text/plain": [
       "2"
      ]
     },
     "execution_count": 28,
     "metadata": {},
     "output_type": "execute_result"
    }
   ],
   "source": [
    "a= random.choice([1,2,3,5,4,444,4,45,443])\n",
    "a"
   ]
  },
  {
   "cell_type": "code",
   "execution_count": 30,
   "metadata": {},
   "outputs": [
    {
     "data": {
      "text/plain": [
       "5"
      ]
     },
     "execution_count": 30,
     "metadata": {},
     "output_type": "execute_result"
    }
   ],
   "source": [
    "random.randrange(6)"
   ]
  },
  {
   "cell_type": "code",
   "execution_count": null,
   "metadata": {},
   "outputs": [],
   "source": [
    "help(random)"
   ]
  },
  {
   "cell_type": "code",
   "execution_count": 33,
   "metadata": {},
   "outputs": [
    {
     "data": {
      "text/plain": [
       "3.7331562702610213"
      ]
     },
     "execution_count": 33,
     "metadata": {},
     "output_type": "execute_result"
    }
   ],
   "source": [
    "# random.randint(1.0,2.0)\n",
    "# print(help(random.randint()))\n",
    "# help(random)\n",
    "random.uniform(1, 5)"
   ]
  },
  {
   "cell_type": "code",
   "execution_count": 34,
   "metadata": {},
   "outputs": [
    {
     "data": {
      "text/plain": [
       "[9535634,\n",
       " 3232060,\n",
       " 4469418,\n",
       " 1891401,\n",
       " 3614195,\n",
       " 8059260,\n",
       " 8700389,\n",
       " 8073367,\n",
       " 3700278,\n",
       " 2494392,\n",
       " 7183026,\n",
       " 6958592,\n",
       " 4889441,\n",
       " 5902996,\n",
       " 8838004,\n",
       " 1129107,\n",
       " 5467695,\n",
       " 6901138,\n",
       " 8211082,\n",
       " 6691188,\n",
       " 8500243,\n",
       " 4359446,\n",
       " 2750453,\n",
       " 7452943,\n",
       " 37710,\n",
       " 3650909,\n",
       " 7455790,\n",
       " 7732823,\n",
       " 8036243,\n",
       " 5238136,\n",
       " 9866377,\n",
       " 1270855,\n",
       " 2499893,\n",
       " 3488232,\n",
       " 3200953,\n",
       " 4567776,\n",
       " 8665229,\n",
       " 6809622,\n",
       " 8166248,\n",
       " 543493,\n",
       " 4458495,\n",
       " 5911091,\n",
       " 1249368,\n",
       " 9543250,\n",
       " 810662,\n",
       " 352727,\n",
       " 2213516,\n",
       " 3972515,\n",
       " 2222691,\n",
       " 5836225,\n",
       " 4447952,\n",
       " 4061469,\n",
       " 4230061,\n",
       " 3160512,\n",
       " 8522509,\n",
       " 3371488,\n",
       " 6169679,\n",
       " 6700832,\n",
       " 7246305,\n",
       " 9497488]"
      ]
     },
     "execution_count": 34,
     "metadata": {},
     "output_type": "execute_result"
    }
   ],
   "source": [
    "random.sample(range(10000000), 60)\n",
    "# Chooses k unique random elements from a population sequence or set."
   ]
  },
  {
   "cell_type": "code",
   "execution_count": 35,
   "metadata": {},
   "outputs": [
    {
     "data": {
      "text/plain": [
       "['_STRUCT_TM_ITEMS',\n",
       " '__doc__',\n",
       " '__loader__',\n",
       " '__name__',\n",
       " '__package__',\n",
       " '__spec__',\n",
       " 'altzone',\n",
       " 'asctime',\n",
       " 'ctime',\n",
       " 'daylight',\n",
       " 'get_clock_info',\n",
       " 'gmtime',\n",
       " 'localtime',\n",
       " 'mktime',\n",
       " 'monotonic',\n",
       " 'monotonic_ns',\n",
       " 'perf_counter',\n",
       " 'perf_counter_ns',\n",
       " 'process_time',\n",
       " 'process_time_ns',\n",
       " 'sleep',\n",
       " 'strftime',\n",
       " 'strptime',\n",
       " 'struct_time',\n",
       " 'thread_time',\n",
       " 'thread_time_ns',\n",
       " 'time',\n",
       " 'time_ns',\n",
       " 'timezone',\n",
       " 'tzname']"
      ]
     },
     "execution_count": 35,
     "metadata": {},
     "output_type": "execute_result"
    }
   ],
   "source": [
    "# random.sample(range(20), 5)\n",
    "import time\n",
    "dir(time)"
   ]
  },
  {
   "cell_type": "code",
   "execution_count": 53,
   "metadata": {},
   "outputs": [],
   "source": [
    "import datetime"
   ]
  },
  {
   "cell_type": "code",
   "execution_count": null,
   "metadata": {},
   "outputs": [],
   "source": [
    "# dir(datetime)\n",
    "print(\"a)"
   ]
  },
  {
   "cell_type": "code",
   "execution_count": null,
   "metadata": {},
   "outputs": [],
   "source": [
    "# help(datetime)\n",
    "# print(tzinfo)\n",
    "dir(datetime)"
   ]
  },
  {
   "cell_type": "code",
   "execution_count": 36,
   "metadata": {},
   "outputs": [
    {
     "name": "stdout",
     "output_type": "stream",
     "text": [
      "before sleep\n",
      "after sleep\n"
     ]
    }
   ],
   "source": [
    "from time import sleep\n",
    "print( \"before sleep\")\n",
    "sleep(10)\n",
    "print(\"after sleep\")"
   ]
  },
  {
   "cell_type": "code",
   "execution_count": null,
   "metadata": {},
   "outputs": [],
   "source": [
    "import mod\n",
    "# print (mod.stringModule)\n",
    "# print(type(mod.a))\n",
    "help(mod)\n",
    "# print(mod.__doc__)\n",
    "# print(\"type of \",type(mod.foo(2)))"
   ]
  },
  {
   "cell_type": "code",
   "execution_count": 37,
   "metadata": {},
   "outputs": [
    {
     "name": "stdout",
     "output_type": "stream",
     "text": [
      "\n",
      "Please wait a moment while I gather a list of all available modules...\n",
      "\n"
     ]
    },
    {
     "name": "stderr",
     "output_type": "stream",
     "text": [
      "c:\\Users\\91973\\AppData\\Local\\Programs\\Python\\Python39\\lib\\pkgutil.py:93: UserWarning: The numpy.array_api submodule is still experimental. See NEP 47.\n",
      "  __import__(info.name)\n"
     ]
    },
    {
     "name": "stdout",
     "output_type": "stream",
     "text": [
      "01_basicDataType    bdb                 marshal             sspicon\n",
      "19_CommandlineArg   binascii            math                stack_data\n",
      "29_DatabaseConnect copy binhex              matplotlib          stat\n",
      "30_MSSQL_DatabaseConnect bisect              matplotlib_inline   statistics\n",
      "629853fdff261ed89b74__mypyc black               mimetypes           string\n",
      "CSV                 blackd              mmap                stringprep\n",
      "IPython             blib2to3            mmapfile            struct\n",
      "Module              builtins            mmsystem            subprocess\n",
      "Module1             bz2                 mod                 sunau\n",
      "Module2             cProfile            mod1                symbol\n",
      "PIL                 calendar            modulefinder        symtable\n",
      "__future__          certifi             mpl_toolkits        sys\n",
      "_abc                cgi                 msilib              sysconfig\n",
      "_aix_support        cgitb               msvcrt              tabnanny\n",
      "_ast                charset_normalizer  multiprocessing     tarfile\n",
      "_asyncio            chunk               multithread_proc    telnetlib\n",
      "_bisect             click               mypy_extensions     tempfile\n",
      "_black_version      cmath               mysql               test\n",
      "_blake2             cmd                 mysqlx              textwrap\n",
      "_bootlocale         code                nb_black            this\n",
      "_bootsubprocess     codecs              nest_asyncio        threading\n",
      "_bz2                codeop              netbios             threadpoolctl\n",
      "_codecs             collections         netrc               time\n",
      "_codecs_cn          colorama            nntplib             timeit\n",
      "_codecs_hk          colorsys            nt                  timer\n",
      "_codecs_iso2022     comm                ntpath              tkinter\n",
      "_codecs_jp          commctrl            ntsecuritycon       token\n",
      "_codecs_kr          compileall          nturl2path          tokenize\n",
      "_codecs_tw          concurrent          numbers             tomli\n",
      "_collections        configparser        numpy               tornado\n",
      "_collections_abc    contextlib          odbc                trace\n",
      "_compat_pickle      contextvars         opcode              traceback\n",
      "_compression        contourpy           operator            tracemalloc\n",
      "_contextvars        copy                optparse            traitlets\n",
      "_csv                copyreg             os                  tty\n",
      "_ctypes             crypt               packaging           turtle\n",
      "_ctypes_test        csv                 panda               turtledemo\n",
      "_datetime           ctypes              pandas              types\n",
      "_decimal            curses              parser              typing\n",
      "_distutils_hack     cycler              parso               typing_extensions\n",
      "_elementtree        dataclasses         pathlib             tzdata\n",
      "_functools          datetime            pathspec            unicodedata\n",
      "_hashlib            dateutil            pdb                 unittest\n",
      "_heapq              dbi                 pdbExample          urllib\n",
      "_imp                dbm                 perfmon             urllib3\n",
      "_io                 dde                 pickle              util\n",
      "_json               debugpy             pickletools         uu\n",
      "_locale             decimal             pip                 uuid\n",
      "_lsprof             decorator           pipes               venv\n",
      "_lzma               difflib             pitch               warnings\n",
      "_markupbase         dis                 pkg_resources       wave\n",
      "_md5                distutils           pkgutil             wcwidth\n",
      "_msi                docopt              platform            weakref\n",
      "_multibytecodec     doctest             platformdirs        webbrowser\n",
      "_multiprocessing    easy_install        plistlib            win2kras\n",
      "_mysql_connector    email               poplib              win32api\n",
      "_mysqlxpb           encodings           posixpath           win32clipboard\n",
      "_opcode             ensurepip           pprint              win32com\n",
      "_operator           enum                profile             win32con\n",
      "_osx_support        errno               prompt_toolkit      win32console\n",
      "_overlapped         exceptiongroup      pstats              win32cred\n",
      "_peg_parser         executing           psutil              win32crypt\n",
      "_pickle             faulthandler        pty                 win32cryptcon\n",
      "_py_abc             filecmp             pure_eval           win32event\n",
      "_pydecimal          fileinput           py_compile          win32evtlog\n",
      "_pyio               first               pyclbr              win32evtlogutil\n",
      "_queue              fnmatch             pydoc               win32file\n",
      "_random             fontTools           pydoc_data          win32gui\n",
      "_sha1               formatter           pyexpat             win32gui_struct\n",
      "_sha256             fractions           pyflakes            win32help\n",
      "_sha3               ftplib              pygments            win32inet\n",
      "_sha512             functools           pylab               win32inetcon\n",
      "_signal             gc                  pyparsing           win32job\n",
      "_sitebuiltins       genericpath         pysys               win32lz\n",
      "_socket             getopt              pythoncom           win32net\n",
      "_sqlite3            getpass             pytz                win32netcon\n",
      "_sre                gettext             pyvim               win32pdh\n",
      "_ssl                glob                pywin               win32pdhquery\n",
      "_stat               graphlib            pywin32_bootstrap   win32pdhutil\n",
      "_statistics         gzip                pywin32_testutil    win32pipe\n",
      "_string             hashlib             pywintypes          win32print\n",
      "_strptime           heapq               queue               win32process\n",
      "_struct             hmac                quopri              win32profile\n",
      "_symtable           html                random              win32ras\n",
      "_testbuffer         http                rasutil             win32rcparser\n",
      "_testcapi           idlelib             re                  win32security\n",
      "_testconsole        idna                regcheck            win32service\n",
      "_testimportmultiple imaplib             regutil             win32serviceutil\n",
      "_testmultiphase     imghdr              reprlib             win32timezone\n",
      "_thread             imp                 requests            win32trace\n",
      "_threading_local    importlib           rlcompleter         win32traceutil\n",
      "_tkinter            importlib_metadata  runpy               win32transaction\n",
      "_tracemalloc        importlib_resources sample_inspect      win32ts\n",
      "_uuid               inspect             sched               win32ui\n",
      "_warnings           io                  scipy               win32uiole\n",
      "_weakref            ipaddress           secrets             win32verstamp\n",
      "_weakrefset         ipykernel           select              win32wnet\n",
      "_win32sysloader     ipykernel_launcher  selectors           winerror\n",
      "_winapi             isapi               servicemanager      winioctlcon\n",
      "_winxptheme         itertools           setuptools          winnt\n",
      "_xxsubinterpreters  jedi                shelve              winperf\n",
      "_zoneinfo           joblib              shlex               winreg\n",
      "abc                 json                shutil              winsound\n",
      "adodbapi            jupyter             signal              winxpgui\n",
      "afxres              jupyter_client      site                winxptheme\n",
      "aifc                jupyter_core        six                 wsgiref\n",
      "analyzer_c          keyword             sklearn             xdrlib\n",
      "antigravity         kiwisolver          smtpd               xml\n",
      "argparse            lab_black           smtplib             xmlrpc\n",
      "array               lecture_class_a_text_notes sndhdr              xxsubtype\n",
      "ast                 lecture_loops_text_notes (1) socket              zipapp\n",
      "asttokens           lib2to3             socketserver        zipfile\n",
      "asynchat            linecache           sqlite3             zipimport\n",
      "asyncio             locale              sre_compile         zipp\n",
      "asyncore            logging             sre_constants       zlib\n",
      "atexit              lzma                sre_parse           zmq\n",
      "audioop             mailbox             ssl                 zoneinfo\n",
      "base64              mailcap             sspi                \n",
      "\n",
      "Enter any module name to get more help.  Or, type \"modules spam\" to search\n",
      "for modules whose name or summary contain the string \"spam\".\n",
      "\n"
     ]
    }
   ],
   "source": [
    "help('modules')"
   ]
  },
  {
   "cell_type": "code",
   "execution_count": null,
   "metadata": {},
   "outputs": [],
   "source": [
    "pip install <modulename>\n",
    "pip install numpy"
   ]
  },
  {
   "cell_type": "code",
   "execution_count": null,
   "metadata": {},
   "outputs": [],
   "source": [
    "help('mailbox')"
   ]
  },
  {
   "cell_type": "code",
   "execution_count": null,
   "metadata": {},
   "outputs": [],
   "source": [
    "import inspect\n",
    "import mod\n",
    "\n",
    "for name, data in inspect.getmembers(mod):\n",
    "    if name.startswith('__'):\n",
    "        continue\n",
    "    print('{} : {!r}'.format(name, data))"
   ]
  },
  {
   "cell_type": "code",
   "execution_count": null,
   "metadata": {},
   "outputs": [],
   "source": [
    "import inspect\n",
    "import mod\n",
    "# print(inspect.getmembers(mod.Foo, inspect.isfunction))\n",
    "print(inspect.getmembers(mod.Foo, inspect.isfunction))\n"
   ]
  },
  {
   "cell_type": "code",
   "execution_count": null,
   "metadata": {},
   "outputs": [],
   "source": [
    "Assignment\n",
    "Do with modules"
   ]
  },
  {
   "cell_type": "code",
   "execution_count": null,
   "metadata": {},
   "outputs": [],
   "source": [
    "\n"
   ]
  },
  {
   "cell_type": "code",
   "execution_count": null,
   "metadata": {},
   "outputs": [],
   "source": [
    "path = \"C:/Users/assharma\"\n",
    "os.rmdir(os.path.join(path, \"My Directory\"))\n"
   ]
  },
  {
   "cell_type": "code",
   "execution_count": null,
   "metadata": {},
   "outputs": [],
   "source": [
    "import os\n",
    "path = \"C:/Users/assharma/GIF\"\n",
    "for file_name in os.listdir(path):\n",
    "    if file_name.lower().endswith(\".gif\"):\n",
    "        full_path = os.path.join(path, file_name)\n",
    "        new_file_name = full_path[:-4] + \"_backup.gif\"\n",
    "        os.rename(full_path, new_file_name)"
   ]
  },
  {
   "cell_type": "code",
   "execution_count": null,
   "metadata": {},
   "outputs": [],
   "source": [
    "import glob\n",
    "glob.glob(\"*.txt\")"
   ]
  },
  {
   "cell_type": "code",
   "execution_count": null,
   "metadata": {},
   "outputs": [],
   "source": [
    "import glob\n",
    "import os\n",
    "path = \"C:/Users/assharma/GIF\"\n",
    "possible_files = os.path.join(path, \"*.gif\")\n",
    "for file_name in glob.glob(possible_files):\n",
    "    full_path = os.path.join(path, file_name)\n",
    "new_file_name = full_path[:-4] + \"_backup.gif\"\n",
    "os.rename(full_path, new_file_name)"
   ]
  },
  {
   "cell_type": "markdown",
   "metadata": {},
   "source": [
    "When you provide a string with the full file path and an * to glob(), it\n",
    "returns a glob list of all possible GIF images in that particular directory"
   ]
  },
  {
   "cell_type": "code",
   "execution_count": null,
   "metadata": {},
   "outputs": [],
   "source": [
    "import glob\n",
    "import os\n",
    "path = \"C:/Users/assharma/GIF\"\n",
    "possible_files = os.path.join(path, \"*/*.png\")\n",
    "for file_name in glob.glob(possible_files):\n",
    "print(file_name)"
   ]
  },
  {
   "cell_type": "markdown",
   "metadata": {},
   "source": [
    "the string \"*/*.png\" to the path tells glob() to search for any\n",
    "files ending in .png that are inside of folders that can have any name\n",
    "(the first *). The forward slash used to separate the last folder tells\n",
    "glob() to only search in subfolders of the images/ directory"
   ]
  },
  {
   "cell_type": "code",
   "execution_count": null,
   "metadata": {},
   "outputs": [],
   "source": [
    "import os\n",
    "path = \"C:/Users/assharma/GIF\"\n",
    "files_and_folders = os.listdir(path)\n",
    "for folder_name in files_and_folders:\n",
    "full_path = os.path.join(path, folder_name)\n",
    "if os.path.isdir(full_path):\n",
    "os.rename(full_path, full_path + \" folder\")"
   ]
  },
  {
   "cell_type": "code",
   "execution_count": null,
   "metadata": {},
   "outputs": [],
   "source": [
    "import os\n",
    "path = \"C:/Users/assharma/GIF\"\n",
    "for current_folder, subfolders, file_names in os.walk(path):\n",
    "    for file_name in file_names:\n",
    "        print(os.path.join(current_folder, file_name))"
   ]
  },
  {
   "cell_type": "markdown",
   "metadata": {},
   "source": [
    "The call to os.walk() creates an object that Python can loop over. At\n",
    "each step of the loop, it returns a different tuple that includes:\n",
    "1. A particular folder\n",
    "2. A list of the subfolders within that folder, and\n",
    "3. A list of files within that folder."
   ]
  },
  {
   "cell_type": "markdown",
   "metadata": {},
   "source": [
    "## Assignment \n",
    "Write all assignments using command line argument"
   ]
  },
  {
   "cell_type": "code",
   "execution_count": null,
   "metadata": {},
   "outputs": [],
   "source": [
    "import Module1"
   ]
  },
  {
   "cell_type": "markdown",
   "metadata": {},
   "source": [
    "# Python Packages\n",
    "Suppose you have developed a very large application that includes many modules. As the number of modules grows, it becomes difficult to keep track of them all if they are dumped into one location. This is particularly so if they have similar names or functionality. You might wish for a means of grouping and organizing them.\n",
    "\n",
    "Packages allow for a hierarchical structuring of the module namespace using dot notation. In the same way that modules help avoid collisions between global variable names, packages help avoid collisions between module names.\n",
    "\n",
    "Creating a package is quite straightforward, since it makes use of the operating system’s inherent hierarchical file structure. Consider the following arrangement:"
   ]
  },
  {
   "cell_type": "code",
   "execution_count": null,
   "metadata": {},
   "outputs": [],
   "source": [
    "from mod import *"
   ]
  },
  {
   "cell_type": "code",
   "execution_count": null,
   "metadata": {},
   "outputs": [],
   "source": [
    "def FindSubstring(string):\n",
    "    rDs = set(string)\n",
    "    print (rDs)\n",
    "    length = len(list(rDs))\n",
    "    return length\n",
    "\n",
    "s = \"abcdeabcbbdeaxcaabcdef\"\n",
    "ret =  FindSubstring(s)\n",
    "print(ret)\n"
   ]
  },
  {
   "cell_type": "code",
   "execution_count": null,
   "metadata": {},
   "outputs": [],
   "source": []
  }
 ],
 "metadata": {
  "kernelspec": {
   "display_name": "Python 3",
   "language": "python",
   "name": "python3"
  },
  "language_info": {
   "codemirror_mode": {
    "name": "ipython",
    "version": 3
   },
   "file_extension": ".py",
   "mimetype": "text/x-python",
   "name": "python",
   "nbconvert_exporter": "python",
   "pygments_lexer": "ipython3",
   "version": "3.9.0"
  }
 },
 "nbformat": 4,
 "nbformat_minor": 2
}
