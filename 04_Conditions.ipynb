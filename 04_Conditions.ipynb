{
 "cells": [
  {
   "cell_type": "markdown",
   "metadata": {},
   "source": [
    "## Indention"
   ]
  },
  {
   "cell_type": "markdown",
   "metadata": {},
   "source": [
    "Colons, :, are used to declare an indented code block,\n",
    "such as the following example:\n"
   ]
  },
  {
   "cell_type": "code",
   "execution_count": null,
   "metadata": {},
   "outputs": [],
   "source": [
    "#Notice everything belonging to a function must be indented\n",
    "if (a>5){\n",
    "    some piece of code\n",
    "}\n",
    "else{\n",
    "    some code...\n",
    "}\n",
    "\n",
    "if (a>5):\n",
    "\n",
    "    some piece of code\n",
    "    if(condition):\n",
    "        print(\"...\")\n",
    "        if:\n",
    "            jkjkjk\n",
    "            \n",
    "else:\n",
    "    \n",
    "    else part\n",
    "    \n",
    "\n",
    "\n",
    "if a > 5:\n",
    "          \n",
    "    if a<10:\n",
    "                    \n",
    "        return True\n",
    "        dfs\n",
    "        sfasdf\n",
    "        asdfs\n",
    "    else:\n",
    "        print awerw\n",
    "        qwrwrw\n",
    "        qwrwrew\n",
    "else:\n",
    "    return False\n",
    "#If a function is not indented to the same level it will not be considers as part of the parent class\n",
    "\n",
    "for i in b:\n",
    "    #Loops are also indented and nested conditions start a new indentation\n",
    "    if i == 1:\n",
    "    return True\n",
    "print(\"hello\")\n"
   ]
  },
  {
   "cell_type": "markdown",
   "metadata": {},
   "source": [
    "#### Spaces or Tabs?\n",
    "\n",
    "The recommended indentation is 4 spaces but tabs or spaces can be used so long as they are consistent. Do not\n",
    "mix tabs and spaces in Python as this will cause an error in Python 3 and can causes errors in Python 2."
   ]
  },
  {
   "cell_type": "code",
   "execution_count": null,
   "metadata": {},
   "outputs": [],
   "source": [
    "a = 200\n",
    "if a < 25:\n",
    "    print(\"hello\")\n",
    "    print(\" i am in if condition\")\n",
    "    print(\" i am in if condition\")\n",
    "    print(\"abcd\")\n",
    "    print (\"foo\")\n",
    "    print(\"in if part\")#buy toy}\n",
    "else:\n",
    "    print (\"Else part\")\n",
    "    print (\"done\")# buy choc\n",
    "\n",
    "print(\"I am after if else\")#go home"
   ]
  },
  {
   "cell_type": "markdown",
   "metadata": {},
   "source": [
    "Conditional expressions, involving keywords such as if, elif, and else, provide Python programs with the ability to\n",
    "perform different actions depending on a boolean condition: True or False. This section covers the use of Python\n",
    "conditionals, boolean logic, and ternary statements."
   ]
  },
  {
   "cell_type": "markdown",
   "metadata": {},
   "source": [
    "\n",
    "* Python does not use { } to enclose blocks of code for if/loops/function etc.\n",
    "*  Instead, Python uses the colon (:) and indentation/whitespace to group statements. \n",
    "* The boolean test for an if does not need to be in parenthesis (big difference from C++/Java), \n",
    " and it can have \n",
    "* *elif* and *else* clauses (mnemonic: the word \"elif\" is the same length as the word \"else\").\n"
   ]
  },
  {
   "cell_type": "raw",
   "metadata": {
    "raw_mimetype": "text/markdown"
   },
   "source": [
    "##condition\n",
    "<number> x == y ---> (x is equal to y)\n",
    "<number> x != y --->(x is not equal to y)\n",
    "<number> x < y --->x is less than y\n",
    "<number> x > y --->x is greater than y\n",
    "<number> x <= y -->x is less than or equal to y\n",
    "<number> x >= y -->x is greater than or equal to y\n"
   ]
  },
  {
   "cell_type": "code",
   "execution_count": 5,
   "metadata": {},
   "outputs": [],
   "source": [
    "x=10\n",
    "y=10\n",
    "z=100"
   ]
  },
  {
   "cell_type": "code",
   "execution_count": 6,
   "metadata": {},
   "outputs": [
    {
     "name": "stdout",
     "output_type": "stream",
     "text": [
      "False\n"
     ]
    }
   ],
   "source": [
    "print(x != y)"
   ]
  },
  {
   "cell_type": "code",
   "execution_count": 7,
   "metadata": {},
   "outputs": [
    {
     "data": {
      "text/plain": [
       "True"
      ]
     },
     "execution_count": 7,
     "metadata": {},
     "output_type": "execute_result"
    }
   ],
   "source": [
    "x != z"
   ]
  },
  {
   "cell_type": "code",
   "execution_count": 8,
   "metadata": {},
   "outputs": [
    {
     "data": {
      "text/plain": [
       "True"
      ]
     },
     "execution_count": 8,
     "metadata": {},
     "output_type": "execute_result"
    }
   ],
   "source": [
    "x <= y"
   ]
  },
  {
   "cell_type": "code",
   "execution_count": 9,
   "metadata": {},
   "outputs": [
    {
     "data": {
      "text/plain": [
       "False"
      ]
     },
     "execution_count": 9,
     "metadata": {},
     "output_type": "execute_result"
    }
   ],
   "source": [
    "x < y"
   ]
  },
  {
   "cell_type": "code",
   "execution_count": 10,
   "metadata": {},
   "outputs": [
    {
     "data": {
      "text/plain": [
       "True"
      ]
     },
     "execution_count": 10,
     "metadata": {},
     "output_type": "execute_result"
    }
   ],
   "source": [
    "y < z"
   ]
  },
  {
   "cell_type": "code",
   "execution_count": 11,
   "metadata": {},
   "outputs": [
    {
     "name": "stdout",
     "output_type": "stream",
     "text": [
      "I am in ELSE condition\n",
      "not allowed to vote\n"
     ]
    }
   ],
   "source": [
    "age=10\n",
    "if ( age >= 18 ):\n",
    "\tprint (\"I am in if condition\")\n",
    "\tprint (\"You are allowed to vote\")\n",
    "else:\n",
    "\tprint (\"I am in ELSE condition\")\n",
    "\tprint (\"not allowed to vote\")"
   ]
  },
  {
   "cell_type": "code",
   "execution_count": 12,
   "metadata": {},
   "outputs": [
    {
     "name": "stdout",
     "output_type": "stream",
     "text": [
      "I am in if condition\n",
      "You are allowed to vote\n"
     ]
    }
   ],
   "source": [
    "age= int(input (\"enter your age \"))\n",
    "if ( age >= 18 ):\n",
    "\tprint (\"I am in if condition\")\n",
    "\tprint (\"You are allowed to vote\")\n",
    "else:\n",
    "\tprint (\"I am in ELSE condition\")\n",
    "\tprint (\"not allowed to vote\")"
   ]
  },
  {
   "cell_type": "code",
   "execution_count": 13,
   "metadata": {},
   "outputs": [
    {
     "name": "stdout",
     "output_type": "stream",
     "text": [
      "Zero\n",
      "I am after if else\n"
     ]
    }
   ],
   "source": [
    "x=0\n",
    "if x < 0 :\n",
    "    print ('Negative changed to zero')\n",
    "elif x == 0:\n",
    "    print ('Zero')\n",
    "elif x<=0:\n",
    "\tprint (\"xyz\")\n",
    "elif x == 1:\n",
    "\tprint ('Single')\n",
    "elif x == 2:\n",
    "\tprint ('Double')\n",
    "else:\n",
    "    print ('More')\n",
    "\n",
    "print (\"I am after if else\")"
   ]
  },
  {
   "cell_type": "code",
   "execution_count": 14,
   "metadata": {},
   "outputs": [
    {
     "name": "stdout",
     "output_type": "stream",
     "text": [
      "Single\n",
      " I am after if else \n"
     ]
    }
   ],
   "source": [
    "x=1\n",
    "if x < 0 :\n",
    "    print ('Negative changed to zero')\n",
    "elif x == 0:\n",
    "\tprint ('Zero')\n",
    "elif x >= 550:\n",
    "\tprint (f\"x : {x} is greater than or equal to zero\")\n",
    "elif x == 1:\n",
    "\tprint ('Single')\n",
    "elif x == 2:\n",
    "\tprint ('Double')\n",
    "else:\n",
    "    print ('More')\n",
    "    \n",
    "print ( \" I am after if else \")"
   ]
  },
  {
   "cell_type": "markdown",
   "metadata": {},
   "source": [
    "# A   and B  |Result\n",
    "# -------------\n",
    "# true |true |true\n",
    "# false|false|false\n",
    "# true |false|false\n",
    "# false|true |false\n"
   ]
  },
  {
   "cell_type": "code",
   "execution_count": 15,
   "metadata": {},
   "outputs": [
    {
     "name": "stdout",
     "output_type": "stream",
     "text": [
      "x is not bigger than 10\n"
     ]
    }
   ],
   "source": [
    "x=8\n",
    "y=15\n",
    "if (x>=10 or y>100):\n",
    "\tprint (\"x is more than 10\")\n",
    "else :\n",
    "\tprint (\"x is not bigger than 10\")"
   ]
  },
  {
   "cell_type": "code",
   "execution_count": 16,
   "metadata": {},
   "outputs": [
    {
     "name": "stdout",
     "output_type": "stream",
     "text": [
      "x is not bigger than 10\n"
     ]
    }
   ],
   "source": [
    "# Comparison operators (>, ==): These are evaluated first.\n",
    "# Logical and: This is evaluated next.\n",
    "# Logical or: This is evaluated last.\n",
    "\n",
    "\n",
    "x=100\n",
    "y=10\n",
    "if (x>1000 and y>1 or x==10): # false and True or false => false or false\n",
    "\tprint (\"x is more than 10\")\n",
    "else :\n",
    "\tprint (\"x is not bigger than 10\")"
   ]
  },
  {
   "cell_type": "code",
   "execution_count": 17,
   "metadata": {},
   "outputs": [
    {
     "name": "stdout",
     "output_type": "stream",
     "text": [
      "x is not bigger than 10\n"
     ]
    }
   ],
   "source": [
    "x=100\n",
    "y=10\n",
    "if (x>100 and (y>1 or x==100)): # false and true\n",
    "\tprint (\"x is more than 10\")\n",
    "else :\n",
    "\tprint (\"x is not bigger than 10\")"
   ]
  },
  {
   "cell_type": "code",
   "execution_count": 18,
   "metadata": {},
   "outputs": [
    {
     "name": "stdout",
     "output_type": "stream",
     "text": [
      "You do not have the right to remain silent.\n"
     ]
    }
   ],
   "source": [
    "mood=\"bad\"\n",
    "speed=90\n",
    "if mood == 'terrible' and speed > 100:\n",
    "\tprint ('You have the right to remain silent.')\n",
    "elif mood == 'bad' or speed > 90:\n",
    "\tprint ('You do not have the right to remain silent.')\n",
    "elif mood == 'terrible' and speed >= 90:\n",
    "\tprint (\"I'm going to have to write you a ticket.\")\n",
    "else:\n",
    "\tprint (\"Let's try to keep it under 80 ok?\")"
   ]
  },
  {
   "cell_type": "code",
   "execution_count": 19,
   "metadata": {},
   "outputs": [
    {
     "name": "stdout",
     "output_type": "stream",
     "text": [
      "You have the right to remain silent.\n"
     ]
    }
   ],
   "source": [
    "mood=\"terrible\"\n",
    "speed=190\n",
    "if mood == 'terrible' and speed > 100:\n",
    "\tprint ('You have the right to remain silent.')\n",
    "elif mood == 'bad' or speed > 90:\n",
    "\tprint ('You do not have the right to remain silent.')\n",
    "elif mood == 'terrible' and speed >= 90:\n",
    "\tprint (\"I'm going to have to write you a ticket.\")\n",
    "else:\n",
    "\tprint (\"Let's try to keep it under 80 ok?\")"
   ]
  },
  {
   "cell_type": "markdown",
   "metadata": {},
   "source": [
    "# LEAP YEAR (Assignment)"
   ]
  },
  {
   "cell_type": "code",
   "execution_count": 20,
   "metadata": {},
   "outputs": [
    {
     "name": "stdout",
     "output_type": "stream",
     "text": [
      " not a leap year because not divisible by 100\n"
     ]
    }
   ],
   "source": [
    "x=1992 \n",
    "if x%4 == 0: #(True)\n",
    "\tif x%100 == 0:\n",
    "\t\tif x%400 == 0:\n",
    "\t\t\tprint (\"leap year\")\n",
    "\t\telse:\n",
    "\t\t\tprint (\" not a leap year because not divisible by 400\")\n",
    "\telse:\n",
    "\t\tprint (\" not a leap year because not divisible by 100\")\n",
    "else :\n",
    "\tprint (\" not a leap year because not divisible by 4\")"
   ]
  },
  {
   "cell_type": "code",
   "execution_count": 21,
   "metadata": {},
   "outputs": [
    {
     "name": "stdout",
     "output_type": "stream",
     "text": [
      " not a leap year because not divisible by 400\n"
     ]
    }
   ],
   "source": [
    "x=100\n",
    "if x%4 == 0:\n",
    "\tif x%100 == 0:\n",
    "\t\tif x%400 == 0:\n",
    "\t\t\tprint (\"leap year\")\n",
    "\t\telse:\n",
    "\t\t\tprint (\" not a leap year because not divisible by 400\")\n",
    "\telse:\n",
    "\t\tprint (\" not a leap year because not divisible by 100\")\n",
    "else :\n",
    "\tprint (\" not a leap year because not divisible by 4\")"
   ]
  },
  {
   "cell_type": "code",
   "execution_count": 22,
   "metadata": {},
   "outputs": [
    {
     "name": "stdout",
     "output_type": "stream",
     "text": [
      " not a leap year because not divisible by 4\n"
     ]
    }
   ],
   "source": [
    "x=21\n",
    "if x%4 == 0:\n",
    "\tif x%100 == 0:\n",
    "\t\tif x%400 == 0:\n",
    "\t\t\tprint (\"leap year\")\n",
    "\t\t\t\n",
    "\t\telse:\n",
    "\t\t\tprint (\" not a leap year because not divisible by 400\")\n",
    "\telse:\n",
    "\t\tprint (\" not a leap year because not divisible by 100\")\n",
    "else :\n",
    "\tprint (\" not a leap year because not divisible by 4\")"
   ]
  },
  {
   "cell_type": "code",
   "execution_count": 23,
   "metadata": {},
   "outputs": [
    {
     "name": "stdout",
     "output_type": "stream",
     "text": [
      "leap year\n"
     ]
    }
   ],
   "source": [
    "x=400\n",
    "if x%4 == 0:\n",
    "\n",
    "\tif x%100 == 0:\n",
    "\n",
    "\t\tif x%400 == 0:\n",
    "\t\t\t\n",
    "\t\t\tprint (\"leap year\")\n",
    "\t\telse:\n",
    "\t\t\tprint (\" not a leap year because not divisible by 400\")\n",
    "\telse:\n",
    "\t\tprint (\" not a leap year because not divisible by 100\")\n",
    "else :\n",
    "\tprint (\" not a leap year because not divisible by 4\")"
   ]
  },
  {
   "cell_type": "markdown",
   "metadata": {},
   "source": [
    "### Conditional Expression (or \"The Ternary Operator\")"
   ]
  },
  {
   "cell_type": "markdown",
   "metadata": {},
   "source": [
    "The ternary operator is used for inline conditional expressions. It is best used in simple, concise operations that are\n",
    "easily read.\n",
    "The order of the arguments is different from many other languages (such as C, Ruby, Java, etc.), which may\n",
    "lead to bugs when people unfamiliar with Python's \"surprising\" behaviour use it (they may reverse the order).\n",
    "Some find it \"unwieldy\", since it goes contrary to the normal flow of thought (thinking of the condition first\n",
    "and then the effects)."
   ]
  },
  {
   "cell_type": "code",
   "execution_count": null,
   "metadata": {},
   "outputs": [],
   "source": [
    "x= a>10 ? 200 :100"
   ]
  },
  {
   "cell_type": "code",
   "execution_count": 24,
   "metadata": {},
   "outputs": [
    {
     "name": "stdout",
     "output_type": "stream",
     "text": [
      "Greater than 2\n"
     ]
    }
   ],
   "source": [
    "n = 10\n",
    "x= \"Greater than 2\" if n > 2 else \"Smaller than or equal to 2\"\n",
    "print(x)"
   ]
  },
  {
   "cell_type": "code",
   "execution_count": null,
   "metadata": {},
   "outputs": [],
   "source": [
    "if n>2:\n",
    "    print (\"greater thn 2\")\n",
    "else:\n",
    "    print(\"smaller than or equal to 2\")"
   ]
  },
  {
   "cell_type": "code",
   "execution_count": 25,
   "metadata": {},
   "outputs": [
    {
     "data": {
      "text/plain": [
       "'Goodbye'"
      ]
     },
     "execution_count": 25,
     "metadata": {},
     "output_type": "execute_result"
    }
   ],
   "source": [
    "n = 5\n",
    "y= \"Hello\"  if n > 10 else\"Goodbye\" if n > 2 else \"Good day\"\n",
    "y"
   ]
  },
  {
   "cell_type": "code",
   "execution_count": 26,
   "metadata": {},
   "outputs": [
    {
     "name": "stdout",
     "output_type": "stream",
     "text": [
      "goodday\n"
     ]
    }
   ],
   "source": [
    "if n>10:\n",
    "    print (\"hello\")\n",
    "else:\n",
    "    if n==1:\n",
    "        print (\"goodbye\")\n",
    "    else:\n",
    "        print(\"goodday\")"
   ]
  },
  {
   "cell_type": "code",
   "execution_count": 27,
   "metadata": {},
   "outputs": [
    {
     "data": {
      "text/plain": [
       "'Goodbye'"
      ]
     },
     "execution_count": 27,
     "metadata": {},
     "output_type": "execute_result"
    }
   ],
   "source": [
    "z=\"hello\" if 10 in [1,2,3,11] else \"Goodbye\" \n",
    "z"
   ]
  },
  {
   "cell_type": "markdown",
   "metadata": {},
   "source": [
    "### Exercise\n",
    "#### Instructions\n",
    "Write a program that interprets the Body Mass Index (BMI) based on a user's weight and height.\n",
    "\n",
    "It should tell them the interpretation of their BMI based on the BMI value.\n",
    "\n",
    "Under 18.5 they are underweight\n",
    "Over 18.5 but below 25 they have a normal weight\n",
    "Over 25 but below 30 they are slightly overweight\n",
    "Over 30 but below 35 they are obese\n",
    "Above 35 they are clinically obese.\n",
    "\n",
    "The BMI is calculated by dividing a person's weight (in kg) by the square of their height (in m):\n",
    "\n",
    "Warning you should round the result to the nearest whole number. The interpretation message needs to include the words in bold from the interpretations above. e.g. underweight, normal weight, overweight, obese, clinically obese.\n",
    "\n",
    "#### Example Input\n",
    "weight = 85\n",
    "height = 1.75\n",
    "#### Example Output\n",
    "85 ÷ (1.75 x 1.75) = 27.755102040816325\n",
    "\n",
    "Your BMI is 28, you are slightly overweight.\n",
    "e.g. When you hit run, this is what should happen:\n",
    "\n",
    "The testing code will check for print output that is formatted like one of the lines below:\n",
    "\n",
    "\"Your BMI is 18, you are underweight.\"\n",
    "\"Your BMI is 22, you have a normal weight.\"\n",
    "\"Your BMI is 28, you are slightly overweight.\"\n",
    "\"Your BMI is 33, you are obese.\"\n",
    "\"Your BMI is 40, you are clinically obese.\"\n",
    "\n",
    "Hint\n",
    "\n",
    "Try to use the exponent operator in your code.\n",
    "Remember to round your result to the nearest whole number.\n",
    "Make sure you include the words in bold from the interpretations."
   ]
  },
  {
   "cell_type": "markdown",
   "metadata": {},
   "source": [
    "## Exercise 2\n",
    "#### Instructions\n",
    "Congratulations, you've got a job at Python Pizza. Your first job is to build an automatic pizza order program.\n",
    "\n",
    "Based on a user's order, work out their final bill.\n",
    "\n",
    "Small Pizza: $15\n",
    "Medium Pizza: $20\n",
    "Large Pizza: $25\n",
    "Pepperoni for Small Pizza: +$2\n",
    "Pepperoni for Medium or Large Pizza: +$3\n",
    "Extra cheese for any size pizza: + $1\n",
    "\n",
    "#### Example Input\n",
    "size = \"L\"\n",
    "add_pepperoni = \"Y\"\n",
    "extra_cheese = \"N\"\n",
    "#### Example Output\n",
    "Your final bill is: $28.\n",
    "    \n",
    "#### Hint\n",
    "Think about what you've learnt about multiple if statements and see if you can reduce the number of lines of code while having the same functionality."
   ]
  },
  {
   "cell_type": "markdown",
   "metadata": {},
   "source": [
    "## Assignments"
   ]
  },
  {
   "cell_type": "markdown",
   "metadata": {},
   "source": [
    " # 1)The current year and the year in which the employee joined the\n",
    "// organization are entered through the keyboard. If the number of years for\n",
    "// which the employee has\n",
    "// # served the organization is greater than 3 then a bonus of Rs. 2500/- is\n",
    "// given to the employee. If the years of service are not greater\n",
    "// # than 3, then the program should do nothing.\n",
    "// # 2) The marks obtained by a student in 5 different subjects are input\n",
    "// through the keyboard. The student gets a\n",
    "// # division as per the following rules: Percentage above or equal to 60 -\n",
    "// First division\n",
    "// # Percentage between 50 and 59 - Second division\n",
    "// # Percentage between 40 and 49 - Third division\n",
    "// # Percentage less than 40 - Fail\n",
    "// # Write a program to calculate the division obtained by the student\n",
    " # 3) A company insures its drivers in the following cases:\n",
    " # If the driver is married.\n",
    " # If the driver is unmarried, male & above 30 years of age.\n",
    " # If the driver is unmarried, female & above 25 years of age.\n",
    " # In all other cases the driver is not insured. If the marital status, sex\n",
    " # and age of the driver are the inputs, write a program to determine\n",
    " # whether the driver is to be insured or not.\n",
    "\n",
    "\n",
    "# 4) If cost price and selling price of an item is input through the  keyboard, write a program to determine whether the seller has  keyboard, write a program to determine whether the seller has\n",
    "\n",
    "\n",
    "# made profit or incurred loss. Also determine how much profit he made or loss he incurred.\n",
    "\n",
    "# 5) Any integer is input through the keyboard. Write a program to find out  whether it is an odd number or even number.\n",
    "\n",
    " # 6) Any year is input through the keyboard. Write a program to determine  whether the year is a leap year or not.\n",
    "\n",
    " # (Hint: Use the % (modulus) operator)\n",
    "# 8) A five-digit number is entered through the keyboard. Write aprogram to  obtain the reverse\n"
   ]
  },
  {
   "cell_type": "code",
   "execution_count": null,
   "metadata": {},
   "outputs": [],
   "source": [
    "Given an integer, , perform the following conditional actions:\n",
    "\n",
    "If n is odd, print Weird\n",
    "If n is even and in the inclusive range of  to , print Not Weird\n",
    "If n is even and in the inclusive range of  to , print Weird\n",
    "If n is even and greater than , print Not Weird\n",
    "Input Format\n",
    "\n",
    "A single line containing a positive integer, .\n",
    "\n",
    "Constraints\n",
    "\n",
    "Output Format"
   ]
  },
  {
   "cell_type": "code",
   "execution_count": null,
   "metadata": {},
   "outputs": [],
   "source": []
  }
 ],
 "metadata": {
  "celltoolbar": "Raw Cell Format",
  "kernelspec": {
   "display_name": "Python 3",
   "language": "python",
   "name": "python3"
  },
  "language_info": {
   "codemirror_mode": {
    "name": "ipython",
    "version": 3
   },
   "file_extension": ".py",
   "mimetype": "text/x-python",
   "name": "python",
   "nbconvert_exporter": "python",
   "pygments_lexer": "ipython3",
   "version": "3.9.0"
  }
 },
 "nbformat": 4,
 "nbformat_minor": 2
}
