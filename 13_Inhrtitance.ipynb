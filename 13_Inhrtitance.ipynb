{
 "cells": [
  {
   "cell_type": "markdown",
   "metadata": {},
   "source": [
    "# Inheritance"
   ]
  },
  {
   "cell_type": "markdown",
   "metadata": {},
   "source": [
    "is a process by which objects of one class can aquire the properties of objects\n",
    "of another class. It uses the concept of hierarchical classification\n",
    "it provide the idea of reusability\n",
    "It is a mechanism of deriving a new class from existing class.\n",
    "The new class developed is known as derived class and the class from which it is derived is called base class\n"
   ]
  },
  {
   "cell_type": "code",
   "execution_count": null,
   "metadata": {},
   "outputs": [],
   "source": [
    "%load_ext nb_black"
   ]
  },
  {
   "cell_type": "raw",
   "metadata": {
    "vscode": {
     "languageId": "raw"
    }
   },
   "source": [
    "class Employee():\n",
    "   Body of base class will have variable and functions , \n",
    "   like constructor and other functions\n",
    "\n",
    "class restemployyee(Employee):\n",
    "   Body of derived class will also have functions and variables\n"
   ]
  },
  {
   "cell_type": "code",
   "execution_count": null,
   "metadata": {},
   "outputs": [],
   "source": [
    "class Parent:\n",
    "    def __init__(self, x, y):\n",
    "        self.last_name = x\n",
    "        self.eye_color = y\n",
    "\n",
    "\n",
    "class Child:\n",
    "    def __init__(self, a, b, c):\n",
    "        self.last_name = a\n",
    "        self.eye_color = b\n",
    "        self.number_of_toys = c"
   ]
  },
  {
   "cell_type": "code",
   "execution_count": null,
   "metadata": {},
   "outputs": [],
   "source": [
    "parent1 = Parent(\"gates\", \"black\")\n",
    "print(parent1.last_name)\n",
    "print(parent1.eye_color)"
   ]
  },
  {
   "cell_type": "code",
   "execution_count": null,
   "metadata": {},
   "outputs": [],
   "source": [
    "child1 = Child(\"gates\", \"black\", 10)\n",
    "print(child1.last_name)\n",
    "print(child1.eye_color)\n",
    "print(child1.number_of_toys)"
   ]
  },
  {
   "cell_type": "code",
   "execution_count": null,
   "metadata": {},
   "outputs": [],
   "source": [
    "class Parent:\n",
    "    last_name = \"gate\"\n",
    "    eye_color = \"black\"\n",
    "\n",
    "\n",
    "class Child(Parent):\n",
    "    number_of_toys = 10\n",
    "    # last_name=\"gate\"\n",
    "    # eye_color=\"black\"\n",
    "\n",
    "\n",
    "c = Child()\n",
    "print(dir(Child))"
   ]
  },
  {
   "cell_type": "code",
   "execution_count": null,
   "metadata": {},
   "outputs": [],
   "source": [
    "print(c.last_name)\n",
    "print(c.eye_color)\n",
    "c.eye_color = \"brown\"\n",
    "print(\"After change its eye color\", c.eye_color, \"abcd\", c.last_name)"
   ]
  },
  {
   "cell_type": "code",
   "execution_count": null,
   "metadata": {},
   "outputs": [],
   "source": [
    "p = Parent()\n",
    "p.eye_color"
   ]
  },
  {
   "cell_type": "code",
   "execution_count": null,
   "metadata": {},
   "outputs": [],
   "source": [
    "class Parent:\n",
    "    def __init__(self, x, y):\n",
    "        self.last_name = x\n",
    "        self.eye_color = y\n",
    "\n",
    "\n",
    "class Child(Parent):\n",
    "    def __init__(self, a, b, c):\n",
    "        Parent.__init__(self, a, b)\n",
    "        #         self.last_name=a\n",
    "        #         self.eye_color=b\n",
    "        self.number_of_toys = c\n",
    "\n",
    "\n",
    "c = Child(1, 2, 3)\n",
    "print(c.number_of_toys)\n",
    "print(dir(c))"
   ]
  },
  {
   "cell_type": "code",
   "execution_count": null,
   "metadata": {},
   "outputs": [],
   "source": [
    "mile_cyrus = Child(\"cyrus\", \"black\", 8)\n",
    "print(mile_cyrus.last_name)\n",
    "print(mile_cyrus.eye_color)\n",
    "print(mile_cyrus.number_of_toys)"
   ]
  },
  {
   "cell_type": "code",
   "execution_count": null,
   "metadata": {},
   "outputs": [],
   "source": [
    "# print dir(mile_cyrus)"
   ]
  },
  {
   "cell_type": "code",
   "execution_count": null,
   "metadata": {},
   "outputs": [],
   "source": [
    "dir(mile_cyrus)"
   ]
  },
  {
   "cell_type": "code",
   "execution_count": 8,
   "metadata": {},
   "outputs": [],
   "source": [
    "class Parent:\n",
    "    def __init__(self):\n",
    "        self.parentAttr = 100  # this is available if we use this consturctor in child\n",
    "        print(\"Calling parent constructor\")\n",
    "\n",
    "    def parentMethod(self):\n",
    "        print(\"Calling parent method\")\n",
    "\n",
    "    def setAttr(self, attr):\n",
    "        self.parentAttr = attr\n",
    "\n",
    "    def getAttr(self):\n",
    "        print(\"Parent attribute :\", self.parentAttr)\n",
    "\n",
    "\n",
    "class Child(Parent):\n",
    "    def __init__(self):\n",
    "        Parent.__init__(self) # if we do not call this constructor the parentattr will not available in child class\n",
    "        print(\"Calling child constructor\")\n",
    "\n",
    "    def childMethod(self):\n",
    "        print(\"Calling child method\")"
   ]
  },
  {
   "cell_type": "code",
   "execution_count": 9,
   "metadata": {},
   "outputs": [
    {
     "name": "stdout",
     "output_type": "stream",
     "text": [
      "Calling parent constructor\n",
      "Calling child constructor\n"
     ]
    }
   ],
   "source": [
    "c = Child()\n",
    "# dir(c)"
   ]
  },
  {
   "cell_type": "code",
   "execution_count": 10,
   "metadata": {},
   "outputs": [
    {
     "name": "stdout",
     "output_type": "stream",
     "text": [
      "Parent attribute : 100\n"
     ]
    }
   ],
   "source": [
    "c.getAttr()\n",
    "# a\n",
    "# print(a)\n",
    "# p = Parent()"
   ]
  },
  {
   "cell_type": "code",
   "execution_count": 11,
   "metadata": {},
   "outputs": [
    {
     "name": "stdout",
     "output_type": "stream",
     "text": [
      "Calling child method\n"
     ]
    }
   ],
   "source": [
    "c.childMethod()"
   ]
  },
  {
   "cell_type": "code",
   "execution_count": 12,
   "metadata": {},
   "outputs": [
    {
     "name": "stdout",
     "output_type": "stream",
     "text": [
      "Calling parent method\n"
     ]
    }
   ],
   "source": [
    "c.parentMethod()  # calls parent's method"
   ]
  },
  {
   "cell_type": "code",
   "execution_count": 13,
   "metadata": {},
   "outputs": [],
   "source": [
    "c.setAttr(200)  # again call parent's method"
   ]
  },
  {
   "cell_type": "code",
   "execution_count": 14,
   "metadata": {},
   "outputs": [
    {
     "name": "stdout",
     "output_type": "stream",
     "text": [
      "Parent attribute : 200\n"
     ]
    }
   ],
   "source": [
    "c.getAttr()          # again call parent's method\n"
   ]
  },
  {
   "cell_type": "markdown",
   "metadata": {},
   "source": [
    "the two lists are nearly identical. There are some additional members in MyClass like __dict__ and __weakref__, but every single member of the object class is also present in MyClass.\n",
    "\n",
    "This is because every class you create in Python implicitly derives from object. You could be more explicit and write class MyClass(object):, but it’s redundant and unnecessary."
   ]
  },
  {
   "cell_type": "code",
   "execution_count": 15,
   "metadata": {},
   "outputs": [],
   "source": [
    "class Num:\n",
    "    def __init__(self, num):\n",
    "        self.n1 = num\n",
    "        self.n2 = num + 10\n",
    "\n",
    "\n",
    "class NumChild(Num):\n",
    "    def __init__(self, num):\n",
    "        Num.__init__(self, num)  # call constructor of Num\n",
    "        self.n3 = num * 2\n",
    "\n",
    "    def show(self):\n",
    "        print(self.n1, self.n2, self.n3)"
   ]
  },
  {
   "cell_type": "code",
   "execution_count": 16,
   "metadata": {},
   "outputs": [
    {
     "name": "stdout",
     "output_type": "stream",
     "text": [
      "10 20 20\n",
      "None\n"
     ]
    }
   ],
   "source": [
    "num1 = NumChild(10)\n",
    "print(num1.show())"
   ]
  },
  {
   "cell_type": "code",
   "execution_count": null,
   "metadata": {},
   "outputs": [],
   "source": [
    "class Num:\n",
    "    def __init__(self, num):\n",
    "        self.n1 = num\n",
    "        self.n2 = num + 10\n",
    "\n",
    "\n",
    "class NumChild(Num):\n",
    "    def __init__(self, num):\n",
    "        Num.__init__(self, num)  # call constructor of Num\n",
    "        self.n3 = num * 2\n",
    "\n",
    "    def show(self):\n",
    "        print(self.n1, self.n2, self.n3)"
   ]
  },
  {
   "cell_type": "code",
   "execution_count": null,
   "metadata": {},
   "outputs": [],
   "source": [
    "child = NumChild(1)\n",
    "child.show()"
   ]
  },
  {
   "cell_type": "code",
   "execution_count": null,
   "metadata": {},
   "outputs": [],
   "source": [
    "numChild = NumChild(11)\n",
    "numChild.show()\n",
    "\n",
    "# xxxxx    a (owner)\n",
    "#          b (son)\n",
    "#          c (third person)\n",
    "# c is asking to b who is owner of the propery xxxx\n",
    "# b - mr a is owner of the property xxxx\n",
    "# b- my father is owner of this propery\n"
   ]
  },
  {
   "cell_type": "code",
   "execution_count": 17,
   "metadata": {},
   "outputs": [
    {
     "name": "stdout",
     "output_type": "stream",
     "text": [
      "11 21 22\n"
     ]
    }
   ],
   "source": [
    "class Num2:\n",
    "    def __init__(self, x):\n",
    "        self.n1 = x\n",
    "        self.n2 = x + 10\n",
    "\n",
    "\n",
    "class Num(Num2):\n",
    "    def __init__(self, x):\n",
    "        #         super(Num,self).__init__(x)\n",
    "        super().__init__(x)  # Call the constructor of my parent class\n",
    "        #         Num2.__init__(self,x)\n",
    "        self.n3 = x * 2\n",
    "\n",
    "    def show(self):\n",
    "        print(self.n1, self.n2, self.n3)\n",
    "\n",
    "\n",
    "numChild = Num(11)\n",
    "numChild.show()"
   ]
  },
  {
   "cell_type": "code",
   "execution_count": null,
   "metadata": {},
   "outputs": [],
   "source": [
    "# dir(object)\n",
    "help(object)"
   ]
  },
  {
   "cell_type": "code",
   "execution_count": 18,
   "metadata": {},
   "outputs": [
    {
     "ename": "AttributeError",
     "evalue": "'NumChild' object has no attribute 'n1'",
     "output_type": "error",
     "traceback": [
      "\u001b[1;31m---------------------------------------------------------------------------\u001b[0m",
      "\u001b[1;31mAttributeError\u001b[0m                            Traceback (most recent call last)",
      "Cell \u001b[1;32mIn[18], line 16\u001b[0m\n\u001b[0;32m     13\u001b[0m         \u001b[38;5;28mprint\u001b[39m(\u001b[38;5;28mself\u001b[39m\u001b[38;5;241m.\u001b[39mn1, \u001b[38;5;28mself\u001b[39m\u001b[38;5;241m.\u001b[39mn2, \u001b[38;5;28mself\u001b[39m\u001b[38;5;241m.\u001b[39mn3)\n\u001b[0;32m     15\u001b[0m obj\u001b[38;5;241m=\u001b[39m NumChild(\u001b[38;5;241m10\u001b[39m)\n\u001b[1;32m---> 16\u001b[0m \u001b[43mobj\u001b[49m\u001b[38;5;241;43m.\u001b[39;49m\u001b[43mshow\u001b[49m\u001b[43m(\u001b[49m\u001b[43m)\u001b[49m\n",
      "Cell \u001b[1;32mIn[18], line 13\u001b[0m, in \u001b[0;36mNumChild.show\u001b[1;34m(self)\u001b[0m\n\u001b[0;32m     12\u001b[0m \u001b[38;5;28;01mdef\u001b[39;00m \u001b[38;5;21mshow\u001b[39m(\u001b[38;5;28mself\u001b[39m):\n\u001b[1;32m---> 13\u001b[0m     \u001b[38;5;28mprint\u001b[39m(\u001b[38;5;28;43mself\u001b[39;49m\u001b[38;5;241;43m.\u001b[39;49m\u001b[43mn1\u001b[49m, \u001b[38;5;28mself\u001b[39m\u001b[38;5;241m.\u001b[39mn2, \u001b[38;5;28mself\u001b[39m\u001b[38;5;241m.\u001b[39mn3)\n",
      "\u001b[1;31mAttributeError\u001b[0m: 'NumChild' object has no attribute 'n1'"
     ]
    }
   ],
   "source": [
    "class Num:\n",
    "    def __init__(self, num):\n",
    "        self.n1 = num\n",
    "        self.n2 = num + 10\n",
    "\n",
    "\n",
    "class NumChild(Num):\n",
    "    def __init__(self, num):\n",
    "        self.n3 = num * 2\n",
    "        # super().__init__(x)  # Call the constructor of my parent class than only n1 and n2 will be initialize\n",
    "\n",
    "    def show(self):\n",
    "        print(self.n1, self.n2, self.n3)\n",
    "\n",
    "obj= NumChild(10)\n",
    "obj.show()"
   ]
  },
  {
   "cell_type": "code",
   "execution_count": null,
   "metadata": {},
   "outputs": [],
   "source": [
    "class Num:\n",
    "    n1 = 20\n",
    "    n2 = 10\n",
    "\n",
    "\n",
    "class NumChild(Num):\n",
    "    def __init__(self, num):\n",
    "        self.n3 = num * 2\n",
    "        # super().__init__(x)  # Call the constructor of my parent class than only n1 and n2 will be initialize\n",
    "\n",
    "    def show(self):\n",
    "        print(self.n1, self.n2, self.n3)\n",
    "\n",
    "\n",
    "obj = NumChild(10)\n",
    "obj.show()"
   ]
  },
  {
   "cell_type": "markdown",
   "metadata": {},
   "source": [
    "### Multilevel Inheritance"
   ]
  },
  {
   "cell_type": "code",
   "execution_count": 19,
   "metadata": {},
   "outputs": [
    {
     "name": "stdout",
     "output_type": "stream",
     "text": [
      "Constructor of SuperChild is called\n",
      "Constructor of UnsuperChild is called\n",
      "Constructor of SomeBaseClass is called\n"
     ]
    }
   ],
   "source": [
    "class SomeBaseClass:\n",
    "    def __init__(self):\n",
    "        print(\"Constructor of SomeBaseClass is called\")\n",
    "\n",
    "    def printhello(self):\n",
    "        print(\"helloworld\")\n",
    "\n",
    "\n",
    "class UnsuperChild(SomeBaseClass):\n",
    "    def __init__(self):\n",
    "        print(\"Constructor of UnsuperChild is called\")\n",
    "        super(UnsuperChild, self).__init__()\n",
    "\n",
    "\n",
    "class SuperChild(UnsuperChild):\n",
    "    def __init__(self):\n",
    "        print(\"Constructor of SuperChild is called\")\n",
    "        super(SuperChild, self).__init__()\n",
    "\n",
    "\n",
    "#         super().__init__()\n",
    "#         super(SomeBaseClass,self).__init__()\n",
    "#         super(UnsuperChild,self).__init__()\n",
    "\n",
    "# a=SomeBaseClass()\n",
    "# b=UnsuperChild()\n",
    "c = SuperChild()  # str1=\"python\""
   ]
  },
  {
   "cell_type": "code",
   "execution_count": null,
   "metadata": {},
   "outputs": [],
   "source": [
    "dir(c)"
   ]
  },
  {
   "cell_type": "code",
   "execution_count": null,
   "metadata": {},
   "outputs": [],
   "source": [
    "c.printhello()"
   ]
  },
  {
   "cell_type": "code",
   "execution_count": null,
   "metadata": {},
   "outputs": [],
   "source": [
    "def add(a=10, b=20):\n",
    "    print(\"hello\")\n",
    "\n",
    "add()\n",
    "add(10, 20)\n",
    "add(\"hello\", \"world\")\n",
    "add(10.0)\n",
    "add(a=100)\n",
    "add(b=2000)\n",
    "add(b=2000, a=1111)\n",
    "\n",
    "# // done till here"
   ]
  },
  {
   "cell_type": "code",
   "execution_count": null,
   "metadata": {},
   "outputs": [],
   "source": [
    "add(a,b,c=0)\n",
    "\n",
    "add(10.0,\"hello\")"
   ]
  },
  {
   "cell_type": "markdown",
   "metadata": {},
   "source": [
    "## Method Overriding"
   ]
  },
  {
   "cell_type": "code",
   "execution_count": 20,
   "metadata": {},
   "outputs": [],
   "source": [
    "class Parent:  # define parent class\n",
    "    def myMethod(self):\n",
    "        print(\"Calling parent method\")\n",
    "\n",
    "    def myMethodParent(self):\n",
    "        print(\"Calling parent method\")\n",
    "\n",
    "\n",
    "class Child(Parent):  # define child class\n",
    "    def myMethod(self):\n",
    "        print(\"Calling child method\")\n",
    "\n",
    "    def myMethod1(self):\n",
    "        print(\"Calling child method\")"
   ]
  },
  {
   "cell_type": "code",
   "execution_count": 21,
   "metadata": {},
   "outputs": [
    {
     "name": "stdout",
     "output_type": "stream",
     "text": [
      "Calling child method\n"
     ]
    }
   ],
   "source": [
    "c = Child()  # instance of child\n",
    "c.myMethod()  # child calls overridden method"
   ]
  },
  {
   "cell_type": "code",
   "execution_count": 22,
   "metadata": {},
   "outputs": [
    {
     "name": "stdout",
     "output_type": "stream",
     "text": [
      "Calling parent method\n"
     ]
    }
   ],
   "source": [
    "c.myMethodParent()  "
   ]
  },
  {
   "cell_type": "code",
   "execution_count": 23,
   "metadata": {},
   "outputs": [
    {
     "name": "stdout",
     "output_type": "stream",
     "text": [
      "Calling parent method\n"
     ]
    }
   ],
   "source": [
    "p = Parent()  # instance of child\n",
    "p.myMethod()"
   ]
  },
  {
   "cell_type": "code",
   "execution_count": null,
   "metadata": {},
   "outputs": [],
   "source": [
    "dir(Child)"
   ]
  },
  {
   "cell_type": "code",
   "execution_count": 24,
   "metadata": {},
   "outputs": [
    {
     "name": "stdout",
     "output_type": "stream",
     "text": [
      "Base method\n",
      "Derived method\n"
     ]
    }
   ],
   "source": [
    "from typing import final\n",
    "\n",
    "\n",
    "class Base:\n",
    "    @final\n",
    "    def my_method(self):\n",
    "        print(\"Base method\")\n",
    "\n",
    "\n",
    "class Derived(Base):\n",
    "    def my_method(self):  # This will raise a mypy static analysis tool warning, but won't prevent runtime overriding\n",
    "        print(\"Derived method\")\n",
    "\n",
    "\n",
    "# Creating instances\n",
    "base = Base()\n",
    "base.my_method()\n",
    "\n",
    "derived = Derived()\n",
    "derived.my_method()  # No runtime error, but mypy will raise a warning about overriding"
   ]
  },
  {
   "cell_type": "code",
   "execution_count": null,
   "metadata": {},
   "outputs": [],
   "source": [
    "class Base:\n",
    "    def my_method(self):\n",
    "        if type(self) is not Base:\n",
    "            raise NotImplementedError(\"Cannot override method 'my_method'\")\n",
    "        print(\"Base method\")\n",
    "\n",
    "\n",
    "class Derived(Base):\n",
    "    def my_method(self):\n",
    "        print(\"Derived method\")\n",
    "\n",
    "\n",
    "# Creating instances\n",
    "base = Base()\n",
    "base.my_method()\n",
    "\n",
    "derived = Derived()\n",
    "derived.my_method()  # Will raise NotImplementedError as the method is being overridden"
   ]
  },
  {
   "cell_type": "markdown",
   "metadata": {},
   "source": [
    "### Private variable and methods"
   ]
  },
  {
   "cell_type": "code",
   "execution_count": 25,
   "metadata": {},
   "outputs": [],
   "source": [
    "class MyClass:\n",
    "    #     __init__(self):\n",
    "    __privateVariable = 10\n",
    "\n",
    "    def myPublicMethod(self):\n",
    "        print(\"public method\")\n",
    "        self.__my()\n",
    "\n",
    "    def __my(self):\n",
    "        print(\"this is private!!\")\n",
    "\n",
    "\n",
    "# dunder"
   ]
  },
  {
   "cell_type": "code",
   "execution_count": 26,
   "metadata": {},
   "outputs": [],
   "source": [
    "obj = MyClass()"
   ]
  },
  {
   "cell_type": "code",
   "execution_count": 27,
   "metadata": {},
   "outputs": [
    {
     "ename": "AttributeError",
     "evalue": "'MyClass' object has no attribute '__my'",
     "output_type": "error",
     "traceback": [
      "\u001b[1;31m---------------------------------------------------------------------------\u001b[0m",
      "\u001b[1;31mAttributeError\u001b[0m                            Traceback (most recent call last)",
      "Cell \u001b[1;32mIn[27], line 1\u001b[0m\n\u001b[1;32m----> 1\u001b[0m \u001b[43mobj\u001b[49m\u001b[38;5;241;43m.\u001b[39;49m\u001b[43m__my\u001b[49m()\n",
      "\u001b[1;31mAttributeError\u001b[0m: 'MyClass' object has no attribute '__my'"
     ]
    }
   ],
   "source": [
    "obj.__my()"
   ]
  },
  {
   "cell_type": "code",
   "execution_count": 28,
   "metadata": {},
   "outputs": [
    {
     "ename": "AttributeError",
     "evalue": "'MyClass' object has no attribute '__privateVariable'",
     "output_type": "error",
     "traceback": [
      "\u001b[1;31m---------------------------------------------------------------------------\u001b[0m",
      "\u001b[1;31mAttributeError\u001b[0m                            Traceback (most recent call last)",
      "Cell \u001b[1;32mIn[28], line 1\u001b[0m\n\u001b[1;32m----> 1\u001b[0m \u001b[43mobj\u001b[49m\u001b[38;5;241;43m.\u001b[39;49m\u001b[43m__privateVariable\u001b[49m\n",
      "\u001b[1;31mAttributeError\u001b[0m: 'MyClass' object has no attribute '__privateVariable'"
     ]
    }
   ],
   "source": [
    "obj.__privateVariable"
   ]
  },
  {
   "cell_type": "code",
   "execution_count": null,
   "metadata": {},
   "outputs": [],
   "source": [
    "obj.myPublicMethod()"
   ]
  },
  {
   "cell_type": "code",
   "execution_count": null,
   "metadata": {},
   "outputs": [],
   "source": [
    "obj._MyClass__my()\n",
    "# dir(MyClass)"
   ]
  },
  {
   "cell_type": "raw",
   "metadata": {},
   "source": [
    "If you look closely, you’ll see there’s an attribute called obj._MyClass__privateVariable\n",
    "on this object. This is the name mangling that the Python interpreter\n",
    "applies. It does this to protect the variable from getting overridden in\n",
    "subclasses"
   ]
  },
  {
   "cell_type": "code",
   "execution_count": null,
   "metadata": {},
   "outputs": [],
   "source": [
    "obj._MyClass__privateVariable"
   ]
  },
  {
   "cell_type": "code",
   "execution_count": 29,
   "metadata": {},
   "outputs": [
    {
     "name": "stdout",
     "output_type": "stream",
     "text": [
      "the age of user is 66\n",
      "john Baldwin and was born 1958.\n"
     ]
    }
   ],
   "source": [
    "class Person:\n",
    "    def __init__(self, name, surname, year_of_birth):\n",
    "        self.__name = name\n",
    "        self.__surname = surname\n",
    "        self.__year_of_birth = year_of_birth\n",
    "\n",
    "    def age(self, current_year):\n",
    "        return current_year - self.__year_of_birth\n",
    "\n",
    "    def __str__(self):\n",
    "        return \"%s %s and was born %d.\" % (\n",
    "            self.__name,\n",
    "            self.__surname,\n",
    "            self.__year_of_birth,\n",
    "        )\n",
    "\n",
    "\n",
    "usr1 = Person(\"Alec\", \"Baldwin\", 1958)\n",
    "print(f\"the age of user is {usr1.age(2024)}\")\n",
    "usr2 = Person(\"john\", \"Baldwin\", 1958)\n",
    "print(usr2)"
   ]
  },
  {
   "cell_type": "code",
   "execution_count": 30,
   "metadata": {},
   "outputs": [
    {
     "ename": "AttributeError",
     "evalue": "'Person' object has no attribute '__name'",
     "output_type": "error",
     "traceback": [
      "\u001b[1;31m---------------------------------------------------------------------------\u001b[0m",
      "\u001b[1;31mAttributeError\u001b[0m                            Traceback (most recent call last)",
      "Cell \u001b[1;32mIn[30], line 1\u001b[0m\n\u001b[1;32m----> 1\u001b[0m \u001b[43musr1\u001b[49m\u001b[38;5;241;43m.\u001b[39;49m\u001b[43m__name\u001b[49m\n",
      "\u001b[1;31mAttributeError\u001b[0m: 'Person' object has no attribute '__name'"
     ]
    }
   ],
   "source": [
    "usr1.__name"
   ]
  },
  {
   "cell_type": "code",
   "execution_count": 31,
   "metadata": {},
   "outputs": [
    {
     "ename": "AttributeError",
     "evalue": "'Person' object has no attribute '__surname'",
     "output_type": "error",
     "traceback": [
      "\u001b[1;31m---------------------------------------------------------------------------\u001b[0m",
      "\u001b[1;31mAttributeError\u001b[0m                            Traceback (most recent call last)",
      "Cell \u001b[1;32mIn[31], line 1\u001b[0m\n\u001b[1;32m----> 1\u001b[0m \u001b[43musr1\u001b[49m\u001b[38;5;241;43m.\u001b[39;49m\u001b[43m__surname\u001b[49m\n",
      "\u001b[1;31mAttributeError\u001b[0m: 'Person' object has no attribute '__surname'"
     ]
    }
   ],
   "source": [
    "usr1.__surname"
   ]
  },
  {
   "cell_type": "code",
   "execution_count": null,
   "metadata": {},
   "outputs": [],
   "source": [
    "A.class_foo(1)"
   ]
  },
  {
   "cell_type": "markdown",
   "metadata": {},
   "source": [
    "### Multiple Inheritence"
   ]
  },
  {
   "cell_type": "code",
   "execution_count": null,
   "metadata": {},
   "outputs": [],
   "source": [
    "class Base1:\n",
    "    pass\n",
    "\n",
    "class Base2:\n",
    "    pass\n",
    "\n",
    "class MultiDerived(Base1, Base2):\n",
    "    pass"
   ]
  },
  {
   "cell_type": "code",
   "execution_count": 32,
   "metadata": {},
   "outputs": [
    {
     "name": "stdout",
     "output_type": "stream",
     "text": [
      "I am from class C and name is Richard\n",
      "(<class '__main__.C'>, <class '__main__.B'>, <class '__main__.A'>, <class 'object'>)\n"
     ]
    }
   ],
   "source": [
    "class A:\n",
    "    def __init__(self):\n",
    "        self.name = \"John\"\n",
    "        self.age = 23\n",
    "\n",
    "    def getNamefromA(self):\n",
    "        return f\"I am from class A and name is {self.name}\"\n",
    "\n",
    "    def getName(self):\n",
    "        return f\"I am from class A and name is {self.name}\"\n",
    "\n",
    "\n",
    "class B:\n",
    "    def __init__(self):\n",
    "        self.name = \"Richard\"\n",
    "        self.id = \"32\"\n",
    "\n",
    "    def getNamefromB(self):\n",
    "        return f\"I am from class B and name is {self.name}\"\n",
    "\n",
    "    def getName(self):\n",
    "        return f\"I am from class B and name is {self.name}\"\n",
    "\n",
    "\n",
    "class C(B, A):\n",
    "    def __init__(self):\n",
    "        A.__init__(self)\n",
    "        B.__init__(self)\n",
    "\n",
    "    #         A.__init__(self)\n",
    "    def getName(self):\n",
    "        return f\"I am from class C and name is {self.name}\"\n",
    "\n",
    "\n",
    "C1 = C()\n",
    "print(C1.getName())\n",
    "print(C.__mro__)"
   ]
  },
  {
   "cell_type": "code",
   "execution_count": null,
   "metadata": {},
   "outputs": [],
   "source": [
    "C1.getNamefromB()"
   ]
  },
  {
   "cell_type": "code",
   "execution_count": null,
   "metadata": {},
   "outputs": [],
   "source": [
    "C1.getNamefromA()"
   ]
  },
  {
   "cell_type": "code",
   "execution_count": 33,
   "metadata": {},
   "outputs": [
    {
     "name": "stdout",
     "output_type": "stream",
     "text": [
      "Richard\n",
      "other function\n",
      "None\n",
      "(<class '__main__.C'>, <class '__main__.A'>, <class '__main__.B'>, <class 'object'>)\n"
     ]
    }
   ],
   "source": [
    "class A:\n",
    "    def __init__(self):\n",
    "        self.name = \"John\"\n",
    "        self.age = 23\n",
    "\n",
    "    def getName(self):\n",
    "        return self.name\n",
    "\n",
    "    def otherName(self):\n",
    "        print(\"other function\")\n",
    "\n",
    "\n",
    "class B:\n",
    "    def __init__(self):\n",
    "        self.name = \"Richard\"\n",
    "        self.id = \"32\"\n",
    "\n",
    "    def getName(self):\n",
    "        return self.name\n",
    "\n",
    "\n",
    "class C(A,B):\n",
    "    def __init__(self):\n",
    "        A.__init__(self)\n",
    "        B.__init__(self)# It will overwrite the values initialize by Constructor A\n",
    "        \n",
    "\n",
    "    def getName(self):\n",
    "        return self.name\n",
    "\n",
    "\n",
    "C1 = C()\n",
    "print(C1.getName())\n",
    "print(C1.otherName())\n",
    "print(C.__mro__)"
   ]
  },
  {
   "cell_type": "code",
   "execution_count": 34,
   "metadata": {},
   "outputs": [
    {
     "name": "stdout",
     "output_type": "stream",
     "text": [
      "John\n",
      "other function\n",
      "None\n",
      "(<class '__main__.C'>, <class '__main__.A'>, <class '__main__.B'>, <class 'object'>)\n"
     ]
    }
   ],
   "source": [
    "class A:\n",
    "    def __init__(self):\n",
    "        self.name = \"John\"\n",
    "        self.age = 23\n",
    "\n",
    "    def getName(self):\n",
    "        return self.name\n",
    "\n",
    "    def otherName(self):\n",
    "        print(\"other function\")\n",
    "\n",
    "\n",
    "class B:\n",
    "    def __init__(self):\n",
    "        self.name = \"Richard\"\n",
    "        self.id = \"32\"\n",
    "\n",
    "    def getName(self):\n",
    "        return self.name\n",
    "\n",
    "\n",
    "class C(A, B):\n",
    "    def __init__(self):\n",
    "        B.__init__(self)\n",
    "        A.__init__(self)\n",
    "\n",
    "    def getName(self):\n",
    "        return self.name\n",
    "\n",
    "\n",
    "C1 = C()\n",
    "print(C1.getName())\n",
    "print(C1.otherName())\n",
    "print(C.__mro__)"
   ]
  },
  {
   "cell_type": "code",
   "execution_count": 35,
   "metadata": {},
   "outputs": [
    {
     "name": "stdout",
     "output_type": "stream",
     "text": [
      "Richard\n",
      "other function\n",
      "None\n",
      "(<class '__main__.C'>, <class '__main__.B'>, <class '__main__.A'>, <class 'object'>)\n"
     ]
    }
   ],
   "source": [
    "class A:\n",
    "    def __init__(self):\n",
    "        self.name = \"John\"\n",
    "        self.age = 23\n",
    "\n",
    "    def getName(self):\n",
    "        return self.name\n",
    "\n",
    "    def otherName(self):\n",
    "        print(\"other function\")\n",
    "\n",
    "\n",
    "class B:\n",
    "    def __init__(self):\n",
    "        self.name = \"Richard\"\n",
    "        self.id = \"32\"\n",
    "\n",
    "    def getName(self):\n",
    "        return self.name\n",
    "\n",
    "\n",
    "class C(B, A):\n",
    "    def __init__(self):\n",
    "        A.__init__(self)\n",
    "        B.__init__(self)\n",
    "\n",
    "    def getName(self):\n",
    "        return self.name\n",
    "\n",
    "\n",
    "C1 = C()\n",
    "print(C1.getName())\n",
    "print(C1.otherName())\n",
    "print(C.__mro__)"
   ]
  },
  {
   "cell_type": "code",
   "execution_count": null,
   "metadata": {},
   "outputs": [],
   "source": [
    "class A:\n",
    "    def __init__(self):\n",
    "        self.name = \"John\"\n",
    "        self.age = 23\n",
    "\n",
    "    def getName(self):\n",
    "        return self.name\n",
    "\n",
    "    def otherName(self):\n",
    "        print(\"other function\")\n",
    "\n",
    "\n",
    "class B:\n",
    "    def __init__(self):\n",
    "        self.name = \"Richard\"\n",
    "        self.id = \"32\"\n",
    "\n",
    "    def getName(self):\n",
    "        return self.name\n",
    "\n",
    "\n",
    "class C(B,A):\n",
    "    def __init__(self):\n",
    "        B.__init__(self)\n",
    "        A.__init__(self)\n",
    "\n",
    "    def getName(self):\n",
    "        return self.name\n",
    "\n",
    "\n",
    "C1 = C()\n",
    "print(C1.getName())\n",
    "print(C1.otherName())\n",
    "print(C.__mro__)"
   ]
  },
  {
   "cell_type": "code",
   "execution_count": 36,
   "metadata": {},
   "outputs": [
    {
     "name": "stdout",
     "output_type": "stream",
     "text": [
      "Richard hello\n",
      "32\n",
      "(<class '__main__.C'>, <class '__main__.B'>, <class '__main__.A'>, <class 'object'>)\n"
     ]
    },
    {
     "data": {
      "text/plain": [
       "(None,)"
      ]
     },
     "execution_count": 36,
     "metadata": {},
     "output_type": "execute_result"
    }
   ],
   "source": [
    "# from final_class import final\n",
    "\n",
    "class A:  \n",
    "    def __init__(self):  \n",
    "        self.name = 'John'  \n",
    "        self.age = 23  \n",
    "    def getName(self):  \n",
    "        return self.name  \n",
    "class B:  \n",
    "    def __init__(self):  \n",
    "        self.name = 'Richard'  \n",
    "        self.id = '32'  \n",
    "    def getName(self):  \n",
    "        return self.name+\" hello\"  \n",
    "class C(B, A):  # the order of inheriting will get the preference here B is inherited first\n",
    "    def __init__(self):  \n",
    "        super().__init__()  \n",
    "#     def getName(self):  \n",
    "#         return self.name  \n",
    "C1 = C()  \n",
    "print(C1.getName()) \n",
    "# print(C1.age)\n",
    "print(C1.id)\n",
    "\n",
    "print(C.__mro__),\n"
   ]
  },
  {
   "cell_type": "code",
   "execution_count": null,
   "metadata": {},
   "outputs": [
    {
     "name": "stdout",
     "output_type": "stream",
     "text": [
      "John\n",
      "(<class '__main__.C'>, <class '__main__.A'>, <class '__main__.B'>, <class 'object'>)\n"
     ]
    },
    {
     "data": {
      "text/plain": [
       "(None,)"
      ]
     },
     "execution_count": 37,
     "metadata": {},
     "output_type": "execute_result"
    }
   ],
   "source": [
    "class A:\n",
    "    def __init__(self):\n",
    "        self.name = \"John\"\n",
    "        self.age = 23\n",
    "\n",
    "    def getName(self):\n",
    "        return self.name\n",
    "\n",
    "\n",
    "class B:\n",
    "    def __init__(self):\n",
    "        self.name = \"Richard\"\n",
    "        self.id = \"32\"\n",
    "\n",
    "    def getName(self):\n",
    "        return self.name\n",
    "\n",
    "\n",
    "class C(\n",
    "    A, B\n",
    "):  # the order of inheriting will get the preference here A is inherited first\n",
    "    def __init__(self):\n",
    "        super().__init__()\n",
    "\n",
    "    def getName(self):\n",
    "        return self.name\n",
    "\n",
    "\n",
    "C1 = C()\n",
    "print(C1.getName())\n",
    "print(C.__mro__),\n",
    "\n",
    "# done till here "
   ]
  },
  {
   "cell_type": "raw",
   "metadata": {},
   "source": [
    "Naming Type Meaning\n",
    "name\tPublic These attributes can be freely used inside or outside of a class definition.\n",
    "_name\tProtected Protected attributes should not be used outside of the class definition, unless      inside of a subclass definition. \n",
    "__name\tPrivate This kind of attribute is inaccessible and invisible. It's neither possible to read nor write to those attributes, except inside of the class definition itself."
   ]
  },
  {
   "cell_type": "code",
   "execution_count": null,
   "metadata": {},
   "outputs": [],
   "source": [
    "class A():\n",
    "      def __init__(self):\n",
    "        self.__priv = \"I am private\"\n",
    "        self._prot = \"I am protected\"\n",
    "        self.pub = \"I am public\""
   ]
  },
  {
   "cell_type": "markdown",
   "metadata": {},
   "source": [
    "Python's convention to make an instance variable protected is to add a prefix _ (single underscore) to it. This effectively prevents it to be accessed, unless it is from within a sub-class.\n",
    "\n",
    "In fact, this doesn't prevent instance variables from accessing or modifyingthe instance. You can still perform the following operations:\n",
    "\n",
    "Hence, the responsible programmer would refrain from accessing and modifying instance variables prefixed with _ from outside its class.\n",
    "\n"
   ]
  },
  {
   "cell_type": "markdown",
   "metadata": {},
   "source": [
    "Single underscores are a Python naming convention that indicates a\n",
    "name is meant for internal use. It is generally not enforced by the\n",
    "Python interpreter and is only meant as a hint to the programmer"
   ]
  },
  {
   "cell_type": "code",
   "execution_count": 1,
   "metadata": {},
   "outputs": [
    {
     "name": "stdout",
     "output_type": "stream",
     "text": [
      "10000\n",
      "20000\n"
     ]
    }
   ],
   "source": [
    "class employee:\n",
    "    def __init__(self, name, sal):\n",
    "        self._name = name  # protected attribute\n",
    "        self._salary = sal  # protected attribute\n",
    "\n",
    "\n",
    "e1 = employee(\"Swati\", 10000)\n",
    "print(e1._salary)\n",
    "e1._salary = 20000\n",
    "print(e1._salary)"
   ]
  },
  {
   "cell_type": "code",
   "execution_count": 2,
   "metadata": {},
   "outputs": [
    {
     "data": {
      "text/plain": [
       "'Swati'"
      ]
     },
     "execution_count": 2,
     "metadata": {},
     "output_type": "execute_result"
    }
   ],
   "source": [
    "e1._name"
   ]
  },
  {
   "cell_type": "code",
   "execution_count": null,
   "metadata": {},
   "outputs": [],
   "source": [
    "e1.__salary"
   ]
  },
  {
   "cell_type": "code",
   "execution_count": 3,
   "metadata": {},
   "outputs": [
    {
     "name": "stdout",
     "output_type": "stream",
     "text": [
      "Unnamed robot\n",
      "Hi, I am Marvin\n",
      "Hi, I am Caliban\n",
      "I was built in the year 1993!\n",
      "Hi, I am a robot without a name\n"
     ]
    }
   ],
   "source": [
    "class Robot:\n",
    "    def __init__(self, name=None, build_year=2000):\n",
    "        self.__name = name\n",
    "        self.__build_year = build_year\n",
    "\n",
    "    def say_hi(self):\n",
    "        if self.__name:\n",
    "            print(\"Hi, I am \" + self.__name)\n",
    "        else:\n",
    "            print(\"Hi, I am a robot without a name\")\n",
    "\n",
    "    def set_name(self, name):\n",
    "        self.__name = name\n",
    "\n",
    "    def get_name(self):\n",
    "        return self.__name\n",
    "\n",
    "    def set_build_year(self, by):\n",
    "        self.__build_year = by\n",
    "\n",
    "    def get_build_year(self):\n",
    "        return self.__build_year\n",
    "\n",
    "    def __str__(self):\n",
    "        if self.__name:\n",
    "            return \"Name: \" + self.__name + \", Build Year: \" + str(self.__build_year)\n",
    "        else:\n",
    "            return \"Unnamed robot\"\n",
    "\n",
    "\n",
    "x = Robot(\"Marvin\", 1979)\n",
    "y = Robot(\"Caliban\", 1943)\n",
    "z = Robot()\n",
    "print(z)\n",
    "# print(z)\n",
    "for rob in [x, y, z]:\n",
    "    rob.say_hi()\n",
    "    if rob.get_name() == \"Caliban\":\n",
    "        rob.set_build_year(1993)\n",
    "        print(\"I was built in the year \" + str(rob.get_build_year()) + \"!\")"
   ]
  },
  {
   "cell_type": "raw",
   "metadata": {},
   "source": [
    "Every private attribute of our class has a getter and a setter. There are IDEs for object-oriented programming languages, who automatically provide getters and setters for every private attribute as soon as an attribute is created. \n"
   ]
  },
  {
   "cell_type": "markdown",
   "metadata": {},
   "source": [
    "### Destcutcure\n",
    "What we said about constructors holds true for destructors as well. There is no \"real\" destructor, but something similar, i.e. the method __del__. It is called when the instance is about to be destroyed and if there is no other reference to this instance. If a base class has a __del__() method, the derived class's __del__() method, if any, must explicitly call it to ensure proper deletion of the base class part of the instance. \n",
    "\n",
    "The following script is an example with __init__ and __del__: \n"
   ]
  },
  {
   "cell_type": "code",
   "execution_count": null,
   "metadata": {},
   "outputs": [],
   "source": [
    "class Robot():\n",
    "    def __init__(self, name):\n",
    "        self.name= name\n",
    "        print(name + \" has been created!\")\n",
    "        \n",
    "    def __del__(self):\n",
    "        print (\"Robot \"+self.name+\" has been destroyed\")\n",
    "   \n",
    "    def __str__(self):\n",
    "        print (\"Robot \"+self.name+\" has been created\")\n",
    "   \n",
    "\n",
    "    def printname(self):\n",
    "        print(self.name)\n",
    "            \n",
    "x = Robot(\"Tik-Tok\")\n",
    "y = Robot(\"Jenkins\")\n",
    "# print(x)\n",
    "print (id(x))\n",
    "print (id(y))\n",
    "print(\"*****\"*6)\n",
    "# #     print(\"Deleting x\")\n",
    "del x\n",
    "del y\n",
    "print(id(x))"
   ]
  },
  {
   "cell_type": "markdown",
   "metadata": {},
   "source": [
    "ASSIGNMENT"
   ]
  },
  {
   "cell_type": "code",
   "execution_count": null,
   "metadata": {},
   "outputs": [],
   "source": [
    "class A():\n",
    "    \n",
    "    def __init__(self, x, y):\n",
    "        self.__x = x\n",
    "        self.__y = y\n",
    "\n",
    "    def GetX(self):\n",
    "        return self.__x\n",
    "\n",
    "    def GetY(self):\n",
    "        return self.__y\n",
    "\n",
    "    def SetX(self, x):\n",
    "        self.__x = x\n",
    "\n",
    "    def SetY(self, y):\n",
    "        self.__y = y"
   ]
  },
  {
   "cell_type": "markdown",
   "metadata": {},
   "source": [
    "Data Abstraction, Data Encapsulation and Information Hiding are often synonymously used in tutorials on OOP. But there is a difference. Encapsulation is seen as the bundling of data with the methods that operate on that data. Information hiding on the other hand is the principle that some internal information or data is \"hidden\", so that it can't be accidentally changed. Data encapsulation via methods doesn't necessarily mean that the data is hidden. You might be capable of accessing and seeing the data anyway, but using the methods is recommended. Finally, data abstraction is present, if both data hiding and data encapsulation is used. This means data abstraction is the broader term:\n",
    "\n",
    "Data Abstraction = Data Encapsulation + Data Hiding \n",
    "\n",
    "Encapsulation is often accomplished by providing two kinds of methods for attributes: The methods for retrieving or accessing the values of attributes are called getter methods. Getter methods do not change the values of attributes, they just return the values. The methods used for changing the values of attributes are called setter methods."
   ]
  },
  {
   "cell_type": "markdown",
   "metadata": {},
   "source": []
  },
  {
   "cell_type": "code",
   "execution_count": null,
   "metadata": {},
   "outputs": [],
   "source": []
  },
  {
   "cell_type": "raw",
   "metadata": {},
   "source": [
    "__str__ is used in to show a string representation of your object to be read easily by others.\n",
    "\n",
    "__repr__ is used to show a string representation of the object.\n",
    "\n",
    "Python __str__()\n",
    "This method returns the string representation of the object. This method is called when print() or str() function is invoked on an object.\n",
    "\n",
    "This method must return the String object. If we don’t implement __str__() function for a class, then built-in object implementation is used that actually calls __repr__() function.\n",
    "\n",
    "Python __repr__()\n",
    "Python __repr__() function returns the object representation. It could be any valid python expression such as tuple, dictionary, string etc.\n",
    "\n",
    "This method is called when repr() function is invoked on the object, in that case, __repr__() function must return a String otherwise error will be thrown."
   ]
  },
  {
   "cell_type": "code",
   "execution_count": null,
   "metadata": {},
   "outputs": [],
   "source": [
    "class Fraction:\n",
    "    def __init__(self, num, den):\n",
    "        self.__num = num\n",
    "        self.__den = den\n",
    "\n",
    "    def __str__(self):\n",
    "        return '(' + str(self.__num) + '/' + str(self.__den) + ')'\n",
    "\n",
    "    def __repr__(self):\n",
    "        return 'Fraction (' + str(self.__num) + ',' + str(self.__den) + ')'\n",
    "\n",
    "\n",
    "\n",
    "f = Fraction(1,2)\n",
    "print('I want to represent the Fraction STRING as ' + str(f)) # (1/2)\n",
    "print('I want to represent the Fraction OBJECT as ', repr(f))"
   ]
  },
  {
   "cell_type": "code",
   "execution_count": null,
   "metadata": {},
   "outputs": [],
   "source": [
    "class Person:\n",
    "    name = \"\"\n",
    "    age = 0\n",
    "\n",
    "    def __init__(self, personName, personAge):\n",
    "        self.name = personName\n",
    "        self.age = personAge\n",
    "\n",
    "p = Person('Pankaj', 34)\n",
    "\n",
    "print(p.__str__())\n",
    "print(p.__repr__())\n"
   ]
  },
  {
   "cell_type": "code",
   "execution_count": null,
   "metadata": {},
   "outputs": [],
   "source": [
    "class Person:\n",
    "    name = \"\"\n",
    "    age = 0\n",
    "\n",
    "    def __init__(self, personName, personAge):\n",
    "        self.name = personName\n",
    "        self.age = personAge\n",
    "\n",
    "    def __repr__(self):\n",
    "        return {'name':self.name, 'age':self.age}\n",
    "\n",
    "    def __str__(self):\n",
    "        return 'Person(name='+self.name+', age='+str(self.age)+ ')'"
   ]
  },
  {
   "cell_type": "code",
   "execution_count": null,
   "metadata": {},
   "outputs": [],
   "source": [
    "p = Person('Pankaj', 34)\n",
    "\n",
    "# __str__() example\n",
    "print(p)\n",
    "print(p.__str__())\n",
    "s = str(p)\n",
    "print(s)\n",
    "\n",
    "# __repr__() example\n",
    "print(p.__repr__())\n",
    "print(type(p.__repr__()))\n",
    "# print(repr(p))"
   ]
  },
  {
   "cell_type": "markdown",
   "metadata": {},
   "source": [
    "#### Difference between __str__ and __repr__ functions\n",
    "-  __str__ must return string object whereas __repr__ can return any python expression.\n",
    "-  If __str__ implementation is missing then __repr__ function is used as fallback. There is no fallback if __repr__ function implementation is missing.\n",
    "-  If __repr__ function is returning String representation of the object, we can skip implementation of __str__ function.\n",
    "\n",
    "#### Summary\n",
    "Both __str__ and __repr__ functions are very similar. We can get the object representation in String format as well as other specific formats such as tuple and dict to get information about the object."
   ]
  },
  {
   "cell_type": "code",
   "execution_count": null,
   "metadata": {},
   "outputs": [],
   "source": [
    "class Geek: \n",
    "    def __init__(self, age = 0): \n",
    "         self._age = age \n",
    "      \n",
    "    # getter method \n",
    "    def get_age(self): \n",
    "        return self._age \n",
    "      \n",
    "    # setter method \n",
    "    def set_age(self, x): \n",
    "        self._age = x \n",
    "  \n",
    "raj = Geek() \n",
    "  \n",
    "# setting the age using setter \n",
    "raj.set_age(21) \n",
    "  \n",
    "# retrieving age using getter \n",
    "print(raj.get_age()) \n",
    "  \n",
    "print(raj._age) "
   ]
  },
  {
   "cell_type": "markdown",
   "metadata": {},
   "source": [
    "In Python property()is a built-in function that creates and returns a property object. A property object has three methods, getter(), setter(), and delete(). property() function in Python has four arguments property(fget, fset, fdel, doc), fget is a function for retrieving an attribute value. fset is a fuction for setting an attribute value. fdel is a function for deleting an attribute value. doc creates a docstring for attribute. A property object has three methods, getter(), setter(), and delete() to specify fget, fset and fdel individually. For Example"
   ]
  },
  {
   "cell_type": "code",
   "execution_count": null,
   "metadata": {},
   "outputs": [],
   "source": [
    "class Geeks: \n",
    "     def __init__(self): \n",
    "          self._age = 0\n",
    "            # function to get value of _age \n",
    "     def get_age(self): \n",
    "         print(\"getter method called\") \n",
    "         return self._age \n",
    "            # function to set value of _age \n",
    "     def set_age(self, a): \n",
    "         print(\"setter method called\") \n",
    "         self._age = a \n",
    "       # function to delete _age attribute \n",
    "     def del_age(self): \n",
    "         del self._age \n",
    "     age = property(get_age, set_age, del_age)  \n",
    "  \n",
    "mark = Geeks() \n",
    "mark.age = 10  \n",
    "print(mark.age) "
   ]
  },
  {
   "cell_type": "markdown",
   "metadata": {},
   "source": [
    "In previous method we used property() function in order to achieve getters and setters behaviour. However as mentioned earlier in this post getters and setters are also used for validating the getting and setting of attributes value. There is one more way to implement property function i.e. by using decorator. Python @property is one of the built-in decorators. The main purpose of any decorator is to change your class methods or attributes in such a way so that the user of your class no need to make any change in their code. For Example"
   ]
  },
  {
   "cell_type": "markdown",
   "metadata": {},
   "source": [
    "A method which is used for getting a value is decorated with \"@property\", i.e. we put this line directly in front of the header. The method which has to function as the setter is decorated with \"@x.setter\". If the function had been called \"f\", we would have to decorate it with \"@f.setter\"."
   ]
  },
  {
   "cell_type": "code",
   "execution_count": null,
   "metadata": {},
   "outputs": [],
   "source": [
    "class Geeks: \n",
    "     def __init__(self): \n",
    "          self._age = 0\n",
    "       \n",
    "     # using property decorator \n",
    "     # a getter function \n",
    "     @property\n",
    "     def age(self): \n",
    "         print(\"getter method called\") \n",
    "         return self._age \n",
    "       \n",
    "     # a setter function \n",
    "     @age.setter \n",
    "     def age(self, a): \n",
    "         if(a < 18): \n",
    "            raise ValueError(\"Sorry you age is below eligibility criteria\") \n",
    "         print(\"setter method called\") \n",
    "         self._age = a \n",
    "  \n",
    "mark = Geeks() \n",
    "print(mark.age)\n",
    "  \n",
    "mark.age = 19\n",
    "  \n",
    "print(mark.age) "
   ]
  },
  {
   "cell_type": "code",
   "execution_count": null,
   "metadata": {},
   "outputs": [],
   "source": [
    "class Robot:\n",
    "\n",
    "    def __init__(self, name, build_year, lk = 0.5, lp = 0.5 ):\n",
    "        self.name = name\n",
    "        self.build_year = build_year\n",
    "        self.__potential_physical = lk\n",
    "        self.__potential_psychic = lp\n",
    "\n",
    "    @property\n",
    "    def condition(self):\n",
    "        s = self.__potential_physical + self.__potential_psychic\n",
    "        if s <= -1:\n",
    "           return \"I feel miserable!\"\n",
    "        elif s <= 0:\n",
    "           return \"I feel bad!\"\n",
    "        elif s <= 0.5:\n",
    "           return \"Could be worse!\"\n",
    "        elif s <= 1:\n",
    "           return \"Seems to be okay!\"\n",
    "        else:\n",
    "           return \"Great!\" \n",
    "  \n",
    "x = Robot(\"Marvin\", 1979, 0.2, 0.4 )\n",
    "y = Robot(\"Caliban\", 1993, -0.4, 0.3)\n",
    "print(x.condition)\n",
    "print(y.condition)"
   ]
  },
  {
   "cell_type": "code",
   "execution_count": null,
   "metadata": {},
   "outputs": [],
   "source": [
    "class MyClass:\n",
    "    def method(self):\n",
    "        return 'instance method called', self\n",
    "\n",
    "    @classmethod\n",
    "    def classmethod(cls):\n",
    "        return 'class method called', cls\n",
    "\n",
    "    @staticmethod\n",
    "    def staticmethod():\n",
    "        return 'static method called'\n"
   ]
  },
  {
   "cell_type": "code",
   "execution_count": null,
   "metadata": {},
   "outputs": [],
   "source": [
    "obj = MyClass()\n",
    "obj.method()"
   ]
  },
  {
   "cell_type": "code",
   "execution_count": null,
   "metadata": {},
   "outputs": [],
   "source": [
    "MyClass.method(obj)"
   ]
  },
  {
   "cell_type": "code",
   "execution_count": null,
   "metadata": {},
   "outputs": [],
   "source": [
    "obj.classmethod()"
   ]
  },
  {
   "cell_type": "code",
   "execution_count": null,
   "metadata": {},
   "outputs": [],
   "source": [
    "obj.staticmethod()"
   ]
  },
  {
   "cell_type": "code",
   "execution_count": null,
   "metadata": {},
   "outputs": [],
   "source": [
    "MyClass.classmethod()"
   ]
  },
  {
   "cell_type": "code",
   "execution_count": null,
   "metadata": {},
   "outputs": [],
   "source": [
    "MyClass.staticmethod()"
   ]
  },
  {
   "cell_type": "code",
   "execution_count": null,
   "metadata": {},
   "outputs": [],
   "source": [
    "MyClass.method()"
   ]
  },
  {
   "cell_type": "code",
   "execution_count": null,
   "metadata": {},
   "outputs": [],
   "source": [
    "class Employee():\n",
    "    '''This Class has been defined to calculate \n",
    "             the employees salary Hike'''\n",
    "    raise_pay = 0.02\n",
    "    def __init__(self,full_name,emppay):\n",
    "        '''This is an init constructor'''\n",
    "        self.name = full_name\n",
    "        self.pay  = emppay\n",
    "        self.first_name = full_name.split(\" \")[0]\n",
    "        self.last_name  = full_name.split(\" \")[-1]\n",
    "        print(\"The Pay of employee {} is {} \".format(self.name,self.pay))\n",
    "    def __str__(self):\n",
    "        print(\"This is a Good Class example for Inheritance\")\n",
    "    def salary(self):\n",
    "        salary_hike = ((self.pay * self.raise_pay) + self.pay)\n",
    "        print(\"The salary hike for {} is {}\".format(self.name,salary_hike))\n",
    "    def emp_name(self):\n",
    "        if self.first_name != self.last_name:\n",
    "            print(\"The emp name is :\",self.first_name,self.last_name)\n",
    "        else:\n",
    "            print(\"The emp name is :\",self.first_name)\n",
    "    def emp_email(self):\n",
    "        if self.first_name != self.last_name:\n",
    "            self.email      = self.first_name + self.last_name + '@email.com'\n",
    "            print(\"The email of employee is \",self.email)\n",
    "        else:\n",
    "            print(\"The email of employee is \",self.first_name + '@email.com')\n",
    "        \n",
    "class PrgmLang(Employee):\n",
    "    def __init__(self,full_name,emppay,pgm_lang):\n",
    "        super().__init__(full_name,emppay)\n",
    "        self.plang = pgm_lang\n",
    "        print(\"The Employee {} progm language is {}\".format(self.name,self.plang))\n",
    "        \n",
    "class Manager(PrgmLang):\n",
    "    def __init__(self,full_name,emppay,pgm_lang,employee=None):\n",
    "        super().__init__(full_name,emppay,pgm_lang)\n",
    "        if employee is None:\n",
    "            self.employee =[]\n",
    "        else:\n",
    "            self.employee = employee            \n",
    "    def add_emp(self,emp):\n",
    "        for emp in self.employee:\n",
    "            self.employee.append(emp)\n",
    "    def remove_emp(self,emp):\n",
    "        for emp in self.employee:\n",
    "            self.employee.remove(emp)\n",
    "    def print_emp(self):\n",
    "        for emp in self.employee:\n",
    "            return emp.emp_name()\n",
    "            \n",
    " #============================================================================       \n",
    "      \n",
    "dev1 = PrgmLang(\"Tom Jerry\",20000,\"JavaCore\")\n",
    "#dev1.emp_email()\n",
    "mgr1 = Manager(\"Marvel Story\",90000,\"Python\",[dev1])\n",
    "mgr1.print_emp()\n",
    "\n"
   ]
  },
  {
   "cell_type": "code",
   "execution_count": null,
   "metadata": {},
   "outputs": [],
   "source": [
    "Project: Personal Library System\n",
    "Project Overview:\n",
    "Build a simple personal library system that allows users to manage their book collection. \n",
    "This project will involve creating classes for books, managing them in a library, \n",
    "and using inheritance to handle different types of books.\n",
    "\n",
    "Classes:\n",
    "Book:\n",
    "Base class for all types of books.\n",
    "Attributes: title, author, publication_year.\n",
    "EBook (inherits from Book):\n",
    "\n",
    "Represents an electronic book.\n",
    "Additional attribute: file_format (PDF, EPUB, etc.).\n",
    "PaperBook (inherits from Book):\n",
    "\n",
    "Represents a physical book.\n",
    "Additional attributes: ISBN, number_of_pages.\n",
    "Library:\n",
    "\n",
    "Manages a collection of books (both EBooks and PaperBooks).\n",
    "Methods: add_book, remove_book, display_books.\n",
    "Guidelines:\n",
    "Book Class:\n",
    "\n",
    "Implement a Book class with attributes for title, author, and publication year.\n",
    "EBook and PaperBook Classes:\n",
    "\n",
    "Create two subclasses, EBook and PaperBook, inheriting from the Book class.\n",
    "Add additional attributes specific to each type of book.\n",
    "Library Class:\n",
    "\n",
    "Implement a Library class that can store both EBooks and PaperBooks.\n",
    "Include methods to add a book, remove a book, and display the list of books in the library.\n",
    "File Handling:\n",
    "\n",
    "Save the library data to a file and load it back when the program starts.\n",
    "String Representation:\n",
    "\n",
    "Implement a __str__ method in each class to provide a meaningful string representation when printing objects.\n",
    "Example Usage:\n",
    "# Create library\n",
    "my_library = Library()\n",
    "\n",
    "# Add books to the library\n",
    "ebook1 = EBook(\"Python Basics\", \"John Doe\", 2020, \"PDF\")\n",
    "paperbook1 = PaperBook(\"Data Structures\", \"Jane Smith\", 2019, \"1234567890\", 300)\n",
    "\n",
    "my_library.add_book(ebook1)\n",
    "my_library.add_book(paperbook1)\n",
    "\n",
    "# Display books in the library\n",
    "my_library.display_books()\n",
    "\n",
    "# Remove a book from the library\n",
    "my_library.remove_book(ebook1)\n",
    "\n",
    "# Display updated library\n",
    "my_library.display_books("
   ]
  }
 ],
 "metadata": {
  "kernelspec": {
   "display_name": "Python 3",
   "language": "python",
   "name": "python3"
  },
  "language_info": {
   "codemirror_mode": {
    "name": "ipython",
    "version": 3
   },
   "file_extension": ".py",
   "mimetype": "text/x-python",
   "name": "python",
   "nbconvert_exporter": "python",
   "pygments_lexer": "ipython3",
   "version": "3.9.0"
  }
 },
 "nbformat": 4,
 "nbformat_minor": 2
}
