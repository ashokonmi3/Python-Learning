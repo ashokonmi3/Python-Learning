{
 "cells": [
  {
   "cell_type": "markdown",
   "metadata": {},
   "source": [
    "### Object-Oriented Programming (OOP)\n",
    "OOP, or Object-Oriented Programming, is a method of structuring a\n",
    "program by bundling related properties and behaviors into individual\n",
    "objects"
   ]
  },
  {
   "cell_type": "markdown",
   "metadata": {},
   "source": [
    "Let’s say you wanted to track employees in an organization. You need to store some basic information about each employee,\n",
    "such as their name, age, position, and the year they started working."
   ]
  },
  {
   "cell_type": "code",
   "execution_count": 1,
   "metadata": {},
   "outputs": [
    {
     "data": {
      "application/javascript": "\n            setTimeout(function() {\n                var nbb_cell_id = 1;\n                var nbb_unformatted_code = \"%load_ext nb_black\";\n                var nbb_formatted_code = \"%load_ext nb_black\";\n                var nbb_cells = Jupyter.notebook.get_cells();\n                for (var i = 0; i < nbb_cells.length; ++i) {\n                    if (nbb_cells[i].input_prompt_number == nbb_cell_id) {\n                        if (nbb_cells[i].get_text() == nbb_unformatted_code) {\n                             nbb_cells[i].set_text(nbb_formatted_code);\n                        }\n                        break;\n                    }\n                }\n            }, 500);\n            ",
      "text/plain": [
       "<IPython.core.display.Javascript object>"
      ]
     },
     "metadata": {},
     "output_type": "display_data"
    }
   ],
   "source": [
    "%load_ext nb_black"
   ]
  },
  {
   "cell_type": "code",
   "execution_count": 2,
   "metadata": {},
   "outputs": [
    {
     "data": {
      "application/javascript": "\n            setTimeout(function() {\n                var nbb_cell_id = 2;\n                var nbb_unformatted_code = \"l = [1, 2, 3] # object\\nt = (1, 2, 3)\";\n                var nbb_formatted_code = \"l = [1, 2, 3]  # object\\nt = (1, 2, 3)\";\n                var nbb_cells = Jupyter.notebook.get_cells();\n                for (var i = 0; i < nbb_cells.length; ++i) {\n                    if (nbb_cells[i].input_prompt_number == nbb_cell_id) {\n                        if (nbb_cells[i].get_text() == nbb_unformatted_code) {\n                             nbb_cells[i].set_text(nbb_formatted_code);\n                        }\n                        break;\n                    }\n                }\n            }, 500);\n            ",
      "text/plain": [
       "<IPython.core.display.Javascript object>"
      ]
     },
     "metadata": {},
     "output_type": "display_data"
    }
   ],
   "source": [
    "l = [1, 2, 3] # object\n",
    "t = (1, 2, 3)"
   ]
  },
  {
   "cell_type": "code",
   "execution_count": 3,
   "metadata": {},
   "outputs": [
    {
     "data": {
      "application/javascript": "\n            setTimeout(function() {\n                var nbb_cell_id = 3;\n                var nbb_unformatted_code = \"class Car:\\n    \\\"\\\"\\\"This is car class\\\"\\\"\\\"\\n\\n    gear = \\\"semi\\\"\\n    brand = \\\"BMW\\\"\\n    color = \\\"white\\\"\\n\\n    def startcar(self):\\n        \\\"\\\"\\\"This is function to start the car\\\"\\\"\\\"\\n        print(\\\"starting the car.....\\\")\";\n                var nbb_formatted_code = \"class Car:\\n    \\\"\\\"\\\"This is car class\\\"\\\"\\\"\\n\\n    gear = \\\"semi\\\"\\n    brand = \\\"BMW\\\"\\n    color = \\\"white\\\"\\n\\n    def startcar(self):\\n        \\\"\\\"\\\"This is function to start the car\\\"\\\"\\\"\\n        print(\\\"starting the car.....\\\")\";\n                var nbb_cells = Jupyter.notebook.get_cells();\n                for (var i = 0; i < nbb_cells.length; ++i) {\n                    if (nbb_cells[i].input_prompt_number == nbb_cell_id) {\n                        if (nbb_cells[i].get_text() == nbb_unformatted_code) {\n                             nbb_cells[i].set_text(nbb_formatted_code);\n                        }\n                        break;\n                    }\n                }\n            }, 500);\n            ",
      "text/plain": [
       "<IPython.core.display.Javascript object>"
      ]
     },
     "metadata": {},
     "output_type": "display_data"
    }
   ],
   "source": [
    "class Car:\n",
    "    \"\"\"This is car class\"\"\"\n",
    "\n",
    "    gear = \"semi\"\n",
    "    brand = \"BMW\"\n",
    "    color = \"white\"\n",
    "\n",
    "    def startcar(self):\n",
    "        \"\"\"This is function to start the car\"\"\"\n",
    "        print(\"starting the car.....\")"
   ]
  },
  {
   "cell_type": "code",
   "execution_count": 4,
   "metadata": {},
   "outputs": [
    {
     "name": "stdout",
     "output_type": "stream",
     "text": [
      "['__class__', '__delattr__', '__dict__', '__dir__', '__doc__', '__eq__', '__format__', '__ge__', '__getattribute__', '__gt__', '__hash__', '__init__', '__init_subclass__', '__le__', '__lt__', '__module__', '__ne__', '__new__', '__reduce__', '__reduce_ex__', '__repr__', '__setattr__', '__sizeof__', '__str__', '__subclasshook__', '__weakref__', 'brand', 'color', 'gear', 'startcar']\n"
     ]
    },
    {
     "data": {
      "application/javascript": "\n            setTimeout(function() {\n                var nbb_cell_id = 4;\n                var nbb_unformatted_code = \"print(dir(Car))\";\n                var nbb_formatted_code = \"print(dir(Car))\";\n                var nbb_cells = Jupyter.notebook.get_cells();\n                for (var i = 0; i < nbb_cells.length; ++i) {\n                    if (nbb_cells[i].input_prompt_number == nbb_cell_id) {\n                        if (nbb_cells[i].get_text() == nbb_unformatted_code) {\n                             nbb_cells[i].set_text(nbb_formatted_code);\n                        }\n                        break;\n                    }\n                }\n            }, 500);\n            ",
      "text/plain": [
       "<IPython.core.display.Javascript object>"
      ]
     },
     "metadata": {},
     "output_type": "display_data"
    }
   ],
   "source": [
    "print(dir(Car))"
   ]
  },
  {
   "cell_type": "code",
   "execution_count": 5,
   "metadata": {},
   "outputs": [
    {
     "name": "stdout",
     "output_type": "stream",
     "text": [
      "Help on class Car in module __main__:\n",
      "\n",
      "class Car(builtins.object)\n",
      " |  This is car class\n",
      " |  \n",
      " |  Methods defined here:\n",
      " |  \n",
      " |  startcar(self)\n",
      " |      This is function to start the car\n",
      " |  \n",
      " |  ----------------------------------------------------------------------\n",
      " |  Data descriptors defined here:\n",
      " |  \n",
      " |  __dict__\n",
      " |      dictionary for instance variables (if defined)\n",
      " |  \n",
      " |  __weakref__\n",
      " |      list of weak references to the object (if defined)\n",
      " |  \n",
      " |  ----------------------------------------------------------------------\n",
      " |  Data and other attributes defined here:\n",
      " |  \n",
      " |  brand = 'BMW'\n",
      " |  \n",
      " |  color = 'white'\n",
      " |  \n",
      " |  gear = 'semi'\n",
      "\n"
     ]
    },
    {
     "data": {
      "application/javascript": "\n            setTimeout(function() {\n                var nbb_cell_id = 5;\n                var nbb_unformatted_code = \"help(Car)\";\n                var nbb_formatted_code = \"help(Car)\";\n                var nbb_cells = Jupyter.notebook.get_cells();\n                for (var i = 0; i < nbb_cells.length; ++i) {\n                    if (nbb_cells[i].input_prompt_number == nbb_cell_id) {\n                        if (nbb_cells[i].get_text() == nbb_unformatted_code) {\n                             nbb_cells[i].set_text(nbb_formatted_code);\n                        }\n                        break;\n                    }\n                }\n            }, 500);\n            ",
      "text/plain": [
       "<IPython.core.display.Javascript object>"
      ]
     },
     "metadata": {},
     "output_type": "display_data"
    }
   ],
   "source": [
    "help(Car)"
   ]
  },
  {
   "cell_type": "code",
   "execution_count": 6,
   "metadata": {},
   "outputs": [
    {
     "name": "stdout",
     "output_type": "stream",
     "text": [
      "semi\n",
      "<class 'type'>\n"
     ]
    },
    {
     "data": {
      "application/javascript": "\n            setTimeout(function() {\n                var nbb_cell_id = 6;\n                var nbb_unformatted_code = \"print(Car.gear)\\nprint(type(Car))\";\n                var nbb_formatted_code = \"print(Car.gear)\\nprint(type(Car))\";\n                var nbb_cells = Jupyter.notebook.get_cells();\n                for (var i = 0; i < nbb_cells.length; ++i) {\n                    if (nbb_cells[i].input_prompt_number == nbb_cell_id) {\n                        if (nbb_cells[i].get_text() == nbb_unformatted_code) {\n                             nbb_cells[i].set_text(nbb_formatted_code);\n                        }\n                        break;\n                    }\n                }\n            }, 500);\n            ",
      "text/plain": [
       "<IPython.core.display.Javascript object>"
      ]
     },
     "metadata": {},
     "output_type": "display_data"
    }
   ],
   "source": [
    "print(Car.gear)\n",
    "print(type(Car))"
   ]
  },
  {
   "cell_type": "code",
   "execution_count": 7,
   "metadata": {},
   "outputs": [
    {
     "name": "stdout",
     "output_type": "stream",
     "text": [
      "<__main__.Car object at 0x00000142D318F8E0>\n"
     ]
    },
    {
     "data": {
      "application/javascript": "\n            setTimeout(function() {\n                var nbb_cell_id = 7;\n                var nbb_unformatted_code = \"c = Car()\\n# print(Car())\\nprint(c)\";\n                var nbb_formatted_code = \"c = Car()\\n# print(Car())\\nprint(c)\";\n                var nbb_cells = Jupyter.notebook.get_cells();\n                for (var i = 0; i < nbb_cells.length; ++i) {\n                    if (nbb_cells[i].input_prompt_number == nbb_cell_id) {\n                        if (nbb_cells[i].get_text() == nbb_unformatted_code) {\n                             nbb_cells[i].set_text(nbb_formatted_code);\n                        }\n                        break;\n                    }\n                }\n            }, 500);\n            ",
      "text/plain": [
       "<IPython.core.display.Javascript object>"
      ]
     },
     "metadata": {},
     "output_type": "display_data"
    }
   ],
   "source": [
    "c = Car()\n",
    "# print(Car())\n",
    "print(c)"
   ]
  },
  {
   "cell_type": "code",
   "execution_count": 8,
   "metadata": {},
   "outputs": [
    {
     "data": {
      "text/plain": [
       "['__class__',\n",
       " '__delattr__',\n",
       " '__dict__',\n",
       " '__dir__',\n",
       " '__doc__',\n",
       " '__eq__',\n",
       " '__format__',\n",
       " '__ge__',\n",
       " '__getattribute__',\n",
       " '__gt__',\n",
       " '__hash__',\n",
       " '__init__',\n",
       " '__init_subclass__',\n",
       " '__le__',\n",
       " '__lt__',\n",
       " '__module__',\n",
       " '__ne__',\n",
       " '__new__',\n",
       " '__reduce__',\n",
       " '__reduce_ex__',\n",
       " '__repr__',\n",
       " '__setattr__',\n",
       " '__sizeof__',\n",
       " '__str__',\n",
       " '__subclasshook__',\n",
       " '__weakref__',\n",
       " 'brand',\n",
       " 'color',\n",
       " 'gear',\n",
       " 'startcar']"
      ]
     },
     "execution_count": 8,
     "metadata": {},
     "output_type": "execute_result"
    },
    {
     "data": {
      "application/javascript": "\n            setTimeout(function() {\n                var nbb_cell_id = 8;\n                var nbb_unformatted_code = \"dir(c)\";\n                var nbb_formatted_code = \"dir(c)\";\n                var nbb_cells = Jupyter.notebook.get_cells();\n                for (var i = 0; i < nbb_cells.length; ++i) {\n                    if (nbb_cells[i].input_prompt_number == nbb_cell_id) {\n                        if (nbb_cells[i].get_text() == nbb_unformatted_code) {\n                             nbb_cells[i].set_text(nbb_formatted_code);\n                        }\n                        break;\n                    }\n                }\n            }, 500);\n            ",
      "text/plain": [
       "<IPython.core.display.Javascript object>"
      ]
     },
     "metadata": {},
     "output_type": "display_data"
    }
   ],
   "source": [
    "dir(c)"
   ]
  },
  {
   "cell_type": "code",
   "execution_count": 9,
   "metadata": {},
   "outputs": [
    {
     "name": "stdout",
     "output_type": "stream",
     "text": [
      "Help on Car in module __main__ object:\n",
      "\n",
      "class Car(builtins.object)\n",
      " |  This is car class\n",
      " |  \n",
      " |  Methods defined here:\n",
      " |  \n",
      " |  startcar(self)\n",
      " |      This is function to start the car\n",
      " |  \n",
      " |  ----------------------------------------------------------------------\n",
      " |  Data descriptors defined here:\n",
      " |  \n",
      " |  __dict__\n",
      " |      dictionary for instance variables (if defined)\n",
      " |  \n",
      " |  __weakref__\n",
      " |      list of weak references to the object (if defined)\n",
      " |  \n",
      " |  ----------------------------------------------------------------------\n",
      " |  Data and other attributes defined here:\n",
      " |  \n",
      " |  brand = 'BMW'\n",
      " |  \n",
      " |  color = 'white'\n",
      " |  \n",
      " |  gear = 'semi'\n",
      "\n"
     ]
    },
    {
     "data": {
      "application/javascript": "\n            setTimeout(function() {\n                var nbb_cell_id = 9;\n                var nbb_unformatted_code = \"help(c)\";\n                var nbb_formatted_code = \"help(c)\";\n                var nbb_cells = Jupyter.notebook.get_cells();\n                for (var i = 0; i < nbb_cells.length; ++i) {\n                    if (nbb_cells[i].input_prompt_number == nbb_cell_id) {\n                        if (nbb_cells[i].get_text() == nbb_unformatted_code) {\n                             nbb_cells[i].set_text(nbb_formatted_code);\n                        }\n                        break;\n                    }\n                }\n            }, 500);\n            ",
      "text/plain": [
       "<IPython.core.display.Javascript object>"
      ]
     },
     "metadata": {},
     "output_type": "display_data"
    }
   ],
   "source": [
    "help(c)"
   ]
  },
  {
   "cell_type": "code",
   "execution_count": 10,
   "metadata": {},
   "outputs": [
    {
     "name": "stdout",
     "output_type": "stream",
     "text": [
      " ID of class Car 1386505368752\n",
      " ID of class Car 1386521098464\n",
      "False\n"
     ]
    },
    {
     "data": {
      "application/javascript": "\n            setTimeout(function() {\n                var nbb_cell_id = 10;\n                var nbb_unformatted_code = \"print (f\\\" ID of class Car {id(Car)}\\\")\\nprint (f\\\" ID of class Car {id(c)}\\\")\\n\\nprint(Car is c)\";\n                var nbb_formatted_code = \"print(f\\\" ID of class Car {id(Car)}\\\")\\nprint(f\\\" ID of class Car {id(c)}\\\")\\n\\nprint(Car is c)\";\n                var nbb_cells = Jupyter.notebook.get_cells();\n                for (var i = 0; i < nbb_cells.length; ++i) {\n                    if (nbb_cells[i].input_prompt_number == nbb_cell_id) {\n                        if (nbb_cells[i].get_text() == nbb_unformatted_code) {\n                             nbb_cells[i].set_text(nbb_formatted_code);\n                        }\n                        break;\n                    }\n                }\n            }, 500);\n            ",
      "text/plain": [
       "<IPython.core.display.Javascript object>"
      ]
     },
     "metadata": {},
     "output_type": "display_data"
    }
   ],
   "source": [
    "print (f\" ID of class Car {id(Car)}\")\n",
    "print (f\" ID of class Car {id(c)}\")\n",
    "\n",
    "print(Car is c)"
   ]
  },
  {
   "cell_type": "code",
   "execution_count": 11,
   "metadata": {},
   "outputs": [
    {
     "name": "stdout",
     "output_type": "stream",
     "text": [
      "c is d False\n",
      "c.gear is d.gear True\n",
      "c.gear == d.gear True\n"
     ]
    },
    {
     "data": {
      "application/javascript": "\n            setTimeout(function() {\n                var nbb_cell_id = 11;\n                var nbb_unformatted_code = \"d = Car()\\nprint(f\\\"c is d {c is d}\\\")\\nprint(f\\\"c.gear is d.gear {c.gear is d.gear}\\\")\\nprint(f\\\"c.gear == d.gear {c.gear == d.gear}\\\")\";\n                var nbb_formatted_code = \"d = Car()\\nprint(f\\\"c is d {c is d}\\\")\\nprint(f\\\"c.gear is d.gear {c.gear is d.gear}\\\")\\nprint(f\\\"c.gear == d.gear {c.gear == d.gear}\\\")\";\n                var nbb_cells = Jupyter.notebook.get_cells();\n                for (var i = 0; i < nbb_cells.length; ++i) {\n                    if (nbb_cells[i].input_prompt_number == nbb_cell_id) {\n                        if (nbb_cells[i].get_text() == nbb_unformatted_code) {\n                             nbb_cells[i].set_text(nbb_formatted_code);\n                        }\n                        break;\n                    }\n                }\n            }, 500);\n            ",
      "text/plain": [
       "<IPython.core.display.Javascript object>"
      ]
     },
     "metadata": {},
     "output_type": "display_data"
    }
   ],
   "source": [
    "d = Car()\n",
    "print(f\"c is d {c is d}\")\n",
    "print(f\"c.gear is d.gear {c.gear is d.gear}\")\n",
    "print(f\"c.gear == d.gear {c.gear == d.gear}\")"
   ]
  },
  {
   "cell_type": "code",
   "execution_count": 12,
   "metadata": {},
   "outputs": [
    {
     "name": "stdout",
     "output_type": "stream",
     "text": [
      "semi\n",
      "BMW\n",
      "white\n",
      "semi\n"
     ]
    },
    {
     "data": {
      "application/javascript": "\n            setTimeout(function() {\n                var nbb_cell_id = 12;\n                var nbb_unformatted_code = \"# print(type(c))\\nprint(c.gear)\\nprint(c.brand)\\nprint(c.color)\\nprint(Car.gear)\";\n                var nbb_formatted_code = \"# print(type(c))\\nprint(c.gear)\\nprint(c.brand)\\nprint(c.color)\\nprint(Car.gear)\";\n                var nbb_cells = Jupyter.notebook.get_cells();\n                for (var i = 0; i < nbb_cells.length; ++i) {\n                    if (nbb_cells[i].input_prompt_number == nbb_cell_id) {\n                        if (nbb_cells[i].get_text() == nbb_unformatted_code) {\n                             nbb_cells[i].set_text(nbb_formatted_code);\n                        }\n                        break;\n                    }\n                }\n            }, 500);\n            ",
      "text/plain": [
       "<IPython.core.display.Javascript object>"
      ]
     },
     "metadata": {},
     "output_type": "display_data"
    }
   ],
   "source": [
    "# print(type(c))\n",
    "print(c.gear)\n",
    "print(c.brand)\n",
    "print(c.color)\n",
    "print(Car.gear)"
   ]
  },
  {
   "cell_type": "code",
   "execution_count": 13,
   "metadata": {},
   "outputs": [
    {
     "name": "stdout",
     "output_type": "stream",
     "text": [
      "<class 'list'>\n"
     ]
    },
    {
     "data": {
      "application/javascript": "\n            setTimeout(function() {\n                var nbb_cell_id = 13;\n                var nbb_unformatted_code = \"l = list()\\nt = tuple()\\nd = dict()\\nc = Car()\\nprint(type(list()))\\n# dir(l)\\nl.reverse()\";\n                var nbb_formatted_code = \"l = list()\\nt = tuple()\\nd = dict()\\nc = Car()\\nprint(type(list()))\\n# dir(l)\\nl.reverse()\";\n                var nbb_cells = Jupyter.notebook.get_cells();\n                for (var i = 0; i < nbb_cells.length; ++i) {\n                    if (nbb_cells[i].input_prompt_number == nbb_cell_id) {\n                        if (nbb_cells[i].get_text() == nbb_unformatted_code) {\n                             nbb_cells[i].set_text(nbb_formatted_code);\n                        }\n                        break;\n                    }\n                }\n            }, 500);\n            ",
      "text/plain": [
       "<IPython.core.display.Javascript object>"
      ]
     },
     "metadata": {},
     "output_type": "display_data"
    }
   ],
   "source": [
    "l = list()\n",
    "t = tuple()\n",
    "d = dict()\n",
    "c = Car()\n",
    "print(type(list()))\n",
    "# dir(l)\n",
    "l.reverse()"
   ]
  },
  {
   "cell_type": "code",
   "execution_count": 14,
   "metadata": {},
   "outputs": [
    {
     "data": {
      "text/plain": [
       "True"
      ]
     },
     "execution_count": 14,
     "metadata": {},
     "output_type": "execute_result"
    },
    {
     "data": {
      "application/javascript": "\n            setTimeout(function() {\n                var nbb_cell_id = 14;\n                var nbb_unformatted_code = \"s = \\\"python\\\"\\n# print(type(s))\\n# print(dir(s))\\ns.startswith(\\\"p\\\")\";\n                var nbb_formatted_code = \"s = \\\"python\\\"\\n# print(type(s))\\n# print(dir(s))\\ns.startswith(\\\"p\\\")\";\n                var nbb_cells = Jupyter.notebook.get_cells();\n                for (var i = 0; i < nbb_cells.length; ++i) {\n                    if (nbb_cells[i].input_prompt_number == nbb_cell_id) {\n                        if (nbb_cells[i].get_text() == nbb_unformatted_code) {\n                             nbb_cells[i].set_text(nbb_formatted_code);\n                        }\n                        break;\n                    }\n                }\n            }, 500);\n            ",
      "text/plain": [
       "<IPython.core.display.Javascript object>"
      ]
     },
     "metadata": {},
     "output_type": "display_data"
    }
   ],
   "source": [
    "s = \"python\"\n",
    "# print(type(s))\n",
    "# print(dir(s))\n",
    "s.startswith(\"p\")\n"
   ]
  },
  {
   "cell_type": "code",
   "execution_count": 15,
   "metadata": {},
   "outputs": [
    {
     "name": "stdout",
     "output_type": "stream",
     "text": [
      "starting the car.....\n"
     ]
    },
    {
     "data": {
      "application/javascript": "\n            setTimeout(function() {\n                var nbb_cell_id = 15;\n                var nbb_unformatted_code = \"c.startcar()\";\n                var nbb_formatted_code = \"c.startcar()\";\n                var nbb_cells = Jupyter.notebook.get_cells();\n                for (var i = 0; i < nbb_cells.length; ++i) {\n                    if (nbb_cells[i].input_prompt_number == nbb_cell_id) {\n                        if (nbb_cells[i].get_text() == nbb_unformatted_code) {\n                             nbb_cells[i].set_text(nbb_formatted_code);\n                        }\n                        break;\n                    }\n                }\n            }, 500);\n            ",
      "text/plain": [
       "<IPython.core.display.Javascript object>"
      ]
     },
     "metadata": {},
     "output_type": "display_data"
    }
   ],
   "source": [
    "c.startcar()"
   ]
  },
  {
   "cell_type": "code",
   "execution_count": 16,
   "metadata": {},
   "outputs": [
    {
     "data": {
      "application/javascript": "\n            setTimeout(function() {\n                var nbb_cell_id = 16;\n                var nbb_unformatted_code = \"class Car:\\n    gear = \\\"semi\\\"\\n    brand = \\\"BMW\\\"\\n    color = \\\"white\\\"\";\n                var nbb_formatted_code = \"class Car:\\n    gear = \\\"semi\\\"\\n    brand = \\\"BMW\\\"\\n    color = \\\"white\\\"\";\n                var nbb_cells = Jupyter.notebook.get_cells();\n                for (var i = 0; i < nbb_cells.length; ++i) {\n                    if (nbb_cells[i].input_prompt_number == nbb_cell_id) {\n                        if (nbb_cells[i].get_text() == nbb_unformatted_code) {\n                             nbb_cells[i].set_text(nbb_formatted_code);\n                        }\n                        break;\n                    }\n                }\n            }, 500);\n            ",
      "text/plain": [
       "<IPython.core.display.Javascript object>"
      ]
     },
     "metadata": {},
     "output_type": "display_data"
    }
   ],
   "source": [
    "class Car:\n",
    "    gear = \"semi\"\n",
    "    brand = \"BMW\"\n",
    "    color = \"white\""
   ]
  },
  {
   "cell_type": "code",
   "execution_count": 17,
   "metadata": {},
   "outputs": [
    {
     "data": {
      "application/javascript": "\n            setTimeout(function() {\n                var nbb_cell_id = 17;\n                var nbb_unformatted_code = \"greenCar = Car()\";\n                var nbb_formatted_code = \"greenCar = Car()\";\n                var nbb_cells = Jupyter.notebook.get_cells();\n                for (var i = 0; i < nbb_cells.length; ++i) {\n                    if (nbb_cells[i].input_prompt_number == nbb_cell_id) {\n                        if (nbb_cells[i].get_text() == nbb_unformatted_code) {\n                             nbb_cells[i].set_text(nbb_formatted_code);\n                        }\n                        break;\n                    }\n                }\n            }, 500);\n            ",
      "text/plain": [
       "<IPython.core.display.Javascript object>"
      ]
     },
     "metadata": {},
     "output_type": "display_data"
    }
   ],
   "source": [
    "greenCar = Car()"
   ]
  },
  {
   "cell_type": "code",
   "execution_count": 18,
   "metadata": {},
   "outputs": [
    {
     "data": {
      "text/plain": [
       "'white'"
      ]
     },
     "execution_count": 18,
     "metadata": {},
     "output_type": "execute_result"
    },
    {
     "data": {
      "application/javascript": "\n            setTimeout(function() {\n                var nbb_cell_id = 18;\n                var nbb_unformatted_code = \"greenCar.color\";\n                var nbb_formatted_code = \"greenCar.color\";\n                var nbb_cells = Jupyter.notebook.get_cells();\n                for (var i = 0; i < nbb_cells.length; ++i) {\n                    if (nbb_cells[i].input_prompt_number == nbb_cell_id) {\n                        if (nbb_cells[i].get_text() == nbb_unformatted_code) {\n                             nbb_cells[i].set_text(nbb_formatted_code);\n                        }\n                        break;\n                    }\n                }\n            }, 500);\n            ",
      "text/plain": [
       "<IPython.core.display.Javascript object>"
      ]
     },
     "metadata": {},
     "output_type": "display_data"
    }
   ],
   "source": [
    "greenCar.color"
   ]
  },
  {
   "cell_type": "code",
   "execution_count": 19,
   "metadata": {},
   "outputs": [
    {
     "data": {
      "application/javascript": "\n            setTimeout(function() {\n                var nbb_cell_id = 19;\n                var nbb_unformatted_code = \"greenCar.color = \\\"green\\\"\";\n                var nbb_formatted_code = \"greenCar.color = \\\"green\\\"\";\n                var nbb_cells = Jupyter.notebook.get_cells();\n                for (var i = 0; i < nbb_cells.length; ++i) {\n                    if (nbb_cells[i].input_prompt_number == nbb_cell_id) {\n                        if (nbb_cells[i].get_text() == nbb_unformatted_code) {\n                             nbb_cells[i].set_text(nbb_formatted_code);\n                        }\n                        break;\n                    }\n                }\n            }, 500);\n            ",
      "text/plain": [
       "<IPython.core.display.Javascript object>"
      ]
     },
     "metadata": {},
     "output_type": "display_data"
    }
   ],
   "source": [
    "greenCar.color = \"green\""
   ]
  },
  {
   "cell_type": "code",
   "execution_count": 20,
   "metadata": {},
   "outputs": [
    {
     "data": {
      "text/plain": [
       "'green'"
      ]
     },
     "execution_count": 20,
     "metadata": {},
     "output_type": "execute_result"
    },
    {
     "data": {
      "application/javascript": "\n            setTimeout(function() {\n                var nbb_cell_id = 20;\n                var nbb_unformatted_code = \"greenCar.color\";\n                var nbb_formatted_code = \"greenCar.color\";\n                var nbb_cells = Jupyter.notebook.get_cells();\n                for (var i = 0; i < nbb_cells.length; ++i) {\n                    if (nbb_cells[i].input_prompt_number == nbb_cell_id) {\n                        if (nbb_cells[i].get_text() == nbb_unformatted_code) {\n                             nbb_cells[i].set_text(nbb_formatted_code);\n                        }\n                        break;\n                    }\n                }\n            }, 500);\n            ",
      "text/plain": [
       "<IPython.core.display.Javascript object>"
      ]
     },
     "metadata": {},
     "output_type": "display_data"
    }
   ],
   "source": [
    "greenCar.color"
   ]
  },
  {
   "cell_type": "code",
   "execution_count": 22,
   "metadata": {},
   "outputs": [
    {
     "name": "stdout",
     "output_type": "stream",
     "text": [
      "green\n",
      "newcar color is blue\n"
     ]
    },
    {
     "data": {
      "application/javascript": "\n            setTimeout(function() {\n                var nbb_cell_id = 22;\n                var nbb_unformatted_code = \"Car.color = \\\"blue\\\"\\nprint(greenCar.color)\\nnewcar = Car()\\nprint(f\\\"newcar color is {newcar.color}\\\")\";\n                var nbb_formatted_code = \"Car.color = \\\"blue\\\"\\nprint(greenCar.color)\\nnewcar = Car()\\nprint(f\\\"newcar color is {newcar.color}\\\")\";\n                var nbb_cells = Jupyter.notebook.get_cells();\n                for (var i = 0; i < nbb_cells.length; ++i) {\n                    if (nbb_cells[i].input_prompt_number == nbb_cell_id) {\n                        if (nbb_cells[i].get_text() == nbb_unformatted_code) {\n                             nbb_cells[i].set_text(nbb_formatted_code);\n                        }\n                        break;\n                    }\n                }\n            }, 500);\n            ",
      "text/plain": [
       "<IPython.core.display.Javascript object>"
      ]
     },
     "metadata": {},
     "output_type": "display_data"
    }
   ],
   "source": [
    "Car.color = \"blue\"\n",
    "print(greenCar.color)\n",
    "newcar = Car()\n",
    "print(f\"newcar color is {newcar.color}\")"
   ]
  },
  {
   "cell_type": "code",
   "execution_count": 23,
   "metadata": {},
   "outputs": [
    {
     "data": {
      "text/plain": [
       "'blue'"
      ]
     },
     "execution_count": 23,
     "metadata": {},
     "output_type": "execute_result"
    },
    {
     "data": {
      "application/javascript": "\n            setTimeout(function() {\n                var nbb_cell_id = 23;\n                var nbb_unformatted_code = \"redCar = Car()\\nredCar.color\";\n                var nbb_formatted_code = \"redCar = Car()\\nredCar.color\";\n                var nbb_cells = Jupyter.notebook.get_cells();\n                for (var i = 0; i < nbb_cells.length; ++i) {\n                    if (nbb_cells[i].input_prompt_number == nbb_cell_id) {\n                        if (nbb_cells[i].get_text() == nbb_unformatted_code) {\n                             nbb_cells[i].set_text(nbb_formatted_code);\n                        }\n                        break;\n                    }\n                }\n            }, 500);\n            ",
      "text/plain": [
       "<IPython.core.display.Javascript object>"
      ]
     },
     "metadata": {},
     "output_type": "display_data"
    }
   ],
   "source": [
    "redCar = Car()\n",
    "redCar.color"
   ]
  },
  {
   "cell_type": "code",
   "execution_count": 24,
   "metadata": {},
   "outputs": [
    {
     "data": {
      "text/plain": [
       "'semi'"
      ]
     },
     "execution_count": 24,
     "metadata": {},
     "output_type": "execute_result"
    },
    {
     "data": {
      "application/javascript": "\n            setTimeout(function() {\n                var nbb_cell_id = 24;\n                var nbb_unformatted_code = \"redCar.gear\";\n                var nbb_formatted_code = \"redCar.gear\";\n                var nbb_cells = Jupyter.notebook.get_cells();\n                for (var i = 0; i < nbb_cells.length; ++i) {\n                    if (nbb_cells[i].input_prompt_number == nbb_cell_id) {\n                        if (nbb_cells[i].get_text() == nbb_unformatted_code) {\n                             nbb_cells[i].set_text(nbb_formatted_code);\n                        }\n                        break;\n                    }\n                }\n            }, 500);\n            ",
      "text/plain": [
       "<IPython.core.display.Javascript object>"
      ]
     },
     "metadata": {},
     "output_type": "display_data"
    }
   ],
   "source": [
    "redCar.gear"
   ]
  },
  {
   "cell_type": "code",
   "execution_count": null,
   "metadata": {},
   "outputs": [],
   "source": [
    "redCar.color = \"Red\""
   ]
  },
  {
   "cell_type": "code",
   "execution_count": 25,
   "metadata": {},
   "outputs": [
    {
     "data": {
      "text/plain": [
       "'blue'"
      ]
     },
     "execution_count": 25,
     "metadata": {},
     "output_type": "execute_result"
    },
    {
     "data": {
      "application/javascript": "\n            setTimeout(function() {\n                var nbb_cell_id = 25;\n                var nbb_unformatted_code = \"redCar.color\";\n                var nbb_formatted_code = \"redCar.color\";\n                var nbb_cells = Jupyter.notebook.get_cells();\n                for (var i = 0; i < nbb_cells.length; ++i) {\n                    if (nbb_cells[i].input_prompt_number == nbb_cell_id) {\n                        if (nbb_cells[i].get_text() == nbb_unformatted_code) {\n                             nbb_cells[i].set_text(nbb_formatted_code);\n                        }\n                        break;\n                    }\n                }\n            }, 500);\n            ",
      "text/plain": [
       "<IPython.core.display.Javascript object>"
      ]
     },
     "metadata": {},
     "output_type": "display_data"
    }
   ],
   "source": [
    "redCar.color"
   ]
  },
  {
   "cell_type": "code",
   "execution_count": 28,
   "metadata": {},
   "outputs": [
    {
     "data": {
      "application/javascript": "\n            setTimeout(function() {\n                var nbb_cell_id = 28;\n                var nbb_unformatted_code = \"class Car:\\n    gear = \\\"semi\\\"\\n    color = \\\"white\\\"\\n\\n    def printDetails(self):\\n        print(self.gear, self.color)\\n        # print (greencar.gear,greencar.color)\\n        # print(redcar.gear,redcar.color)\";\n                var nbb_formatted_code = \"class Car:\\n    gear = \\\"semi\\\"\\n    color = \\\"white\\\"\\n\\n    def printDetails(self):\\n        print(self.gear, self.color)\\n        # print (greencar.gear,greencar.color)\\n        # print(redcar.gear,redcar.color)\";\n                var nbb_cells = Jupyter.notebook.get_cells();\n                for (var i = 0; i < nbb_cells.length; ++i) {\n                    if (nbb_cells[i].input_prompt_number == nbb_cell_id) {\n                        if (nbb_cells[i].get_text() == nbb_unformatted_code) {\n                             nbb_cells[i].set_text(nbb_formatted_code);\n                        }\n                        break;\n                    }\n                }\n            }, 500);\n            ",
      "text/plain": [
       "<IPython.core.display.Javascript object>"
      ]
     },
     "metadata": {},
     "output_type": "display_data"
    }
   ],
   "source": [
    "class Car:\n",
    "    gear = \"semi\"\n",
    "    color = \"white\"\n",
    "\n",
    "    def printDetails(self):\n",
    "        print(self.gear, self.color)\n",
    "        # print (greencar.gear,greencar.color)\n",
    "        # print(redcar.gear,redcar.color)"
   ]
  },
  {
   "cell_type": "code",
   "execution_count": 29,
   "metadata": {},
   "outputs": [
    {
     "data": {
      "application/javascript": "\n            setTimeout(function() {\n                var nbb_cell_id = 29;\n                var nbb_unformatted_code = \"greenCar = Car()\";\n                var nbb_formatted_code = \"greenCar = Car()\";\n                var nbb_cells = Jupyter.notebook.get_cells();\n                for (var i = 0; i < nbb_cells.length; ++i) {\n                    if (nbb_cells[i].input_prompt_number == nbb_cell_id) {\n                        if (nbb_cells[i].get_text() == nbb_unformatted_code) {\n                             nbb_cells[i].set_text(nbb_formatted_code);\n                        }\n                        break;\n                    }\n                }\n            }, 500);\n            ",
      "text/plain": [
       "<IPython.core.display.Javascript object>"
      ]
     },
     "metadata": {},
     "output_type": "display_data"
    }
   ],
   "source": [
    "greenCar = Car()"
   ]
  },
  {
   "cell_type": "code",
   "execution_count": 30,
   "metadata": {},
   "outputs": [
    {
     "name": "stdout",
     "output_type": "stream",
     "text": [
      "semi white\n"
     ]
    },
    {
     "data": {
      "application/javascript": "\n            setTimeout(function() {\n                var nbb_cell_id = 30;\n                var nbb_unformatted_code = \"greenCar.printDetails()\\n# greenCar.printDetails(greenCar)\";\n                var nbb_formatted_code = \"greenCar.printDetails()\\n# greenCar.printDetails(greenCar)\";\n                var nbb_cells = Jupyter.notebook.get_cells();\n                for (var i = 0; i < nbb_cells.length; ++i) {\n                    if (nbb_cells[i].input_prompt_number == nbb_cell_id) {\n                        if (nbb_cells[i].get_text() == nbb_unformatted_code) {\n                             nbb_cells[i].set_text(nbb_formatted_code);\n                        }\n                        break;\n                    }\n                }\n            }, 500);\n            ",
      "text/plain": [
       "<IPython.core.display.Javascript object>"
      ]
     },
     "metadata": {},
     "output_type": "display_data"
    }
   ],
   "source": [
    "greenCar.printDetails()\n",
    "# greenCar.printDetails(greenCar)"
   ]
  },
  {
   "cell_type": "code",
   "execution_count": 31,
   "metadata": {},
   "outputs": [
    {
     "data": {
      "application/javascript": "\n            setTimeout(function() {\n                var nbb_cell_id = 31;\n                var nbb_unformatted_code = \"greenCar.color = \\\"green\\\"\";\n                var nbb_formatted_code = \"greenCar.color = \\\"green\\\"\";\n                var nbb_cells = Jupyter.notebook.get_cells();\n                for (var i = 0; i < nbb_cells.length; ++i) {\n                    if (nbb_cells[i].input_prompt_number == nbb_cell_id) {\n                        if (nbb_cells[i].get_text() == nbb_unformatted_code) {\n                             nbb_cells[i].set_text(nbb_formatted_code);\n                        }\n                        break;\n                    }\n                }\n            }, 500);\n            ",
      "text/plain": [
       "<IPython.core.display.Javascript object>"
      ]
     },
     "metadata": {},
     "output_type": "display_data"
    }
   ],
   "source": [
    "greenCar.color = \"green\""
   ]
  },
  {
   "cell_type": "code",
   "execution_count": 32,
   "metadata": {},
   "outputs": [
    {
     "name": "stdout",
     "output_type": "stream",
     "text": [
      "semi green\n"
     ]
    },
    {
     "data": {
      "application/javascript": "\n            setTimeout(function() {\n                var nbb_cell_id = 32;\n                var nbb_unformatted_code = \"greenCar.printDetails()\";\n                var nbb_formatted_code = \"greenCar.printDetails()\";\n                var nbb_cells = Jupyter.notebook.get_cells();\n                for (var i = 0; i < nbb_cells.length; ++i) {\n                    if (nbb_cells[i].input_prompt_number == nbb_cell_id) {\n                        if (nbb_cells[i].get_text() == nbb_unformatted_code) {\n                             nbb_cells[i].set_text(nbb_formatted_code);\n                        }\n                        break;\n                    }\n                }\n            }, 500);\n            ",
      "text/plain": [
       "<IPython.core.display.Javascript object>"
      ]
     },
     "metadata": {},
     "output_type": "display_data"
    }
   ],
   "source": [
    "greenCar.printDetails()"
   ]
  },
  {
   "cell_type": "code",
   "execution_count": null,
   "metadata": {},
   "outputs": [],
   "source": [
    "redCar = Car()\n",
    "redCar.color = \"red\"\n",
    "redCar.printDetails()\n",
    "# redcar.printDetails(redcar)"
   ]
  },
  {
   "cell_type": "code",
   "execution_count": 33,
   "metadata": {},
   "outputs": [
    {
     "name": "stdout",
     "output_type": "stream",
     "text": [
      " This is constructor\n",
      " The object is created\n"
     ]
    },
    {
     "data": {
      "application/javascript": "\n            setTimeout(function() {\n                var nbb_cell_id = 33;\n                var nbb_unformatted_code = \"class Employee:\\n    def __init__(self):\\n        # this is constructor , will called autometically when we create any object ,\\n        #  used to initize object\\n        print(\\\" This is constructor\\\")\\n        print(\\\" The object is created\\\")\\n\\n\\ne1 = Employee()\";\n                var nbb_formatted_code = \"class Employee:\\n    def __init__(self):\\n        # this is constructor , will called autometically when we create any object ,\\n        #  used to initize object\\n        print(\\\" This is constructor\\\")\\n        print(\\\" The object is created\\\")\\n\\n\\ne1 = Employee()\";\n                var nbb_cells = Jupyter.notebook.get_cells();\n                for (var i = 0; i < nbb_cells.length; ++i) {\n                    if (nbb_cells[i].input_prompt_number == nbb_cell_id) {\n                        if (nbb_cells[i].get_text() == nbb_unformatted_code) {\n                             nbb_cells[i].set_text(nbb_formatted_code);\n                        }\n                        break;\n                    }\n                }\n            }, 500);\n            ",
      "text/plain": [
       "<IPython.core.display.Javascript object>"
      ]
     },
     "metadata": {},
     "output_type": "display_data"
    }
   ],
   "source": [
    "class Employee:\n",
    "    def __init__(self):\n",
    "        # this is constructor , will called autometically when we create any object ,\n",
    "        #  used to initize object\n",
    "        print(\" This is constructor\")\n",
    "        print(\" The object is created\")\n",
    "\n",
    "\n",
    "e1 = Employee()"
   ]
  },
  {
   "cell_type": "code",
   "execution_count": 34,
   "metadata": {},
   "outputs": [
    {
     "name": "stdout",
     "output_type": "stream",
     "text": [
      " This is constructor\n",
      " The object is created\n"
     ]
    },
    {
     "data": {
      "application/javascript": "\n            setTimeout(function() {\n                var nbb_cell_id = 34;\n                var nbb_unformatted_code = \"e2 = Employee()\";\n                var nbb_formatted_code = \"e2 = Employee()\";\n                var nbb_cells = Jupyter.notebook.get_cells();\n                for (var i = 0; i < nbb_cells.length; ++i) {\n                    if (nbb_cells[i].input_prompt_number == nbb_cell_id) {\n                        if (nbb_cells[i].get_text() == nbb_unformatted_code) {\n                             nbb_cells[i].set_text(nbb_formatted_code);\n                        }\n                        break;\n                    }\n                }\n            }, 500);\n            ",
      "text/plain": [
       "<IPython.core.display.Javascript object>"
      ]
     },
     "metadata": {},
     "output_type": "display_data"
    }
   ],
   "source": [
    "e2 = Employee()"
   ]
  },
  {
   "cell_type": "code",
   "execution_count": 35,
   "metadata": {},
   "outputs": [
    {
     "data": {
      "application/javascript": "\n            setTimeout(function() {\n                var nbb_cell_id = 35;\n                var nbb_unformatted_code = \"class Employee:\\n    def __init__(self):\\n        # this is constructor , will called autometically when we create any object , \\n        # used to initize object\\n        print(\\\" This is constructor to create an object\\\")\\n        self.name = \\\"Default\\\"\\n        self.salary = 0\\n        self.age = 0\";\n                var nbb_formatted_code = \"class Employee:\\n    def __init__(self):\\n        # this is constructor , will called autometically when we create any object ,\\n        # used to initize object\\n        print(\\\" This is constructor to create an object\\\")\\n        self.name = \\\"Default\\\"\\n        self.salary = 0\\n        self.age = 0\";\n                var nbb_cells = Jupyter.notebook.get_cells();\n                for (var i = 0; i < nbb_cells.length; ++i) {\n                    if (nbb_cells[i].input_prompt_number == nbb_cell_id) {\n                        if (nbb_cells[i].get_text() == nbb_unformatted_code) {\n                             nbb_cells[i].set_text(nbb_formatted_code);\n                        }\n                        break;\n                    }\n                }\n            }, 500);\n            ",
      "text/plain": [
       "<IPython.core.display.Javascript object>"
      ]
     },
     "metadata": {},
     "output_type": "display_data"
    }
   ],
   "source": [
    "class Employee:\n",
    "    def __init__(self):\n",
    "        # this is constructor , will called autometically when we create any object , \n",
    "        # used to initize object\n",
    "        print(\" This is constructor to create an object\")\n",
    "        self.name = \"Default\"\n",
    "        self.salary = 0\n",
    "        self.age = 0"
   ]
  },
  {
   "cell_type": "code",
   "execution_count": 36,
   "metadata": {},
   "outputs": [
    {
     "name": "stdout",
     "output_type": "stream",
     "text": [
      " This is constructor to create an object\n"
     ]
    },
    {
     "data": {
      "application/javascript": "\n            setTimeout(function() {\n                var nbb_cell_id = 36;\n                var nbb_unformatted_code = \"emp1 = Employee()\";\n                var nbb_formatted_code = \"emp1 = Employee()\";\n                var nbb_cells = Jupyter.notebook.get_cells();\n                for (var i = 0; i < nbb_cells.length; ++i) {\n                    if (nbb_cells[i].input_prompt_number == nbb_cell_id) {\n                        if (nbb_cells[i].get_text() == nbb_unformatted_code) {\n                             nbb_cells[i].set_text(nbb_formatted_code);\n                        }\n                        break;\n                    }\n                }\n            }, 500);\n            ",
      "text/plain": [
       "<IPython.core.display.Javascript object>"
      ]
     },
     "metadata": {},
     "output_type": "display_data"
    }
   ],
   "source": [
    "emp1 = Employee()"
   ]
  },
  {
   "cell_type": "code",
   "execution_count": 37,
   "metadata": {},
   "outputs": [
    {
     "name": "stdout",
     "output_type": "stream",
     "text": [
      "Default\n",
      "0\n",
      "0\n"
     ]
    },
    {
     "data": {
      "application/javascript": "\n            setTimeout(function() {\n                var nbb_cell_id = 37;\n                var nbb_unformatted_code = \"print(emp1.name)\\nprint(emp1.salary)\\nprint(emp1.age)\";\n                var nbb_formatted_code = \"print(emp1.name)\\nprint(emp1.salary)\\nprint(emp1.age)\";\n                var nbb_cells = Jupyter.notebook.get_cells();\n                for (var i = 0; i < nbb_cells.length; ++i) {\n                    if (nbb_cells[i].input_prompt_number == nbb_cell_id) {\n                        if (nbb_cells[i].get_text() == nbb_unformatted_code) {\n                             nbb_cells[i].set_text(nbb_formatted_code);\n                        }\n                        break;\n                    }\n                }\n            }, 500);\n            ",
      "text/plain": [
       "<IPython.core.display.Javascript object>"
      ]
     },
     "metadata": {},
     "output_type": "display_data"
    }
   ],
   "source": [
    "print(emp1.name)\n",
    "print(emp1.salary)\n",
    "print(emp1.age)"
   ]
  },
  {
   "cell_type": "code",
   "execution_count": 40,
   "metadata": {},
   "outputs": [
    {
     "name": "stdout",
     "output_type": "stream",
     "text": [
      "ashok\n",
      "20000\n",
      "30\n"
     ]
    },
    {
     "data": {
      "application/javascript": "\n            setTimeout(function() {\n                var nbb_cell_id = 40;\n                var nbb_unformatted_code = \"emp1.name = \\\"ashok\\\"\\nemp1.age = 30\\nemp1.salary = 20000\\nprint(emp1.name)\\nprint(emp1.salary)\\nprint(emp1.age)\";\n                var nbb_formatted_code = \"emp1.name = \\\"ashok\\\"\\nemp1.age = 30\\nemp1.salary = 20000\\nprint(emp1.name)\\nprint(emp1.salary)\\nprint(emp1.age)\";\n                var nbb_cells = Jupyter.notebook.get_cells();\n                for (var i = 0; i < nbb_cells.length; ++i) {\n                    if (nbb_cells[i].input_prompt_number == nbb_cell_id) {\n                        if (nbb_cells[i].get_text() == nbb_unformatted_code) {\n                             nbb_cells[i].set_text(nbb_formatted_code);\n                        }\n                        break;\n                    }\n                }\n            }, 500);\n            ",
      "text/plain": [
       "<IPython.core.display.Javascript object>"
      ]
     },
     "metadata": {},
     "output_type": "display_data"
    }
   ],
   "source": [
    "emp1.name = \"ashok\"\n",
    "emp1.age = 30\n",
    "emp1.salary = 20000\n",
    "print(emp1.name)\n",
    "print(emp1.salary)\n",
    "print(emp1.age)"
   ]
  },
  {
   "cell_type": "code",
   "execution_count": 39,
   "metadata": {},
   "outputs": [
    {
     "name": "stdout",
     "output_type": "stream",
     "text": [
      "<__main__.Employee object at 0x00000142D318F0A0>\n"
     ]
    },
    {
     "data": {
      "application/javascript": "\n            setTimeout(function() {\n                var nbb_cell_id = 39;\n                var nbb_unformatted_code = \"print(emp1)\\n# print(emp2)\";\n                var nbb_formatted_code = \"print(emp1)\\n# print(emp2)\";\n                var nbb_cells = Jupyter.notebook.get_cells();\n                for (var i = 0; i < nbb_cells.length; ++i) {\n                    if (nbb_cells[i].input_prompt_number == nbb_cell_id) {\n                        if (nbb_cells[i].get_text() == nbb_unformatted_code) {\n                             nbb_cells[i].set_text(nbb_formatted_code);\n                        }\n                        break;\n                    }\n                }\n            }, 500);\n            ",
      "text/plain": [
       "<IPython.core.display.Javascript object>"
      ]
     },
     "metadata": {},
     "output_type": "display_data"
    }
   ],
   "source": [
    "print(emp1)\n",
    "# print(emp2)"
   ]
  },
  {
   "cell_type": "code",
   "execution_count": 41,
   "metadata": {},
   "outputs": [
    {
     "data": {
      "application/javascript": "\n            setTimeout(function() {\n                var nbb_cell_id = 41;\n                var nbb_unformatted_code = \"class Employee:\\n    def __init__(self, x, y, z):\\n        self.name = x\\n        self.salary = y\\n        self.age = z\\n\\n    def displaydetails(self):\\n        print(\\\"Name : \\\", self.name, \\\", Salary: \\\", self.salary, \\\", age: \\\", self.age)\";\n                var nbb_formatted_code = \"class Employee:\\n    def __init__(self, x, y, z):\\n        self.name = x\\n        self.salary = y\\n        self.age = z\\n\\n    def displaydetails(self):\\n        print(\\\"Name : \\\", self.name, \\\", Salary: \\\", self.salary, \\\", age: \\\", self.age)\";\n                var nbb_cells = Jupyter.notebook.get_cells();\n                for (var i = 0; i < nbb_cells.length; ++i) {\n                    if (nbb_cells[i].input_prompt_number == nbb_cell_id) {\n                        if (nbb_cells[i].get_text() == nbb_unformatted_code) {\n                             nbb_cells[i].set_text(nbb_formatted_code);\n                        }\n                        break;\n                    }\n                }\n            }, 500);\n            ",
      "text/plain": [
       "<IPython.core.display.Javascript object>"
      ]
     },
     "metadata": {},
     "output_type": "display_data"
    }
   ],
   "source": [
    "class Employee:\n",
    "    def __init__(self, x, y, z):\n",
    "        self.name = x\n",
    "        self.salary = y\n",
    "        self.age = z\n",
    "\n",
    "    def displaydetails(self):\n",
    "        print(\"Name : \", self.name, \", Salary: \", self.salary, \", age: \", self.age)"
   ]
  },
  {
   "cell_type": "code",
   "execution_count": 42,
   "metadata": {},
   "outputs": [
    {
     "name": "stdout",
     "output_type": "stream",
     "text": [
      "Name :  raghav , Salary:  2000 , age:  20\n",
      "Name :  aakash , Salary:  4440 , age:  24\n"
     ]
    },
    {
     "data": {
      "application/javascript": "\n            setTimeout(function() {\n                var nbb_cell_id = 42;\n                var nbb_unformatted_code = \"emp1 = Employee(\\\"raghav\\\", 2000, 20)\\nemp2 = Employee(\\\"aakash\\\", 4440, 24)\\nemp1.displaydetails()  # emp1.displaydetails(emp1)\\nemp2.displaydetails()\";\n                var nbb_formatted_code = \"emp1 = Employee(\\\"raghav\\\", 2000, 20)\\nemp2 = Employee(\\\"aakash\\\", 4440, 24)\\nemp1.displaydetails()  # emp1.displaydetails(emp1)\\nemp2.displaydetails()\";\n                var nbb_cells = Jupyter.notebook.get_cells();\n                for (var i = 0; i < nbb_cells.length; ++i) {\n                    if (nbb_cells[i].input_prompt_number == nbb_cell_id) {\n                        if (nbb_cells[i].get_text() == nbb_unformatted_code) {\n                             nbb_cells[i].set_text(nbb_formatted_code);\n                        }\n                        break;\n                    }\n                }\n            }, 500);\n            ",
      "text/plain": [
       "<IPython.core.display.Javascript object>"
      ]
     },
     "metadata": {},
     "output_type": "display_data"
    }
   ],
   "source": [
    "emp1 = Employee(\"raghav\", 2000, 20)\n",
    "emp2 = Employee(\"aakash\", 4440, 24)\n",
    "emp1.displaydetails()  # emp1.displaydetails(emp1)\n",
    "emp2.displaydetails()"
   ]
  },
  {
   "cell_type": "code",
   "execution_count": null,
   "metadata": {},
   "outputs": [],
   "source": [
    "pip install nb_black"
   ]
  },
  {
   "cell_type": "code",
   "execution_count": 43,
   "metadata": {},
   "outputs": [
    {
     "data": {
      "application/javascript": "\n            setTimeout(function() {\n                var nbb_cell_id = 43;\n                var nbb_unformatted_code = \"class Employee:\\n    count = 0\\n\\n    def __init__(self, x, y, z):\\n        print(\\\" This is constructor\\\")  # this is constructor\\n        self.name = x\\n        self.salary = y\\n        self.age = z\\n        Employee.count += 1\\n\\n    def displayName(self):\\n        print(\\\"Employee \\\", self.name)\\n\\n    def displaydetails(self):\\n        print(\\\"Name : \\\", self.name, \\\", Salary: \\\", self.salary, \\\", age: \\\", self.age)\\n\\n    def increaseSalary(self):\\n        self.salary += 1500\\n        print(self.salary)\";\n                var nbb_formatted_code = \"class Employee:\\n    count = 0\\n\\n    def __init__(self, x, y, z):\\n        print(\\\" This is constructor\\\")  # this is constructor\\n        self.name = x\\n        self.salary = y\\n        self.age = z\\n        Employee.count += 1\\n\\n    def displayName(self):\\n        print(\\\"Employee \\\", self.name)\\n\\n    def displaydetails(self):\\n        print(\\\"Name : \\\", self.name, \\\", Salary: \\\", self.salary, \\\", age: \\\", self.age)\\n\\n    def increaseSalary(self):\\n        self.salary += 1500\\n        print(self.salary)\";\n                var nbb_cells = Jupyter.notebook.get_cells();\n                for (var i = 0; i < nbb_cells.length; ++i) {\n                    if (nbb_cells[i].input_prompt_number == nbb_cell_id) {\n                        if (nbb_cells[i].get_text() == nbb_unformatted_code) {\n                             nbb_cells[i].set_text(nbb_formatted_code);\n                        }\n                        break;\n                    }\n                }\n            }, 500);\n            ",
      "text/plain": [
       "<IPython.core.display.Javascript object>"
      ]
     },
     "metadata": {},
     "output_type": "display_data"
    }
   ],
   "source": [
    "class Employee:\n",
    "    count = 0\n",
    "\n",
    "    def __init__(self, x, y, z):\n",
    "        print(\" This is constructor\")  # this is constructor\n",
    "        self.name = x\n",
    "        self.salary = y\n",
    "        self.age = z\n",
    "        Employee.count += 1\n",
    "\n",
    "    def displayName(self):\n",
    "        print(\"Employee \", self.name)\n",
    "\n",
    "    def displaydetails(self):\n",
    "        print(\"Name : \", self.name, \", Salary: \", self.salary, \", age: \", self.age)\n",
    "\n",
    "    def increaseSalary(self):\n",
    "        self.salary += 1500\n",
    "        print(self.salary)"
   ]
  },
  {
   "cell_type": "code",
   "execution_count": 44,
   "metadata": {},
   "outputs": [
    {
     "name": "stdout",
     "output_type": "stream",
     "text": [
      " This is constructor\n",
      "Employee.count 1\n"
     ]
    },
    {
     "data": {
      "application/javascript": "\n            setTimeout(function() {\n                var nbb_cell_id = 44;\n                var nbb_unformatted_code = \"emp1 = Employee(\\\"raghav\\\", 2000, 14)\\nprint(\\\"Employee.count\\\", Employee.count)\";\n                var nbb_formatted_code = \"emp1 = Employee(\\\"raghav\\\", 2000, 14)\\nprint(\\\"Employee.count\\\", Employee.count)\";\n                var nbb_cells = Jupyter.notebook.get_cells();\n                for (var i = 0; i < nbb_cells.length; ++i) {\n                    if (nbb_cells[i].input_prompt_number == nbb_cell_id) {\n                        if (nbb_cells[i].get_text() == nbb_unformatted_code) {\n                             nbb_cells[i].set_text(nbb_formatted_code);\n                        }\n                        break;\n                    }\n                }\n            }, 500);\n            ",
      "text/plain": [
       "<IPython.core.display.Javascript object>"
      ]
     },
     "metadata": {},
     "output_type": "display_data"
    }
   ],
   "source": [
    "emp1 = Employee(\"raghav\", 2000, 14)\n",
    "print(\"Employee.count\", Employee.count)"
   ]
  },
  {
   "cell_type": "code",
   "execution_count": 45,
   "metadata": {},
   "outputs": [
    {
     "name": "stdout",
     "output_type": "stream",
     "text": [
      "emp1.count 1\n"
     ]
    },
    {
     "data": {
      "application/javascript": "\n            setTimeout(function() {\n                var nbb_cell_id = 45;\n                var nbb_unformatted_code = \"print(\\\"emp1.count\\\", emp1.count)\";\n                var nbb_formatted_code = \"print(\\\"emp1.count\\\", emp1.count)\";\n                var nbb_cells = Jupyter.notebook.get_cells();\n                for (var i = 0; i < nbb_cells.length; ++i) {\n                    if (nbb_cells[i].input_prompt_number == nbb_cell_id) {\n                        if (nbb_cells[i].get_text() == nbb_unformatted_code) {\n                             nbb_cells[i].set_text(nbb_formatted_code);\n                        }\n                        break;\n                    }\n                }\n            }, 500);\n            ",
      "text/plain": [
       "<IPython.core.display.Javascript object>"
      ]
     },
     "metadata": {},
     "output_type": "display_data"
    }
   ],
   "source": [
    "print(\"emp1.count\", emp1.count)"
   ]
  },
  {
   "cell_type": "code",
   "execution_count": 46,
   "metadata": {},
   "outputs": [
    {
     "name": "stdout",
     "output_type": "stream",
     "text": [
      "emp1.count 1000\n"
     ]
    },
    {
     "data": {
      "application/javascript": "\n            setTimeout(function() {\n                var nbb_cell_id = 46;\n                var nbb_unformatted_code = \"emp1.count = 1000\\nprint(\\\"emp1.count\\\", emp1.count)\";\n                var nbb_formatted_code = \"emp1.count = 1000\\nprint(\\\"emp1.count\\\", emp1.count)\";\n                var nbb_cells = Jupyter.notebook.get_cells();\n                for (var i = 0; i < nbb_cells.length; ++i) {\n                    if (nbb_cells[i].input_prompt_number == nbb_cell_id) {\n                        if (nbb_cells[i].get_text() == nbb_unformatted_code) {\n                             nbb_cells[i].set_text(nbb_formatted_code);\n                        }\n                        break;\n                    }\n                }\n            }, 500);\n            ",
      "text/plain": [
       "<IPython.core.display.Javascript object>"
      ]
     },
     "metadata": {},
     "output_type": "display_data"
    }
   ],
   "source": [
    "emp1.count = 1000\n",
    "print(\"emp1.count\", emp1.count)"
   ]
  },
  {
   "cell_type": "code",
   "execution_count": 47,
   "metadata": {},
   "outputs": [
    {
     "name": "stdout",
     "output_type": "stream",
     "text": [
      " This is constructor\n",
      "Employee.count 2\n",
      "emp1.count 1000\n",
      "emp2.count 2\n"
     ]
    },
    {
     "data": {
      "application/javascript": "\n            setTimeout(function() {\n                var nbb_cell_id = 47;\n                var nbb_unformatted_code = \"emp2 = Employee(\\\"raghav1\\\", 2000, 14)\\nprint(\\\"Employee.count\\\", Employee.count)\\nprint(\\\"emp1.count\\\", emp1.count)\\nprint(\\\"emp2.count\\\", emp2.count)\";\n                var nbb_formatted_code = \"emp2 = Employee(\\\"raghav1\\\", 2000, 14)\\nprint(\\\"Employee.count\\\", Employee.count)\\nprint(\\\"emp1.count\\\", emp1.count)\\nprint(\\\"emp2.count\\\", emp2.count)\";\n                var nbb_cells = Jupyter.notebook.get_cells();\n                for (var i = 0; i < nbb_cells.length; ++i) {\n                    if (nbb_cells[i].input_prompt_number == nbb_cell_id) {\n                        if (nbb_cells[i].get_text() == nbb_unformatted_code) {\n                             nbb_cells[i].set_text(nbb_formatted_code);\n                        }\n                        break;\n                    }\n                }\n            }, 500);\n            ",
      "text/plain": [
       "<IPython.core.display.Javascript object>"
      ]
     },
     "metadata": {},
     "output_type": "display_data"
    }
   ],
   "source": [
    "emp2 = Employee(\"raghav1\", 2000, 14)\n",
    "print(\"Employee.count\", Employee.count)\n",
    "print(\"emp1.count\", emp1.count)\n",
    "print(\"emp2.count\", emp2.count)"
   ]
  },
  {
   "cell_type": "code",
   "execution_count": null,
   "metadata": {},
   "outputs": [],
   "source": [
    "emp2=Employee(\"aakash\", 5000, 15)"
   ]
  },
  {
   "cell_type": "code",
   "execution_count": null,
   "metadata": {},
   "outputs": [],
   "source": [
    "emp1.displayName()"
   ]
  },
  {
   "cell_type": "code",
   "execution_count": null,
   "metadata": {},
   "outputs": [],
   "source": [
    "emp2.increaseSalary()\n",
    "# print(emp1)"
   ]
  },
  {
   "cell_type": "code",
   "execution_count": null,
   "metadata": {},
   "outputs": [],
   "source": [
    "print(Employee.count)"
   ]
  },
  {
   "cell_type": "code",
   "execution_count": null,
   "metadata": {},
   "outputs": [],
   "source": [
    "emp2.age = 7  # Add an 'age' attribute.\n",
    "emp2.age"
   ]
  },
  {
   "cell_type": "code",
   "execution_count": null,
   "metadata": {},
   "outputs": [],
   "source": [
    "emp1.age = 8  # Modify 'age' attribute.\n",
    "emp1.age"
   ]
  },
  {
   "cell_type": "code",
   "execution_count": null,
   "metadata": {},
   "outputs": [],
   "source": [
    "print(emp1)"
   ]
  },
  {
   "cell_type": "code",
   "execution_count": null,
   "metadata": {},
   "outputs": [],
   "source": [
    "x = hasattr(emp1, \"age\")  # Returns true if 'age' attribute exists\n",
    "print(x)\n",
    "getattr(emp1, \"age\")  # Returns value of 'age' attribute"
   ]
  },
  {
   "cell_type": "code",
   "execution_count": null,
   "metadata": {},
   "outputs": [],
   "source": [
    "setattr(emp1, \"age1\", 18)  # Set attribute 'age' at 8 emp1.age=8\n",
    "getattr(\n",
    "    emp1, \"age1\"\n",
    ")  # Returns value of 'age' attribute    # Returns value of 'age' attribute"
   ]
  },
  {
   "cell_type": "code",
   "execution_count": null,
   "metadata": {},
   "outputs": [],
   "source": [
    "delattr(emp1, 'age')    # Delete attribute 'age'\n",
    "getattr(emp1, 'age')    # Returns value of 'age' attribute\n",
    "    # Returns value of 'age' attribute    # Returns value of 'age' attribute\n"
   ]
  },
  {
   "cell_type": "code",
   "execution_count": null,
   "metadata": {},
   "outputs": [],
   "source": [
    "dir(emp1)"
   ]
  },
  {
   "cell_type": "code",
   "execution_count": null,
   "metadata": {},
   "outputs": [],
   "source": [
    "setattr(emp1, 'age', 18) # Set attribute 'age' at 8 emp1.age=8\n",
    "getattr(emp1, 'age')\n"
   ]
  },
  {
   "cell_type": "code",
   "execution_count": 48,
   "metadata": {},
   "outputs": [
    {
     "data": {
      "application/javascript": "\n            setTimeout(function() {\n                var nbb_cell_id = 48;\n                var nbb_unformatted_code = \"class Example:\\n    staticVariable = 5  # Access through class\";\n                var nbb_formatted_code = \"class Example:\\n    staticVariable = 5  # Access through class\";\n                var nbb_cells = Jupyter.notebook.get_cells();\n                for (var i = 0; i < nbb_cells.length; ++i) {\n                    if (nbb_cells[i].input_prompt_number == nbb_cell_id) {\n                        if (nbb_cells[i].get_text() == nbb_unformatted_code) {\n                             nbb_cells[i].set_text(nbb_formatted_code);\n                        }\n                        break;\n                    }\n                }\n            }, 500);\n            ",
      "text/plain": [
       "<IPython.core.display.Javascript object>"
      ]
     },
     "metadata": {},
     "output_type": "display_data"
    }
   ],
   "source": [
    "class Example:\n",
    "    staticVariable = 5  # Access through class"
   ]
  },
  {
   "cell_type": "code",
   "execution_count": 49,
   "metadata": {},
   "outputs": [
    {
     "data": {
      "text/plain": [
       "5"
      ]
     },
     "execution_count": 49,
     "metadata": {},
     "output_type": "execute_result"
    },
    {
     "data": {
      "application/javascript": "\n            setTimeout(function() {\n                var nbb_cell_id = 49;\n                var nbb_unformatted_code = \"Example.staticVariable\";\n                var nbb_formatted_code = \"Example.staticVariable\";\n                var nbb_cells = Jupyter.notebook.get_cells();\n                for (var i = 0; i < nbb_cells.length; ++i) {\n                    if (nbb_cells[i].input_prompt_number == nbb_cell_id) {\n                        if (nbb_cells[i].get_text() == nbb_unformatted_code) {\n                             nbb_cells[i].set_text(nbb_formatted_code);\n                        }\n                        break;\n                    }\n                }\n            }, 500);\n            ",
      "text/plain": [
       "<IPython.core.display.Javascript object>"
      ]
     },
     "metadata": {},
     "output_type": "display_data"
    }
   ],
   "source": [
    "Example.staticVariable"
   ]
  },
  {
   "cell_type": "code",
   "execution_count": 50,
   "metadata": {},
   "outputs": [
    {
     "name": "stdout",
     "output_type": "stream",
     "text": [
      "5\n"
     ]
    },
    {
     "data": {
      "application/javascript": "\n            setTimeout(function() {\n                var nbb_cell_id = 50;\n                var nbb_unformatted_code = \"# Access through an instance\\ninstance = Example()\\nprint(instance.staticVariable)  # still 5\";\n                var nbb_formatted_code = \"# Access through an instance\\ninstance = Example()\\nprint(instance.staticVariable)  # still 5\";\n                var nbb_cells = Jupyter.notebook.get_cells();\n                for (var i = 0; i < nbb_cells.length; ++i) {\n                    if (nbb_cells[i].input_prompt_number == nbb_cell_id) {\n                        if (nbb_cells[i].get_text() == nbb_unformatted_code) {\n                             nbb_cells[i].set_text(nbb_formatted_code);\n                        }\n                        break;\n                    }\n                }\n            }, 500);\n            ",
      "text/plain": [
       "<IPython.core.display.Javascript object>"
      ]
     },
     "metadata": {},
     "output_type": "display_data"
    }
   ],
   "source": [
    "# Access through an instance\n",
    "instance = Example()\n",
    "print(instance.staticVariable)  # still 5"
   ]
  },
  {
   "cell_type": "code",
   "execution_count": 51,
   "metadata": {},
   "outputs": [
    {
     "data": {
      "text/plain": [
       "6"
      ]
     },
     "execution_count": 51,
     "metadata": {},
     "output_type": "execute_result"
    },
    {
     "data": {
      "application/javascript": "\n            setTimeout(function() {\n                var nbb_cell_id = 51;\n                var nbb_unformatted_code = \"# # Change within an instance\\ninstance.staticVariable = 6\\ninstance.staticVariable  # 6\";\n                var nbb_formatted_code = \"# # Change within an instance\\ninstance.staticVariable = 6\\ninstance.staticVariable  # 6\";\n                var nbb_cells = Jupyter.notebook.get_cells();\n                for (var i = 0; i < nbb_cells.length; ++i) {\n                    if (nbb_cells[i].input_prompt_number == nbb_cell_id) {\n                        if (nbb_cells[i].get_text() == nbb_unformatted_code) {\n                             nbb_cells[i].set_text(nbb_formatted_code);\n                        }\n                        break;\n                    }\n                }\n            }, 500);\n            ",
      "text/plain": [
       "<IPython.core.display.Javascript object>"
      ]
     },
     "metadata": {},
     "output_type": "display_data"
    }
   ],
   "source": [
    "# # Change within an instance\n",
    "instance.staticVariable = 6\n",
    "instance.staticVariable  # 6"
   ]
  },
  {
   "cell_type": "code",
   "execution_count": 52,
   "metadata": {},
   "outputs": [
    {
     "data": {
      "text/plain": [
       "5"
      ]
     },
     "execution_count": 52,
     "metadata": {},
     "output_type": "execute_result"
    },
    {
     "data": {
      "application/javascript": "\n            setTimeout(function() {\n                var nbb_cell_id = 52;\n                var nbb_unformatted_code = \"Example.staticVariable  # \";\n                var nbb_formatted_code = \"Example.staticVariable  #\";\n                var nbb_cells = Jupyter.notebook.get_cells();\n                for (var i = 0; i < nbb_cells.length; ++i) {\n                    if (nbb_cells[i].input_prompt_number == nbb_cell_id) {\n                        if (nbb_cells[i].get_text() == nbb_unformatted_code) {\n                             nbb_cells[i].set_text(nbb_formatted_code);\n                        }\n                        break;\n                    }\n                }\n            }, 500);\n            ",
      "text/plain": [
       "<IPython.core.display.Javascript object>"
      ]
     },
     "metadata": {},
     "output_type": "display_data"
    }
   ],
   "source": [
    "Example.staticVariable  # "
   ]
  },
  {
   "cell_type": "code",
   "execution_count": 53,
   "metadata": {},
   "outputs": [
    {
     "data": {
      "text/plain": [
       "7"
      ]
     },
     "execution_count": 53,
     "metadata": {},
     "output_type": "execute_result"
    },
    {
     "data": {
      "application/javascript": "\n            setTimeout(function() {\n                var nbb_cell_id = 53;\n                var nbb_unformatted_code = \"Example.staticVariable = 7\\nExample.staticVariable\";\n                var nbb_formatted_code = \"Example.staticVariable = 7\\nExample.staticVariable\";\n                var nbb_cells = Jupyter.notebook.get_cells();\n                for (var i = 0; i < nbb_cells.length; ++i) {\n                    if (nbb_cells[i].input_prompt_number == nbb_cell_id) {\n                        if (nbb_cells[i].get_text() == nbb_unformatted_code) {\n                             nbb_cells[i].set_text(nbb_formatted_code);\n                        }\n                        break;\n                    }\n                }\n            }, 500);\n            ",
      "text/plain": [
       "<IPython.core.display.Javascript object>"
      ]
     },
     "metadata": {},
     "output_type": "display_data"
    }
   ],
   "source": [
    "Example.staticVariable = 7\n",
    "Example.staticVariable"
   ]
  },
  {
   "cell_type": "code",
   "execution_count": 54,
   "metadata": {},
   "outputs": [
    {
     "data": {
      "text/plain": [
       "6"
      ]
     },
     "execution_count": 54,
     "metadata": {},
     "output_type": "execute_result"
    },
    {
     "data": {
      "application/javascript": "\n            setTimeout(function() {\n                var nbb_cell_id = 54;\n                var nbb_unformatted_code = \"instance.staticVariable\";\n                var nbb_formatted_code = \"instance.staticVariable\";\n                var nbb_cells = Jupyter.notebook.get_cells();\n                for (var i = 0; i < nbb_cells.length; ++i) {\n                    if (nbb_cells[i].input_prompt_number == nbb_cell_id) {\n                        if (nbb_cells[i].get_text() == nbb_unformatted_code) {\n                             nbb_cells[i].set_text(nbb_formatted_code);\n                        }\n                        break;\n                    }\n                }\n            }, 500);\n            ",
      "text/plain": [
       "<IPython.core.display.Javascript object>"
      ]
     },
     "metadata": {},
     "output_type": "display_data"
    }
   ],
   "source": [
    "instance.staticVariable"
   ]
  },
  {
   "cell_type": "code",
   "execution_count": 55,
   "metadata": {},
   "outputs": [
    {
     "data": {
      "application/javascript": "\n            setTimeout(function() {\n                var nbb_cell_id = 55;\n                var nbb_unformatted_code = \"instance1 = Example()\";\n                var nbb_formatted_code = \"instance1 = Example()\";\n                var nbb_cells = Jupyter.notebook.get_cells();\n                for (var i = 0; i < nbb_cells.length; ++i) {\n                    if (nbb_cells[i].input_prompt_number == nbb_cell_id) {\n                        if (nbb_cells[i].get_text() == nbb_unformatted_code) {\n                             nbb_cells[i].set_text(nbb_formatted_code);\n                        }\n                        break;\n                    }\n                }\n            }, 500);\n            ",
      "text/plain": [
       "<IPython.core.display.Javascript object>"
      ]
     },
     "metadata": {},
     "output_type": "display_data"
    }
   ],
   "source": [
    "instance1 = Example()"
   ]
  },
  {
   "cell_type": "code",
   "execution_count": 56,
   "metadata": {},
   "outputs": [
    {
     "data": {
      "text/plain": [
       "7"
      ]
     },
     "execution_count": 56,
     "metadata": {},
     "output_type": "execute_result"
    },
    {
     "data": {
      "application/javascript": "\n            setTimeout(function() {\n                var nbb_cell_id = 56;\n                var nbb_unformatted_code = \"instance1.staticVariable\";\n                var nbb_formatted_code = \"instance1.staticVariable\";\n                var nbb_cells = Jupyter.notebook.get_cells();\n                for (var i = 0; i < nbb_cells.length; ++i) {\n                    if (nbb_cells[i].input_prompt_number == nbb_cell_id) {\n                        if (nbb_cells[i].get_text() == nbb_unformatted_code) {\n                             nbb_cells[i].set_text(nbb_formatted_code);\n                        }\n                        break;\n                    }\n                }\n            }, 500);\n            ",
      "text/plain": [
       "<IPython.core.display.Javascript object>"
      ]
     },
     "metadata": {},
     "output_type": "display_data"
    }
   ],
   "source": [
    "instance1.staticVariable\n"
   ]
  },
  {
   "cell_type": "code",
   "execution_count": 58,
   "metadata": {},
   "outputs": [
    {
     "data": {
      "application/javascript": "\n            setTimeout(function() {\n                var nbb_cell_id = 58;\n                var nbb_unformatted_code = \"class Parent:\\n    \\\"\\\"\\\"this is parent class\\\"\\\"\\\"\\n\\n    parentAttr = 100\\n\\n    def __init__(self):\\n        print(\\\"Calling parent constructor\\\")\\n\\n    def parentMethod(self):\\n        print(\\\"Calling parent method\\\")\\n\\n    def onlyParentAttr(self, attr):\\n        Parent.parentAttr = attr\\n        print(\\\"Parent attribute :\\\", Parent.parentAttr)\\n\\n    def setAttr(self, attr):\\n        Parent.parentAttr = attr\\n        self.parentAttr = attr\\n\\n    def getAttr(self):\\n        print(\\\"Parent attribute :\\\", Parent.parentAttr)\\n        print(\\\"Object attribute :\\\", self.parentAttr)\";\n                var nbb_formatted_code = \"class Parent:\\n    \\\"\\\"\\\"this is parent class\\\"\\\"\\\"\\n\\n    parentAttr = 100\\n\\n    def __init__(self):\\n        print(\\\"Calling parent constructor\\\")\\n\\n    def parentMethod(self):\\n        print(\\\"Calling parent method\\\")\\n\\n    def onlyParentAttr(self, attr):\\n        Parent.parentAttr = attr\\n        print(\\\"Parent attribute :\\\", Parent.parentAttr)\\n\\n    def setAttr(self, attr):\\n        Parent.parentAttr = attr\\n        self.parentAttr = attr\\n\\n    def getAttr(self):\\n        print(\\\"Parent attribute :\\\", Parent.parentAttr)\\n        print(\\\"Object attribute :\\\", self.parentAttr)\";\n                var nbb_cells = Jupyter.notebook.get_cells();\n                for (var i = 0; i < nbb_cells.length; ++i) {\n                    if (nbb_cells[i].input_prompt_number == nbb_cell_id) {\n                        if (nbb_cells[i].get_text() == nbb_unformatted_code) {\n                             nbb_cells[i].set_text(nbb_formatted_code);\n                        }\n                        break;\n                    }\n                }\n            }, 500);\n            ",
      "text/plain": [
       "<IPython.core.display.Javascript object>"
      ]
     },
     "metadata": {},
     "output_type": "display_data"
    }
   ],
   "source": [
    "class Parent:\n",
    "    \"\"\"this is parent class\"\"\"\n",
    "\n",
    "    parentAttr = 100\n",
    "\n",
    "    def __init__(self):\n",
    "        print(\"Calling parent constructor\")\n",
    "\n",
    "    def parentMethod(self):\n",
    "        print(\"Calling parent method\")\n",
    "\n",
    "    def onlyParentAttr(self, attr):\n",
    "        Parent.parentAttr = attr\n",
    "        print(\"Parent attribute :\", Parent.parentAttr)\n",
    "\n",
    "    def setAttr(self, attr):\n",
    "        Parent.parentAttr = attr\n",
    "        self.parentAttr = attr\n",
    "\n",
    "    def getAttr(self):\n",
    "        print(\"Parent attribute :\", Parent.parentAttr)\n",
    "        print(\"Object attribute :\", self.parentAttr)"
   ]
  },
  {
   "cell_type": "code",
   "execution_count": 59,
   "metadata": {},
   "outputs": [
    {
     "name": "stdout",
     "output_type": "stream",
     "text": [
      "Calling parent constructor\n",
      "Parent attribute : 5000\n",
      "Object attribute : 5000\n"
     ]
    },
    {
     "data": {
      "application/javascript": "\n            setTimeout(function() {\n                var nbb_cell_id = 59;\n                var nbb_unformatted_code = \"obj = Parent()\\nobj.setAttr(\\\"5000\\\")\\nobj.getAttr()\";\n                var nbb_formatted_code = \"obj = Parent()\\nobj.setAttr(\\\"5000\\\")\\nobj.getAttr()\";\n                var nbb_cells = Jupyter.notebook.get_cells();\n                for (var i = 0; i < nbb_cells.length; ++i) {\n                    if (nbb_cells[i].input_prompt_number == nbb_cell_id) {\n                        if (nbb_cells[i].get_text() == nbb_unformatted_code) {\n                             nbb_cells[i].set_text(nbb_formatted_code);\n                        }\n                        break;\n                    }\n                }\n            }, 500);\n            ",
      "text/plain": [
       "<IPython.core.display.Javascript object>"
      ]
     },
     "metadata": {},
     "output_type": "display_data"
    }
   ],
   "source": [
    "obj = Parent()\n",
    "obj.setAttr(\"5000\")\n",
    "obj.getAttr()"
   ]
  },
  {
   "cell_type": "code",
   "execution_count": 60,
   "metadata": {},
   "outputs": [
    {
     "name": "stdout",
     "output_type": "stream",
     "text": [
      "Parent attribute : 122\n"
     ]
    },
    {
     "data": {
      "application/javascript": "\n            setTimeout(function() {\n                var nbb_cell_id = 60;\n                var nbb_unformatted_code = \"obj.onlyParentAttr(122)\";\n                var nbb_formatted_code = \"obj.onlyParentAttr(122)\";\n                var nbb_cells = Jupyter.notebook.get_cells();\n                for (var i = 0; i < nbb_cells.length; ++i) {\n                    if (nbb_cells[i].input_prompt_number == nbb_cell_id) {\n                        if (nbb_cells[i].get_text() == nbb_unformatted_code) {\n                             nbb_cells[i].set_text(nbb_formatted_code);\n                        }\n                        break;\n                    }\n                }\n            }, 500);\n            ",
      "text/plain": [
       "<IPython.core.display.Javascript object>"
      ]
     },
     "metadata": {},
     "output_type": "display_data"
    }
   ],
   "source": [
    "obj.onlyParentAttr(122)"
   ]
  },
  {
   "cell_type": "code",
   "execution_count": 61,
   "metadata": {},
   "outputs": [
    {
     "name": "stdout",
     "output_type": "stream",
     "text": [
      "Parent attribute : 122\n",
      "Object attribute : 5000\n"
     ]
    },
    {
     "data": {
      "application/javascript": "\n            setTimeout(function() {\n                var nbb_cell_id = 61;\n                var nbb_unformatted_code = \"obj.getAttr()\";\n                var nbb_formatted_code = \"obj.getAttr()\";\n                var nbb_cells = Jupyter.notebook.get_cells();\n                for (var i = 0; i < nbb_cells.length; ++i) {\n                    if (nbb_cells[i].input_prompt_number == nbb_cell_id) {\n                        if (nbb_cells[i].get_text() == nbb_unformatted_code) {\n                             nbb_cells[i].set_text(nbb_formatted_code);\n                        }\n                        break;\n                    }\n                }\n            }, 500);\n            ",
      "text/plain": [
       "<IPython.core.display.Javascript object>"
      ]
     },
     "metadata": {},
     "output_type": "display_data"
    }
   ],
   "source": [
    "obj.getAttr()"
   ]
  },
  {
   "cell_type": "code",
   "execution_count": 62,
   "metadata": {},
   "outputs": [
    {
     "name": "stdout",
     "output_type": "stream",
     "text": [
      "<class 'list'>\n"
     ]
    },
    {
     "data": {
      "application/javascript": "\n            setTimeout(function() {\n                var nbb_cell_id = 62;\n                var nbb_unformatted_code = \"l = []\\nprint(l.__class__)\";\n                var nbb_formatted_code = \"l = []\\nprint(l.__class__)\";\n                var nbb_cells = Jupyter.notebook.get_cells();\n                for (var i = 0; i < nbb_cells.length; ++i) {\n                    if (nbb_cells[i].input_prompt_number == nbb_cell_id) {\n                        if (nbb_cells[i].get_text() == nbb_unformatted_code) {\n                             nbb_cells[i].set_text(nbb_formatted_code);\n                        }\n                        break;\n                    }\n                }\n            }, 500);\n            ",
      "text/plain": [
       "<IPython.core.display.Javascript object>"
      ]
     },
     "metadata": {},
     "output_type": "display_data"
    }
   ],
   "source": [
    "l = []\n",
    "print(l.__class__)"
   ]
  },
  {
   "cell_type": "code",
   "execution_count": 63,
   "metadata": {},
   "outputs": [
    {
     "name": "stdout",
     "output_type": "stream",
     "text": [
      "__main__\n"
     ]
    },
    {
     "data": {
      "application/javascript": "\n            setTimeout(function() {\n                var nbb_cell_id = 63;\n                var nbb_unformatted_code = \"print(obj.__module__)\";\n                var nbb_formatted_code = \"print(obj.__module__)\";\n                var nbb_cells = Jupyter.notebook.get_cells();\n                for (var i = 0; i < nbb_cells.length; ++i) {\n                    if (nbb_cells[i].input_prompt_number == nbb_cell_id) {\n                        if (nbb_cells[i].get_text() == nbb_unformatted_code) {\n                             nbb_cells[i].set_text(nbb_formatted_code);\n                        }\n                        break;\n                    }\n                }\n            }, 500);\n            ",
      "text/plain": [
       "<IPython.core.display.Javascript object>"
      ]
     },
     "metadata": {},
     "output_type": "display_data"
    }
   ],
   "source": [
    "print(obj.__module__)"
   ]
  },
  {
   "cell_type": "code",
   "execution_count": 64,
   "metadata": {},
   "outputs": [
    {
     "name": "stdout",
     "output_type": "stream",
     "text": [
      "<__main__.Parent object at 0x00000142D31FA3D0>\n"
     ]
    },
    {
     "data": {
      "application/javascript": "\n            setTimeout(function() {\n                var nbb_cell_id = 64;\n                var nbb_unformatted_code = \"print(obj)\";\n                var nbb_formatted_code = \"print(obj)\";\n                var nbb_cells = Jupyter.notebook.get_cells();\n                for (var i = 0; i < nbb_cells.length; ++i) {\n                    if (nbb_cells[i].input_prompt_number == nbb_cell_id) {\n                        if (nbb_cells[i].get_text() == nbb_unformatted_code) {\n                             nbb_cells[i].set_text(nbb_formatted_code);\n                        }\n                        break;\n                    }\n                }\n            }, 500);\n            ",
      "text/plain": [
       "<IPython.core.display.Javascript object>"
      ]
     },
     "metadata": {},
     "output_type": "display_data"
    }
   ],
   "source": [
    "print(obj)"
   ]
  },
  {
   "cell_type": "code",
   "execution_count": 65,
   "metadata": {},
   "outputs": [
    {
     "data": {
      "text/plain": [
       "['__class__',\n",
       " '__delattr__',\n",
       " '__dict__',\n",
       " '__dir__',\n",
       " '__doc__',\n",
       " '__eq__',\n",
       " '__format__',\n",
       " '__ge__',\n",
       " '__getattribute__',\n",
       " '__gt__',\n",
       " '__hash__',\n",
       " '__init__',\n",
       " '__init_subclass__',\n",
       " '__le__',\n",
       " '__lt__',\n",
       " '__module__',\n",
       " '__ne__',\n",
       " '__new__',\n",
       " '__reduce__',\n",
       " '__reduce_ex__',\n",
       " '__repr__',\n",
       " '__setattr__',\n",
       " '__sizeof__',\n",
       " '__str__',\n",
       " '__subclasshook__',\n",
       " '__weakref__',\n",
       " 'getAttr',\n",
       " 'onlyParentAttr',\n",
       " 'parentAttr',\n",
       " 'parentMethod',\n",
       " 'setAttr']"
      ]
     },
     "execution_count": 65,
     "metadata": {},
     "output_type": "execute_result"
    },
    {
     "data": {
      "application/javascript": "\n            setTimeout(function() {\n                var nbb_cell_id = 65;\n                var nbb_unformatted_code = \"dir(obj)\";\n                var nbb_formatted_code = \"dir(obj)\";\n                var nbb_cells = Jupyter.notebook.get_cells();\n                for (var i = 0; i < nbb_cells.length; ++i) {\n                    if (nbb_cells[i].input_prompt_number == nbb_cell_id) {\n                        if (nbb_cells[i].get_text() == nbb_unformatted_code) {\n                             nbb_cells[i].set_text(nbb_formatted_code);\n                        }\n                        break;\n                    }\n                }\n            }, 500);\n            ",
      "text/plain": [
       "<IPython.core.display.Javascript object>"
      ]
     },
     "metadata": {},
     "output_type": "display_data"
    }
   ],
   "source": [
    "dir(obj)"
   ]
  },
  {
   "cell_type": "code",
   "execution_count": 66,
   "metadata": {},
   "outputs": [
    {
     "name": "stdout",
     "output_type": "stream",
     "text": [
      "<__main__.Employee object at 0x00000142D318F100>\n",
      "<__main__.Employee object at 0x00000142D318FD60>\n"
     ]
    },
    {
     "data": {
      "application/javascript": "\n            setTimeout(function() {\n                var nbb_cell_id = 66;\n                var nbb_unformatted_code = \"print(emp1)\\nprint(emp2)\\n# <__main__.Employee object at 0x000001CFFC36B160>\\n# <__main__.Employee object at 0x000001CFFC36B250>\";\n                var nbb_formatted_code = \"print(emp1)\\nprint(emp2)\\n# <__main__.Employee object at 0x000001CFFC36B160>\\n# <__main__.Employee object at 0x000001CFFC36B250>\";\n                var nbb_cells = Jupyter.notebook.get_cells();\n                for (var i = 0; i < nbb_cells.length; ++i) {\n                    if (nbb_cells[i].input_prompt_number == nbb_cell_id) {\n                        if (nbb_cells[i].get_text() == nbb_unformatted_code) {\n                             nbb_cells[i].set_text(nbb_formatted_code);\n                        }\n                        break;\n                    }\n                }\n            }, 500);\n            ",
      "text/plain": [
       "<IPython.core.display.Javascript object>"
      ]
     },
     "metadata": {},
     "output_type": "display_data"
    }
   ],
   "source": [
    "print(emp1)\n",
    "print(emp2)\n",
    "# <__main__.Employee object at 0x000001CFFC36B160>\n",
    "# <__main__.Employee object at 0x000001CFFC36B250>"
   ]
  },
  {
   "cell_type": "code",
   "execution_count": 67,
   "metadata": {},
   "outputs": [
    {
     "name": "stdout",
     "output_type": "stream",
     "text": [
      "Employee(Name: John Doe, Salary: 50000, Age: 30)\n",
      "Employee(Name: Ram, Salary: 10000, Age: 20)\n"
     ]
    },
    {
     "data": {
      "application/javascript": "\n            setTimeout(function() {\n                var nbb_cell_id = 67;\n                var nbb_unformatted_code = \"class Employee:\\n    def __init__(self, x, y, z):\\n        self.name = x\\n        self.salary = y\\n        self.age = z\\n       \\n    \\n    def __str__(self):\\n            return f\\\"Employee(Name: {self.name}, Salary: {self.salary}, Age: {self.age})\\\"\\n\\n\\ne1 = Employee(\\\"John Doe\\\", 50000, 30)\\nprint(e1)\\ne2 = Employee(\\\"Ram\\\", 10000, 20)\\nprint(e2)\";\n                var nbb_formatted_code = \"class Employee:\\n    def __init__(self, x, y, z):\\n        self.name = x\\n        self.salary = y\\n        self.age = z\\n\\n    def __str__(self):\\n        return f\\\"Employee(Name: {self.name}, Salary: {self.salary}, Age: {self.age})\\\"\\n\\n\\ne1 = Employee(\\\"John Doe\\\", 50000, 30)\\nprint(e1)\\ne2 = Employee(\\\"Ram\\\", 10000, 20)\\nprint(e2)\";\n                var nbb_cells = Jupyter.notebook.get_cells();\n                for (var i = 0; i < nbb_cells.length; ++i) {\n                    if (nbb_cells[i].input_prompt_number == nbb_cell_id) {\n                        if (nbb_cells[i].get_text() == nbb_unformatted_code) {\n                             nbb_cells[i].set_text(nbb_formatted_code);\n                        }\n                        break;\n                    }\n                }\n            }, 500);\n            ",
      "text/plain": [
       "<IPython.core.display.Javascript object>"
      ]
     },
     "metadata": {},
     "output_type": "display_data"
    }
   ],
   "source": [
    "class Employee:\n",
    "    def __init__(self, x, y, z):\n",
    "        self.name = x\n",
    "        self.salary = y\n",
    "        self.age = z\n",
    "       \n",
    "    \n",
    "    def __str__(self):\n",
    "            return f\"Employee(Name: {self.name}, Salary: {self.salary}, Age: {self.age})\"\n",
    "\n",
    "\n",
    "e1 = Employee(\"John Doe\", 50000, 30)\n",
    "print(e1)\n",
    "e2 = Employee(\"Ram\", 10000, 20)\n",
    "print(e2)"
   ]
  },
  {
   "cell_type": "code",
   "execution_count": 70,
   "metadata": {},
   "outputs": [
    {
     "data": {
      "application/javascript": "\n            setTimeout(function() {\n                var nbb_cell_id = 70;\n                var nbb_unformatted_code = \"class Fraction:\\n    def __init__(self, x, y):\\n        self.num = x\\n        self.den = y\\n\\n    def __str__(self):\\n        return \\\"(\\\" + str(self.num) + \\\"/\\\" + str(self.den) + \\\")\\\"  # (1/2)\\n\\n            # return \\\"%%%%%%%%%%%%%%%%%%%%%%%\\\"\\n\\n\\n        # return \\\" i will not print anything\\\"\\n\\n\\n#         return 6# should return string only\";\n                var nbb_formatted_code = \"class Fraction:\\n    def __init__(self, x, y):\\n        self.num = x\\n        self.den = y\\n\\n    def __str__(self):\\n        return \\\"(\\\" + str(self.num) + \\\"/\\\" + str(self.den) + \\\")\\\"  # (1/2)\\n\\n        # return \\\"%%%%%%%%%%%%%%%%%%%%%%%\\\"\\n\\n        # return \\\" i will not print anything\\\"\\n\\n\\n#         return 6# should return string only\";\n                var nbb_cells = Jupyter.notebook.get_cells();\n                for (var i = 0; i < nbb_cells.length; ++i) {\n                    if (nbb_cells[i].input_prompt_number == nbb_cell_id) {\n                        if (nbb_cells[i].get_text() == nbb_unformatted_code) {\n                             nbb_cells[i].set_text(nbb_formatted_code);\n                        }\n                        break;\n                    }\n                }\n            }, 500);\n            ",
      "text/plain": [
       "<IPython.core.display.Javascript object>"
      ]
     },
     "metadata": {},
     "output_type": "display_data"
    }
   ],
   "source": [
    "class Fraction:\n",
    "    def __init__(self, x, y):\n",
    "        self.num = x\n",
    "        self.den = y\n",
    "\n",
    "    def __str__(self):\n",
    "        return \"(\" + str(self.num) + \"/\" + str(self.den) + \")\"  # (1/2)\n",
    "\n",
    "            # return \"%%%%%%%%%%%%%%%%%%%%%%%\"\n",
    "\n",
    "\n",
    "        # return \" i will not print anything\"\n",
    "\n",
    "\n",
    "#         return 6# should return string only"
   ]
  },
  {
   "cell_type": "code",
   "execution_count": 71,
   "metadata": {},
   "outputs": [
    {
     "name": "stdout",
     "output_type": "stream",
     "text": [
      "(1/2)\n"
     ]
    },
    {
     "data": {
      "application/javascript": "\n            setTimeout(function() {\n                var nbb_cell_id = 71;\n                var nbb_unformatted_code = \"f = Fraction(1, 2)\\nprint(f)\";\n                var nbb_formatted_code = \"f = Fraction(1, 2)\\nprint(f)\";\n                var nbb_cells = Jupyter.notebook.get_cells();\n                for (var i = 0; i < nbb_cells.length; ++i) {\n                    if (nbb_cells[i].input_prompt_number == nbb_cell_id) {\n                        if (nbb_cells[i].get_text() == nbb_unformatted_code) {\n                             nbb_cells[i].set_text(nbb_formatted_code);\n                        }\n                        break;\n                    }\n                }\n            }, 500);\n            ",
      "text/plain": [
       "<IPython.core.display.Javascript object>"
      ]
     },
     "metadata": {},
     "output_type": "display_data"
    }
   ],
   "source": [
    "f = Fraction(1, 2)\n",
    "print(f)"
   ]
  },
  {
   "cell_type": "code",
   "execution_count": 72,
   "metadata": {},
   "outputs": [
    {
     "name": "stdout",
     "output_type": "stream",
     "text": [
      "(10/34)\n"
     ]
    },
    {
     "data": {
      "application/javascript": "\n            setTimeout(function() {\n                var nbb_cell_id = 72;\n                var nbb_unformatted_code = \"t = Fraction(10, 34)\\nprint(t)\";\n                var nbb_formatted_code = \"t = Fraction(10, 34)\\nprint(t)\";\n                var nbb_cells = Jupyter.notebook.get_cells();\n                for (var i = 0; i < nbb_cells.length; ++i) {\n                    if (nbb_cells[i].input_prompt_number == nbb_cell_id) {\n                        if (nbb_cells[i].get_text() == nbb_unformatted_code) {\n                             nbb_cells[i].set_text(nbb_formatted_code);\n                        }\n                        break;\n                    }\n                }\n            }, 500);\n            ",
      "text/plain": [
       "<IPython.core.display.Javascript object>"
      ]
     },
     "metadata": {},
     "output_type": "display_data"
    }
   ],
   "source": [
    "t = Fraction(10, 34)\n",
    "print(t)"
   ]
  },
  {
   "cell_type": "code",
   "execution_count": 74,
   "metadata": {},
   "outputs": [
    {
     "data": {
      "application/javascript": "\n            setTimeout(function() {\n                var nbb_cell_id = 74;\n                var nbb_unformatted_code = \"import sys\\n\\n\\nclass Robot:\\n    def __init__(self, name):\\n        self.name = name\\n        print(name + \\\" has been created!\\\")\\n\\n    def __del__(self):\\n        print(\\\"Robot \\\" + self.name + \\\" has been destroyed\\\")\\n\\n    def __str__(self):\\n        return f\\\"Robot name is {self.name}\\\"\";\n                var nbb_formatted_code = \"import sys\\n\\n\\nclass Robot:\\n    def __init__(self, name):\\n        self.name = name\\n        print(name + \\\" has been created!\\\")\\n\\n    def __del__(self):\\n        print(\\\"Robot \\\" + self.name + \\\" has been destroyed\\\")\\n\\n    def __str__(self):\\n        return f\\\"Robot name is {self.name}\\\"\";\n                var nbb_cells = Jupyter.notebook.get_cells();\n                for (var i = 0; i < nbb_cells.length; ++i) {\n                    if (nbb_cells[i].input_prompt_number == nbb_cell_id) {\n                        if (nbb_cells[i].get_text() == nbb_unformatted_code) {\n                             nbb_cells[i].set_text(nbb_formatted_code);\n                        }\n                        break;\n                    }\n                }\n            }, 500);\n            ",
      "text/plain": [
       "<IPython.core.display.Javascript object>"
      ]
     },
     "metadata": {},
     "output_type": "display_data"
    }
   ],
   "source": [
    "import sys\n",
    "\n",
    "\n",
    "class Robot:\n",
    "    def __init__(self, name):\n",
    "        self.name = name\n",
    "        print(name + \" has been created!\")\n",
    "\n",
    "    def __del__(self):\n",
    "        print(\"Robot \" + self.name + \" has been destroyed\")\n",
    "\n",
    "    def __str__(self):\n",
    "        return f\"Robot name is {self.name}\""
   ]
  },
  {
   "cell_type": "code",
   "execution_count": 75,
   "metadata": {},
   "outputs": [
    {
     "name": "stdout",
     "output_type": "stream",
     "text": [
      "Tik-Tok has been created!\n"
     ]
    },
    {
     "data": {
      "application/javascript": "\n            setTimeout(function() {\n                var nbb_cell_id = 75;\n                var nbb_unformatted_code = \"x = Robot(\\\"Tik-Tok\\\")\";\n                var nbb_formatted_code = \"x = Robot(\\\"Tik-Tok\\\")\";\n                var nbb_cells = Jupyter.notebook.get_cells();\n                for (var i = 0; i < nbb_cells.length; ++i) {\n                    if (nbb_cells[i].input_prompt_number == nbb_cell_id) {\n                        if (nbb_cells[i].get_text() == nbb_unformatted_code) {\n                             nbb_cells[i].set_text(nbb_formatted_code);\n                        }\n                        break;\n                    }\n                }\n            }, 500);\n            ",
      "text/plain": [
       "<IPython.core.display.Javascript object>"
      ]
     },
     "metadata": {},
     "output_type": "display_data"
    }
   ],
   "source": [
    "x = Robot(\"Tik-Tok\")"
   ]
  },
  {
   "cell_type": "code",
   "execution_count": 76,
   "metadata": {},
   "outputs": [
    {
     "name": "stdout",
     "output_type": "stream",
     "text": [
      "Robot name is Tik-Tok\n"
     ]
    },
    {
     "data": {
      "application/javascript": "\n            setTimeout(function() {\n                var nbb_cell_id = 76;\n                var nbb_unformatted_code = \"print(x)\";\n                var nbb_formatted_code = \"print(x)\";\n                var nbb_cells = Jupyter.notebook.get_cells();\n                for (var i = 0; i < nbb_cells.length; ++i) {\n                    if (nbb_cells[i].input_prompt_number == nbb_cell_id) {\n                        if (nbb_cells[i].get_text() == nbb_unformatted_code) {\n                             nbb_cells[i].set_text(nbb_formatted_code);\n                        }\n                        break;\n                    }\n                }\n            }, 500);\n            ",
      "text/plain": [
       "<IPython.core.display.Javascript object>"
      ]
     },
     "metadata": {},
     "output_type": "display_data"
    }
   ],
   "source": [
    "print(x)"
   ]
  },
  {
   "cell_type": "code",
   "execution_count": 77,
   "metadata": {},
   "outputs": [
    {
     "name": "stdout",
     "output_type": "stream",
     "text": [
      "Robot Tik-Tok has been destroyed\n"
     ]
    },
    {
     "data": {
      "application/javascript": "\n            setTimeout(function() {\n                var nbb_cell_id = 77;\n                var nbb_unformatted_code = \"del x\";\n                var nbb_formatted_code = \"del x\";\n                var nbb_cells = Jupyter.notebook.get_cells();\n                for (var i = 0; i < nbb_cells.length; ++i) {\n                    if (nbb_cells[i].input_prompt_number == nbb_cell_id) {\n                        if (nbb_cells[i].get_text() == nbb_unformatted_code) {\n                             nbb_cells[i].set_text(nbb_formatted_code);\n                        }\n                        break;\n                    }\n                }\n            }, 500);\n            ",
      "text/plain": [
       "<IPython.core.display.Javascript object>"
      ]
     },
     "metadata": {},
     "output_type": "display_data"
    }
   ],
   "source": [
    "del x"
   ]
  },
  {
   "cell_type": "code",
   "execution_count": 78,
   "metadata": {},
   "outputs": [
    {
     "ename": "NameError",
     "evalue": "name 'x' is not defined",
     "output_type": "error",
     "traceback": [
      "\u001b[1;31m---------------------------------------------------------------------------\u001b[0m",
      "\u001b[1;31mNameError\u001b[0m                                 Traceback (most recent call last)",
      "Cell \u001b[1;32mIn[78], line 1\u001b[0m\n\u001b[1;32m----> 1\u001b[0m \u001b[38;5;28mprint\u001b[39m(\u001b[43mx\u001b[49m)\n",
      "\u001b[1;31mNameError\u001b[0m: name 'x' is not defined"
     ]
    },
    {
     "data": {
      "application/javascript": "\n            setTimeout(function() {\n                var nbb_cell_id = 78;\n                var nbb_unformatted_code = \"print(x)\";\n                var nbb_formatted_code = \"print(x)\";\n                var nbb_cells = Jupyter.notebook.get_cells();\n                for (var i = 0; i < nbb_cells.length; ++i) {\n                    if (nbb_cells[i].input_prompt_number == nbb_cell_id) {\n                        if (nbb_cells[i].get_text() == nbb_unformatted_code) {\n                             nbb_cells[i].set_text(nbb_formatted_code);\n                        }\n                        break;\n                    }\n                }\n            }, 500);\n            ",
      "text/plain": [
       "<IPython.core.display.Javascript object>"
      ]
     },
     "metadata": {},
     "output_type": "display_data"
    }
   ],
   "source": [
    "print(x)"
   ]
  },
  {
   "cell_type": "code",
   "execution_count": 79,
   "metadata": {},
   "outputs": [
    {
     "data": {
      "text/plain": [
       "['__class__',\n",
       " '__del__',\n",
       " '__delattr__',\n",
       " '__dict__',\n",
       " '__dir__',\n",
       " '__doc__',\n",
       " '__eq__',\n",
       " '__format__',\n",
       " '__ge__',\n",
       " '__getattribute__',\n",
       " '__gt__',\n",
       " '__hash__',\n",
       " '__init__',\n",
       " '__init_subclass__',\n",
       " '__le__',\n",
       " '__lt__',\n",
       " '__module__',\n",
       " '__ne__',\n",
       " '__new__',\n",
       " '__reduce__',\n",
       " '__reduce_ex__',\n",
       " '__repr__',\n",
       " '__setattr__',\n",
       " '__sizeof__',\n",
       " '__str__',\n",
       " '__subclasshook__',\n",
       " '__weakref__']"
      ]
     },
     "execution_count": 79,
     "metadata": {},
     "output_type": "execute_result"
    },
    {
     "data": {
      "application/javascript": "\n            setTimeout(function() {\n                var nbb_cell_id = 79;\n                var nbb_unformatted_code = \"dir(Robot)\";\n                var nbb_formatted_code = \"dir(Robot)\";\n                var nbb_cells = Jupyter.notebook.get_cells();\n                for (var i = 0; i < nbb_cells.length; ++i) {\n                    if (nbb_cells[i].input_prompt_number == nbb_cell_id) {\n                        if (nbb_cells[i].get_text() == nbb_unformatted_code) {\n                             nbb_cells[i].set_text(nbb_formatted_code);\n                        }\n                        break;\n                    }\n                }\n            }, 500);\n            ",
      "text/plain": [
       "<IPython.core.display.Javascript object>"
      ]
     },
     "metadata": {},
     "output_type": "display_data"
    }
   ],
   "source": [
    "dir(Robot)"
   ]
  },
  {
   "cell_type": "code",
   "execution_count": 80,
   "metadata": {},
   "outputs": [
    {
     "name": "stdout",
     "output_type": "stream",
     "text": [
      "value1\n",
      "value2\n"
     ]
    },
    {
     "data": {
      "application/javascript": "\n            setTimeout(function() {\n                var nbb_cell_id = 80;\n                var nbb_unformatted_code = \"class SomeClass:\\n    def __init__(self, property1, property2):\\n        self.p1 = property1\\n        self.p2 = property2\\n\\n\\nproperty_dict = {\\\"property1\\\": \\\"value1\\\", \\\"property2\\\": \\\"value2\\\"}\\nsc = SomeClass(**property_dict)\\nprint(sc.p1)\\nprint(sc.p2)\";\n                var nbb_formatted_code = \"class SomeClass:\\n    def __init__(self, property1, property2):\\n        self.p1 = property1\\n        self.p2 = property2\\n\\n\\nproperty_dict = {\\\"property1\\\": \\\"value1\\\", \\\"property2\\\": \\\"value2\\\"}\\nsc = SomeClass(**property_dict)\\nprint(sc.p1)\\nprint(sc.p2)\";\n                var nbb_cells = Jupyter.notebook.get_cells();\n                for (var i = 0; i < nbb_cells.length; ++i) {\n                    if (nbb_cells[i].input_prompt_number == nbb_cell_id) {\n                        if (nbb_cells[i].get_text() == nbb_unformatted_code) {\n                             nbb_cells[i].set_text(nbb_formatted_code);\n                        }\n                        break;\n                    }\n                }\n            }, 500);\n            ",
      "text/plain": [
       "<IPython.core.display.Javascript object>"
      ]
     },
     "metadata": {},
     "output_type": "display_data"
    }
   ],
   "source": [
    "class SomeClass:\n",
    "    def __init__(self, property1, property2):\n",
    "        self.p1 = property1\n",
    "        self.p2 = property2\n",
    "\n",
    "\n",
    "property_dict = {\"property1\": \"value1\", \"property2\": \"value2\"}\n",
    "sc = SomeClass(**property_dict)\n",
    "print(sc.p1)\n",
    "print(sc.p2)"
   ]
  },
  {
   "cell_type": "markdown",
   "metadata": {},
   "source": [
    "Callable classes\n",
    "Python object is called callable if they define __call__() function. If this function is defined then x(arg1, arg2, …) is a shorthand for x.__call__(arg1, arg2, …).\n",
    "\n",
    "Note that callable() function returns True if the object appears callable, it’s possible that it returns True even if the object is not callable. However, if this function returns False then the object is definitely not callable.\n",
    "\n",
    "Also, a python class is always Callable. So always use callable() with an instance of the class, not the class itself. Let’s look at a simple example to check this behavior."
   ]
  },
  {
   "cell_type": "code",
   "execution_count": null,
   "metadata": {},
   "outputs": [],
   "source": [
    "class Person:\n",
    "    i = 0\n",
    "\n",
    "    def __init__(self, id):\n",
    "        self.i = id\n",
    "\n",
    "\n",
    "p = Person(10)\n",
    "# classes are callable because you can create instances by calling the class.\n",
    "print(\"Person Class is callable = \", callable(Person))\n",
    "print(\"Person object is callable = \", callable(p))\n",
    "# Instances of classes are typically not callable unless the class implements the __call__ method."
   ]
  },
  {
   "cell_type": "code",
   "execution_count": null,
   "metadata": {},
   "outputs": [],
   "source": [
    "class Employee:\n",
    "    id = 0\n",
    "    name = \"\"\n",
    "\n",
    "    def __init__(self, i, n):\n",
    "        self.id = i\n",
    "        self.name = n\n",
    "\n",
    "    def __call__(self, *args, **kwargs):\n",
    "        print('printing args')\n",
    "        print(*args)\n",
    "\n",
    "        print('printing kwargs')\n",
    "        for key, value in kwargs.items():\n",
    "            print(\"%s == %s\" % (key, value))\n",
    "\n",
    "\n",
    "e = Employee(10, 'Pankaj')  # creating object\n",
    "\n",
    "print(e)  # printing object\n",
    "\n",
    "print(callable(e)) # True\n",
    "e('a':10, 'b':20)  # it will call __call__ function\n"
   ]
  },
  {
   "cell_type": "code",
   "execution_count": null,
   "metadata": {},
   "outputs": [],
   "source": [
    "e.__call__(10, 20)\n"
   ]
  },
  {
   "cell_type": "code",
   "execution_count": null,
   "metadata": {},
   "outputs": [],
   "source": [
    "e(10, 20, {\"x\": 1, \"y\": 2})  # only args of different types)\n",
    "e(10, \"A\", name=\"Pankaj\", id=20)  # args and kwargs both)"
   ]
  },
  {
   "cell_type": "markdown",
   "metadata": {},
   "source": [
    "Monkey patching\n",
    "In Python, the term monkey patch only refers to dynamic modifications of a class or module at runtime, which means monkey patch is a piece of Python code that extends or modifies other code at runtime."
   ]
  },
  {
   "cell_type": "code",
   "execution_count": null,
   "metadata": {},
   "outputs": [],
   "source": [
    "class Example:\n",
    "    def __init__(self, num):\n",
    "        self.num = num\n",
    "\n",
    "    def addition(self, other):\n",
    "        return (self.num + other)\n",
    "    \n",
    "obj = Example(10)\n",
    "obj.addition(20)\n"
   ]
  },
  {
   "cell_type": "code",
   "execution_count": null,
   "metadata": {},
   "outputs": [],
   "source": [
    "def subtraction(self, num2):\n",
    "    return self.num - num2\n",
    "\n",
    "\n",
    "Example.subtraction = subtraction\n",
    "dir(Example)"
   ]
  },
  {
   "cell_type": "code",
   "execution_count": null,
   "metadata": {},
   "outputs": [],
   "source": [
    "print(obj.subtraction(1))  # Working as expected\n",
    "\n",
    "obj_1 = MonkeyPatch(10)  # create some new object\n",
    "obj_1.subtraction(2)"
   ]
  },
  {
   "cell_type": "code",
   "execution_count": null,
   "metadata": {},
   "outputs": [],
   "source": [
    "class A:\n",
    "    def func(self):\n",
    "        print(\"func() is being called\")"
   ]
  },
  {
   "cell_type": "code",
   "execution_count": null,
   "metadata": {},
   "outputs": [],
   "source": [
    "def monkey_f(self):\n",
    "    print(\"monkey_f() is being called\")\n",
    "\n",
    "\n",
    "# replacing address of \"func\" with \"monkey_f\"\n",
    "A.func = monkey_f\n",
    "obj = A()\n",
    "\n",
    "# calling function \"func\" whose address got replaced\n",
    "# with function \"monkey_f()\"\n",
    "obj.func()"
   ]
  },
  {
   "cell_type": "markdown",
   "metadata": {},
   "source": [
    "### ASSIGNMENT\n",
    "Python Program to Find the Area of a Rectangle Using Classes<br>\n",
    "Python Program to Append, Delete and Display Elements of a List Using Classes<br>\n",
    "Python Program to Create a Class and Compute the Area and the Perimeter of the Circle<br>\n",
    "Python Program to compare 2 objects"
   ]
  },
  {
   "cell_type": "code",
   "execution_count": null,
   "metadata": {},
   "outputs": [],
   "source": [
    "class Employee:\n",
    "   def __init__(self,x,y,z ):\n",
    "      print(\" This is constructor\")# this is constructor\n",
    "      self.name = x\n",
    "      self.salary = y\n",
    "      self.age=z\n",
    "     \n",
    "   def displaydetails(self):\n",
    "      print (\"Name : \", self.name,  \", Salary: \", self.salary, \", age: \", self.age)\n",
    "   def compare(self,x):\n",
    "      if self.salary == x.salary:\n",
    "            print(\"salary is equal\")\n",
    "      elif self.salary > x.salary:\n",
    "           print(\"highre salary employee\", self.name)\n",
    "      elif self.salary < x.salary:\n",
    "           print(\"higere salary employee\", x.name)           "
   ]
  },
  {
   "cell_type": "code",
   "execution_count": null,
   "metadata": {},
   "outputs": [],
   "source": [
    "emp1=Employee(\"aakash\", 15000, 15)\n",
    "emp2=Employee(\"abc\", 5000, 15)\n",
    "emp1.compare(emp2)\n",
    "# emp2.compare(emp1)"
   ]
  },
  {
   "cell_type": "code",
   "execution_count": null,
   "metadata": {},
   "outputs": [],
   "source": [
    "emp1.compare(emp2)\n",
    "# print(emp1)\n",
    "# print(emp2)"
   ]
  },
  {
   "cell_type": "code",
   "execution_count": null,
   "metadata": {},
   "outputs": [],
   "source": [
    "emp1.compare(emp2)"
   ]
  },
  {
   "cell_type": "code",
   "execution_count": null,
   "metadata": {},
   "outputs": [],
   "source": [
    "print(emp1)\n",
    "print(emp2)"
   ]
  },
  {
   "cell_type": "code",
   "execution_count": null,
   "metadata": {},
   "outputs": [],
   "source": [
    "l=[1,2,3]\n",
    "print(l)\n",
    "dir(l)"
   ]
  },
  {
   "cell_type": "code",
   "execution_count": null,
   "metadata": {},
   "outputs": [],
   "source": [
    "help(l)"
   ]
  },
  {
   "cell_type": "code",
   "execution_count": null,
   "metadata": {},
   "outputs": [],
   "source": [
    "class Employee:\n",
    "    \n",
    "    def __init__(self,x,y,z ):\n",
    "        self.name=x\n",
    "        self.age=y\n",
    "        self.salary=z\n",
    " \n",
    "    def setobj(self,n,a,s):\n",
    "        self.name=n\n",
    "        self.age=a\n",
    "        self.salary=s\n",
    "    def displaydetails(self):\n",
    "      print (\"Name : \", self.name,  \", Salary: \", self.salary, \", age: \", self.age)"
   ]
  },
  {
   "cell_type": "code",
   "execution_count": null,
   "metadata": {},
   "outputs": [],
   "source": [
    "emp4=Employee(\"Sachin\",34,6000)\n",
    "emp4.displaydetails()"
   ]
  },
  {
   "cell_type": "code",
   "execution_count": null,
   "metadata": {},
   "outputs": [],
   "source": [
    "emp3=Employee()\n",
    "emp3.setobj(\"richard\",33,5000)\n",
    "emp3.displaydetails()"
   ]
  },
  {
   "cell_type": "code",
   "execution_count": null,
   "metadata": {},
   "outputs": [],
   "source": [
    "emp1=Employee()\n",
    "emp1.displaydetails()"
   ]
  },
  {
   "cell_type": "code",
   "execution_count": null,
   "metadata": {},
   "outputs": [],
   "source": [
    "emp1.name=\"peter\"\n",
    "emp1.age=100\n",
    "emp1.salary=8000"
   ]
  },
  {
   "cell_type": "code",
   "execution_count": null,
   "metadata": {},
   "outputs": [],
   "source": [
    "emp1.displaydetails()"
   ]
  },
  {
   "cell_type": "code",
   "execution_count": null,
   "metadata": {},
   "outputs": [],
   "source": [
    "emp2=Employee()\n",
    "emp2.name=\"marc\"\n",
    "emp2.age=23\n",
    "emp2.salary=18000\n",
    "emp2.displaydetails()"
   ]
  },
  {
   "cell_type": "code",
   "execution_count": null,
   "metadata": {},
   "outputs": [],
   "source": [
    "class Server:\n",
    "   def __init__(self,x,y,z ):\n",
    "      print(\" Creating server object\")# this is constructor\n",
    "      self.ip = x\n",
    "      self.CPU = y\n",
    "      self.host_type=z\n",
    "   def displaydetails(self):\n",
    "      print (\"IP : \", self.ip,  \", host_name: \", self.CPU, \", type: \", self.host_type)\n",
    "   def compareserver(self,y):\n",
    "      if (self.CPU==y.CPU and self.host_type==y.host_type):\n",
    "            print(\"Servers are same\")\n",
    "      else :\n",
    "        print(\"Servers are different\")  \n",
    "\n",
    "staging_server=Server(\"192.168.1.10\",\"1GHz\",\"staging\")\n",
    "production_server=Server(\"192.168.1.11\",\"1GHz\",\"production\")\n",
    "production_server1=Server(\"192.168.1.12\",\"1GHz\",\"staging\")\n",
    "staging_server.compareserver(production_server)\n",
    "staging_server.compareserver(production_server1)            "
   ]
  },
  {
   "cell_type": "code",
   "execution_count": null,
   "metadata": {},
   "outputs": [],
   "source": [
    "import socket\n",
    "    \n",
    "remote_host = 'www.python.org'\n",
    "ip=socket.gethostbyname(remote_host)\n",
    "# print (\"IP address of %s: %s\" %(remote_host,socket.gethostbyname(remote_host)))\n",
    "#     except socket.error as err_msg:\n",
    "#         print (\"%s: %s\" %(remote_host, err_msg))\n",
    "# get_remote_machine_info()\n",
    "print(ip)\n"
   ]
  },
  {
   "cell_type": "code",
   "execution_count": null,
   "metadata": {},
   "outputs": [],
   "source": [
    "from tkinter import *\n",
    "import random\n",
    "import time\n",
    "tk = Tk()\n",
    "tk.title(\"Game\")\n",
    "tk.resizable(0, 0)\n",
    "tk.wm_attributes(\"-topmost\", 1)\n",
    "canvas = Canvas(tk, width=500, height=400, bd=0, highlightthickness=0)\n",
    "canvas.pack()\n",
    "tk.update()"
   ]
  },
  {
   "cell_type": "code",
   "execution_count": null,
   "metadata": {},
   "outputs": [],
   "source": [
    "from tkinter import *\n",
    "import random\n",
    "import time\n",
    "class Ball:\n",
    "    def __init__(self, canvas, color):\n",
    "        self.canvas = canvas\n",
    "        self.id = canvas.create_oval(10, 10, 25, 25, fill=color)\n",
    "        self.canvas.move(self.id, 245, 100)\n",
    "    def draw(self):\n",
    "        self.canvas.move(self.id, 0, -1)ball = Ball(canvas, 'red')\n",
    "while 1:\n",
    " tk.update_idletasks()\n",
    " tk.update()\n",
    " time.sleep(0.01)"
   ]
  },
  {
   "cell_type": "code",
   "execution_count": null,
   "metadata": {},
   "outputs": [],
   "source": [
    "from tkinter import *\n",
    "import random\n",
    "import time\n",
    "\n",
    "\n",
    "class Ball:\n",
    "    def __init__(self, canvas, color):\n",
    "        self.canvas = canvas\n",
    "        self.id = canvas.create_oval(10, 10, 25, 25, fill=color)\n",
    "        self.canvas.move(self.id, 245, 100)\n",
    "        starts = [-3, -2, -1, 1, 2, 3]\n",
    "        random.shuffle(starts)\n",
    "        self.x = starts[0]\n",
    "        self.y = -3\n",
    "        self.canvas_height = self.canvas.winfo_height()\n",
    "        self.canvas_width = self.canvas.winfo_width()\n",
    "\n",
    "    def draw(self):\n",
    "        self.canvas.move(self.id, self.x, self.y)\n",
    "        pos = self.canvas.coords(self.id)\n",
    "        if pos[1] <= 0:\n",
    "            self.y = 3\n",
    "        if pos[3] >= self.canvas_height:\n",
    "            self.y = -3\n",
    "        if pos[0] <= 0:\n",
    "            self.x = 3\n",
    "        if pos[2] >= self.canvas_width:\n",
    "            self.x = -3\n",
    "\n",
    "\n",
    "tk = Tk()\n",
    "tk.title(\"Game\")\n",
    "tk.resizable(0, 0)\n",
    "tk.wm_attributes(\"-topmost\", 1)\n",
    "canvas = Canvas(tk, width=500, height=400, bd=0, highlightthickness=0)\n",
    "canvas.pack()\n",
    "tk.update()\n",
    "ball = Ball(canvas, \"red\")\n",
    "while 1:\n",
    "    ball.draw()\n",
    "    tk.update_idletasks()\n",
    "    tk.update()\n",
    "    time.sleep(0.01)"
   ]
  },
  {
   "cell_type": "code",
   "execution_count": null,
   "metadata": {},
   "outputs": [],
   "source": [
    "class testdict:\n",
    "    d = {1:2}\n",
    "\n",
    "a = testdict()\n",
    "print (a.d)\n",
    "\n"
   ]
  },
  {
   "cell_type": "code",
   "execution_count": null,
   "metadata": {},
   "outputs": [],
   "source": []
  }
 ],
 "metadata": {
  "kernelspec": {
   "display_name": "Python 3",
   "language": "python",
   "name": "python3"
  },
  "language_info": {
   "codemirror_mode": {
    "name": "ipython",
    "version": 3
   },
   "file_extension": ".py",
   "mimetype": "text/x-python",
   "name": "python",
   "nbconvert_exporter": "python",
   "pygments_lexer": "ipython3",
   "version": "3.9.0"
  }
 },
 "nbformat": 4,
 "nbformat_minor": 2
}
