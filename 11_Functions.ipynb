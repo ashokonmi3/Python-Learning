{
 "cells": [
  {
   "cell_type": "markdown",
   "metadata": {},
   "source": [
    "# Functions\n"
   ]
  },
  {
   "cell_type": "markdown",
   "metadata": {},
   "source": [
    "### A piece of code which can be resued.\n",
    "Introduction to Functions\n",
    "\n",
    "What is a function in Python and how to create a function?\n",
    "\n",
    "Functions will be one of our main building blocks when we construct larger and larger amount of code to solve problems.\n",
    "\n",
    "So what is a function?\n",
    "\n",
    "A function groups a set of statements together to run the statements more than once. It allows us to specify parameters that can serve as inputs to the functions.\n",
    "\n",
    "Functions allow us to reuse the code instead of writing the code again and again. If you recall strings and lists, remember that len() function is used to find the length of a string. Since checking the length of a sequence is a common task, you would want to write a function that can do this repeatedly at command.\n",
    "\n",
    "Function is one of the most basic levels of reusing code in Python, and it will also allow us to start thinking of program design.\n",
    "\n"
   ]
  },
  {
   "cell_type": "code",
   "execution_count": null,
   "metadata": {},
   "outputs": [],
   "source": [
    "%load_ext nb_black"
   ]
  },
  {
   "cell_type": "code",
   "execution_count": null,
   "metadata": {},
   "outputs": [],
   "source": [
    "len"
   ]
  },
  {
   "cell_type": "code",
   "execution_count": null,
   "metadata": {},
   "outputs": [],
   "source": [
    "type(len)\n",
    "# type([1,2,3])"
   ]
  },
  {
   "cell_type": "code",
   "execution_count": null,
   "metadata": {},
   "outputs": [],
   "source": [
    "num_letters = len(\"python\")\n",
    "print(num_letters)"
   ]
  },
  {
   "cell_type": "code",
   "execution_count": null,
   "metadata": {},
   "outputs": [],
   "source": [
    "dir ([1,2,3]) # It will return the name of the functions which is inbuilt available for a give data structure"
   ]
  },
  {
   "cell_type": "code",
   "execution_count": null,
   "metadata": {},
   "outputs": [],
   "source": [
    "help(\"str\") # Each and every details of the inbuild functions avaialble for the given data structure"
   ]
  },
  {
   "cell_type": "code",
   "execution_count": null,
   "metadata": {
    "scrolled": true
   },
   "outputs": [],
   "source": [
    "l = [3, 4, 5, 6]\n",
    "x = l.pop()\n",
    "print(x)\n",
    "print(l)"
   ]
  },
  {
   "cell_type": "markdown",
   "metadata": {},
   "source": [
    "### def Statements\n",
    "\n",
    "Now, let us learn how to build a function and what is the syntax in Python.\n",
    "\n",
    "The syntax for def statements will be in the following form:"
   ]
  },
  {
   "cell_type": "code",
   "execution_count": null,
   "metadata": {},
   "outputs": [],
   "source": [
    "def subject():\n",
    "    print(\"python class\")\n",
    "    print(\"I Am learning python\")\n",
    "\n",
    "print(\"I am after function\")"
   ]
  },
  {
   "cell_type": "code",
   "execution_count": null,
   "metadata": {},
   "outputs": [],
   "source": [
    "subject()"
   ]
  },
  {
   "cell_type": "code",
   "execution_count": null,
   "metadata": {},
   "outputs": [],
   "source": [
    "subject()\n",
    "subject()\n",
    "subject()\n",
    "subject()"
   ]
  },
  {
   "cell_type": "code",
   "execution_count": null,
   "metadata": {},
   "outputs": [],
   "source": [
    "def python_subject():\n",
    "    print(\"3. python class\")\n",
    "    print(\"4. I Am learning python\")\n",
    "\n",
    "print(\"1. I am before function\")\n",
    "print(\"2. python_subject\")\n",
    "python_subject()  # function call\n",
    "print(\"5. I am after function\")"
   ]
  },
  {
   "cell_type": "code",
   "execution_count": null,
   "metadata": {},
   "outputs": [],
   "source": [
    "python_subject()"
   ]
  },
  {
   "cell_type": "code",
   "execution_count": null,
   "metadata": {},
   "outputs": [],
   "source": [
    "def java_subject():\n",
    "    print(\"Java class\")\n",
    "    print(\"I Am learning Java\")\n",
    "\n",
    "\n",
    "java_subject()"
   ]
  },
  {
   "cell_type": "code",
   "execution_count": null,
   "metadata": {},
   "outputs": [],
   "source": [
    "def scala_subject():\n",
    "    print(\"Scala class\")\n",
    "    print(\"I Am learning Scala\")\n",
    "\n",
    "\n",
    "scala_subject()"
   ]
  },
  {
   "cell_type": "code",
   "execution_count": null,
   "metadata": {},
   "outputs": [],
   "source": [
    "name= \" Ashok\"\n",
    "print(f\"{name} class\")\n"
   ]
  },
  {
   "cell_type": "code",
   "execution_count": 11,
   "metadata": {},
   "outputs": [],
   "source": [
    "def print_subject(name):\n",
    "    print(f\"{name} class\")\n",
    "    print(f\"I am learning {name}\")\n",
    "    print(10*'*')"
   ]
  },
  {
   "cell_type": "code",
   "execution_count": null,
   "metadata": {},
   "outputs": [],
   "source": [
    "print_subject(\"python\")"
   ]
  },
  {
   "cell_type": "code",
   "execution_count": null,
   "metadata": {},
   "outputs": [],
   "source": [
    "print_subject(\"java\")\n",
    "print_subject(\"JavaScript\")\n",
    "print_subject(\"scala\")\n",
    "print_subject(1000)"
   ]
  },
  {
   "cell_type": "code",
   "execution_count": null,
   "metadata": {},
   "outputs": [],
   "source": [
    "print_subject()"
   ]
  },
  {
   "cell_type": "code",
   "execution_count": null,
   "metadata": {},
   "outputs": [],
   "source": [
    "x = input(\"enter subject name :\")\n",
    "print_subject(x)"
   ]
  },
  {
   "cell_type": "code",
   "execution_count": 16,
   "metadata": {},
   "outputs": [],
   "source": [
    "def revevrse_string(name):\n",
    "    print(name[::-1])"
   ]
  },
  {
   "cell_type": "code",
   "execution_count": null,
   "metadata": {},
   "outputs": [],
   "source": [
    "revevrse_string(\"python\")"
   ]
  },
  {
   "cell_type": "code",
   "execution_count": null,
   "metadata": {},
   "outputs": [],
   "source": [
    "revevrse_string(\"javaScript\")"
   ]
  },
  {
   "cell_type": "code",
   "execution_count": null,
   "metadata": {},
   "outputs": [],
   "source": [
    "revevrse_string(10)"
   ]
  },
  {
   "cell_type": "code",
   "execution_count": 20,
   "metadata": {},
   "outputs": [],
   "source": [
    "def detail(age, name):\n",
    "    print(f\"My name is {name}\")\n",
    "    print(f\"My age is {age}\")"
   ]
  },
  {
   "cell_type": "code",
   "execution_count": null,
   "metadata": {},
   "outputs": [],
   "source": [
    "detail(\"Richard\", 20)"
   ]
  },
  {
   "cell_type": "code",
   "execution_count": null,
   "metadata": {},
   "outputs": [],
   "source": [
    "detail(20,\"Richard\")"
   ]
  },
  {
   "cell_type": "code",
   "execution_count": 23,
   "metadata": {},
   "outputs": [],
   "source": [
    "def demo_function():\n",
    "    \"\"\"This function is for demo purpose\n",
    "    This function is another line for demo purpose\"\"\"  # docstring\n",
    "\n",
    "    print(\"demo \")   # this is to demo comments comments are writtern using\n"
   ]
  },
  {
   "cell_type": "code",
   "execution_count": null,
   "metadata": {},
   "outputs": [],
   "source": [
    "help(demo_function)\n",
    "# demofunction()"
   ]
  },
  {
   "cell_type": "code",
   "execution_count": null,
   "metadata": {
    "scrolled": false
   },
   "outputs": [],
   "source": [
    "help(str)"
   ]
  },
  {
   "cell_type": "code",
   "execution_count": null,
   "metadata": {},
   "outputs": [],
   "source": [
    "def increase_salary(salary):\n",
    "    newsalary = salary * 1.10\n",
    "    print(\"Revised salary \", newsalary)\n",
    "\n",
    "\n",
    "increase_salary(20000)"
   ]
  },
  {
   "cell_type": "code",
   "execution_count": null,
   "metadata": {},
   "outputs": [],
   "source": [
    "bonus = 2 * newsalary / 100\n",
    "print(\" Bonus is : \", bonus)"
   ]
  },
  {
   "cell_type": "code",
   "execution_count": null,
   "metadata": {},
   "outputs": [],
   "source": [
    "def increase_salary(salary):\n",
    "    newsalary = salary * 1.10\n",
    "    print(\"Revised salary \", newsalary)\n",
    "    bonus = 2 * newsalary / 100\n",
    "    print(\"Bonus is : \", bonus)\n",
    "\n",
    "\n",
    "increase_salary(20000)"
   ]
  },
  {
   "cell_type": "code",
   "execution_count": null,
   "metadata": {},
   "outputs": [],
   "source": [
    "def increase_salary(salary):\n",
    "    newsalary = salary * 1.10\n",
    "    print(\"Revised salary \", newsalary)\n",
    "    return newsalary\n",
    "\n",
    "\n",
    "x = increase_salary(200)\n",
    "print(f\"Revised Salary {x}\")\n",
    "bonus = 2 * x / 100\n",
    "print(\"Bonus is : \", bonus)"
   ]
  },
  {
   "cell_type": "code",
   "execution_count": null,
   "metadata": {},
   "outputs": [],
   "source": [
    "def calculatearea():\n",
    "    return True\n",
    "    print(\"hello\")\n",
    "\n",
    "\n",
    "x = calculatearea()\n",
    "print(x)"
   ]
  },
  {
   "cell_type": "code",
   "execution_count": null,
   "metadata": {},
   "outputs": [],
   "source": [
    "def calculatearea():\n",
    "    return True, False\n",
    "\n",
    "l=[]\n",
    "l= calculatearea()\n",
    "print(l)\n",
    "x, y = calculatearea()\n",
    "print(x, y)"
   ]
  },
  {
   "cell_type": "code",
   "execution_count": null,
   "metadata": {},
   "outputs": [],
   "source": [
    "float = 2.154327\n",
    "format_float = \"{:.2f}\".format(float)\n",
    "print(format_float)\n"
   ]
  },
  {
   "cell_type": "markdown",
   "metadata": {},
   "source": [
    "### Default Argument"
   ]
  },
  {
   "cell_type": "markdown",
   "metadata": {},
   "source": [
    "Default Argument: Python allows to call a function by specifying minimum possible arguments. \n",
    "In such cases the function \n",
    "assigns a default value which does not have a matching argument in function call.\n",
    "Default values are specified when the function is declared.\n",
    "the compiler looks at the prototype to see how many arguments a function uses and alerts the program \n",
    "for possible default values\n",
    "Default values are specified from right--> to left in the arguments list \n"
   ]
  },
  {
   "cell_type": "code",
   "execution_count": null,
   "metadata": {},
   "outputs": [],
   "source": [
    "def calculatearea(base=20, height=100):\n",
    "    print(f\"Base is : {base}\")\n",
    "    print(f\"Height is : {height}\")\n",
    "    sumarea = base * height / 2\n",
    "    print(f\"Area is {sumarea}\")\n",
    "\n",
    "\n",
    "calculatearea()"
   ]
  },
  {
   "cell_type": "code",
   "execution_count": null,
   "metadata": {},
   "outputs": [],
   "source": [
    "calculatearea(200)"
   ]
  },
  {
   "cell_type": "code",
   "execution_count": null,
   "metadata": {},
   "outputs": [],
   "source": [
    "calculatearea(height=5)"
   ]
  },
  {
   "cell_type": "code",
   "execution_count": null,
   "metadata": {},
   "outputs": [],
   "source": [
    "calculatearea(4, 5)"
   ]
  },
  {
   "cell_type": "code",
   "execution_count": null,
   "metadata": {},
   "outputs": [],
   "source": [
    "calculatearea(4)"
   ]
  },
  {
   "cell_type": "code",
   "execution_count": null,
   "metadata": {},
   "outputs": [],
   "source": [
    "calculatearea(height=10,base=5)"
   ]
  },
  {
   "cell_type": "code",
   "execution_count": 39,
   "metadata": {},
   "outputs": [],
   "source": [
    "def parrot(voltage,state=\"a stiff\", action=\"voom\", parrottype=\"Norwegian Blue\"):\n",
    "    print(\"-- This parrot wouldn't\", action)\n",
    "    print(\"-- If you put\", voltage, \"volts through it.\")\n",
    "    print(\"-- Lovely plumage, the\", parrottype)\n",
    "    print(\"-- It's\", state, \"!\")"
   ]
  },
  {
   "cell_type": "code",
   "execution_count": null,
   "metadata": {},
   "outputs": [],
   "source": [
    "parrot(\"a thousand\", state=\"pushing up the daisies\")  # 1 positional, 1 keyword"
   ]
  },
  {
   "cell_type": "code",
   "execution_count": null,
   "metadata": {},
   "outputs": [],
   "source": [
    "parrot(\"a million\", \"bereft of life\", \"jump\")  # 3 positional arguments"
   ]
  },
  {
   "cell_type": "code",
   "execution_count": null,
   "metadata": {},
   "outputs": [],
   "source": [
    "parrot(\"a million\", \"bereft of life\", state=\"jump\")  # 3 positional arguments"
   ]
  },
  {
   "cell_type": "code",
   "execution_count": null,
   "metadata": {},
   "outputs": [],
   "source": [
    "parrot(voltage, \"\", \"wet\")  # 1 positional argument\n",
    "till here"
   ]
  },
  {
   "cell_type": "markdown",
   "metadata": {},
   "source": [
    "# UnPacking of data"
   ]
  },
  {
   "cell_type": "code",
   "execution_count": null,
   "metadata": {},
   "outputs": [],
   "source": [
    "d = {}\n",
    "type(d)"
   ]
  },
  {
   "cell_type": "code",
   "execution_count": 43,
   "metadata": {},
   "outputs": [
    {
     "data": {
      "text/plain": [
       "{'name': 'Rakesh',\n",
       " 'age': 20,\n",
       " 'subject': 'java',\n",
       " 'level': 'beginner',\n",
       " 'second_subject': 'python'}"
      ]
     },
     "execution_count": 43,
     "metadata": {},
     "output_type": "execute_result"
    }
   ],
   "source": [
    "d = {}\n",
    "d[\"name\"] = \"Rakesh\"\n",
    "d[\"age\"] = 20\n",
    "d[\"subject\"] = \"java\"\n",
    "d[\"level\"] = \"beginner\"\n",
    "d[\"second_subject\"] = \"python\"\n",
    "# d['extra_subject']=\"java\"\n",
    "d"
   ]
  },
  {
   "cell_type": "markdown",
   "metadata": {},
   "source": [
    "- Name of dictionary key and function parameter should be same\n",
    "- Dictionary should be last parameter in function call\n",
    "- If you want to pass dictionary before anoter parameter , another parameter should be key value pair\n",
    "- If you want to have default paramter in function definition it should be after dictionary keys"
   ]
  },
  {
   "cell_type": "code",
   "execution_count": 44,
   "metadata": {},
   "outputs": [],
   "source": [
    "def varlength(mandatory_subject,age,name,subject,second_subject,level):\n",
    "\tprint( name,age,subject,level,second_subject)\n"
   ]
  },
  {
   "cell_type": "code",
   "execution_count": 45,
   "metadata": {},
   "outputs": [
    {
     "name": "stdout",
     "output_type": "stream",
     "text": [
      "Rakesh 20 java beginner python\n"
     ]
    }
   ],
   "source": [
    "varlength(\"Scala\", **d)  # ** is way to pass dictionary to function\n",
    "# print(d)\n",
    "# varlength(**d, mandatory_subject=\"Scala\")  # ** is way to pass dictionary to function\n"
   ]
  },
  {
   "cell_type": "code",
   "execution_count": 46,
   "metadata": {},
   "outputs": [
    {
     "name": "stdout",
     "output_type": "stream",
     "text": [
      "Rakesh school 20 beginner\n"
     ]
    }
   ],
   "source": [
    "# If you want to pass dictionary before anoter parameter , another parameter should be key value pair\n",
    "\n",
    "def varlength(name, age, level, subject, second_subject, mclass):\n",
    "\n",
    "    print(name, mclass, age, level)\n",
    "\n",
    "# d = {}\n",
    "\n",
    "d= {'name': 'Rakesh',\n",
    "\n",
    " 'age': 20,\n",
    " 'subject': 'java',\n",
    " 'level': 'beginner',\n",
    "\n",
    " 'second_subject': 'python'}\n",
    "\n",
    "\n",
    "varlength(**d, mclass=\"school\")"
   ]
  },
  {
   "cell_type": "code",
   "execution_count": 47,
   "metadata": {},
   "outputs": [
    {
     "name": "stdout",
     "output_type": "stream",
     "text": [
      "Rakesh java 20 beginner\n",
      "java\n"
     ]
    }
   ],
   "source": [
    "# - If you want to have default paramter in function definition it should be after dictionary keys\n",
    "def varlength(name, age, level, subject, second_subject, mclass=\"java\"):\n",
    "    print(name, mclass, age, level)\n",
    "    print(subject)\n",
    "\n",
    "d = {'name': 'Rakesh',\n",
    "     'age': 20,\n",
    "     'subject': 'java',\n",
    "     'level': 'beginner',\n",
    "     'second_subject': 'python'}\n",
    "varlength(**d)"
   ]
  },
  {
   "cell_type": "code",
   "execution_count": null,
   "metadata": {},
   "outputs": [],
   "source": [
    "a, b = [1, 2, 3]\n"
   ]
  },
  {
   "cell_type": "code",
   "execution_count": 48,
   "metadata": {},
   "outputs": [],
   "source": [
    "def moreVarLen(f, h):\n",
    "    print(f\"Frist parameter is the 0th element of tuple/List : {f}\")\n",
    "    print(f\"Second parameter is the 1st element of tuple/List : {h}\")"
   ]
  },
  {
   "cell_type": "code",
   "execution_count": 49,
   "metadata": {},
   "outputs": [
    {
     "name": "stdout",
     "output_type": "stream",
     "text": [
      "Frist parameter is the 0th element of tuple/List : abc\n",
      "Second parameter is the 1st element of tuple/List : def\n"
     ]
    }
   ],
   "source": [
    "d = (\"abc\", \"def\")\n",
    "moreVarLen(*d)"
   ]
  },
  {
   "cell_type": "code",
   "execution_count": 50,
   "metadata": {},
   "outputs": [
    {
     "name": "stdout",
     "output_type": "stream",
     "text": [
      "Frist parameter is the 0th element of tuple/List : 1\n",
      "Second parameter is the 1st element of tuple/List : 2\n"
     ]
    }
   ],
   "source": [
    "d = [1, 2]\n",
    "moreVarLen(*d)"
   ]
  },
  {
   "cell_type": "code",
   "execution_count": 51,
   "metadata": {},
   "outputs": [
    {
     "name": "stdout",
     "output_type": "stream",
     "text": [
      "python scala\n",
      "java\n"
     ]
    }
   ],
   "source": [
    "def moreVarLen(x, y, z):\n",
    "    print(x, y)\n",
    "    print(z)\n",
    "\n",
    "\n",
    "d = [\"scala\", \"java\"]\n",
    "moreVarLen(\"python\", *d)"
   ]
  },
  {
   "cell_type": "code",
   "execution_count": 52,
   "metadata": {},
   "outputs": [
    {
     "name": "stdout",
     "output_type": "stream",
     "text": [
      "abc def\n",
      "java\n"
     ]
    }
   ],
   "source": [
    "def moreVarLen(x, y, z):\n",
    "    print(x, y)\n",
    "    print(z)\n",
    "\n",
    "\n",
    "d = [\"abc\", \"def\"]\n",
    "moreVarLen(*d, \"java\")"
   ]
  },
  {
   "cell_type": "code",
   "execution_count": 53,
   "metadata": {},
   "outputs": [
    {
     "name": "stdout",
     "output_type": "stream",
     "text": [
      "java abc\n",
      "Last emement of list [12, 11, 123]\n"
     ]
    }
   ],
   "source": [
    "def moreVarLen(x, y, z):\n",
    "    print(x, y)\n",
    "    print(f\"Last emement of list {z}\")\n",
    "\n",
    "\n",
    "d = [\"abc\", [12, 11, 123]]\n",
    "moreVarLen(\"java\", *d)"
   ]
  },
  {
   "cell_type": "code",
   "execution_count": 54,
   "metadata": {},
   "outputs": [],
   "source": [
    "def moreVarLen(x,y,name,age):\n",
    "    print(x,y,name,age)    \n"
   ]
  },
  {
   "cell_type": "code",
   "execution_count": 55,
   "metadata": {},
   "outputs": [
    {
     "name": "stdout",
     "output_type": "stream",
     "text": [
      "abc def Ashok 20\n"
     ]
    }
   ],
   "source": [
    "d1 = {}\n",
    "d1[\"name\"] = \"Ashok\"\n",
    "d1[\"age\"] = 20\n",
    "l = [\"abc\", \"def\"]\n",
    "\n",
    "moreVarLen(*l, **d1)"
   ]
  },
  {
   "cell_type": "code",
   "execution_count": 56,
   "metadata": {},
   "outputs": [
    {
     "name": "stdout",
     "output_type": "stream",
     "text": [
      "abc 2\n",
      "11\n"
     ]
    }
   ],
   "source": [
    "def moreVarLen(x, y, z):\n",
    "    print(x, y)\n",
    "    print(z)\n",
    "\n",
    "\n",
    "l = [\"abc\", 2, 11, 123]\n",
    "moreVarLen( *l[0:3])"
   ]
  },
  {
   "cell_type": "markdown",
   "metadata": {},
   "source": [
    "## Pakcing of Data"
   ]
  },
  {
   "cell_type": "code",
   "execution_count": 57,
   "metadata": {},
   "outputs": [],
   "source": [
    "def revArgLen(**l):\n",
    "    print(l)\n",
    "    print(type(l))"
   ]
  },
  {
   "cell_type": "code",
   "execution_count": 58,
   "metadata": {},
   "outputs": [
    {
     "name": "stdout",
     "output_type": "stream",
     "text": [
      "{'name': 'abc', 'age': 20, 'subject': 'python'}\n",
      "<class 'dict'>\n"
     ]
    }
   ],
   "source": [
    "revArgLen(name=\"abc\", age=20, subject=\"python\")"
   ]
  },
  {
   "cell_type": "markdown",
   "metadata": {},
   "source": [
    "Passing the dictionary with default parameter"
   ]
  },
  {
   "cell_type": "code",
   "execution_count": 59,
   "metadata": {},
   "outputs": [
    {
     "name": "stdout",
     "output_type": "stream",
     "text": [
      "Age: 0\n",
      "Subject: None\n",
      "Age: 20\n",
      "Subject: python\n"
     ]
    }
   ],
   "source": [
    "def revArgLen(**kwargs):\n",
    "    age = kwargs.get('age', 0)\n",
    "    subject = kwargs.get('subject', 'None')\n",
    "    \n",
    "    print(\"Age:\", age)\n",
    "    print(\"Subject:\", subject)\n",
    "\n",
    "# Call the function with a dictionary of default values\n",
    "revArgLen()\n",
    "\n",
    "# Call the function with specific values\n",
    "revArgLen(age=20, subject=\"python\")"
   ]
  },
  {
   "cell_type": "markdown",
   "metadata": {},
   "source": [
    "## Packed data will be alwasy Tuple or dictionary"
   ]
  },
  {
   "cell_type": "code",
   "execution_count": 60,
   "metadata": {},
   "outputs": [],
   "source": [
    "def revArgLen(x, *t):\n",
    "    print(t)\n",
    "    print(type(t))\n",
    "    "
   ]
  },
  {
   "cell_type": "code",
   "execution_count": 61,
   "metadata": {},
   "outputs": [
    {
     "name": "stdout",
     "output_type": "stream",
     "text": [
      "(33, 'python', 'java', 'abc')\n",
      "<class 'tuple'>\n"
     ]
    }
   ],
   "source": [
    "revArgLen(234, 33, \"python\", \"java\", \"abc\")\n",
    "# revArgLen(234)"
   ]
  },
  {
   "cell_type": "code",
   "execution_count": 62,
   "metadata": {},
   "outputs": [
    {
     "name": "stdout",
     "output_type": "stream",
     "text": [
      "1 2 3 a b c\n"
     ]
    }
   ],
   "source": [
    "def revArgLen(x, y, z, x1, y1, z1):\n",
    "    print(x, y, z, x1, y1, z1)\n",
    "\n",
    "\n",
    "t = (1, 2, 3)\n",
    "l = (\"a\", \"b\", \"c\")\n",
    "revArgLen(*t, *l)"
   ]
  },
  {
   "cell_type": "code",
   "execution_count": null,
   "metadata": {},
   "outputs": [],
   "source": [
    "def revArgLen(x,y):\n",
    "\tprint (x,y)\n",
    "t=(1,2,3)\n",
    "# l=(\"a\",\"b\",\"c\")\n",
    "revArgLen((1,2,3),[\"x\",\"y\"])"
   ]
  },
  {
   "cell_type": "markdown",
   "metadata": {},
   "source": [
    "## Pass by Value /Reference\n",
    "It is neither pass-by-value or pass-by-reference - it is call-by-object.\n"
   ]
  },
  {
   "cell_type": "code",
   "execution_count": 63,
   "metadata": {},
   "outputs": [
    {
     "name": "stdout",
     "output_type": "stream",
     "text": [
      "id of mylist 2905825141120\n",
      "id of list1 2905825141120\n",
      "id of list1 which is local to function 2905824991936\n",
      "['A', 'B', 'C']\n",
      "['Python', 'java', 'scala']\n"
     ]
    }
   ],
   "source": [
    "def set_list(list1):\n",
    "    print(f\"id of list1 {id(list1)}\")\n",
    "    list1 = [\"A\", \"B\", \"C\"]\n",
    "    print(f\"id of list1 which is local to function {id(list1)}\")\n",
    "    return list1\n",
    "\n",
    "\n",
    "my_list = [\"Python\", \"java\", \"scala\"]\n",
    "print(f\"id of mylist {id(my_list)}\")\n",
    "\n",
    "l = set_list(my_list)\n",
    "print(l)\n",
    "print(my_list)"
   ]
  },
  {
   "cell_type": "code",
   "execution_count": 65,
   "metadata": {},
   "outputs": [
    {
     "name": "stdout",
     "output_type": "stream",
     "text": [
      "Value of list1 inside function is ['Python', 'java', 'scala', 'Data Science']\n",
      "Value of my_list outside function is ['Python', 'java', 'scala', 'Data Science']\n"
     ]
    }
   ],
   "source": [
    "def add(list1):\n",
    "    list1.append(\"Data Science\")\n",
    "    print(f\"Value of list1 inside function is {list1}\")\n",
    "\n",
    "\n",
    "my_list = [\"Python\", \"java\", \"scala\"]\n",
    "add(my_list)\n",
    "print(f\"Value of my_list outside function is {my_list}\")\n"
   ]
  },
  {
   "cell_type": "markdown",
   "metadata": {},
   "source": [
    "Here, the statement x = [0] makes a variable x (box) that points towards the object [0]\n",
    "\n",
    "On the function being called, a new box li is created. The contents of li is the SAME as the contents of box x. Both the boxes contain the same object. That is, both the variables point to the same object in memory. Hence, any change to the object pointed at by li will also be reflected by the object pointed at by x.\n",
    "\n",
    "In conclusion, the output of the above program will be:\n",
    "\n",
    "[0, 1]\n",
    "\n",
    "Note:\n",
    "\n",
    "If the variable li is reassigned in the function, then li will point to a seperate object in memory. x however, will continue pointing to the same object in memory it was pointing to earlier."
   ]
  },
  {
   "cell_type": "code",
   "execution_count": 66,
   "metadata": {},
   "outputs": [
    {
     "name": "stdout",
     "output_type": "stream",
     "text": [
      "2905825141120\n",
      "[0]\n"
     ]
    }
   ],
   "source": [
    "def append_one(li):# [0]\n",
    "    li = [0, 1]\n",
    "    print(id(li))\n",
    "\n",
    "\n",
    "x = [0]\n",
    "append_one(x)\n",
    "print(x)"
   ]
  },
  {
   "cell_type": "code",
   "execution_count": 67,
   "metadata": {},
   "outputs": [
    {
     "name": "stdout",
     "output_type": "stream",
     "text": [
      "[0, [0, 1]]\n"
     ]
    }
   ],
   "source": [
    "def append_one(li):\n",
    "    li.append([0, 1])\n",
    "\n",
    "\n",
    "x = [0]\n",
    "append_one(x)\n",
    "print(x)"
   ]
  },
  {
   "cell_type": "markdown",
   "metadata": {},
   "source": [
    "## Namespace"
   ]
  },
  {
   "cell_type": "code",
   "execution_count": 68,
   "metadata": {},
   "outputs": [
    {
     "name": "stdout",
     "output_type": "stream",
     "text": [
      "100\n"
     ]
    }
   ],
   "source": [
    "a = 100\n",
    "\n",
    "\n",
    "def func():\n",
    "    print(a)\n",
    "\n",
    "\n",
    "func()"
   ]
  },
  {
   "cell_type": "code",
   "execution_count": 69,
   "metadata": {},
   "outputs": [
    {
     "name": "stdout",
     "output_type": "stream",
     "text": [
      "100\n"
     ]
    },
    {
     "ename": "NameError",
     "evalue": "name 'b_func1' is not defined",
     "output_type": "error",
     "traceback": [
      "\u001b[1;31m---------------------------------------------------------------------------\u001b[0m",
      "\u001b[1;31mNameError\u001b[0m                                 Traceback (most recent call last)",
      "Cell \u001b[1;32mIn[69], line 7\u001b[0m\n\u001b[0;32m      3\u001b[0m     \u001b[38;5;28mprint\u001b[39m(b_func1)\n\u001b[0;32m      6\u001b[0m func()\n\u001b[1;32m----> 7\u001b[0m \u001b[38;5;28mprint\u001b[39m(\u001b[43mb_func1\u001b[49m)\n",
      "\u001b[1;31mNameError\u001b[0m: name 'b_func1' is not defined"
     ]
    }
   ],
   "source": [
    "def func():\n",
    "    b_func1 = 100\n",
    "    print(b_func1)\n",
    "\n",
    "\n",
    "func()\n",
    "print(b_func1)"
   ]
  },
  {
   "cell_type": "code",
   "execution_count": 70,
   "metadata": {},
   "outputs": [
    {
     "name": "stdout",
     "output_type": "stream",
     "text": [
      "100\n",
      "python\n"
     ]
    }
   ],
   "source": [
    "b = \"python\"\n",
    "\n",
    "\n",
    "def func():\n",
    "    b = 100\n",
    "    print(b)\n",
    "\n",
    "\n",
    "func()\n",
    "print(b)"
   ]
  },
  {
   "cell_type": "code",
   "execution_count": 71,
   "metadata": {},
   "outputs": [
    {
     "name": "stdout",
     "output_type": "stream",
     "text": [
      "inside of function d value  234\n",
      "Inside function value of a : 234\n",
      "Outside function value of a : 5454\n"
     ]
    }
   ],
   "source": [
    "a = 5454\n",
    "\n",
    "\n",
    "def revArgLen(d):\n",
    "    a = d  # a= 234\n",
    "    print(\"inside of function d value \", d)\n",
    "    print(f'Inside function value of a : {a}')\n",
    "\n",
    "\n",
    "revArgLen(234)\n",
    "print(f'Outside function value of a : {a}')\n"
   ]
  },
  {
   "cell_type": "code",
   "execution_count": 72,
   "metadata": {},
   "outputs": [
    {
     "name": "stdout",
     "output_type": "stream",
     "text": [
      "Inside function value of a inside func : python\n",
      "Inside function value of d inside func : 234\n",
      "Outside value of x : python\n",
      "value of a outside function : python\n"
     ]
    }
   ],
   "source": [
    "a = \"python\"\n",
    "\n",
    "\n",
    "def revArgLen(d):\n",
    "    print(f\"Inside function value of a inside func : {a}\")\n",
    "    print(f\"Inside function value of d inside func : {d}\")\n",
    "    return a\n",
    "\n",
    "\n",
    "x = revArgLen(234)\n",
    "print(\"Outside value of x :\", x)\n",
    "print(\"value of a outside function :\", a)"
   ]
  },
  {
   "cell_type": "code",
   "execution_count": 73,
   "metadata": {},
   "outputs": [
    {
     "name": "stdout",
     "output_type": "stream",
     "text": [
      "global variable [ a_var inside a_func() ]\n",
      "global variable [ a_var outside a_func() ]\n"
     ]
    }
   ],
   "source": [
    "a_var = \"global variable\"\n",
    "\n",
    "\n",
    "def a_func():\n",
    "    print(a_var, \"[ a_var inside a_func() ]\")\n",
    "\n",
    "\n",
    "a_func()\n",
    "print(a_var, \"[ a_var outside a_func() ]\")"
   ]
  },
  {
   "cell_type": "code",
   "execution_count": 74,
   "metadata": {},
   "outputs": [
    {
     "name": "stdout",
     "output_type": "stream",
     "text": [
      "Inside functin a_var id 2905825395824\n",
      "global value [ a_var inside a_func() ]\n",
      "global value [ a_var outside a_func() ]\n",
      "Global a_var id 2905825395504\n"
     ]
    }
   ],
   "source": [
    "a_var = \"global value\"\n",
    "\n",
    "\n",
    "def a_func():\n",
    "    a_var = \"global value\"\n",
    "    print(f\"Inside functin a_var id {id(a_var)}\")\n",
    "    print(a_var, \"[ a_var inside a_func() ]\")\n",
    "    return a_var\n",
    "\n",
    "\n",
    "x = a_func()\n",
    "print(a_var, \"[ a_var outside a_func() ]\")\n",
    "print(f\"Global a_var id {id(a_var)}\")"
   ]
  },
  {
   "cell_type": "code",
   "execution_count": null,
   "metadata": {},
   "outputs": [],
   "source": [
    "a=\"python\""
   ]
  },
  {
   "cell_type": "code",
   "execution_count": 75,
   "metadata": {},
   "outputs": [
    {
     "name": "stdout",
     "output_type": "stream",
     "text": [
      "outside value [ b_var outside a_func() ]\n",
      "2905825506096\n",
      "inside value [ b_var inside a_func() ]\n",
      "inside value [ b_var outside a_func() ]\n",
      "2905825508976\n"
     ]
    }
   ],
   "source": [
    "b_var = \"outside value\"  # inside value\n",
    "# b_var = 'local value'\n",
    "def b_func():\n",
    "    global b_var\n",
    "    print(id(b_var))\n",
    "    b_var = \"inside value\"\n",
    "    print(b_var, \"[ b_var inside a_func() ]\")\n",
    "\n",
    "\n",
    "print(b_var, \"[ b_var outside a_func() ]\")\n",
    "b_func()\n",
    "print(b_var, \"[ b_var outside a_func() ]\")\n",
    "print(id(b_var))"
   ]
  },
  {
   "cell_type": "code",
   "execution_count": 76,
   "metadata": {},
   "outputs": [
    {
     "name": "stdout",
     "output_type": "stream",
     "text": [
      "1 [ a_var outside a_func() ]\n",
      "2 [ a_var inside a_func() ]\n",
      "2 [ a_var outside a_func() ]\n"
     ]
    }
   ],
   "source": [
    "a_var = 1\n",
    "\n",
    "\n",
    "def a_func():\n",
    "    global a_var\n",
    "    a_var = a_var + 1\n",
    "    print(a_var, \"[ a_var inside a_func() ]\")\n",
    "\n",
    "\n",
    "print(a_var, \"[ a_var outside a_func() ]\")\n",
    "a_func()\n",
    "print(a_var, \"[ a_var outside a_func() ]\")"
   ]
  },
  {
   "cell_type": "code",
   "execution_count": 78,
   "metadata": {},
   "outputs": [
    {
     "name": "stdout",
     "output_type": "stream",
     "text": [
      "enclosed value\n",
      "local value\n",
      "in outer\n",
      "local value\n"
     ]
    }
   ],
   "source": [
    "a_var = \"global value\"\n",
    "\n",
    "\n",
    "def outer():\n",
    "    #     inner=\"inside function\"\n",
    "    a_var = \"enclosed value\"\n",
    "    print(a_var)\n",
    "    b_var = \"in outer\"\n",
    "\n",
    "    def inner():\n",
    "        global a_var\n",
    "        a_var = \"local value\"\n",
    "        print(a_var)\n",
    "        print(b_var)\n",
    "\n",
    "    inner()\n",
    "\n",
    "\n",
    "outer()\n",
    "print(a_var)"
   ]
  },
  {
   "cell_type": "code",
   "execution_count": 79,
   "metadata": {},
   "outputs": [
    {
     "name": "stdout",
     "output_type": "stream",
     "text": [
      "3.141592653589793\n",
      "OUTER FUNCTION\n",
      "pi value  #434\n",
      "outer before: global value\n",
      "INNER FUNCTION\n",
      "in inner(): inner value\n",
      "outer after: global value\n",
      "global value\n",
      "global: global value\n",
      "#435\n"
     ]
    }
   ],
   "source": [
    "from math import pi\n",
    "\n",
    "a_var = \"global value\"\n",
    "\n",
    "\n",
    "def outer():\n",
    "    print(\"OUTER FUNCTION\")\n",
    "    a_var1 = \"local value\"\n",
    "    pi = \"#434\"\n",
    "    print(\"pi value \", pi)\n",
    "    print(\"outer before:\", a_var)\n",
    "\n",
    "    def inner():\n",
    "        print(\"INNER FUNCTION\")\n",
    "        a_var = \"inner value\"\n",
    "        print(\"in inner():\", a_var)\n",
    "\n",
    "    inner()\n",
    "    print(\"outer after:\", a_var)\n",
    "\n",
    "\n",
    "print(pi)\n",
    "outer()\n",
    "# inner()\n",
    "print(a_var)\n",
    "print(\"global:\", a_var)\n",
    "pi = \"#435\"\n",
    "print(pi)"
   ]
  },
  {
   "cell_type": "markdown",
   "metadata": {},
   "source": [
    "Globals() and locals()"
   ]
  },
  {
   "cell_type": "code",
   "execution_count": 1,
   "metadata": {},
   "outputs": [
    {
     "name": "stdout",
     "output_type": "stream",
     "text": [
      "{'__name__': '__main__', '__doc__': 'Automatically created module for IPython interactive environment', '__package__': None, '__loader__': None, '__spec__': None, '__builtin__': <module 'builtins' (built-in)>, '__builtins__': <module 'builtins' (built-in)>, '_ih': ['', 'num1 = 100\\nnum2 = 200\\nname = \"TutorialsTeacher\"\\ndef add(x, y):\\n    z = x + y\\n    return z\\n\\nprint(globals()) #Return the dictionary containing the current scope\\'s global variables.'], '_oh': {}, '_dh': [WindowsPath('d:/Study/Python/Python_Training')], 'In': ['', 'num1 = 100\\nnum2 = 200\\nname = \"TutorialsTeacher\"\\ndef add(x, y):\\n    z = x + y\\n    return z\\n\\nprint(globals()) #Return the dictionary containing the current scope\\'s global variables.'], 'Out': {}, 'get_ipython': <bound method InteractiveShell.get_ipython of <ipykernel.zmqshell.ZMQInteractiveShell object at 0x000001547FD169D0>>, 'exit': <IPython.core.autocall.ZMQExitAutocall object at 0x000001547FD2A730>, 'quit': <IPython.core.autocall.ZMQExitAutocall object at 0x000001547FD2A730>, 'open': <function open at 0x000001547E6AC9D0>, '_': '', '__': '', '___': '', '__vsc_ipynb_file__': 'd:\\\\Study\\\\Python\\\\Python_Training\\\\11_Functions.ipynb', '_i': '', '_ii': '', '_iii': '', '_i1': 'num1 = 100\\nnum2 = 200\\nname = \"TutorialsTeacher\"\\ndef add(x, y):\\n    z = x + y\\n    return z\\n\\nprint(globals()) #Return the dictionary containing the current scope\\'s global variables.', 'num1': 100, 'num2': 200, 'name': 'TutorialsTeacher', 'add': <function add at 0x000001547FD5F940>}\n"
     ]
    }
   ],
   "source": [
    "num1 = 100\n",
    "num2 = 200\n",
    "name = \"TutorialsTeacher\"\n",
    "def add(x, y):\n",
    "    z = x + y\n",
    "    return z\n",
    "\n",
    "print(globals()) #Return the dictionary containing the current scope's global variables.\n",
    "\n"
   ]
  },
  {
   "cell_type": "markdown",
   "metadata": {},
   "source": [
    "## Closure"
   ]
  },
  {
   "cell_type": "code",
   "execution_count": null,
   "metadata": {},
   "outputs": [],
   "source": [
    "def print_msg(msg):\n",
    "    # This is the outer enclosing function\n",
    "\n",
    "    def printer():\n",
    "        # This is the nested function\n",
    "        print(msg)\n",
    "\n",
    "    printer()\n",
    "\n",
    "# We execute the function\n",
    "# Output: Hello\n",
    "print_msg(\"Hello\")"
   ]
  },
  {
   "cell_type": "code",
   "execution_count": null,
   "metadata": {},
   "outputs": [],
   "source": [
    "def print_msg(msg):\n",
    "    # This is the outer enclosing function\n",
    "\n",
    "    def printer():\n",
    "        # This is the nested function\n",
    "        print(msg)\n",
    "\n",
    "    return printer  # returns the nested function\n",
    "\n",
    "\n",
    "# Now let's try calling this function.\n",
    "# Output: Hello\n",
    "another = print_msg(\"Hello\")\n",
    "another()"
   ]
  },
  {
   "cell_type": "code",
   "execution_count": null,
   "metadata": {},
   "outputs": [],
   "source": [
    "del print_msg\n",
    "another()"
   ]
  },
  {
   "cell_type": "code",
   "execution_count": null,
   "metadata": {},
   "outputs": [],
   "source": [
    "def make_multiplier_of(n):\n",
    "    def multiplier(x):\n",
    "        return x * n\n",
    "    return multiplier\n",
    "\n",
    "\n",
    "# Multiplier of 3\n",
    "times3 = make_multiplier_of(3)\n",
    "\n",
    "# Multiplier of 5\n",
    "times5 = make_multiplier_of(5)\n",
    "\n",
    "# Output: 27\n",
    "print(times3(9))\n",
    "\n",
    "# Output: 15\n",
    "print(times5(3))\n",
    "\n",
    "# Output: 30\n",
    "print(times5(times3(2)))"
   ]
  },
  {
   "cell_type": "code",
   "execution_count": null,
   "metadata": {},
   "outputs": [],
   "source": [
    "Python fortunately doesn't allow this ambiguity. So, it will throw an error, as we can see in the following example:"
   ]
  },
  {
   "cell_type": "markdown",
   "metadata": {},
   "source": [
    "def f():\n",
    "    print(s)\n",
    "    s = \"I love London!\"\n",
    "    print(s)\n",
    " \n",
    "s = \"I love Paris!\"\n",
    "f()"
   ]
  },
  {
   "cell_type": "markdown",
   "metadata": {},
   "source": [
    "A variable can't be both local and global inside of a function. So Python decides that we want a local variable due to the assignment to s inside of f(), so the first print statement before the definition of s throws the error message above. Any variable which is changed or created inside of a function is local, if it hasn't been declared as a global variable. To tell Python, that we want to use the global variable, we have to explicitly state this by using the keyword \"global\", as can be seen in the following example:"
   ]
  },
  {
   "cell_type": "markdown",
   "metadata": {},
   "source": [
    "## Assignment"
   ]
  },
  {
   "cell_type": "markdown",
   "metadata": {},
   "source": [
    "Convert all previous assignment in to function form..... only one assignment"
   ]
  },
  {
   "cell_type": "markdown",
   "metadata": {},
   "source": [
    "Write a function called cube() with one number parameter and returns\n",
    "the value of that number raised to the third power. Test the\n",
    "function by displaying the result of calling your cube() function on\n",
    "a few different numbers.\n",
    "2. Write a function called greet() that takes one string parameter\n",
    "called name and displays the text \"Hello <name>!\", where <name> is\n",
    "replaced with the value of the name parameter."
   ]
  },
  {
   "cell_type": "markdown",
   "metadata": {},
   "source": [
    "Write a script called temperature.py that defines two functions:\n",
    "1. convert_cel_to_far() which takes one float parameter representing\n",
    "degrees Celsius and returns a float representing the same temperature\n",
    "in degrees Fahrenheit using the following formula:\n",
    "F = C * 9/5 + 32\n",
    "2. convert_far_to_cel() which take one float parameter representing\n",
    "degrees Fahrenheit and returns a float representing the same temperature\n",
    "in degrees Celsius using the following formula:\n",
    "C = (F - 32) * 5/9\n",
    "The script should first prompt the user to enter a temperature in degrees\n",
    "Fahrenheit and then display the temperature converted to Celsius.\n",
    "Then prompt the user to enter a temperature in degrees Celsius and\n",
    "display the temperature converted to Fahrenheit.\n",
    "All converted temperatures should be rounded to 2 decimal places.\n",
    "Here’s a sample run of the program:\n",
    "Enter a temperature in degrees F: 72\n",
    "72 degress F = 22.22 degrees C\n",
    "Enter a temperature in degrees C: 37\n",
    "37 degrees C = 98.60 degrees F"
   ]
  },
  {
   "cell_type": "raw",
   "metadata": {},
   "source": [
    "Project \n",
    "#Number Guessing Game Objectives:\n",
    "\n",
    "# Allow the player to submit a guess for a number between 1 and 100.\n",
    "# Check user's guess against actual answer. Print \"Too high.\" or \"Too low.\" depending on the user's answer. \n",
    "# If they got the answer correct, show the actual answer to the player.\n",
    "# Track the number of turns remaining.\n",
    "# If they run out of turns, provide feedback to the player. \n",
    "# Include two different difficulty levels (e.g., 10 guesses in easy mode, only 5 guesses in hard mode)."
   ]
  },
  {
   "cell_type": "code",
   "execution_count": null,
   "metadata": {},
   "outputs": [],
   "source": [
    "def multiply(x, y):\n",
    "    product = x * y\n",
    "    return product\n",
    "num = multiply(2, 4)\n",
    "print(num)"
   ]
  },
  {
   "cell_type": "code",
   "execution_count": null,
   "metadata": {},
   "outputs": [],
   "source": [
    "help(multiply)"
   ]
  },
  {
   "cell_type": "code",
   "execution_count": null,
   "metadata": {},
   "outputs": [],
   "source": [
    "def multiply(x, y):\n",
    "    \"\"\"Return the product of two numbers x and y.\"\"\"\n",
    "    product = x * y\n",
    "    return product"
   ]
  },
  {
   "cell_type": "code",
   "execution_count": null,
   "metadata": {},
   "outputs": [],
   "source": [
    "# help(len)\n",
    "help(multiply)"
   ]
  },
  {
   "cell_type": "code",
   "execution_count": null,
   "metadata": {},
   "outputs": [],
   "source": [
    "  /**\n",
    "         * @memberof lib\n",
    "         * @description This method sets the default audio language.\n",
    "         * @param {String} lang Language to be set as default for audio\n",
    "         * @returns {Boolean} true if success, false if not.\n",
    "         */"
   ]
  },
  {
   "cell_type": "code",
   "execution_count": null,
   "metadata": {},
   "outputs": [],
   "source": [
    "num = float(input(\"Enter a positive number: \"))\n",
    "while num <= 0:\n",
    "    print(\"That's not a positive number!\")\n",
    "    num = float(input(\"Enter a positive number: \"))"
   ]
  },
  {
   "cell_type": "code",
   "execution_count": null,
   "metadata": {},
   "outputs": [],
   "source": [
    "word = \"Python\"\n",
    "index = 0\n",
    "while index < len(word):\n",
    "    print(word[index])\n",
    "    index = index + 1"
   ]
  },
  {
   "cell_type": "code",
   "execution_count": null,
   "metadata": {},
   "outputs": [],
   "source": [
    "x = \"Hello World\"\n",
    "def func():\n",
    "    x = 2\n",
    "    print(f\"Inside 'func', x has the value {x}\")\n",
    "func()\n",
    "print(f\"Outside 'func', x has the value {x}\")"
   ]
  },
  {
   "cell_type": "code",
   "execution_count": null,
   "metadata": {},
   "outputs": [],
   "source": [
    "x = 5\n",
    "def outer_func():\n",
    "    y = 3\n",
    "    def inner_func():\n",
    "        z = x + y\n",
    "        return z\n",
    "    return inner_func()\n",
    "#     return 8\n",
    "\n",
    "outer_func()"
   ]
  },
  {
   "cell_type": "code",
   "execution_count": null,
   "metadata": {},
   "outputs": [],
   "source": [
    "total = 0\n",
    "def add_to_total(n):\n",
    "    total=5\n",
    "    total = total + n\n",
    "    print(total)\n",
    "add_to_total(5)\n",
    "print(total)"
   ]
  },
  {
   "cell_type": "code",
   "execution_count": null,
   "metadata": {},
   "outputs": [],
   "source": [
    "def test():\n",
    "    return \"python\"\n",
    "# x=calculatearea(10,20)\n",
    "print (x1)\n",
    "x1=test()#"
   ]
  },
  {
   "cell_type": "markdown",
   "metadata": {},
   "source": [
    "Create a function manipulate_data that does the following\n",
    "Accepts as the first parameter a string specifying the data structure to be used list, set or \n",
    "dictionary\n",
    "Accepts as the second parameter the data to be manipulated based on the data \n",
    "structure specified e.g [1, 4, 9, 16, 25] \n",
    "for a list data structure\n",
    "\n",
    "Based off the first parameter\n",
    "\n",
    "return the reverse of a list or\n",
    "add items \"ANDELA\", \"TIA\" and \"AFRICA\" to the set and return the resulting set\n",
    "return the keys of a dictionary.\n",
    "manipulate(\"list\",[1,2,3])"
   ]
  }
 ],
 "metadata": {
  "kernelspec": {
   "display_name": "Python 3",
   "language": "python",
   "name": "python3"
  },
  "language_info": {
   "codemirror_mode": {
    "name": "ipython",
    "version": 3
   },
   "file_extension": ".py",
   "mimetype": "text/x-python",
   "name": "python",
   "nbconvert_exporter": "python",
   "pygments_lexer": "ipython3",
   "version": "3.9.0"
  }
 },
 "nbformat": 4,
 "nbformat_minor": 2
}
